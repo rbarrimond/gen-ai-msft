{
  "cells": [
    {
      "cell_type": "markdown",
      "metadata": {
        "id": "xwSHVHe9ZUBf",
        "nteract": {
          "transient": {
            "deleting": false
          }
        }
      },
      "source": [
        "# **Project : A Case Study of ExpressWay Logistics**"
      ]
    },
    {
      "cell_type": "markdown",
      "metadata": {
        "id": "LCRFIa5MZUBg",
        "nteract": {
          "transient": {
            "deleting": false
          }
        }
      },
      "source": [
        "**Business Overview:**\n",
        "\n",
        "ExpressWay Logistics is a dynamic logistics service provider, committed to delivering efficient, reliable and cost-effective courier transportation and warehousing solutions. With a focus on speed, precision and customer satisfaction, we aim to be the go-to partner for our customers seeking seamless courier services. Our core service involves ensuring operational efficiency throughout our delivery and courier services, including inventory management, durable packaging and swift dispatch of couriers, real time tracking of shipments and on-time delivery of couriers as promised. We are committed to enhance our logistics and courier services and improve seamless connectivity for our customers."
      ]
    },
    {
      "cell_type": "markdown",
      "metadata": {
        "id": "RO_aV3ecZUBh",
        "nteract": {
          "transient": {
            "deleting": false
          }
        }
      },
      "source": [
        "**Current Challenge:**\n",
        "\n",
        "ExpressWay Logistics faces numerous challenges in ensuring seamless deliveries and customer satisfaction. These challenges include managing various customer demands simultaneously, addressing delays in deliveries and ensuring products arrive intact and safe. Additionally, the company struggles with complexity of efficiently storing and handling a large volume of packages and ultimately meeting customer expectations. Moreover, maintaining a skilled workforce capable of handling various aspects of logistics operations presents its own set of challenges. Overcoming these obstacles requires a comprehensive approach that integrates innovative technology, strategic planning, and continuous improvement initiatives to ensure smooth operations and exceptional service delivery."
      ]
    },
    {
      "cell_type": "markdown",
      "metadata": {
        "id": "7L11JPITnd9q"
      },
      "source": [
        "**Objective:**\n",
        "\n",
        "Our primary objective is to conduct a sentiment analysis of user-generated reviews across various digital channels and platforms. By paying attention to their feedback, we want to find ways to make our services better - like handling different customer demands simultaneously, dealing with late deliveries, and keeping packages secured and intact. Through the application of prompt engineering methodologies and sentiment analysis, we'll figure out if sentiments expressed by users for our courier services are Positive or Negative. This will help us understand where we need to improve in order to meet customer expectations and keep them happy. With a focus on getting better all the time, we'll overcome the challenges at ExpressWay Logistics and make our services the best."
      ]
    },
    {
      "cell_type": "markdown",
      "metadata": {
        "id": "QA-gDJc4ZUBh",
        "nteract": {
          "transient": {
            "deleting": false
          }
        }
      },
      "source": [
        "**Data Description:**\n",
        "\n",
        "The dataset titled \"courier-service_reviews.csv\" is structured to facilitate sentiment analysis for courier service reviews. Here's a brief description of the data columns:\n",
        "\n",
        "1. id: This column contains unique identifiers for each review entry. It helps in distinguishing and referencing individual reviews.\n",
        "2. review: This column includes the actual text of the courier service reviews. The reviews are likely composed of customer opinions and experiences regarding different aspects of the services provided by ExpressWay Logistics.\n",
        "3. sentiment: This column provides an additional layer of classification (positive and negative) for the mentioned reviews."
      ]
    },
    {
      "cell_type": "markdown",
      "metadata": {
        "id": "j2QHxFF2ZUBi",
        "nteract": {
          "transient": {
            "deleting": false
          }
        }
      },
      "source": [
        "##**Step 1. Setup (2 Marks)**\n",
        "\n",
        "(A) Writing/Creating the config.json file  (2 Marks)"
      ]
    },
    {
      "cell_type": "markdown",
      "metadata": {
        "id": "Tcewd3SmZUBi",
        "nteract": {
          "transient": {
            "deleting": false
          }
        }
      },
      "source": [
        "### Installation"
      ]
    },
    {
      "cell_type": "code",
      "execution_count": 1,
      "metadata": {
        "colab": {
          "base_uri": "https://localhost:8080/"
        },
        "id": "S-adSo_JZUBi",
        "jupyter": {
          "outputs_hidden": false,
          "source_hidden": false
        },
        "nteract": {
          "transient": {
            "deleting": false
          }
        },
        "outputId": "dfe12584-bf5c-426c-ead5-b40de0417f45"
      },
      "outputs": [
        {
          "name": "stdout",
          "output_type": "stream",
          "text": [
            "Note: you may need to restart the kernel to use updated packages.\n"
          ]
        }
      ],
      "source": [
        "%pip install openai==0.28.0 tiktoken datasets session-info scikit-learn tabulate --quiet"
      ]
    },
    {
      "cell_type": "markdown",
      "metadata": {
        "id": "NDNABxMdZUBi",
        "nteract": {
          "transient": {
            "deleting": false
          }
        }
      },
      "source": [
        "### Imports\n",
        "\n",
        "Import all Python packages required to access the Azure Open AI API and to access datasets and create examples."
      ]
    },
    {
      "cell_type": "code",
      "execution_count": 2,
      "metadata": {
        "id": "OasyGdMKZUBj",
        "jupyter": {
          "outputs_hidden": false,
          "source_hidden": false
        },
        "nteract": {
          "transient": {
            "deleting": false
          }
        }
      },
      "outputs": [],
      "source": [
        "# Import all Python packages required to access the Azure Open AI API.\n",
        "# Import additional packages required to access datasets and create examples.\n",
        "\n",
        "import openai\n",
        "import json\n",
        "import random\n",
        "import tiktoken\n",
        "import session_info\n",
        "import pprint as pp\n",
        "\n",
        "import pandas as pd\n",
        "import numpy as np\n",
        "\n",
        "from collections import Counter\n",
        "from tqdm import tqdm\n",
        "from sklearn.model_selection import train_test_split\n",
        "from sklearn.metrics import f1_score\n",
        "from tabulate import tabulate"
      ]
    },
    {
      "cell_type": "markdown",
      "metadata": {
        "id": "vwYdLZnCZUBj",
        "nteract": {
          "transient": {
            "deleting": false
          }
        }
      },
      "source": [
        "### Authentication"
      ]
    },
    {
      "cell_type": "markdown",
      "metadata": {
        "id": "fvXH0tKFnd9r"
      },
      "source": [
        "**(A) Writing/Creating the config.json file (2 Marks)**"
      ]
    },
    {
      "cell_type": "code",
      "execution_count": 3,
      "metadata": {
        "id": "_y3c-Aaynd9r"
      },
      "outputs": [],
      "source": [
        "# Define your configuration information\n",
        "config_data = {\n",
        "    \"AZURE_OPENAI_KEY\": \"\",\n",
        "    \"AZURE_OPENAI_ENDPOINT\": \"\",\n",
        "    \"AZURE_OPENAI_APITYPE\": \"\",\n",
        "    \"AZURE_OPENAI_APIVERSION\": \"\",\n",
        "    \"CHATGPT_MODEL\": \"\"\n",
        "}\n",
        "\n",
        "#Replace \"\" with your credentials"
      ]
    },
    {
      "cell_type": "code",
      "execution_count": 4,
      "metadata": {
        "colab": {
          "base_uri": "https://localhost:8080/"
        },
        "id": "S1MKyRrPnd9r",
        "outputId": "6bbcc7d9-2449-415c-e8e4-c94ee28c52f3"
      },
      "outputs": [],
      "source": [
        "# Write the configuration information into the config.json file\n",
        "# with open('config.json', 'w') as config_file:\n",
        "#     json.dump(config_data, config_file, indent=4)\n",
        "\n",
        "# print(\"Config file created successfully!\")"
      ]
    },
    {
      "cell_type": "markdown",
      "metadata": {
        "id": "hZFRplo_nd9s"
      },
      "source": [
        "Reading the config.json file"
      ]
    },
    {
      "cell_type": "code",
      "execution_count": 5,
      "metadata": {
        "id": "8quG4NzgZUBj",
        "jupyter": {
          "outputs_hidden": false,
          "source_hidden": false
        },
        "nteract": {
          "transient": {
            "deleting": false
          }
        }
      },
      "outputs": [],
      "source": [
        "with open('config.json', 'r') as az_creds:\n",
        "    data = az_creds.read()"
      ]
    },
    {
      "cell_type": "code",
      "execution_count": 6,
      "metadata": {
        "id": "wUoID4DfZUBj",
        "jupyter": {
          "outputs_hidden": false,
          "source_hidden": false
        },
        "nteract": {
          "transient": {
            "deleting": false
          }
        }
      },
      "outputs": [],
      "source": [
        "creds = json.loads(data)"
      ]
    },
    {
      "cell_type": "code",
      "execution_count": 7,
      "metadata": {
        "id": "YplHdS7lZUBj",
        "jupyter": {
          "outputs_hidden": false,
          "source_hidden": false
        },
        "nteract": {
          "transient": {
            "deleting": false
          }
        }
      },
      "outputs": [],
      "source": [
        "openai.api_key = creds[\"AZURE_OPENAI_KEY\"]\n",
        "openai.api_base = creds[\"AZURE_OPENAI_ENDPOINT\"]\n",
        "openai.api_type = creds[\"AZURE_OPENAI_APITYPE\"]\n",
        "openai.api_version = creds[\"AZURE_OPENAI_APIVERSION\"]"
      ]
    },
    {
      "cell_type": "code",
      "execution_count": 8,
      "metadata": {
        "id": "Ga7hDTIjZUBj",
        "jupyter": {
          "outputs_hidden": false,
          "source_hidden": false
        },
        "nteract": {
          "transient": {
            "deleting": false
          }
        }
      },
      "outputs": [],
      "source": [
        "chat_model_id = creds[\"CHATGPT_MODEL\"]"
      ]
    },
    {
      "cell_type": "markdown",
      "metadata": {
        "id": "_gANLvw3ZUBj",
        "nteract": {
          "transient": {
            "deleting": false
          }
        }
      },
      "source": [
        "### Utilities\n",
        "\n",
        "Define a function for token counter to keep track of the completion window available in the prompt."
      ]
    },
    {
      "cell_type": "code",
      "execution_count": 9,
      "metadata": {
        "id": "U0eFci3SZUBj",
        "jupyter": {
          "outputs_hidden": false,
          "source_hidden": false
        },
        "nteract": {
          "transient": {
            "deleting": false
          }
        }
      },
      "outputs": [],
      "source": [
        "def num_tokens_from_messages(messages):\n",
        "\n",
        "    \"\"\"\n",
        "    Return the number of tokens used by a list of messages.\n",
        "    Adapted from the Open AI cookbook token counter\n",
        "    \"\"\"\n",
        "\n",
        "    encoding = tiktoken.encoding_for_model(\"gpt-3.5-turbo\")\n",
        "\n",
        "    # Each message is sandwiched with <|start|>role and <|end|>\n",
        "    # Hence, messages look like: <|start|>system or user or assistant{message}<|end|>\n",
        "\n",
        "    tokens_per_message = 3 # token1:<|start|>, token2:system(or user or assistant), token3:<|end|>\n",
        "\n",
        "    num_tokens = 0\n",
        "\n",
        "    for message in messages:\n",
        "        num_tokens += tokens_per_message\n",
        "        for key, value in message.items():\n",
        "            num_tokens += len(encoding.encode(value))\n",
        "\n",
        "    num_tokens += 3  # every reply is primed with <|start|>assistant<|message|>\n",
        "\n",
        "    return num_tokens"
      ]
    },
    {
      "cell_type": "markdown",
      "metadata": {
        "id": "U3tyrkxXZUBk",
        "nteract": {
          "transient": {
            "deleting": false
          }
        }
      },
      "source": [
        "# Task: Sentiment Analysis"
      ]
    },
    {
      "cell_type": "markdown",
      "metadata": {
        "id": "Mixa5pEEZUBk",
        "nteract": {
          "transient": {
            "deleting": false
          }
        }
      },
      "source": [
        "##**Step 2: Assemble Data (4 Marks)**\n",
        "\n",
        "(A) Upload and Read csv File (2 Marks)\n",
        "\n",
        "(B) Creating a new column named as \"label\" (target column) corresponding to the sentiments in the dataset (2 Marks)"
      ]
    },
    {
      "cell_type": "markdown",
      "metadata": {
        "id": "I7JOH1F_Vc8B"
      },
      "source": [
        "Read the file"
      ]
    },
    {
      "cell_type": "markdown",
      "metadata": {
        "id": "P1AkGAqQnd9s"
      },
      "source": [
        "**(A) Upload and read csv file (2 Marks)**"
      ]
    },
    {
      "cell_type": "code",
      "execution_count": 10,
      "metadata": {
        "id": "zYYzmBcBnd9s"
      },
      "outputs": [],
      "source": [
        "cs_reviews_df = pd.read_csv(\"courier-service_reviews.csv\")\n",
        "# Read CSV File Here"
      ]
    },
    {
      "cell_type": "markdown",
      "metadata": {
        "id": "Qk5XzN0Bnd9t"
      },
      "source": [
        "**(B) Creating a new column named as \"label\" (target column) corresponding to the sentiments in the dataset (2 Marks)**"
      ]
    },
    {
      "cell_type": "code",
      "execution_count": 11,
      "metadata": {
        "id": "ZAhcKIbdnd9t"
      },
      "outputs": [],
      "source": [
        "cs_reviews_df['label'] = cs_reviews_df['sentiment']"
      ]
    },
    {
      "cell_type": "markdown",
      "metadata": {
        "id": "FxVoJw1rnd9t"
      },
      "source": [
        "Split the data into two segments (use split_ratio of 0.2) - one segment (80%) that gives us a pool to draw few-shot examples from and another segment (20%) that gives us a pool of gold examples."
      ]
    },
    {
      "cell_type": "code",
      "execution_count": 12,
      "metadata": {
        "id": "Aq_MCC0knd9t"
      },
      "outputs": [],
      "source": [
        "cs_examples_df, cs_gold_examples_df = train_test_split(\n",
        "    cs_reviews_df, #<- the full dataset\n",
        "    test_size=0.2, #<- 20% random sample selected for gold examples\n",
        "    random_state=42 #<- ensures that the splits are the same for every session\n",
        ")"
      ]
    },
    {
      "cell_type": "markdown",
      "metadata": {
        "id": "pY0x4dfUnd9t"
      },
      "source": [
        "Select the correct columns for further analysis which should exclude the target column."
      ]
    },
    {
      "cell_type": "code",
      "execution_count": 13,
      "metadata": {
        "id": "fa66SFM5nd9t"
      },
      "outputs": [],
      "source": [
        "columns_to_select = ['review','sentiment']"
      ]
    },
    {
      "cell_type": "markdown",
      "metadata": {
        "id": "zkgxygDDnd9t"
      },
      "source": [
        "Create gold examples and select a random sample (depends on the learner based on the session runtime - example:21) of rows from the gold examples dataframe(cs_gold_examples_df)."
      ]
    },
    {
      "cell_type": "code",
      "execution_count": 14,
      "metadata": {
        "id": "WFQSROL3nd9t"
      },
      "outputs": [],
      "source": [
        "gold_examples = (\n",
        "        cs_gold_examples_df.loc[:, columns_to_select]\n",
        "                                     .sample(21, random_state=42) #<- ensures that gold examples are the same for every session\n",
        "                                     .to_json(orient='records')   # for better readability\n",
        ")"
      ]
    },
    {
      "cell_type": "markdown",
      "metadata": {
        "id": "eZrz3Db4nd9t"
      },
      "source": [
        "To select gold examples for this session, sample randomly from the test data using a `random_state=42`. This ensures that the examples from multiple runs of the sampling are the same (i.e., they are randomly selected but do not change between different runs of the notebook). Note that we are doing this only to keep execution times low for illustration. In practise, large number of gold examples facilitate robust estimates of model accuracy."
      ]
    },
    {
      "cell_type": "markdown",
      "metadata": {
        "id": "lVI7gT94ZUBk",
        "nteract": {
          "transient": {
            "deleting": false
          }
        }
      },
      "source": [
        "##**Step 3: Derive Prompt (14 Marks)**\n",
        "\n",
        "(A) Write Zero Shot Prompt (5 Marks)\n",
        "\n",
        "(B) Write Few Shot Prompt (5 Marks)\n",
        "\n",
        "(C) Print Create Examples (2 Marks)\n",
        "\n",
        "(D) Print Few shot Prompt (2 Marks)"
      ]
    },
    {
      "cell_type": "markdown",
      "metadata": {
        "id": "KZGV2plcZUBk",
        "nteract": {
          "transient": {
            "deleting": false
          }
        }
      },
      "source": [
        "#### Create prompts"
      ]
    },
    {
      "cell_type": "code",
      "execution_count": 15,
      "metadata": {
        "id": "8gxodRdrnd9t"
      },
      "outputs": [],
      "source": [
        "user_message_template = \"\"\"```{courier_service_review}```\"\"\""
      ]
    },
    {
      "cell_type": "markdown",
      "metadata": {
        "id": "OUjwO1rzZUBk",
        "nteract": {
          "transient": {
            "deleting": false
          }
        }
      },
      "source": [
        "**(A) Write Zero Shot Prompt (5 Marks)**"
      ]
    },
    {
      "cell_type": "code",
      "execution_count": 16,
      "metadata": {
        "id": "jgmjUfaYZUBk",
        "jupyter": {
          "outputs_hidden": false,
          "source_hidden": false
        },
        "nteract": {
          "transient": {
            "deleting": false
          }
        }
      },
      "outputs": [],
      "source": [
        "zero_shot_system_message = \"\"\"You have been tasked with analyzing the sentiment of customer reviews for ExpressWay Logistics.\n",
        "You are provided with a dataset of customer reviews for ExpressWay's courier service.\n",
        "Each review is labeled as either positive or negative.\n",
        "Your task is to classify the sentiment of the review as either 'Positive' for positive or 'Negative' for negative.\n",
        "Limit your response to those labels. Do not explain your reasoning.\"\"\"\n",
        "# \"\"\"Limit your response to exactly one of those two labels and do not explain your reasoning.\"\"\" will make\n",
        "#  the zero shot prompt perform like the few shot prompt defeating the point of the exercise.\n",
        "\n",
        "#  Write Zero Shot Prompt Here"
      ]
    },
    {
      "cell_type": "code",
      "execution_count": 17,
      "metadata": {
        "id": "Md8c677uaPsE"
      },
      "outputs": [],
      "source": [
        "zero_shot_prompt = [{'role':'system', 'content': zero_shot_system_message}]"
      ]
    },
    {
      "cell_type": "markdown",
      "metadata": {
        "id": "C3ypjy7rZUBk",
        "nteract": {
          "transient": {
            "deleting": false
          }
        }
      },
      "source": [
        "**(B) Write Few Shot Prompt (5 Marks)**"
      ]
    },
    {
      "cell_type": "markdown",
      "metadata": {
        "id": "SBOPcb2snd9u"
      },
      "source": [
        "For the few-shot prompt, there is no change in the system message compared with the zero-shot prompt. However, we augment this system message with few shot examples.  "
      ]
    },
    {
      "cell_type": "code",
      "execution_count": 18,
      "metadata": {
        "id": "5ZZdkwGTZUBk",
        "jupyter": {
          "outputs_hidden": false,
          "source_hidden": false
        },
        "nteract": {
          "transient": {
            "deleting": false
          }
        }
      },
      "outputs": [],
      "source": [
        "few_shot_system_message = zero_shot_system_message\n",
        "#  Write Few Shot Prompt Here"
      ]
    },
    {
      "cell_type": "markdown",
      "metadata": {
        "id": "z08c4Ytond9v"
      },
      "source": [
        "Merely selecting random samples from the polarity subsets is not enough because the examples included in a prompt are prone to a set of known biases such as:\n",
        " - Majority label bias (frequent answers in predictions)\n",
        " - Recency bias (examples near the end of the prompt)\n"
      ]
    },
    {
      "cell_type": "markdown",
      "metadata": {
        "id": "fjWV1ghqnd9v"
      },
      "source": [
        "To avoid these biases, it is important to have a balanced set of examples that are arranged in random order."
      ]
    },
    {
      "cell_type": "markdown",
      "metadata": {
        "id": "ZKRWG4sGad2f"
      },
      "source": [
        "Let us now look at how we can assemble examples to go along with this few-shot system message and compose a few-shot prompt."
      ]
    },
    {
      "cell_type": "markdown",
      "metadata": {
        "id": "DLSPqPobbOOn"
      },
      "source": [
        "###Define \"create_examples\" function"
      ]
    },
    {
      "cell_type": "code",
      "execution_count": 19,
      "metadata": {
        "id": "-95O-bqGnd9v"
      },
      "outputs": [],
      "source": [
        "def create_examples(dataset, n=4):\n",
        "\n",
        "    \"\"\"\n",
        "    Return a JSON list of randomized examples of size 2n with two classes.\n",
        "    Create subsets of each class, choose random samples from the subsets,\n",
        "    merge and randomize the order of samples in the merged list.\n",
        "    Each run of this function creates a different random sample of examples\n",
        "    chosen from the training data.\n",
        "\n",
        "    Args:\n",
        "        dataset (DataFrame): A DataFrame with examples (review + label)\n",
        "        n (int): number of examples of each class to be selected\n",
        "\n",
        "    Output:\n",
        "        randomized_examples (JSON): A JSON with examples in random order\n",
        "    \"\"\"\n",
        "\n",
        "    positive_reviews = (dataset.sentiment == 'Positive')\n",
        "    negative_reviews = (dataset.sentiment == 'Negative')\n",
        "    columns_to_select = ['review', 'sentiment']\n",
        "\n",
        "    positive_examples = dataset.loc[positive_reviews, columns_to_select].sample(n)\n",
        "    negative_examples = dataset.loc[negative_reviews, columns_to_select].sample(n)\n",
        "\n",
        "    examples = pd.concat([positive_examples, negative_examples])\n",
        "    # sampling without replacement is equivalent to random shuffling\n",
        "    randomized_examples = examples.sample(2*n, replace=False)\n",
        "\n",
        "    return randomized_examples.to_json(orient='records')"
      ]
    },
    {
      "cell_type": "markdown",
      "metadata": {
        "id": "xtWb-G5Cnd9v"
      },
      "source": [
        "Use the above create_examples function to create examples for few shot prompt"
      ]
    },
    {
      "cell_type": "code",
      "execution_count": 20,
      "metadata": {
        "id": "W1Pv5t4und9v"
      },
      "outputs": [],
      "source": [
        "examples = create_examples(cs_examples_df, 2)"
      ]
    },
    {
      "cell_type": "markdown",
      "metadata": {
        "id": "Zd3yfkmMnd9v"
      },
      "source": [
        "**(C) Print Created Examples (2 Marks)**"
      ]
    },
    {
      "cell_type": "code",
      "execution_count": 21,
      "metadata": {
        "id": "VdI7BJ1Xnd9v"
      },
      "outputs": [
        {
          "name": "stdout",
          "output_type": "stream",
          "text": [
            "('[{\"review\":\"ExpressWay Logistics failed to deliver my package on the promised date, causing significant '\n",
            " 'inconvenience and disruption to my plans. Despite assurances that the package would arrive on time, it was delayed '\n",
            " 'without any explanation or notification from the company. The lack of transparency and communication from ExpressWay '\n",
            " \"Logistics is unacceptable, and I'm deeply disappointed by their failure to uphold their end of the \"\n",
            " 'bargain.\",\"sentiment\":\"Negative\"},{\"review\":\"ExpressWay Logistics\\' delivery drivers seem to have no regard for '\n",
            " 'punctuality. Despite paying for expedited shipping, my packages are consistently delayed, causing major '\n",
            " 'inconvenience. It\\'s time for them to step up their game.\",\"sentiment\":\"Negative\"},{\"review\":\"I appreciate the '\n",
            " 'attention to detail that ExpressWay Logistics puts into every aspect of their service, from packaging to delivery to '\n",
            " 'customer support and the promised door to door deliveries.Overall a satisfied '\n",
            " 'service!\",\"sentiment\":\"Positive\"},{\"review\":\"I had a large, bulky item to ship, and I wasn\\'t sure if it would fit '\n",
            " 'in a standard package. ExpressWay Logistics offered customized packaging solutions and delivered the item without '\n",
            " 'any issues.\",\"sentiment\":\"Positive\"}]')\n"
          ]
        }
      ],
      "source": [
        "pp.pprint(examples, indent=4, width=120)\n",
        "# Print the created examples here"
      ]
    },
    {
      "cell_type": "markdown",
      "metadata": {
        "id": "gw6O7K7pbX-V"
      },
      "source": [
        "2. Define \"create_prompt\" function"
      ]
    },
    {
      "cell_type": "code",
      "execution_count": 22,
      "metadata": {
        "id": "oCNKfvb7ayDP"
      },
      "outputs": [],
      "source": [
        "def create_prompt(system_message, examples, user_message_template):\n",
        "\n",
        "    \"\"\"\n",
        "    Return a prompt message in the format expected by the Open AI API.\n",
        "    Loop through the examples and parse them as user message and assistant\n",
        "    message.\n",
        "\n",
        "    Args:\n",
        "        system_message (str): system message with instructions for sentiment analysis\n",
        "        examples (str): JSON string with list of examples\n",
        "        user_message_template (str): string with a placeholder for courier service reviews\n",
        "\n",
        "    Output:\n",
        "        few_shot_prompt (List): A list of dictionaries in the Open AI prompt format\n",
        "    \"\"\"\n",
        "\n",
        "    few_shot_prompt = [{'role':'system', 'content': system_message}]\n",
        "\n",
        "    for example in json.loads(examples):\n",
        "        example_review = example['review']\n",
        "        example_sentiment = example['sentiment']\n",
        "\n",
        "        few_shot_prompt.append(\n",
        "            {\n",
        "                'role': 'user',\n",
        "                'content': user_message_template.format(\n",
        "                    courier_service_review=example_review\n",
        "                )\n",
        "            }\n",
        "        )\n",
        "\n",
        "        few_shot_prompt.append(\n",
        "            {'role': 'assistant', 'content': f\"{example_sentiment}\"}\n",
        "        )\n",
        "\n",
        "    return few_shot_prompt"
      ]
    },
    {
      "cell_type": "markdown",
      "metadata": {
        "id": "BAVcEeVand9w"
      },
      "source": [
        "Use the above create_prompt function to create few_shot_prompt"
      ]
    },
    {
      "cell_type": "code",
      "execution_count": 23,
      "metadata": {
        "id": "KJtKZumbnd9w"
      },
      "outputs": [],
      "source": [
        "few_shot_prompt = create_prompt(\n",
        "    few_shot_system_message,\n",
        "    examples,\n",
        "    user_message_template\n",
        ")"
      ]
    },
    {
      "cell_type": "markdown",
      "metadata": {
        "id": "J5Pp5gWQnd9w"
      },
      "source": [
        "**(D) Print the Few Shot Prompt (2 Marks)**"
      ]
    },
    {
      "cell_type": "code",
      "execution_count": 24,
      "metadata": {
        "id": "0EDt5Moind9w"
      },
      "outputs": [
        {
          "name": "stdout",
          "output_type": "stream",
          "text": [
            "[ { 'content': 'You have been tasked with analyzing the sentiment of customer reviews for ExpressWay Logistics.\\n'\n",
            "               \"You are provided with a dataset of customer reviews for ExpressWay's courier service.\\n\"\n",
            "               'Each review is labeled as either positive or negative.\\n'\n",
            "               \"Your task is to classify the sentiment of the review as either 'Positive' for positive or 'Negative' \"\n",
            "               'for negative.\\n'\n",
            "               'Limit your response to those labels. Do not explain your reasoning.',\n",
            "    'role': 'system'},\n",
            "  { 'content': '```ExpressWay Logistics failed to deliver my package on the promised date, causing significant '\n",
            "               'inconvenience and disruption to my plans. Despite assurances that the package would arrive on time, it '\n",
            "               'was delayed without any explanation or notification from the company. The lack of transparency and '\n",
            "               \"communication from ExpressWay Logistics is unacceptable, and I'm deeply disappointed by their failure \"\n",
            "               'to uphold their end of the bargain.```',\n",
            "    'role': 'user'},\n",
            "  {'content': 'Negative', 'role': 'assistant'},\n",
            "  { 'content': \"```ExpressWay Logistics' delivery drivers seem to have no regard for punctuality. Despite paying for \"\n",
            "               \"expedited shipping, my packages are consistently delayed, causing major inconvenience. It's time for \"\n",
            "               'them to step up their game.```',\n",
            "    'role': 'user'},\n",
            "  {'content': 'Negative', 'role': 'assistant'},\n",
            "  { 'content': '```I appreciate the attention to detail that ExpressWay Logistics puts into every aspect of their '\n",
            "               'service, from packaging to delivery to customer support and the promised door to door '\n",
            "               'deliveries.Overall a satisfied service!```',\n",
            "    'role': 'user'},\n",
            "  {'content': 'Positive', 'role': 'assistant'},\n",
            "  { 'content': \"```I had a large, bulky item to ship, and I wasn't sure if it would fit in a standard package. \"\n",
            "               'ExpressWay Logistics offered customized packaging solutions and delivered the item without any '\n",
            "               'issues.```',\n",
            "    'role': 'user'},\n",
            "  {'content': 'Positive', 'role': 'assistant'}]\n"
          ]
        }
      ],
      "source": [
        "pp.pprint(few_shot_prompt, indent=2, width=120)\n",
        "# Print the created few shot prompt here"
      ]
    },
    {
      "cell_type": "markdown",
      "metadata": {
        "id": "XHhvs9gnZUBl",
        "nteract": {
          "transient": {
            "deleting": false
          }
        }
      },
      "source": [
        "##**Step 4: Evaluate prompts (10 Marks)**"
      ]
    },
    {
      "cell_type": "markdown",
      "metadata": {
        "id": "5RgX6kBjUrRZ"
      },
      "source": [
        "(A) Evaluate Zero Shot Prompt (3 Marks)\n",
        "\n",
        "(B) Evaluate Few Shot Prompt (3 marks)\n",
        "\n",
        "(C) Calculate Mean and Standard Deviation for Zero Shot and Few Shot (4 Marks)"
      ]
    },
    {
      "cell_type": "markdown",
      "metadata": {
        "id": "JU7BHj7xZUBl",
        "nteract": {
          "transient": {
            "deleting": false
          }
        }
      },
      "source": [
        "### Define Evaluation scorer"
      ]
    },
    {
      "cell_type": "code",
      "execution_count": 25,
      "metadata": {
        "id": "ek3GxuNYnd9w"
      },
      "outputs": [],
      "source": [
        "def evaluate_prompt(prompt, gold_examples, user_message_template):\n",
        "\n",
        "    \"\"\"\n",
        "    Return the micro-F1 score for predictions on gold examples.\n",
        "    For each example, we make a prediction using the prompt. Gold labels and\n",
        "    model predictions are aggregated into lists and compared to compute the\n",
        "    F1 score.\n",
        "\n",
        "    Args:\n",
        "        prompt (List): list of messages in the Open AI prompt format\n",
        "        gold_examples (str): JSON string with list of gold examples\n",
        "        user_message_template (str): string with a placeholder for courier service review\n",
        "\n",
        "    Output:\n",
        "        micro_f1_score (float): Micro-F1 score computed by comparing model predictions\n",
        "                                with ground truth\n",
        "    \"\"\"\n",
        "\n",
        "    model_predictions, ground_truths, review_texts = [], [], []\n",
        "\n",
        "    for example in json.loads(gold_examples):\n",
        "        gold_input = example['review']\n",
        "        user_input = [\n",
        "            {\n",
        "                'role':'user',\n",
        "                'content': user_message_template.format(courier_service_review=gold_input)\n",
        "            }\n",
        "        ]\n",
        "\n",
        "        try:\n",
        "            response = openai.ChatCompletion.create(\n",
        "                deployment_id=chat_model_id,\n",
        "                messages=prompt+user_input,\n",
        "                temperature=0, # <- Note the low temperature(For a deterministic response)\n",
        "                max_tokens=2 # <- Note how we restrict the output to not more than 2 tokens\n",
        "            )\n",
        "\n",
        "            prediction = response['choices'][0]['message']['content']\n",
        "            model_predictions.append(prediction.strip()) # <- removes extraneous white spaces\n",
        "            ground_truths.append(example['sentiment'])\n",
        "            review_texts.append(gold_input)\n",
        "\n",
        "        except Exception as e:\n",
        "            continue\n",
        "\n",
        "    micro_f1_score = f1_score(ground_truths, model_predictions, average=\"micro\")\n",
        "\n",
        "    table_data = [[text, pred, truth] for text, pred, truth in zip(review_texts, model_predictions, ground_truths)]\n",
        "    headers = [\"Review\", \"Model Prediction\", \"Ground Truth\"]\n",
        "    print(tabulate(table_data, headers=headers, maxcolwidths=80, tablefmt=\"grid\"))\n",
        "\n",
        "    return micro_f1_score\n"
      ]
    },
    {
      "cell_type": "markdown",
      "metadata": {
        "id": "XpmEiVPIZUBl",
        "nteract": {
          "transient": {
            "deleting": false
          }
        }
      },
      "source": [
        "**(A) Evaluate zero shot prompt (3 Marks)**"
      ]
    },
    {
      "cell_type": "code",
      "execution_count": 26,
      "metadata": {
        "id": "Kar164F4nd9x"
      },
      "outputs": [
        {
          "name": "stdout",
          "output_type": "stream",
          "text": [
            "+----------------------------------------------------------------------------------+--------------------+----------------+\n",
            "| Review                                                                           | Model Prediction   | Ground Truth   |\n",
            "+==================================================================================+====================+================+\n",
            "| The delivery executive assigned by ExpressWay Logistics was courteous and        | Negative.          | Positive       |\n",
            "| professional during the delivery process. They tried their best to handle the    |                    |                |\n",
            "| package with care.Unfortunately, the package arrived with slight damage despite  |                    |                |\n",
            "| the delivery executive's efforts. The packaging seemed more than adequate to     |                    |                |\n",
            "| protect the contents during transit.                                             |                    |                |\n",
            "+----------------------------------------------------------------------------------+--------------------+----------------+\n",
            "| ExpressWay Logistics failed to meet my expectations. The delivery was delayed,   | Negative.          | Negative       |\n",
            "| and the customer support team was unresponsive and unhelpful when I tried to     |                    |                |\n",
            "| inquire about the status of my parcel.                                           |                    |                |\n",
            "+----------------------------------------------------------------------------------+--------------------+----------------+\n",
            "| ExpressWay Logistics' incompetence resulted in a major inconvenience when my     | Negative.          | Negative       |\n",
            "| package was delivered to the wrong recipient. Despite providing accurate         |                    |                |\n",
            "| delivery information, the package ended up in the hands of someone else, and     |                    |                |\n",
            "| efforts to retrieve it were unsuccessful. When I contacted customer service for  |                    |                |\n",
            "| assistance, I was met with apathy and a lack of urgency. Their failure to        |                    |                |\n",
            "| rectify the situation in a timely manner is unacceptable, and I will be avoiding |                    |                |\n",
            "| their services at all costs.                                                     |                    |                |\n",
            "+----------------------------------------------------------------------------------+--------------------+----------------+\n",
            "| Kudos to ExpressWay Logistics for their outstanding service! They've been an     | Positive.          | Positive       |\n",
            "| essential partner for my business, handling all our shipping needs with          |                    |                |\n",
            "| professionalism and efficiency. If you're looking for a reliable logistic        |                    |                |\n",
            "| service provider, look no further than ExpressWay Logistics.                     |                    |                |\n",
            "+----------------------------------------------------------------------------------+--------------------+----------------+\n",
            "| ExpressWay Logistics offers a convenient online platform for booking shipments,  | Negative           | Negative       |\n",
            "| and their competitive rates initially drew me in. However, the frequent delays   |                    |                |\n",
            "| in delivery and lack of transparency regarding additional fees have soured my    |                    |                |\n",
            "| experience. While their customer service representatives are polite, they often  |                    |                |\n",
            "| seem powerless to resolve issues effectively.This lack of care and               |                    |                |\n",
            "| responsibilites from the concerned teams have led me unsatisfied and irritated.I |                    |                |\n",
            "| cannot trust and rely on this again.Will definitely not contact them ever for my |                    |                |\n",
            "| courier deliveries!                                                              |                    |                |\n",
            "+----------------------------------------------------------------------------------+--------------------+----------------+\n",
            "| Planning a destination wedding is undoubtedly a daunting task, especially when   | Positive.          | Positive       |\n",
            "| it comes to coordinating transportation for guests and wedding essentials.       |                    |                |\n",
            "| Fortunately, ExpressWay Logistics made this aspect of our wedding planning       |                    |                |\n",
            "| effortless. From the beginning, they were attentive to our needs and provided    |                    |                |\n",
            "| valuable insights to streamline the process.                                     |                    |                |\n",
            "+----------------------------------------------------------------------------------+--------------------+----------------+\n",
            "| ExpressWay Logistics consistently delivers on its promises, providing fast,      | Positive.          | Positive       |\n",
            "| efficient, and reliable courier services that exceeded my expectations.          |                    |                |\n",
            "+----------------------------------------------------------------------------------+--------------------+----------------+\n",
            "| I needed to ship perishable items internationally, and ExpressWay Logistics      | Positive.          | Positive       |\n",
            "| handled the process flawlessly. They ensured that the items were properly        |                    |                |\n",
            "| packaged and transported in temperature-controlled conditions.                   |                    |                |\n",
            "+----------------------------------------------------------------------------------+--------------------+----------------+\n",
            "| I appreciated the flexibility offered by ExpressWay Logistics in terms of        | Negative           | Negative       |\n",
            "| delivery options. Their range of delivery speeds and service levels allowed me   |                    |                |\n",
            "| to choose the option that best suited my needs and budget.However, I was         |                    |                |\n",
            "| slightly disappointed by the lack of transparency regarding few additional fees  |                    |                |\n",
            "| and surcharges. I selected a specific delivery option and paid minor charges at  |                    |                |\n",
            "| checkout, which undermined the initial affordability of the service..            |                    |                |\n",
            "+----------------------------------------------------------------------------------+--------------------+----------------+\n",
            "| While ExpressWay Logistics' pricing is competitive, their lack of accountability | Negative           | Negative       |\n",
            "| for delays and damages is disappointing. It's frustrating to pay for a service   |                    |                |\n",
            "| that fails to deliver on its promises consistently.                              |                    |                |\n",
            "+----------------------------------------------------------------------------------+--------------------+----------------+\n",
            "| ExpressWay Logistics' pricing may seem attractive at first glance, but beware of | Negative           | Positive       |\n",
            "| some internal hidden fees that may sometimes add up. Coupled with their reliable |                    |                |\n",
            "| delivery times, it's simply not worth the hassle.But still I appreciate that my  |                    |                |\n",
            "| parcel got delivered safely a day after the promised window.                     |                    |                |\n",
            "+----------------------------------------------------------------------------------+--------------------+----------------+\n",
            "| ExpressWay Logistics has been my go-to courier service for years, primarily due  | Negative           | Negative       |\n",
            "| to their extensive network coverage and competitive pricing. However, my recent  |                    |                |\n",
            "| experience has left me questioning their reliability. While their user-friendly  |                    |                |\n",
            "| website and efficient booking process remain commendable, the repeated delays in |                    |                |\n",
            "| delivery and lack of proactive communication have been disappointing.Despite     |                    |                |\n",
            "| these setbacks, their customer service team has always been courteous and        |                    |                |\n",
            "| responsive, attempting to address my concerns promptly.                          |                    |                |\n",
            "+----------------------------------------------------------------------------------+--------------------+----------------+\n",
            "| ExpressWay Logistics' incompetence led to the loss of my parcel, and their lack  | Negative.          | Negative       |\n",
            "| of accountability only added to the frustration. Despite filing a claim and      |                    |                |\n",
            "| providing evidence of the missing items, I received no assistance or             |                    |                |\n",
            "| compensation for the lost package. Their negligence and disregard for customer   |                    |                |\n",
            "| satisfaction are unacceptable, and I will be exploring legal options to recoup   |                    |                |\n",
            "| the value of the lost items.                                                     |                    |                |\n",
            "+----------------------------------------------------------------------------------+--------------------+----------------+\n",
            "| I was deeply disappointed by the behavior of the delivery executive from         | Negative           | Negative       |\n",
            "| Expressway Logistics. They exhibited a complete disregard for customer           |                    |                |\n",
            "| satisfaction, arriving late and mishandling the package upon delivery. Despite   |                    |                |\n",
            "| raising my concerns with Expressway Logistics, there was no acknowledgment or    |                    |                |\n",
            "| resolution provided.                                                             |                    |                |\n",
            "+----------------------------------------------------------------------------------+--------------------+----------------+\n",
            "| As a frequent traveler, I often use ExpressWay Logistics to ship luggage and     | Positive.          | Positive       |\n",
            "| personal belongings ahead of time. Their door-to-door service and reliable       |                    |                |\n",
            "| tracking make traveling a breeze.                                                |                    |                |\n",
            "+----------------------------------------------------------------------------------+--------------------+----------------+\n",
            "| ExpressWay Logistics caught my attention with its promise of seamless shipping   | Negative.          | Negative       |\n",
            "| solutions and a comprehensive network. However, my recent experiences have       |                    |                |\n",
            "| revealed some significant shortcomings. Their online platform is disgusting and  |                    |                |\n",
            "| their tracking system is inaccurate.I've encountered repeated issues with        |                    |                |\n",
            "| inaccurate weight calculations that have led to unexpected charges. Moreover,    |                    |                |\n",
            "| the limited options for customizing shipment preferences have made it            |                    |                |\n",
            "| challenging to meet my requirements.I cannot rely upon it for my future          |                    |                |\n",
            "| requirements.It failed to meet my requirements.                                  |                    |                |\n",
            "+----------------------------------------------------------------------------------+--------------------+----------------+\n",
            "| The packaging provided by ExpressWay Logistics is always secure and well-        | Positive.          | Positive       |\n",
            "| protected, and ensured that my items arrive in perfect condition.                |                    |                |\n",
            "+----------------------------------------------------------------------------------+--------------------+----------------+\n",
            "| My recent experience with ExpressWay Logistics left me thoroughly impressed. I   | Positive           | Positive       |\n",
            "| had a highly time-sensitive shipment that required delicate handling and precise |                    |                |\n",
            "| coordination. Despite the challenges, ExpressWay rose to the occasion,           |                    |                |\n",
            "| demonstrating an unparalleled level of professionalism and efficiency. Their     |                    |                |\n",
            "| team meticulously planned every aspect of the shipment, from packaging to        |                    |                |\n",
            "| transportation, ensuring that no detail was overlooked.                          |                    |                |\n",
            "+----------------------------------------------------------------------------------+--------------------+----------------+\n",
            "| I was initially impressed by ExpressWay Logistics' promise of reliability and    | Negative           | Negative       |\n",
            "| affordability, but my recent encounters have been less than satisfactory. Their  |                    |                |\n",
            "| website is so irritating and their drivers are too harsh, the repeated delays in |                    |                |\n",
            "| delivery have been frustrating. Additionally, the discovery of hidden fees       |                    |                |\n",
            "| within their pricing structure has left me feeling misled. In addition to these  |                    |                |\n",
            "| challenges, their customer service team has been inattentive and disrespectful,  |                    |                |\n",
            "| which has degraded the overall experience.Not at all recommend!                  |                    |                |\n",
            "+----------------------------------------------------------------------------------+--------------------+----------------+\n",
            "| Thumbs up to ExpressWay for their prompt responses and reliable shipping         | Positive           | Positive       |\n",
            "| solutions. Impressed!                                                            |                    |                |\n",
            "+----------------------------------------------------------------------------------+--------------------+----------------+\n",
            "| I had a terrible experience with ExpressWay Logistics. Not only was my pickup    | Negative.          | Negative       |\n",
            "| delayed, but the packaging was not done intactly, and the customer support team  |                    |                |\n",
            "| was unresponsive when I tried to raise the issue.                                |                    |                |\n",
            "+----------------------------------------------------------------------------------+--------------------+----------------+\n"
          ]
        },
        {
          "data": {
            "text/plain": [
              "0.38095238095238093"
            ]
          },
          "execution_count": 26,
          "metadata": {},
          "output_type": "execute_result"
        }
      ],
      "source": [
        "evaluate_prompt(zero_shot_prompt, gold_examples, user_message_template)"
      ]
    },
    {
      "cell_type": "markdown",
      "metadata": {
        "id": "ya73XdatZUBl",
        "nteract": {
          "transient": {
            "deleting": false
          }
        }
      },
      "source": [
        "**(B) Evaluate few shot prompt (3 Marks)**"
      ]
    },
    {
      "cell_type": "code",
      "execution_count": 27,
      "metadata": {
        "id": "tqQTgKUkZUBl",
        "jupyter": {
          "outputs_hidden": false,
          "source_hidden": false
        },
        "nteract": {
          "transient": {
            "deleting": false
          }
        }
      },
      "outputs": [
        {
          "name": "stdout",
          "output_type": "stream",
          "text": [
            "+----------------------------------------------------------------------------------+--------------------+----------------+\n",
            "| Review                                                                           | Model Prediction   | Ground Truth   |\n",
            "+==================================================================================+====================+================+\n",
            "| The delivery executive assigned by ExpressWay Logistics was courteous and        | Neutral            | Positive       |\n",
            "| professional during the delivery process. They tried their best to handle the    |                    |                |\n",
            "| package with care.Unfortunately, the package arrived with slight damage despite  |                    |                |\n",
            "| the delivery executive's efforts. The packaging seemed more than adequate to     |                    |                |\n",
            "| protect the contents during transit.                                             |                    |                |\n",
            "+----------------------------------------------------------------------------------+--------------------+----------------+\n",
            "| ExpressWay Logistics failed to meet my expectations. The delivery was delayed,   | Negative           | Negative       |\n",
            "| and the customer support team was unresponsive and unhelpful when I tried to     |                    |                |\n",
            "| inquire about the status of my parcel.                                           |                    |                |\n",
            "+----------------------------------------------------------------------------------+--------------------+----------------+\n",
            "| ExpressWay Logistics' incompetence resulted in a major inconvenience when my     | Negative           | Negative       |\n",
            "| package was delivered to the wrong recipient. Despite providing accurate         |                    |                |\n",
            "| delivery information, the package ended up in the hands of someone else, and     |                    |                |\n",
            "| efforts to retrieve it were unsuccessful. When I contacted customer service for  |                    |                |\n",
            "| assistance, I was met with apathy and a lack of urgency. Their failure to        |                    |                |\n",
            "| rectify the situation in a timely manner is unacceptable, and I will be avoiding |                    |                |\n",
            "| their services at all costs.                                                     |                    |                |\n",
            "+----------------------------------------------------------------------------------+--------------------+----------------+\n",
            "| Kudos to ExpressWay Logistics for their outstanding service! They've been an     | Positive           | Positive       |\n",
            "| essential partner for my business, handling all our shipping needs with          |                    |                |\n",
            "| professionalism and efficiency. If you're looking for a reliable logistic        |                    |                |\n",
            "| service provider, look no further than ExpressWay Logistics.                     |                    |                |\n",
            "+----------------------------------------------------------------------------------+--------------------+----------------+\n",
            "| ExpressWay Logistics offers a convenient online platform for booking shipments,  | Negative           | Negative       |\n",
            "| and their competitive rates initially drew me in. However, the frequent delays   |                    |                |\n",
            "| in delivery and lack of transparency regarding additional fees have soured my    |                    |                |\n",
            "| experience. While their customer service representatives are polite, they often  |                    |                |\n",
            "| seem powerless to resolve issues effectively.This lack of care and               |                    |                |\n",
            "| responsibilites from the concerned teams have led me unsatisfied and irritated.I |                    |                |\n",
            "| cannot trust and rely on this again.Will definitely not contact them ever for my |                    |                |\n",
            "| courier deliveries!                                                              |                    |                |\n",
            "+----------------------------------------------------------------------------------+--------------------+----------------+\n",
            "| Planning a destination wedding is undoubtedly a daunting task, especially when   | Positive           | Positive       |\n",
            "| it comes to coordinating transportation for guests and wedding essentials.       |                    |                |\n",
            "| Fortunately, ExpressWay Logistics made this aspect of our wedding planning       |                    |                |\n",
            "| effortless. From the beginning, they were attentive to our needs and provided    |                    |                |\n",
            "| valuable insights to streamline the process.                                     |                    |                |\n",
            "+----------------------------------------------------------------------------------+--------------------+----------------+\n",
            "| ExpressWay Logistics consistently delivers on its promises, providing fast,      | Positive           | Positive       |\n",
            "| efficient, and reliable courier services that exceeded my expectations.          |                    |                |\n",
            "+----------------------------------------------------------------------------------+--------------------+----------------+\n",
            "| I needed to ship perishable items internationally, and ExpressWay Logistics      | Positive           | Positive       |\n",
            "| handled the process flawlessly. They ensured that the items were properly        |                    |                |\n",
            "| packaged and transported in temperature-controlled conditions.                   |                    |                |\n",
            "+----------------------------------------------------------------------------------+--------------------+----------------+\n",
            "| I appreciated the flexibility offered by ExpressWay Logistics in terms of        | Mixed/             | Negative       |\n",
            "| delivery options. Their range of delivery speeds and service levels allowed me   |                    |                |\n",
            "| to choose the option that best suited my needs and budget.However, I was         |                    |                |\n",
            "| slightly disappointed by the lack of transparency regarding few additional fees  |                    |                |\n",
            "| and surcharges. I selected a specific delivery option and paid minor charges at  |                    |                |\n",
            "| checkout, which undermined the initial affordability of the service..            |                    |                |\n",
            "+----------------------------------------------------------------------------------+--------------------+----------------+\n",
            "| While ExpressWay Logistics' pricing is competitive, their lack of accountability | Negative           | Negative       |\n",
            "| for delays and damages is disappointing. It's frustrating to pay for a service   |                    |                |\n",
            "| that fails to deliver on its promises consistently.                              |                    |                |\n",
            "+----------------------------------------------------------------------------------+--------------------+----------------+\n",
            "| ExpressWay Logistics' pricing may seem attractive at first glance, but beware of | Mixed/             | Positive       |\n",
            "| some internal hidden fees that may sometimes add up. Coupled with their reliable |                    |                |\n",
            "| delivery times, it's simply not worth the hassle.But still I appreciate that my  |                    |                |\n",
            "| parcel got delivered safely a day after the promised window.                     |                    |                |\n",
            "+----------------------------------------------------------------------------------+--------------------+----------------+\n",
            "| ExpressWay Logistics has been my go-to courier service for years, primarily due  | Neutral            | Negative       |\n",
            "| to their extensive network coverage and competitive pricing. However, my recent  |                    |                |\n",
            "| experience has left me questioning their reliability. While their user-friendly  |                    |                |\n",
            "| website and efficient booking process remain commendable, the repeated delays in |                    |                |\n",
            "| delivery and lack of proactive communication have been disappointing.Despite     |                    |                |\n",
            "| these setbacks, their customer service team has always been courteous and        |                    |                |\n",
            "| responsive, attempting to address my concerns promptly.                          |                    |                |\n",
            "+----------------------------------------------------------------------------------+--------------------+----------------+\n",
            "| ExpressWay Logistics' incompetence led to the loss of my parcel, and their lack  | Negative           | Negative       |\n",
            "| of accountability only added to the frustration. Despite filing a claim and      |                    |                |\n",
            "| providing evidence of the missing items, I received no assistance or             |                    |                |\n",
            "| compensation for the lost package. Their negligence and disregard for customer   |                    |                |\n",
            "| satisfaction are unacceptable, and I will be exploring legal options to recoup   |                    |                |\n",
            "| the value of the lost items.                                                     |                    |                |\n",
            "+----------------------------------------------------------------------------------+--------------------+----------------+\n",
            "| I was deeply disappointed by the behavior of the delivery executive from         | Negative           | Negative       |\n",
            "| Expressway Logistics. They exhibited a complete disregard for customer           |                    |                |\n",
            "| satisfaction, arriving late and mishandling the package upon delivery. Despite   |                    |                |\n",
            "| raising my concerns with Expressway Logistics, there was no acknowledgment or    |                    |                |\n",
            "| resolution provided.                                                             |                    |                |\n",
            "+----------------------------------------------------------------------------------+--------------------+----------------+\n",
            "| As a frequent traveler, I often use ExpressWay Logistics to ship luggage and     | Positive           | Positive       |\n",
            "| personal belongings ahead of time. Their door-to-door service and reliable       |                    |                |\n",
            "| tracking make traveling a breeze.                                                |                    |                |\n",
            "+----------------------------------------------------------------------------------+--------------------+----------------+\n",
            "| ExpressWay Logistics caught my attention with its promise of seamless shipping   | Negative           | Negative       |\n",
            "| solutions and a comprehensive network. However, my recent experiences have       |                    |                |\n",
            "| revealed some significant shortcomings. Their online platform is disgusting and  |                    |                |\n",
            "| their tracking system is inaccurate.I've encountered repeated issues with        |                    |                |\n",
            "| inaccurate weight calculations that have led to unexpected charges. Moreover,    |                    |                |\n",
            "| the limited options for customizing shipment preferences have made it            |                    |                |\n",
            "| challenging to meet my requirements.I cannot rely upon it for my future          |                    |                |\n",
            "| requirements.It failed to meet my requirements.                                  |                    |                |\n",
            "+----------------------------------------------------------------------------------+--------------------+----------------+\n",
            "| The packaging provided by ExpressWay Logistics is always secure and well-        | Positive           | Positive       |\n",
            "| protected, and ensured that my items arrive in perfect condition.                |                    |                |\n",
            "+----------------------------------------------------------------------------------+--------------------+----------------+\n",
            "| My recent experience with ExpressWay Logistics left me thoroughly impressed. I   | Positive           | Positive       |\n",
            "| had a highly time-sensitive shipment that required delicate handling and precise |                    |                |\n",
            "| coordination. Despite the challenges, ExpressWay rose to the occasion,           |                    |                |\n",
            "| demonstrating an unparalleled level of professionalism and efficiency. Their     |                    |                |\n",
            "| team meticulously planned every aspect of the shipment, from packaging to        |                    |                |\n",
            "| transportation, ensuring that no detail was overlooked.                          |                    |                |\n",
            "+----------------------------------------------------------------------------------+--------------------+----------------+\n",
            "| I was initially impressed by ExpressWay Logistics' promise of reliability and    | Negative           | Negative       |\n",
            "| affordability, but my recent encounters have been less than satisfactory. Their  |                    |                |\n",
            "| website is so irritating and their drivers are too harsh, the repeated delays in |                    |                |\n",
            "| delivery have been frustrating. Additionally, the discovery of hidden fees       |                    |                |\n",
            "| within their pricing structure has left me feeling misled. In addition to these  |                    |                |\n",
            "| challenges, their customer service team has been inattentive and disrespectful,  |                    |                |\n",
            "| which has degraded the overall experience.Not at all recommend!                  |                    |                |\n",
            "+----------------------------------------------------------------------------------+--------------------+----------------+\n",
            "| Thumbs up to ExpressWay for their prompt responses and reliable shipping         | Positive           | Positive       |\n",
            "| solutions. Impressed!                                                            |                    |                |\n",
            "+----------------------------------------------------------------------------------+--------------------+----------------+\n",
            "| I had a terrible experience with ExpressWay Logistics. Not only was my pickup    | Negative           | Negative       |\n",
            "| delayed, but the packaging was not done intactly, and the customer support team  |                    |                |\n",
            "| was unresponsive when I tried to raise the issue.                                |                    |                |\n",
            "+----------------------------------------------------------------------------------+--------------------+----------------+\n"
          ]
        },
        {
          "data": {
            "text/plain": [
              "0.8095238095238095"
            ]
          },
          "execution_count": 27,
          "metadata": {},
          "output_type": "execute_result"
        }
      ],
      "source": [
        "evaluate_prompt(few_shot_prompt, gold_examples, user_message_template)"
      ]
    },
    {
      "cell_type": "markdown",
      "metadata": {
        "id": "fbAllJYHnd9x"
      },
      "source": [
        " However, this is just *one* choice of examples. We will need to run these evaluations with multiple choices of examples to get a sense of variability in F1 score for the few-shot prompt. As an example, let us run evaluations for the few-shot prompt 5 times."
      ]
    },
    {
      "cell_type": "code",
      "execution_count": 28,
      "metadata": {
        "id": "8vp62FqPnd9x"
      },
      "outputs": [],
      "source": [
        "num_eval_runs = 5"
      ]
    },
    {
      "cell_type": "code",
      "execution_count": 29,
      "metadata": {
        "id": "FHK0X_0Lnd9x"
      },
      "outputs": [],
      "source": [
        "zero_shot_performance = []\n",
        "few_shot_performance = []"
      ]
    },
    {
      "cell_type": "code",
      "execution_count": 30,
      "metadata": {
        "id": "rPxO3P5Mnd9x"
      },
      "outputs": [
        {
          "name": "stderr",
          "output_type": "stream",
          "text": [
            "  0%|          | 0/5 [00:00<?, ?it/s]"
          ]
        },
        {
          "name": "stdout",
          "output_type": "stream",
          "text": [
            "+----------------------------------------------------------------------------------+--------------------+----------------+\n",
            "| Review                                                                           | Model Prediction   | Ground Truth   |\n",
            "+==================================================================================+====================+================+\n",
            "| The delivery executive assigned by ExpressWay Logistics was courteous and        | Negative.          | Positive       |\n",
            "| professional during the delivery process. They tried their best to handle the    |                    |                |\n",
            "| package with care.Unfortunately, the package arrived with slight damage despite  |                    |                |\n",
            "| the delivery executive's efforts. The packaging seemed more than adequate to     |                    |                |\n",
            "| protect the contents during transit.                                             |                    |                |\n",
            "+----------------------------------------------------------------------------------+--------------------+----------------+\n",
            "| ExpressWay Logistics failed to meet my expectations. The delivery was delayed,   | Negative.          | Negative       |\n",
            "| and the customer support team was unresponsive and unhelpful when I tried to     |                    |                |\n",
            "| inquire about the status of my parcel.                                           |                    |                |\n",
            "+----------------------------------------------------------------------------------+--------------------+----------------+\n",
            "| ExpressWay Logistics' incompetence resulted in a major inconvenience when my     | Negative.          | Negative       |\n",
            "| package was delivered to the wrong recipient. Despite providing accurate         |                    |                |\n",
            "| delivery information, the package ended up in the hands of someone else, and     |                    |                |\n",
            "| efforts to retrieve it were unsuccessful. When I contacted customer service for  |                    |                |\n",
            "| assistance, I was met with apathy and a lack of urgency. Their failure to        |                    |                |\n",
            "| rectify the situation in a timely manner is unacceptable, and I will be avoiding |                    |                |\n",
            "| their services at all costs.                                                     |                    |                |\n",
            "+----------------------------------------------------------------------------------+--------------------+----------------+\n",
            "| Kudos to ExpressWay Logistics for their outstanding service! They've been an     | Positive.          | Positive       |\n",
            "| essential partner for my business, handling all our shipping needs with          |                    |                |\n",
            "| professionalism and efficiency. If you're looking for a reliable logistic        |                    |                |\n",
            "| service provider, look no further than ExpressWay Logistics.                     |                    |                |\n",
            "+----------------------------------------------------------------------------------+--------------------+----------------+\n",
            "| ExpressWay Logistics offers a convenient online platform for booking shipments,  | Negative           | Negative       |\n",
            "| and their competitive rates initially drew me in. However, the frequent delays   |                    |                |\n",
            "| in delivery and lack of transparency regarding additional fees have soured my    |                    |                |\n",
            "| experience. While their customer service representatives are polite, they often  |                    |                |\n",
            "| seem powerless to resolve issues effectively.This lack of care and               |                    |                |\n",
            "| responsibilites from the concerned teams have led me unsatisfied and irritated.I |                    |                |\n",
            "| cannot trust and rely on this again.Will definitely not contact them ever for my |                    |                |\n",
            "| courier deliveries!                                                              |                    |                |\n",
            "+----------------------------------------------------------------------------------+--------------------+----------------+\n",
            "| Planning a destination wedding is undoubtedly a daunting task, especially when   | Positive.          | Positive       |\n",
            "| it comes to coordinating transportation for guests and wedding essentials.       |                    |                |\n",
            "| Fortunately, ExpressWay Logistics made this aspect of our wedding planning       |                    |                |\n",
            "| effortless. From the beginning, they were attentive to our needs and provided    |                    |                |\n",
            "| valuable insights to streamline the process.                                     |                    |                |\n",
            "+----------------------------------------------------------------------------------+--------------------+----------------+\n",
            "| ExpressWay Logistics consistently delivers on its promises, providing fast,      | Positive.          | Positive       |\n",
            "| efficient, and reliable courier services that exceeded my expectations.          |                    |                |\n",
            "+----------------------------------------------------------------------------------+--------------------+----------------+\n",
            "| I needed to ship perishable items internationally, and ExpressWay Logistics      | Positive.          | Positive       |\n",
            "| handled the process flawlessly. They ensured that the items were properly        |                    |                |\n",
            "| packaged and transported in temperature-controlled conditions.                   |                    |                |\n",
            "+----------------------------------------------------------------------------------+--------------------+----------------+\n",
            "| I appreciated the flexibility offered by ExpressWay Logistics in terms of        | Negative           | Negative       |\n",
            "| delivery options. Their range of delivery speeds and service levels allowed me   |                    |                |\n",
            "| to choose the option that best suited my needs and budget.However, I was         |                    |                |\n",
            "| slightly disappointed by the lack of transparency regarding few additional fees  |                    |                |\n",
            "| and surcharges. I selected a specific delivery option and paid minor charges at  |                    |                |\n",
            "| checkout, which undermined the initial affordability of the service..            |                    |                |\n",
            "+----------------------------------------------------------------------------------+--------------------+----------------+\n",
            "| While ExpressWay Logistics' pricing is competitive, their lack of accountability | Negative           | Negative       |\n",
            "| for delays and damages is disappointing. It's frustrating to pay for a service   |                    |                |\n",
            "| that fails to deliver on its promises consistently.                              |                    |                |\n",
            "+----------------------------------------------------------------------------------+--------------------+----------------+\n",
            "| ExpressWay Logistics' pricing may seem attractive at first glance, but beware of | Negative           | Positive       |\n",
            "| some internal hidden fees that may sometimes add up. Coupled with their reliable |                    |                |\n",
            "| delivery times, it's simply not worth the hassle.But still I appreciate that my  |                    |                |\n",
            "| parcel got delivered safely a day after the promised window.                     |                    |                |\n",
            "+----------------------------------------------------------------------------------+--------------------+----------------+\n",
            "| ExpressWay Logistics has been my go-to courier service for years, primarily due  | Negative           | Negative       |\n",
            "| to their extensive network coverage and competitive pricing. However, my recent  |                    |                |\n",
            "| experience has left me questioning their reliability. While their user-friendly  |                    |                |\n",
            "| website and efficient booking process remain commendable, the repeated delays in |                    |                |\n",
            "| delivery and lack of proactive communication have been disappointing.Despite     |                    |                |\n",
            "| these setbacks, their customer service team has always been courteous and        |                    |                |\n",
            "| responsive, attempting to address my concerns promptly.                          |                    |                |\n",
            "+----------------------------------------------------------------------------------+--------------------+----------------+\n",
            "| ExpressWay Logistics' incompetence led to the loss of my parcel, and their lack  | Negative.          | Negative       |\n",
            "| of accountability only added to the frustration. Despite filing a claim and      |                    |                |\n",
            "| providing evidence of the missing items, I received no assistance or             |                    |                |\n",
            "| compensation for the lost package. Their negligence and disregard for customer   |                    |                |\n",
            "| satisfaction are unacceptable, and I will be exploring legal options to recoup   |                    |                |\n",
            "| the value of the lost items.                                                     |                    |                |\n",
            "+----------------------------------------------------------------------------------+--------------------+----------------+\n",
            "| I was deeply disappointed by the behavior of the delivery executive from         | Negative           | Negative       |\n",
            "| Expressway Logistics. They exhibited a complete disregard for customer           |                    |                |\n",
            "| satisfaction, arriving late and mishandling the package upon delivery. Despite   |                    |                |\n",
            "| raising my concerns with Expressway Logistics, there was no acknowledgment or    |                    |                |\n",
            "| resolution provided.                                                             |                    |                |\n",
            "+----------------------------------------------------------------------------------+--------------------+----------------+\n",
            "| As a frequent traveler, I often use ExpressWay Logistics to ship luggage and     | Positive.          | Positive       |\n",
            "| personal belongings ahead of time. Their door-to-door service and reliable       |                    |                |\n",
            "| tracking make traveling a breeze.                                                |                    |                |\n",
            "+----------------------------------------------------------------------------------+--------------------+----------------+\n",
            "| ExpressWay Logistics caught my attention with its promise of seamless shipping   | Negative.          | Negative       |\n",
            "| solutions and a comprehensive network. However, my recent experiences have       |                    |                |\n",
            "| revealed some significant shortcomings. Their online platform is disgusting and  |                    |                |\n",
            "| their tracking system is inaccurate.I've encountered repeated issues with        |                    |                |\n",
            "| inaccurate weight calculations that have led to unexpected charges. Moreover,    |                    |                |\n",
            "| the limited options for customizing shipment preferences have made it            |                    |                |\n",
            "| challenging to meet my requirements.I cannot rely upon it for my future          |                    |                |\n",
            "| requirements.It failed to meet my requirements.                                  |                    |                |\n",
            "+----------------------------------------------------------------------------------+--------------------+----------------+\n",
            "| The packaging provided by ExpressWay Logistics is always secure and well-        | Positive.          | Positive       |\n",
            "| protected, and ensured that my items arrive in perfect condition.                |                    |                |\n",
            "+----------------------------------------------------------------------------------+--------------------+----------------+\n",
            "| My recent experience with ExpressWay Logistics left me thoroughly impressed. I   | Positive           | Positive       |\n",
            "| had a highly time-sensitive shipment that required delicate handling and precise |                    |                |\n",
            "| coordination. Despite the challenges, ExpressWay rose to the occasion,           |                    |                |\n",
            "| demonstrating an unparalleled level of professionalism and efficiency. Their     |                    |                |\n",
            "| team meticulously planned every aspect of the shipment, from packaging to        |                    |                |\n",
            "| transportation, ensuring that no detail was overlooked.                          |                    |                |\n",
            "+----------------------------------------------------------------------------------+--------------------+----------------+\n",
            "| I was initially impressed by ExpressWay Logistics' promise of reliability and    | Negative           | Negative       |\n",
            "| affordability, but my recent encounters have been less than satisfactory. Their  |                    |                |\n",
            "| website is so irritating and their drivers are too harsh, the repeated delays in |                    |                |\n",
            "| delivery have been frustrating. Additionally, the discovery of hidden fees       |                    |                |\n",
            "| within their pricing structure has left me feeling misled. In addition to these  |                    |                |\n",
            "| challenges, their customer service team has been inattentive and disrespectful,  |                    |                |\n",
            "| which has degraded the overall experience.Not at all recommend!                  |                    |                |\n",
            "+----------------------------------------------------------------------------------+--------------------+----------------+\n",
            "| Thumbs up to ExpressWay for their prompt responses and reliable shipping         | Positive           | Positive       |\n",
            "| solutions. Impressed!                                                            |                    |                |\n",
            "+----------------------------------------------------------------------------------+--------------------+----------------+\n",
            "| I had a terrible experience with ExpressWay Logistics. Not only was my pickup    | Negative.          | Negative       |\n",
            "| delayed, but the packaging was not done intactly, and the customer support team  |                    |                |\n",
            "| was unresponsive when I tried to raise the issue.                                |                    |                |\n",
            "+----------------------------------------------------------------------------------+--------------------+----------------+\n"
          ]
        },
        {
          "name": "stderr",
          "output_type": "stream",
          "text": [
            " 20%|██        | 1/5 [00:05<00:20,  5.06s/it]"
          ]
        },
        {
          "name": "stdout",
          "output_type": "stream",
          "text": [
            "+----------------------------------------------------------------------------------+--------------------+----------------+\n",
            "| Review                                                                           | Model Prediction   | Ground Truth   |\n",
            "+==================================================================================+====================+================+\n",
            "| The delivery executive assigned by ExpressWay Logistics was courteous and        | Neutral            | Positive       |\n",
            "| professional during the delivery process. They tried their best to handle the    |                    |                |\n",
            "| package with care.Unfortunately, the package arrived with slight damage despite  |                    |                |\n",
            "| the delivery executive's efforts. The packaging seemed more than adequate to     |                    |                |\n",
            "| protect the contents during transit.                                             |                    |                |\n",
            "+----------------------------------------------------------------------------------+--------------------+----------------+\n",
            "| ExpressWay Logistics failed to meet my expectations. The delivery was delayed,   | Negative           | Negative       |\n",
            "| and the customer support team was unresponsive and unhelpful when I tried to     |                    |                |\n",
            "| inquire about the status of my parcel.                                           |                    |                |\n",
            "+----------------------------------------------------------------------------------+--------------------+----------------+\n",
            "| ExpressWay Logistics' incompetence resulted in a major inconvenience when my     | Negative           | Negative       |\n",
            "| package was delivered to the wrong recipient. Despite providing accurate         |                    |                |\n",
            "| delivery information, the package ended up in the hands of someone else, and     |                    |                |\n",
            "| efforts to retrieve it were unsuccessful. When I contacted customer service for  |                    |                |\n",
            "| assistance, I was met with apathy and a lack of urgency. Their failure to        |                    |                |\n",
            "| rectify the situation in a timely manner is unacceptable, and I will be avoiding |                    |                |\n",
            "| their services at all costs.                                                     |                    |                |\n",
            "+----------------------------------------------------------------------------------+--------------------+----------------+\n",
            "| Kudos to ExpressWay Logistics for their outstanding service! They've been an     | Positive           | Positive       |\n",
            "| essential partner for my business, handling all our shipping needs with          |                    |                |\n",
            "| professionalism and efficiency. If you're looking for a reliable logistic        |                    |                |\n",
            "| service provider, look no further than ExpressWay Logistics.                     |                    |                |\n",
            "+----------------------------------------------------------------------------------+--------------------+----------------+\n",
            "| ExpressWay Logistics offers a convenient online platform for booking shipments,  | Negative           | Negative       |\n",
            "| and their competitive rates initially drew me in. However, the frequent delays   |                    |                |\n",
            "| in delivery and lack of transparency regarding additional fees have soured my    |                    |                |\n",
            "| experience. While their customer service representatives are polite, they often  |                    |                |\n",
            "| seem powerless to resolve issues effectively.This lack of care and               |                    |                |\n",
            "| responsibilites from the concerned teams have led me unsatisfied and irritated.I |                    |                |\n",
            "| cannot trust and rely on this again.Will definitely not contact them ever for my |                    |                |\n",
            "| courier deliveries!                                                              |                    |                |\n",
            "+----------------------------------------------------------------------------------+--------------------+----------------+\n",
            "| Planning a destination wedding is undoubtedly a daunting task, especially when   | Positive           | Positive       |\n",
            "| it comes to coordinating transportation for guests and wedding essentials.       |                    |                |\n",
            "| Fortunately, ExpressWay Logistics made this aspect of our wedding planning       |                    |                |\n",
            "| effortless. From the beginning, they were attentive to our needs and provided    |                    |                |\n",
            "| valuable insights to streamline the process.                                     |                    |                |\n",
            "+----------------------------------------------------------------------------------+--------------------+----------------+\n",
            "| ExpressWay Logistics consistently delivers on its promises, providing fast,      | Positive           | Positive       |\n",
            "| efficient, and reliable courier services that exceeded my expectations.          |                    |                |\n",
            "+----------------------------------------------------------------------------------+--------------------+----------------+\n",
            "| I needed to ship perishable items internationally, and ExpressWay Logistics      | Positive           | Positive       |\n",
            "| handled the process flawlessly. They ensured that the items were properly        |                    |                |\n",
            "| packaged and transported in temperature-controlled conditions.                   |                    |                |\n",
            "+----------------------------------------------------------------------------------+--------------------+----------------+\n",
            "| I appreciated the flexibility offered by ExpressWay Logistics in terms of        | Mixed/             | Negative       |\n",
            "| delivery options. Their range of delivery speeds and service levels allowed me   |                    |                |\n",
            "| to choose the option that best suited my needs and budget.However, I was         |                    |                |\n",
            "| slightly disappointed by the lack of transparency regarding few additional fees  |                    |                |\n",
            "| and surcharges. I selected a specific delivery option and paid minor charges at  |                    |                |\n",
            "| checkout, which undermined the initial affordability of the service..            |                    |                |\n",
            "+----------------------------------------------------------------------------------+--------------------+----------------+\n",
            "| While ExpressWay Logistics' pricing is competitive, their lack of accountability | Negative           | Negative       |\n",
            "| for delays and damages is disappointing. It's frustrating to pay for a service   |                    |                |\n",
            "| that fails to deliver on its promises consistently.                              |                    |                |\n",
            "+----------------------------------------------------------------------------------+--------------------+----------------+\n",
            "| ExpressWay Logistics' pricing may seem attractive at first glance, but beware of | Mixed/             | Positive       |\n",
            "| some internal hidden fees that may sometimes add up. Coupled with their reliable |                    |                |\n",
            "| delivery times, it's simply not worth the hassle.But still I appreciate that my  |                    |                |\n",
            "| parcel got delivered safely a day after the promised window.                     |                    |                |\n",
            "+----------------------------------------------------------------------------------+--------------------+----------------+\n",
            "| ExpressWay Logistics has been my go-to courier service for years, primarily due  | Neutral            | Negative       |\n",
            "| to their extensive network coverage and competitive pricing. However, my recent  |                    |                |\n",
            "| experience has left me questioning their reliability. While their user-friendly  |                    |                |\n",
            "| website and efficient booking process remain commendable, the repeated delays in |                    |                |\n",
            "| delivery and lack of proactive communication have been disappointing.Despite     |                    |                |\n",
            "| these setbacks, their customer service team has always been courteous and        |                    |                |\n",
            "| responsive, attempting to address my concerns promptly.                          |                    |                |\n",
            "+----------------------------------------------------------------------------------+--------------------+----------------+\n",
            "| ExpressWay Logistics' incompetence led to the loss of my parcel, and their lack  | Negative           | Negative       |\n",
            "| of accountability only added to the frustration. Despite filing a claim and      |                    |                |\n",
            "| providing evidence of the missing items, I received no assistance or             |                    |                |\n",
            "| compensation for the lost package. Their negligence and disregard for customer   |                    |                |\n",
            "| satisfaction are unacceptable, and I will be exploring legal options to recoup   |                    |                |\n",
            "| the value of the lost items.                                                     |                    |                |\n",
            "+----------------------------------------------------------------------------------+--------------------+----------------+\n",
            "| I was deeply disappointed by the behavior of the delivery executive from         | Negative           | Negative       |\n",
            "| Expressway Logistics. They exhibited a complete disregard for customer           |                    |                |\n",
            "| satisfaction, arriving late and mishandling the package upon delivery. Despite   |                    |                |\n",
            "| raising my concerns with Expressway Logistics, there was no acknowledgment or    |                    |                |\n",
            "| resolution provided.                                                             |                    |                |\n",
            "+----------------------------------------------------------------------------------+--------------------+----------------+\n",
            "| As a frequent traveler, I often use ExpressWay Logistics to ship luggage and     | Positive           | Positive       |\n",
            "| personal belongings ahead of time. Their door-to-door service and reliable       |                    |                |\n",
            "| tracking make traveling a breeze.                                                |                    |                |\n",
            "+----------------------------------------------------------------------------------+--------------------+----------------+\n",
            "| ExpressWay Logistics caught my attention with its promise of seamless shipping   | Negative           | Negative       |\n",
            "| solutions and a comprehensive network. However, my recent experiences have       |                    |                |\n",
            "| revealed some significant shortcomings. Their online platform is disgusting and  |                    |                |\n",
            "| their tracking system is inaccurate.I've encountered repeated issues with        |                    |                |\n",
            "| inaccurate weight calculations that have led to unexpected charges. Moreover,    |                    |                |\n",
            "| the limited options for customizing shipment preferences have made it            |                    |                |\n",
            "| challenging to meet my requirements.I cannot rely upon it for my future          |                    |                |\n",
            "| requirements.It failed to meet my requirements.                                  |                    |                |\n",
            "+----------------------------------------------------------------------------------+--------------------+----------------+\n",
            "| The packaging provided by ExpressWay Logistics is always secure and well-        | Positive           | Positive       |\n",
            "| protected, and ensured that my items arrive in perfect condition.                |                    |                |\n",
            "+----------------------------------------------------------------------------------+--------------------+----------------+\n",
            "| My recent experience with ExpressWay Logistics left me thoroughly impressed. I   | Positive           | Positive       |\n",
            "| had a highly time-sensitive shipment that required delicate handling and precise |                    |                |\n",
            "| coordination. Despite the challenges, ExpressWay rose to the occasion,           |                    |                |\n",
            "| demonstrating an unparalleled level of professionalism and efficiency. Their     |                    |                |\n",
            "| team meticulously planned every aspect of the shipment, from packaging to        |                    |                |\n",
            "| transportation, ensuring that no detail was overlooked.                          |                    |                |\n",
            "+----------------------------------------------------------------------------------+--------------------+----------------+\n",
            "| I was initially impressed by ExpressWay Logistics' promise of reliability and    | Negative           | Negative       |\n",
            "| affordability, but my recent encounters have been less than satisfactory. Their  |                    |                |\n",
            "| website is so irritating and their drivers are too harsh, the repeated delays in |                    |                |\n",
            "| delivery have been frustrating. Additionally, the discovery of hidden fees       |                    |                |\n",
            "| within their pricing structure has left me feeling misled. In addition to these  |                    |                |\n",
            "| challenges, their customer service team has been inattentive and disrespectful,  |                    |                |\n",
            "| which has degraded the overall experience.Not at all recommend!                  |                    |                |\n",
            "+----------------------------------------------------------------------------------+--------------------+----------------+\n",
            "| Thumbs up to ExpressWay for their prompt responses and reliable shipping         | Positive           | Positive       |\n",
            "| solutions. Impressed!                                                            |                    |                |\n",
            "+----------------------------------------------------------------------------------+--------------------+----------------+\n",
            "| I had a terrible experience with ExpressWay Logistics. Not only was my pickup    | Negative           | Negative       |\n",
            "| delayed, but the packaging was not done intactly, and the customer support team  |                    |                |\n",
            "| was unresponsive when I tried to raise the issue.                                |                    |                |\n",
            "+----------------------------------------------------------------------------------+--------------------+----------------+\n",
            "+----------------------------------------------------------------------------------+--------------------+----------------+\n",
            "| Review                                                                           | Model Prediction   | Ground Truth   |\n",
            "+==================================================================================+====================+================+\n",
            "| The delivery executive assigned by ExpressWay Logistics was courteous and        | Negative.          | Positive       |\n",
            "| professional during the delivery process. They tried their best to handle the    |                    |                |\n",
            "| package with care.Unfortunately, the package arrived with slight damage despite  |                    |                |\n",
            "| the delivery executive's efforts. The packaging seemed more than adequate to     |                    |                |\n",
            "| protect the contents during transit.                                             |                    |                |\n",
            "+----------------------------------------------------------------------------------+--------------------+----------------+\n",
            "| ExpressWay Logistics failed to meet my expectations. The delivery was delayed,   | Negative.          | Negative       |\n",
            "| and the customer support team was unresponsive and unhelpful when I tried to     |                    |                |\n",
            "| inquire about the status of my parcel.                                           |                    |                |\n",
            "+----------------------------------------------------------------------------------+--------------------+----------------+\n",
            "| ExpressWay Logistics' incompetence resulted in a major inconvenience when my     | Negative.          | Negative       |\n",
            "| package was delivered to the wrong recipient. Despite providing accurate         |                    |                |\n",
            "| delivery information, the package ended up in the hands of someone else, and     |                    |                |\n",
            "| efforts to retrieve it were unsuccessful. When I contacted customer service for  |                    |                |\n",
            "| assistance, I was met with apathy and a lack of urgency. Their failure to        |                    |                |\n",
            "| rectify the situation in a timely manner is unacceptable, and I will be avoiding |                    |                |\n",
            "| their services at all costs.                                                     |                    |                |\n",
            "+----------------------------------------------------------------------------------+--------------------+----------------+\n",
            "| Kudos to ExpressWay Logistics for their outstanding service! They've been an     | Positive.          | Positive       |\n",
            "| essential partner for my business, handling all our shipping needs with          |                    |                |\n",
            "| professionalism and efficiency. If you're looking for a reliable logistic        |                    |                |\n",
            "| service provider, look no further than ExpressWay Logistics.                     |                    |                |\n",
            "+----------------------------------------------------------------------------------+--------------------+----------------+\n",
            "| ExpressWay Logistics offers a convenient online platform for booking shipments,  | Negative           | Negative       |\n",
            "| and their competitive rates initially drew me in. However, the frequent delays   |                    |                |\n",
            "| in delivery and lack of transparency regarding additional fees have soured my    |                    |                |\n",
            "| experience. While their customer service representatives are polite, they often  |                    |                |\n",
            "| seem powerless to resolve issues effectively.This lack of care and               |                    |                |\n",
            "| responsibilites from the concerned teams have led me unsatisfied and irritated.I |                    |                |\n",
            "| cannot trust and rely on this again.Will definitely not contact them ever for my |                    |                |\n",
            "| courier deliveries!                                                              |                    |                |\n",
            "+----------------------------------------------------------------------------------+--------------------+----------------+\n",
            "| Planning a destination wedding is undoubtedly a daunting task, especially when   | Positive.          | Positive       |\n",
            "| it comes to coordinating transportation for guests and wedding essentials.       |                    |                |\n",
            "| Fortunately, ExpressWay Logistics made this aspect of our wedding planning       |                    |                |\n",
            "| effortless. From the beginning, they were attentive to our needs and provided    |                    |                |\n",
            "| valuable insights to streamline the process.                                     |                    |                |\n",
            "+----------------------------------------------------------------------------------+--------------------+----------------+\n",
            "| ExpressWay Logistics consistently delivers on its promises, providing fast,      | Positive.          | Positive       |\n",
            "| efficient, and reliable courier services that exceeded my expectations.          |                    |                |\n",
            "+----------------------------------------------------------------------------------+--------------------+----------------+\n",
            "| I needed to ship perishable items internationally, and ExpressWay Logistics      | Positive.          | Positive       |\n",
            "| handled the process flawlessly. They ensured that the items were properly        |                    |                |\n",
            "| packaged and transported in temperature-controlled conditions.                   |                    |                |\n",
            "+----------------------------------------------------------------------------------+--------------------+----------------+\n",
            "| I appreciated the flexibility offered by ExpressWay Logistics in terms of        | Negative           | Negative       |\n",
            "| delivery options. Their range of delivery speeds and service levels allowed me   |                    |                |\n",
            "| to choose the option that best suited my needs and budget.However, I was         |                    |                |\n",
            "| slightly disappointed by the lack of transparency regarding few additional fees  |                    |                |\n",
            "| and surcharges. I selected a specific delivery option and paid minor charges at  |                    |                |\n",
            "| checkout, which undermined the initial affordability of the service..            |                    |                |\n",
            "+----------------------------------------------------------------------------------+--------------------+----------------+\n",
            "| While ExpressWay Logistics' pricing is competitive, their lack of accountability | Negative           | Negative       |\n",
            "| for delays and damages is disappointing. It's frustrating to pay for a service   |                    |                |\n",
            "| that fails to deliver on its promises consistently.                              |                    |                |\n",
            "+----------------------------------------------------------------------------------+--------------------+----------------+\n",
            "| ExpressWay Logistics' pricing may seem attractive at first glance, but beware of | Negative           | Positive       |\n",
            "| some internal hidden fees that may sometimes add up. Coupled with their reliable |                    |                |\n",
            "| delivery times, it's simply not worth the hassle.But still I appreciate that my  |                    |                |\n",
            "| parcel got delivered safely a day after the promised window.                     |                    |                |\n",
            "+----------------------------------------------------------------------------------+--------------------+----------------+\n",
            "| ExpressWay Logistics has been my go-to courier service for years, primarily due  | Negative           | Negative       |\n",
            "| to their extensive network coverage and competitive pricing. However, my recent  |                    |                |\n",
            "| experience has left me questioning their reliability. While their user-friendly  |                    |                |\n",
            "| website and efficient booking process remain commendable, the repeated delays in |                    |                |\n",
            "| delivery and lack of proactive communication have been disappointing.Despite     |                    |                |\n",
            "| these setbacks, their customer service team has always been courteous and        |                    |                |\n",
            "| responsive, attempting to address my concerns promptly.                          |                    |                |\n",
            "+----------------------------------------------------------------------------------+--------------------+----------------+\n",
            "| ExpressWay Logistics' incompetence led to the loss of my parcel, and their lack  | Negative.          | Negative       |\n",
            "| of accountability only added to the frustration. Despite filing a claim and      |                    |                |\n",
            "| providing evidence of the missing items, I received no assistance or             |                    |                |\n",
            "| compensation for the lost package. Their negligence and disregard for customer   |                    |                |\n",
            "| satisfaction are unacceptable, and I will be exploring legal options to recoup   |                    |                |\n",
            "| the value of the lost items.                                                     |                    |                |\n",
            "+----------------------------------------------------------------------------------+--------------------+----------------+\n",
            "| I was deeply disappointed by the behavior of the delivery executive from         | Negative           | Negative       |\n",
            "| Expressway Logistics. They exhibited a complete disregard for customer           |                    |                |\n",
            "| satisfaction, arriving late and mishandling the package upon delivery. Despite   |                    |                |\n",
            "| raising my concerns with Expressway Logistics, there was no acknowledgment or    |                    |                |\n",
            "| resolution provided.                                                             |                    |                |\n",
            "+----------------------------------------------------------------------------------+--------------------+----------------+\n",
            "| As a frequent traveler, I often use ExpressWay Logistics to ship luggage and     | Positive.          | Positive       |\n",
            "| personal belongings ahead of time. Their door-to-door service and reliable       |                    |                |\n",
            "| tracking make traveling a breeze.                                                |                    |                |\n",
            "+----------------------------------------------------------------------------------+--------------------+----------------+\n",
            "| ExpressWay Logistics caught my attention with its promise of seamless shipping   | Negative.          | Negative       |\n",
            "| solutions and a comprehensive network. However, my recent experiences have       |                    |                |\n",
            "| revealed some significant shortcomings. Their online platform is disgusting and  |                    |                |\n",
            "| their tracking system is inaccurate.I've encountered repeated issues with        |                    |                |\n",
            "| inaccurate weight calculations that have led to unexpected charges. Moreover,    |                    |                |\n",
            "| the limited options for customizing shipment preferences have made it            |                    |                |\n",
            "| challenging to meet my requirements.I cannot rely upon it for my future          |                    |                |\n",
            "| requirements.It failed to meet my requirements.                                  |                    |                |\n",
            "+----------------------------------------------------------------------------------+--------------------+----------------+\n",
            "| The packaging provided by ExpressWay Logistics is always secure and well-        | Positive.          | Positive       |\n",
            "| protected, and ensured that my items arrive in perfect condition.                |                    |                |\n",
            "+----------------------------------------------------------------------------------+--------------------+----------------+\n",
            "| My recent experience with ExpressWay Logistics left me thoroughly impressed. I   | Positive           | Positive       |\n",
            "| had a highly time-sensitive shipment that required delicate handling and precise |                    |                |\n",
            "| coordination. Despite the challenges, ExpressWay rose to the occasion,           |                    |                |\n",
            "| demonstrating an unparalleled level of professionalism and efficiency. Their     |                    |                |\n",
            "| team meticulously planned every aspect of the shipment, from packaging to        |                    |                |\n",
            "| transportation, ensuring that no detail was overlooked.                          |                    |                |\n",
            "+----------------------------------------------------------------------------------+--------------------+----------------+\n",
            "| I was initially impressed by ExpressWay Logistics' promise of reliability and    | Negative           | Negative       |\n",
            "| affordability, but my recent encounters have been less than satisfactory. Their  |                    |                |\n",
            "| website is so irritating and their drivers are too harsh, the repeated delays in |                    |                |\n",
            "| delivery have been frustrating. Additionally, the discovery of hidden fees       |                    |                |\n",
            "| within their pricing structure has left me feeling misled. In addition to these  |                    |                |\n",
            "| challenges, their customer service team has been inattentive and disrespectful,  |                    |                |\n",
            "| which has degraded the overall experience.Not at all recommend!                  |                    |                |\n",
            "+----------------------------------------------------------------------------------+--------------------+----------------+\n",
            "| Thumbs up to ExpressWay for their prompt responses and reliable shipping         | Positive           | Positive       |\n",
            "| solutions. Impressed!                                                            |                    |                |\n",
            "+----------------------------------------------------------------------------------+--------------------+----------------+\n",
            "| I had a terrible experience with ExpressWay Logistics. Not only was my pickup    | Negative.          | Negative       |\n",
            "| delayed, but the packaging was not done intactly, and the customer support team  |                    |                |\n",
            "| was unresponsive when I tried to raise the issue.                                |                    |                |\n",
            "+----------------------------------------------------------------------------------+--------------------+----------------+\n"
          ]
        },
        {
          "name": "stderr",
          "output_type": "stream",
          "text": [
            " 40%|████      | 2/5 [00:10<00:15,  5.05s/it]"
          ]
        },
        {
          "name": "stdout",
          "output_type": "stream",
          "text": [
            "+----------------------------------------------------------------------------------+--------------------+----------------+\n",
            "| Review                                                                           | Model Prediction   | Ground Truth   |\n",
            "+==================================================================================+====================+================+\n",
            "| The delivery executive assigned by ExpressWay Logistics was courteous and        | Neutral            | Positive       |\n",
            "| professional during the delivery process. They tried their best to handle the    |                    |                |\n",
            "| package with care.Unfortunately, the package arrived with slight damage despite  |                    |                |\n",
            "| the delivery executive's efforts. The packaging seemed more than adequate to     |                    |                |\n",
            "| protect the contents during transit.                                             |                    |                |\n",
            "+----------------------------------------------------------------------------------+--------------------+----------------+\n",
            "| ExpressWay Logistics failed to meet my expectations. The delivery was delayed,   | Negative           | Negative       |\n",
            "| and the customer support team was unresponsive and unhelpful when I tried to     |                    |                |\n",
            "| inquire about the status of my parcel.                                           |                    |                |\n",
            "+----------------------------------------------------------------------------------+--------------------+----------------+\n",
            "| ExpressWay Logistics' incompetence resulted in a major inconvenience when my     | Negative           | Negative       |\n",
            "| package was delivered to the wrong recipient. Despite providing accurate         |                    |                |\n",
            "| delivery information, the package ended up in the hands of someone else, and     |                    |                |\n",
            "| efforts to retrieve it were unsuccessful. When I contacted customer service for  |                    |                |\n",
            "| assistance, I was met with apathy and a lack of urgency. Their failure to        |                    |                |\n",
            "| rectify the situation in a timely manner is unacceptable, and I will be avoiding |                    |                |\n",
            "| their services at all costs.                                                     |                    |                |\n",
            "+----------------------------------------------------------------------------------+--------------------+----------------+\n",
            "| Kudos to ExpressWay Logistics for their outstanding service! They've been an     | Positive           | Positive       |\n",
            "| essential partner for my business, handling all our shipping needs with          |                    |                |\n",
            "| professionalism and efficiency. If you're looking for a reliable logistic        |                    |                |\n",
            "| service provider, look no further than ExpressWay Logistics.                     |                    |                |\n",
            "+----------------------------------------------------------------------------------+--------------------+----------------+\n",
            "| ExpressWay Logistics offers a convenient online platform for booking shipments,  | Negative           | Negative       |\n",
            "| and their competitive rates initially drew me in. However, the frequent delays   |                    |                |\n",
            "| in delivery and lack of transparency regarding additional fees have soured my    |                    |                |\n",
            "| experience. While their customer service representatives are polite, they often  |                    |                |\n",
            "| seem powerless to resolve issues effectively.This lack of care and               |                    |                |\n",
            "| responsibilites from the concerned teams have led me unsatisfied and irritated.I |                    |                |\n",
            "| cannot trust and rely on this again.Will definitely not contact them ever for my |                    |                |\n",
            "| courier deliveries!                                                              |                    |                |\n",
            "+----------------------------------------------------------------------------------+--------------------+----------------+\n",
            "| Planning a destination wedding is undoubtedly a daunting task, especially when   | Positive           | Positive       |\n",
            "| it comes to coordinating transportation for guests and wedding essentials.       |                    |                |\n",
            "| Fortunately, ExpressWay Logistics made this aspect of our wedding planning       |                    |                |\n",
            "| effortless. From the beginning, they were attentive to our needs and provided    |                    |                |\n",
            "| valuable insights to streamline the process.                                     |                    |                |\n",
            "+----------------------------------------------------------------------------------+--------------------+----------------+\n",
            "| ExpressWay Logistics consistently delivers on its promises, providing fast,      | Positive           | Positive       |\n",
            "| efficient, and reliable courier services that exceeded my expectations.          |                    |                |\n",
            "+----------------------------------------------------------------------------------+--------------------+----------------+\n",
            "| I needed to ship perishable items internationally, and ExpressWay Logistics      | Positive           | Positive       |\n",
            "| handled the process flawlessly. They ensured that the items were properly        |                    |                |\n",
            "| packaged and transported in temperature-controlled conditions.                   |                    |                |\n",
            "+----------------------------------------------------------------------------------+--------------------+----------------+\n",
            "| I appreciated the flexibility offered by ExpressWay Logistics in terms of        | Mixed/             | Negative       |\n",
            "| delivery options. Their range of delivery speeds and service levels allowed me   |                    |                |\n",
            "| to choose the option that best suited my needs and budget.However, I was         |                    |                |\n",
            "| slightly disappointed by the lack of transparency regarding few additional fees  |                    |                |\n",
            "| and surcharges. I selected a specific delivery option and paid minor charges at  |                    |                |\n",
            "| checkout, which undermined the initial affordability of the service..            |                    |                |\n",
            "+----------------------------------------------------------------------------------+--------------------+----------------+\n",
            "| While ExpressWay Logistics' pricing is competitive, their lack of accountability | Negative           | Negative       |\n",
            "| for delays and damages is disappointing. It's frustrating to pay for a service   |                    |                |\n",
            "| that fails to deliver on its promises consistently.                              |                    |                |\n",
            "+----------------------------------------------------------------------------------+--------------------+----------------+\n",
            "| ExpressWay Logistics' pricing may seem attractive at first glance, but beware of | Mixed/             | Positive       |\n",
            "| some internal hidden fees that may sometimes add up. Coupled with their reliable |                    |                |\n",
            "| delivery times, it's simply not worth the hassle.But still I appreciate that my  |                    |                |\n",
            "| parcel got delivered safely a day after the promised window.                     |                    |                |\n",
            "+----------------------------------------------------------------------------------+--------------------+----------------+\n",
            "| ExpressWay Logistics has been my go-to courier service for years, primarily due  | Neutral            | Negative       |\n",
            "| to their extensive network coverage and competitive pricing. However, my recent  |                    |                |\n",
            "| experience has left me questioning their reliability. While their user-friendly  |                    |                |\n",
            "| website and efficient booking process remain commendable, the repeated delays in |                    |                |\n",
            "| delivery and lack of proactive communication have been disappointing.Despite     |                    |                |\n",
            "| these setbacks, their customer service team has always been courteous and        |                    |                |\n",
            "| responsive, attempting to address my concerns promptly.                          |                    |                |\n",
            "+----------------------------------------------------------------------------------+--------------------+----------------+\n",
            "| ExpressWay Logistics' incompetence led to the loss of my parcel, and their lack  | Negative           | Negative       |\n",
            "| of accountability only added to the frustration. Despite filing a claim and      |                    |                |\n",
            "| providing evidence of the missing items, I received no assistance or             |                    |                |\n",
            "| compensation for the lost package. Their negligence and disregard for customer   |                    |                |\n",
            "| satisfaction are unacceptable, and I will be exploring legal options to recoup   |                    |                |\n",
            "| the value of the lost items.                                                     |                    |                |\n",
            "+----------------------------------------------------------------------------------+--------------------+----------------+\n",
            "| I was deeply disappointed by the behavior of the delivery executive from         | Negative           | Negative       |\n",
            "| Expressway Logistics. They exhibited a complete disregard for customer           |                    |                |\n",
            "| satisfaction, arriving late and mishandling the package upon delivery. Despite   |                    |                |\n",
            "| raising my concerns with Expressway Logistics, there was no acknowledgment or    |                    |                |\n",
            "| resolution provided.                                                             |                    |                |\n",
            "+----------------------------------------------------------------------------------+--------------------+----------------+\n",
            "| As a frequent traveler, I often use ExpressWay Logistics to ship luggage and     | Positive           | Positive       |\n",
            "| personal belongings ahead of time. Their door-to-door service and reliable       |                    |                |\n",
            "| tracking make traveling a breeze.                                                |                    |                |\n",
            "+----------------------------------------------------------------------------------+--------------------+----------------+\n",
            "| ExpressWay Logistics caught my attention with its promise of seamless shipping   | Negative           | Negative       |\n",
            "| solutions and a comprehensive network. However, my recent experiences have       |                    |                |\n",
            "| revealed some significant shortcomings. Their online platform is disgusting and  |                    |                |\n",
            "| their tracking system is inaccurate.I've encountered repeated issues with        |                    |                |\n",
            "| inaccurate weight calculations that have led to unexpected charges. Moreover,    |                    |                |\n",
            "| the limited options for customizing shipment preferences have made it            |                    |                |\n",
            "| challenging to meet my requirements.I cannot rely upon it for my future          |                    |                |\n",
            "| requirements.It failed to meet my requirements.                                  |                    |                |\n",
            "+----------------------------------------------------------------------------------+--------------------+----------------+\n",
            "| The packaging provided by ExpressWay Logistics is always secure and well-        | Positive           | Positive       |\n",
            "| protected, and ensured that my items arrive in perfect condition.                |                    |                |\n",
            "+----------------------------------------------------------------------------------+--------------------+----------------+\n",
            "| My recent experience with ExpressWay Logistics left me thoroughly impressed. I   | Positive           | Positive       |\n",
            "| had a highly time-sensitive shipment that required delicate handling and precise |                    |                |\n",
            "| coordination. Despite the challenges, ExpressWay rose to the occasion,           |                    |                |\n",
            "| demonstrating an unparalleled level of professionalism and efficiency. Their     |                    |                |\n",
            "| team meticulously planned every aspect of the shipment, from packaging to        |                    |                |\n",
            "| transportation, ensuring that no detail was overlooked.                          |                    |                |\n",
            "+----------------------------------------------------------------------------------+--------------------+----------------+\n",
            "| I was initially impressed by ExpressWay Logistics' promise of reliability and    | Negative           | Negative       |\n",
            "| affordability, but my recent encounters have been less than satisfactory. Their  |                    |                |\n",
            "| website is so irritating and their drivers are too harsh, the repeated delays in |                    |                |\n",
            "| delivery have been frustrating. Additionally, the discovery of hidden fees       |                    |                |\n",
            "| within their pricing structure has left me feeling misled. In addition to these  |                    |                |\n",
            "| challenges, their customer service team has been inattentive and disrespectful,  |                    |                |\n",
            "| which has degraded the overall experience.Not at all recommend!                  |                    |                |\n",
            "+----------------------------------------------------------------------------------+--------------------+----------------+\n",
            "| Thumbs up to ExpressWay for their prompt responses and reliable shipping         | Positive           | Positive       |\n",
            "| solutions. Impressed!                                                            |                    |                |\n",
            "+----------------------------------------------------------------------------------+--------------------+----------------+\n",
            "| I had a terrible experience with ExpressWay Logistics. Not only was my pickup    | Negative           | Negative       |\n",
            "| delayed, but the packaging was not done intactly, and the customer support team  |                    |                |\n",
            "| was unresponsive when I tried to raise the issue.                                |                    |                |\n",
            "+----------------------------------------------------------------------------------+--------------------+----------------+\n",
            "+----------------------------------------------------------------------------------+--------------------+----------------+\n",
            "| Review                                                                           | Model Prediction   | Ground Truth   |\n",
            "+==================================================================================+====================+================+\n",
            "| The delivery executive assigned by ExpressWay Logistics was courteous and        | Negative.          | Positive       |\n",
            "| professional during the delivery process. They tried their best to handle the    |                    |                |\n",
            "| package with care.Unfortunately, the package arrived with slight damage despite  |                    |                |\n",
            "| the delivery executive's efforts. The packaging seemed more than adequate to     |                    |                |\n",
            "| protect the contents during transit.                                             |                    |                |\n",
            "+----------------------------------------------------------------------------------+--------------------+----------------+\n",
            "| ExpressWay Logistics failed to meet my expectations. The delivery was delayed,   | Negative.          | Negative       |\n",
            "| and the customer support team was unresponsive and unhelpful when I tried to     |                    |                |\n",
            "| inquire about the status of my parcel.                                           |                    |                |\n",
            "+----------------------------------------------------------------------------------+--------------------+----------------+\n",
            "| ExpressWay Logistics' incompetence resulted in a major inconvenience when my     | Negative.          | Negative       |\n",
            "| package was delivered to the wrong recipient. Despite providing accurate         |                    |                |\n",
            "| delivery information, the package ended up in the hands of someone else, and     |                    |                |\n",
            "| efforts to retrieve it were unsuccessful. When I contacted customer service for  |                    |                |\n",
            "| assistance, I was met with apathy and a lack of urgency. Their failure to        |                    |                |\n",
            "| rectify the situation in a timely manner is unacceptable, and I will be avoiding |                    |                |\n",
            "| their services at all costs.                                                     |                    |                |\n",
            "+----------------------------------------------------------------------------------+--------------------+----------------+\n",
            "| Kudos to ExpressWay Logistics for their outstanding service! They've been an     | Positive.          | Positive       |\n",
            "| essential partner for my business, handling all our shipping needs with          |                    |                |\n",
            "| professionalism and efficiency. If you're looking for a reliable logistic        |                    |                |\n",
            "| service provider, look no further than ExpressWay Logistics.                     |                    |                |\n",
            "+----------------------------------------------------------------------------------+--------------------+----------------+\n",
            "| ExpressWay Logistics offers a convenient online platform for booking shipments,  | Negative           | Negative       |\n",
            "| and their competitive rates initially drew me in. However, the frequent delays   |                    |                |\n",
            "| in delivery and lack of transparency regarding additional fees have soured my    |                    |                |\n",
            "| experience. While their customer service representatives are polite, they often  |                    |                |\n",
            "| seem powerless to resolve issues effectively.This lack of care and               |                    |                |\n",
            "| responsibilites from the concerned teams have led me unsatisfied and irritated.I |                    |                |\n",
            "| cannot trust and rely on this again.Will definitely not contact them ever for my |                    |                |\n",
            "| courier deliveries!                                                              |                    |                |\n",
            "+----------------------------------------------------------------------------------+--------------------+----------------+\n",
            "| Planning a destination wedding is undoubtedly a daunting task, especially when   | Positive.          | Positive       |\n",
            "| it comes to coordinating transportation for guests and wedding essentials.       |                    |                |\n",
            "| Fortunately, ExpressWay Logistics made this aspect of our wedding planning       |                    |                |\n",
            "| effortless. From the beginning, they were attentive to our needs and provided    |                    |                |\n",
            "| valuable insights to streamline the process.                                     |                    |                |\n",
            "+----------------------------------------------------------------------------------+--------------------+----------------+\n",
            "| ExpressWay Logistics consistently delivers on its promises, providing fast,      | Positive.          | Positive       |\n",
            "| efficient, and reliable courier services that exceeded my expectations.          |                    |                |\n",
            "+----------------------------------------------------------------------------------+--------------------+----------------+\n",
            "| I needed to ship perishable items internationally, and ExpressWay Logistics      | Positive.          | Positive       |\n",
            "| handled the process flawlessly. They ensured that the items were properly        |                    |                |\n",
            "| packaged and transported in temperature-controlled conditions.                   |                    |                |\n",
            "+----------------------------------------------------------------------------------+--------------------+----------------+\n",
            "| I appreciated the flexibility offered by ExpressWay Logistics in terms of        | Negative           | Negative       |\n",
            "| delivery options. Their range of delivery speeds and service levels allowed me   |                    |                |\n",
            "| to choose the option that best suited my needs and budget.However, I was         |                    |                |\n",
            "| slightly disappointed by the lack of transparency regarding few additional fees  |                    |                |\n",
            "| and surcharges. I selected a specific delivery option and paid minor charges at  |                    |                |\n",
            "| checkout, which undermined the initial affordability of the service..            |                    |                |\n",
            "+----------------------------------------------------------------------------------+--------------------+----------------+\n",
            "| While ExpressWay Logistics' pricing is competitive, their lack of accountability | Negative           | Negative       |\n",
            "| for delays and damages is disappointing. It's frustrating to pay for a service   |                    |                |\n",
            "| that fails to deliver on its promises consistently.                              |                    |                |\n",
            "+----------------------------------------------------------------------------------+--------------------+----------------+\n",
            "| ExpressWay Logistics' pricing may seem attractive at first glance, but beware of | Negative           | Positive       |\n",
            "| some internal hidden fees that may sometimes add up. Coupled with their reliable |                    |                |\n",
            "| delivery times, it's simply not worth the hassle.But still I appreciate that my  |                    |                |\n",
            "| parcel got delivered safely a day after the promised window.                     |                    |                |\n",
            "+----------------------------------------------------------------------------------+--------------------+----------------+\n",
            "| ExpressWay Logistics has been my go-to courier service for years, primarily due  | Negative           | Negative       |\n",
            "| to their extensive network coverage and competitive pricing. However, my recent  |                    |                |\n",
            "| experience has left me questioning their reliability. While their user-friendly  |                    |                |\n",
            "| website and efficient booking process remain commendable, the repeated delays in |                    |                |\n",
            "| delivery and lack of proactive communication have been disappointing.Despite     |                    |                |\n",
            "| these setbacks, their customer service team has always been courteous and        |                    |                |\n",
            "| responsive, attempting to address my concerns promptly.                          |                    |                |\n",
            "+----------------------------------------------------------------------------------+--------------------+----------------+\n",
            "| ExpressWay Logistics' incompetence led to the loss of my parcel, and their lack  | Negative.          | Negative       |\n",
            "| of accountability only added to the frustration. Despite filing a claim and      |                    |                |\n",
            "| providing evidence of the missing items, I received no assistance or             |                    |                |\n",
            "| compensation for the lost package. Their negligence and disregard for customer   |                    |                |\n",
            "| satisfaction are unacceptable, and I will be exploring legal options to recoup   |                    |                |\n",
            "| the value of the lost items.                                                     |                    |                |\n",
            "+----------------------------------------------------------------------------------+--------------------+----------------+\n",
            "| I was deeply disappointed by the behavior of the delivery executive from         | Negative           | Negative       |\n",
            "| Expressway Logistics. They exhibited a complete disregard for customer           |                    |                |\n",
            "| satisfaction, arriving late and mishandling the package upon delivery. Despite   |                    |                |\n",
            "| raising my concerns with Expressway Logistics, there was no acknowledgment or    |                    |                |\n",
            "| resolution provided.                                                             |                    |                |\n",
            "+----------------------------------------------------------------------------------+--------------------+----------------+\n",
            "| As a frequent traveler, I often use ExpressWay Logistics to ship luggage and     | Positive.          | Positive       |\n",
            "| personal belongings ahead of time. Their door-to-door service and reliable       |                    |                |\n",
            "| tracking make traveling a breeze.                                                |                    |                |\n",
            "+----------------------------------------------------------------------------------+--------------------+----------------+\n",
            "| ExpressWay Logistics caught my attention with its promise of seamless shipping   | Negative.          | Negative       |\n",
            "| solutions and a comprehensive network. However, my recent experiences have       |                    |                |\n",
            "| revealed some significant shortcomings. Their online platform is disgusting and  |                    |                |\n",
            "| their tracking system is inaccurate.I've encountered repeated issues with        |                    |                |\n",
            "| inaccurate weight calculations that have led to unexpected charges. Moreover,    |                    |                |\n",
            "| the limited options for customizing shipment preferences have made it            |                    |                |\n",
            "| challenging to meet my requirements.I cannot rely upon it for my future          |                    |                |\n",
            "| requirements.It failed to meet my requirements.                                  |                    |                |\n",
            "+----------------------------------------------------------------------------------+--------------------+----------------+\n",
            "| The packaging provided by ExpressWay Logistics is always secure and well-        | Positive.          | Positive       |\n",
            "| protected, and ensured that my items arrive in perfect condition.                |                    |                |\n",
            "+----------------------------------------------------------------------------------+--------------------+----------------+\n",
            "| My recent experience with ExpressWay Logistics left me thoroughly impressed. I   | Positive           | Positive       |\n",
            "| had a highly time-sensitive shipment that required delicate handling and precise |                    |                |\n",
            "| coordination. Despite the challenges, ExpressWay rose to the occasion,           |                    |                |\n",
            "| demonstrating an unparalleled level of professionalism and efficiency. Their     |                    |                |\n",
            "| team meticulously planned every aspect of the shipment, from packaging to        |                    |                |\n",
            "| transportation, ensuring that no detail was overlooked.                          |                    |                |\n",
            "+----------------------------------------------------------------------------------+--------------------+----------------+\n",
            "| I was initially impressed by ExpressWay Logistics' promise of reliability and    | Negative           | Negative       |\n",
            "| affordability, but my recent encounters have been less than satisfactory. Their  |                    |                |\n",
            "| website is so irritating and their drivers are too harsh, the repeated delays in |                    |                |\n",
            "| delivery have been frustrating. Additionally, the discovery of hidden fees       |                    |                |\n",
            "| within their pricing structure has left me feeling misled. In addition to these  |                    |                |\n",
            "| challenges, their customer service team has been inattentive and disrespectful,  |                    |                |\n",
            "| which has degraded the overall experience.Not at all recommend!                  |                    |                |\n",
            "+----------------------------------------------------------------------------------+--------------------+----------------+\n",
            "| Thumbs up to ExpressWay for their prompt responses and reliable shipping         | Positive           | Positive       |\n",
            "| solutions. Impressed!                                                            |                    |                |\n",
            "+----------------------------------------------------------------------------------+--------------------+----------------+\n",
            "| I had a terrible experience with ExpressWay Logistics. Not only was my pickup    | Negative.          | Negative       |\n",
            "| delayed, but the packaging was not done intactly, and the customer support team  |                    |                |\n",
            "| was unresponsive when I tried to raise the issue.                                |                    |                |\n",
            "+----------------------------------------------------------------------------------+--------------------+----------------+\n"
          ]
        },
        {
          "name": "stderr",
          "output_type": "stream",
          "text": [
            " 60%|██████    | 3/5 [00:15<00:10,  5.04s/it]"
          ]
        },
        {
          "name": "stdout",
          "output_type": "stream",
          "text": [
            "+----------------------------------------------------------------------------------+--------------------+----------------+\n",
            "| Review                                                                           | Model Prediction   | Ground Truth   |\n",
            "+==================================================================================+====================+================+\n",
            "| The delivery executive assigned by ExpressWay Logistics was courteous and        | Neutral            | Positive       |\n",
            "| professional during the delivery process. They tried their best to handle the    |                    |                |\n",
            "| package with care.Unfortunately, the package arrived with slight damage despite  |                    |                |\n",
            "| the delivery executive's efforts. The packaging seemed more than adequate to     |                    |                |\n",
            "| protect the contents during transit.                                             |                    |                |\n",
            "+----------------------------------------------------------------------------------+--------------------+----------------+\n",
            "| ExpressWay Logistics failed to meet my expectations. The delivery was delayed,   | Negative           | Negative       |\n",
            "| and the customer support team was unresponsive and unhelpful when I tried to     |                    |                |\n",
            "| inquire about the status of my parcel.                                           |                    |                |\n",
            "+----------------------------------------------------------------------------------+--------------------+----------------+\n",
            "| ExpressWay Logistics' incompetence resulted in a major inconvenience when my     | Negative           | Negative       |\n",
            "| package was delivered to the wrong recipient. Despite providing accurate         |                    |                |\n",
            "| delivery information, the package ended up in the hands of someone else, and     |                    |                |\n",
            "| efforts to retrieve it were unsuccessful. When I contacted customer service for  |                    |                |\n",
            "| assistance, I was met with apathy and a lack of urgency. Their failure to        |                    |                |\n",
            "| rectify the situation in a timely manner is unacceptable, and I will be avoiding |                    |                |\n",
            "| their services at all costs.                                                     |                    |                |\n",
            "+----------------------------------------------------------------------------------+--------------------+----------------+\n",
            "| Kudos to ExpressWay Logistics for their outstanding service! They've been an     | Positive           | Positive       |\n",
            "| essential partner for my business, handling all our shipping needs with          |                    |                |\n",
            "| professionalism and efficiency. If you're looking for a reliable logistic        |                    |                |\n",
            "| service provider, look no further than ExpressWay Logistics.                     |                    |                |\n",
            "+----------------------------------------------------------------------------------+--------------------+----------------+\n",
            "| ExpressWay Logistics offers a convenient online platform for booking shipments,  | Negative           | Negative       |\n",
            "| and their competitive rates initially drew me in. However, the frequent delays   |                    |                |\n",
            "| in delivery and lack of transparency regarding additional fees have soured my    |                    |                |\n",
            "| experience. While their customer service representatives are polite, they often  |                    |                |\n",
            "| seem powerless to resolve issues effectively.This lack of care and               |                    |                |\n",
            "| responsibilites from the concerned teams have led me unsatisfied and irritated.I |                    |                |\n",
            "| cannot trust and rely on this again.Will definitely not contact them ever for my |                    |                |\n",
            "| courier deliveries!                                                              |                    |                |\n",
            "+----------------------------------------------------------------------------------+--------------------+----------------+\n",
            "| Planning a destination wedding is undoubtedly a daunting task, especially when   | Positive           | Positive       |\n",
            "| it comes to coordinating transportation for guests and wedding essentials.       |                    |                |\n",
            "| Fortunately, ExpressWay Logistics made this aspect of our wedding planning       |                    |                |\n",
            "| effortless. From the beginning, they were attentive to our needs and provided    |                    |                |\n",
            "| valuable insights to streamline the process.                                     |                    |                |\n",
            "+----------------------------------------------------------------------------------+--------------------+----------------+\n",
            "| ExpressWay Logistics consistently delivers on its promises, providing fast,      | Positive           | Positive       |\n",
            "| efficient, and reliable courier services that exceeded my expectations.          |                    |                |\n",
            "+----------------------------------------------------------------------------------+--------------------+----------------+\n",
            "| I needed to ship perishable items internationally, and ExpressWay Logistics      | Positive           | Positive       |\n",
            "| handled the process flawlessly. They ensured that the items were properly        |                    |                |\n",
            "| packaged and transported in temperature-controlled conditions.                   |                    |                |\n",
            "+----------------------------------------------------------------------------------+--------------------+----------------+\n",
            "| I appreciated the flexibility offered by ExpressWay Logistics in terms of        | Neutral            | Negative       |\n",
            "| delivery options. Their range of delivery speeds and service levels allowed me   |                    |                |\n",
            "| to choose the option that best suited my needs and budget.However, I was         |                    |                |\n",
            "| slightly disappointed by the lack of transparency regarding few additional fees  |                    |                |\n",
            "| and surcharges. I selected a specific delivery option and paid minor charges at  |                    |                |\n",
            "| checkout, which undermined the initial affordability of the service..            |                    |                |\n",
            "+----------------------------------------------------------------------------------+--------------------+----------------+\n",
            "| While ExpressWay Logistics' pricing is competitive, their lack of accountability | Negative           | Negative       |\n",
            "| for delays and damages is disappointing. It's frustrating to pay for a service   |                    |                |\n",
            "| that fails to deliver on its promises consistently.                              |                    |                |\n",
            "+----------------------------------------------------------------------------------+--------------------+----------------+\n",
            "| ExpressWay Logistics' pricing may seem attractive at first glance, but beware of | Mixed/             | Positive       |\n",
            "| some internal hidden fees that may sometimes add up. Coupled with their reliable |                    |                |\n",
            "| delivery times, it's simply not worth the hassle.But still I appreciate that my  |                    |                |\n",
            "| parcel got delivered safely a day after the promised window.                     |                    |                |\n",
            "+----------------------------------------------------------------------------------+--------------------+----------------+\n",
            "| ExpressWay Logistics has been my go-to courier service for years, primarily due  | Neutral            | Negative       |\n",
            "| to their extensive network coverage and competitive pricing. However, my recent  |                    |                |\n",
            "| experience has left me questioning their reliability. While their user-friendly  |                    |                |\n",
            "| website and efficient booking process remain commendable, the repeated delays in |                    |                |\n",
            "| delivery and lack of proactive communication have been disappointing.Despite     |                    |                |\n",
            "| these setbacks, their customer service team has always been courteous and        |                    |                |\n",
            "| responsive, attempting to address my concerns promptly.                          |                    |                |\n",
            "+----------------------------------------------------------------------------------+--------------------+----------------+\n",
            "| ExpressWay Logistics' incompetence led to the loss of my parcel, and their lack  | Negative           | Negative       |\n",
            "| of accountability only added to the frustration. Despite filing a claim and      |                    |                |\n",
            "| providing evidence of the missing items, I received no assistance or             |                    |                |\n",
            "| compensation for the lost package. Their negligence and disregard for customer   |                    |                |\n",
            "| satisfaction are unacceptable, and I will be exploring legal options to recoup   |                    |                |\n",
            "| the value of the lost items.                                                     |                    |                |\n",
            "+----------------------------------------------------------------------------------+--------------------+----------------+\n",
            "| I was deeply disappointed by the behavior of the delivery executive from         | Negative           | Negative       |\n",
            "| Expressway Logistics. They exhibited a complete disregard for customer           |                    |                |\n",
            "| satisfaction, arriving late and mishandling the package upon delivery. Despite   |                    |                |\n",
            "| raising my concerns with Expressway Logistics, there was no acknowledgment or    |                    |                |\n",
            "| resolution provided.                                                             |                    |                |\n",
            "+----------------------------------------------------------------------------------+--------------------+----------------+\n",
            "| As a frequent traveler, I often use ExpressWay Logistics to ship luggage and     | Positive           | Positive       |\n",
            "| personal belongings ahead of time. Their door-to-door service and reliable       |                    |                |\n",
            "| tracking make traveling a breeze.                                                |                    |                |\n",
            "+----------------------------------------------------------------------------------+--------------------+----------------+\n",
            "| ExpressWay Logistics caught my attention with its promise of seamless shipping   | Negative           | Negative       |\n",
            "| solutions and a comprehensive network. However, my recent experiences have       |                    |                |\n",
            "| revealed some significant shortcomings. Their online platform is disgusting and  |                    |                |\n",
            "| their tracking system is inaccurate.I've encountered repeated issues with        |                    |                |\n",
            "| inaccurate weight calculations that have led to unexpected charges. Moreover,    |                    |                |\n",
            "| the limited options for customizing shipment preferences have made it            |                    |                |\n",
            "| challenging to meet my requirements.I cannot rely upon it for my future          |                    |                |\n",
            "| requirements.It failed to meet my requirements.                                  |                    |                |\n",
            "+----------------------------------------------------------------------------------+--------------------+----------------+\n",
            "| The packaging provided by ExpressWay Logistics is always secure and well-        | Positive           | Positive       |\n",
            "| protected, and ensured that my items arrive in perfect condition.                |                    |                |\n",
            "+----------------------------------------------------------------------------------+--------------------+----------------+\n",
            "| My recent experience with ExpressWay Logistics left me thoroughly impressed. I   | Positive           | Positive       |\n",
            "| had a highly time-sensitive shipment that required delicate handling and precise |                    |                |\n",
            "| coordination. Despite the challenges, ExpressWay rose to the occasion,           |                    |                |\n",
            "| demonstrating an unparalleled level of professionalism and efficiency. Their     |                    |                |\n",
            "| team meticulously planned every aspect of the shipment, from packaging to        |                    |                |\n",
            "| transportation, ensuring that no detail was overlooked.                          |                    |                |\n",
            "+----------------------------------------------------------------------------------+--------------------+----------------+\n",
            "| I was initially impressed by ExpressWay Logistics' promise of reliability and    | Negative           | Negative       |\n",
            "| affordability, but my recent encounters have been less than satisfactory. Their  |                    |                |\n",
            "| website is so irritating and their drivers are too harsh, the repeated delays in |                    |                |\n",
            "| delivery have been frustrating. Additionally, the discovery of hidden fees       |                    |                |\n",
            "| within their pricing structure has left me feeling misled. In addition to these  |                    |                |\n",
            "| challenges, their customer service team has been inattentive and disrespectful,  |                    |                |\n",
            "| which has degraded the overall experience.Not at all recommend!                  |                    |                |\n",
            "+----------------------------------------------------------------------------------+--------------------+----------------+\n",
            "| Thumbs up to ExpressWay for their prompt responses and reliable shipping         | Positive           | Positive       |\n",
            "| solutions. Impressed!                                                            |                    |                |\n",
            "+----------------------------------------------------------------------------------+--------------------+----------------+\n",
            "| I had a terrible experience with ExpressWay Logistics. Not only was my pickup    | Negative           | Negative       |\n",
            "| delayed, but the packaging was not done intactly, and the customer support team  |                    |                |\n",
            "| was unresponsive when I tried to raise the issue.                                |                    |                |\n",
            "+----------------------------------------------------------------------------------+--------------------+----------------+\n",
            "+----------------------------------------------------------------------------------+--------------------+----------------+\n",
            "| Review                                                                           | Model Prediction   | Ground Truth   |\n",
            "+==================================================================================+====================+================+\n",
            "| The delivery executive assigned by ExpressWay Logistics was courteous and        | Negative.          | Positive       |\n",
            "| professional during the delivery process. They tried their best to handle the    |                    |                |\n",
            "| package with care.Unfortunately, the package arrived with slight damage despite  |                    |                |\n",
            "| the delivery executive's efforts. The packaging seemed more than adequate to     |                    |                |\n",
            "| protect the contents during transit.                                             |                    |                |\n",
            "+----------------------------------------------------------------------------------+--------------------+----------------+\n",
            "| ExpressWay Logistics failed to meet my expectations. The delivery was delayed,   | Negative.          | Negative       |\n",
            "| and the customer support team was unresponsive and unhelpful when I tried to     |                    |                |\n",
            "| inquire about the status of my parcel.                                           |                    |                |\n",
            "+----------------------------------------------------------------------------------+--------------------+----------------+\n",
            "| ExpressWay Logistics' incompetence resulted in a major inconvenience when my     | Negative.          | Negative       |\n",
            "| package was delivered to the wrong recipient. Despite providing accurate         |                    |                |\n",
            "| delivery information, the package ended up in the hands of someone else, and     |                    |                |\n",
            "| efforts to retrieve it were unsuccessful. When I contacted customer service for  |                    |                |\n",
            "| assistance, I was met with apathy and a lack of urgency. Their failure to        |                    |                |\n",
            "| rectify the situation in a timely manner is unacceptable, and I will be avoiding |                    |                |\n",
            "| their services at all costs.                                                     |                    |                |\n",
            "+----------------------------------------------------------------------------------+--------------------+----------------+\n",
            "| Kudos to ExpressWay Logistics for their outstanding service! They've been an     | Positive.          | Positive       |\n",
            "| essential partner for my business, handling all our shipping needs with          |                    |                |\n",
            "| professionalism and efficiency. If you're looking for a reliable logistic        |                    |                |\n",
            "| service provider, look no further than ExpressWay Logistics.                     |                    |                |\n",
            "+----------------------------------------------------------------------------------+--------------------+----------------+\n",
            "| ExpressWay Logistics offers a convenient online platform for booking shipments,  | Negative           | Negative       |\n",
            "| and their competitive rates initially drew me in. However, the frequent delays   |                    |                |\n",
            "| in delivery and lack of transparency regarding additional fees have soured my    |                    |                |\n",
            "| experience. While their customer service representatives are polite, they often  |                    |                |\n",
            "| seem powerless to resolve issues effectively.This lack of care and               |                    |                |\n",
            "| responsibilites from the concerned teams have led me unsatisfied and irritated.I |                    |                |\n",
            "| cannot trust and rely on this again.Will definitely not contact them ever for my |                    |                |\n",
            "| courier deliveries!                                                              |                    |                |\n",
            "+----------------------------------------------------------------------------------+--------------------+----------------+\n",
            "| Planning a destination wedding is undoubtedly a daunting task, especially when   | Positive.          | Positive       |\n",
            "| it comes to coordinating transportation for guests and wedding essentials.       |                    |                |\n",
            "| Fortunately, ExpressWay Logistics made this aspect of our wedding planning       |                    |                |\n",
            "| effortless. From the beginning, they were attentive to our needs and provided    |                    |                |\n",
            "| valuable insights to streamline the process.                                     |                    |                |\n",
            "+----------------------------------------------------------------------------------+--------------------+----------------+\n",
            "| ExpressWay Logistics consistently delivers on its promises, providing fast,      | Positive.          | Positive       |\n",
            "| efficient, and reliable courier services that exceeded my expectations.          |                    |                |\n",
            "+----------------------------------------------------------------------------------+--------------------+----------------+\n",
            "| I needed to ship perishable items internationally, and ExpressWay Logistics      | Positive.          | Positive       |\n",
            "| handled the process flawlessly. They ensured that the items were properly        |                    |                |\n",
            "| packaged and transported in temperature-controlled conditions.                   |                    |                |\n",
            "+----------------------------------------------------------------------------------+--------------------+----------------+\n",
            "| I appreciated the flexibility offered by ExpressWay Logistics in terms of        | Negative           | Negative       |\n",
            "| delivery options. Their range of delivery speeds and service levels allowed me   |                    |                |\n",
            "| to choose the option that best suited my needs and budget.However, I was         |                    |                |\n",
            "| slightly disappointed by the lack of transparency regarding few additional fees  |                    |                |\n",
            "| and surcharges. I selected a specific delivery option and paid minor charges at  |                    |                |\n",
            "| checkout, which undermined the initial affordability of the service..            |                    |                |\n",
            "+----------------------------------------------------------------------------------+--------------------+----------------+\n",
            "| While ExpressWay Logistics' pricing is competitive, their lack of accountability | Negative           | Negative       |\n",
            "| for delays and damages is disappointing. It's frustrating to pay for a service   |                    |                |\n",
            "| that fails to deliver on its promises consistently.                              |                    |                |\n",
            "+----------------------------------------------------------------------------------+--------------------+----------------+\n",
            "| ExpressWay Logistics' pricing may seem attractive at first glance, but beware of | Negative           | Positive       |\n",
            "| some internal hidden fees that may sometimes add up. Coupled with their reliable |                    |                |\n",
            "| delivery times, it's simply not worth the hassle.But still I appreciate that my  |                    |                |\n",
            "| parcel got delivered safely a day after the promised window.                     |                    |                |\n",
            "+----------------------------------------------------------------------------------+--------------------+----------------+\n",
            "| ExpressWay Logistics has been my go-to courier service for years, primarily due  | Negative           | Negative       |\n",
            "| to their extensive network coverage and competitive pricing. However, my recent  |                    |                |\n",
            "| experience has left me questioning their reliability. While their user-friendly  |                    |                |\n",
            "| website and efficient booking process remain commendable, the repeated delays in |                    |                |\n",
            "| delivery and lack of proactive communication have been disappointing.Despite     |                    |                |\n",
            "| these setbacks, their customer service team has always been courteous and        |                    |                |\n",
            "| responsive, attempting to address my concerns promptly.                          |                    |                |\n",
            "+----------------------------------------------------------------------------------+--------------------+----------------+\n",
            "| ExpressWay Logistics' incompetence led to the loss of my parcel, and their lack  | Negative.          | Negative       |\n",
            "| of accountability only added to the frustration. Despite filing a claim and      |                    |                |\n",
            "| providing evidence of the missing items, I received no assistance or             |                    |                |\n",
            "| compensation for the lost package. Their negligence and disregard for customer   |                    |                |\n",
            "| satisfaction are unacceptable, and I will be exploring legal options to recoup   |                    |                |\n",
            "| the value of the lost items.                                                     |                    |                |\n",
            "+----------------------------------------------------------------------------------+--------------------+----------------+\n",
            "| I was deeply disappointed by the behavior of the delivery executive from         | Negative           | Negative       |\n",
            "| Expressway Logistics. They exhibited a complete disregard for customer           |                    |                |\n",
            "| satisfaction, arriving late and mishandling the package upon delivery. Despite   |                    |                |\n",
            "| raising my concerns with Expressway Logistics, there was no acknowledgment or    |                    |                |\n",
            "| resolution provided.                                                             |                    |                |\n",
            "+----------------------------------------------------------------------------------+--------------------+----------------+\n",
            "| As a frequent traveler, I often use ExpressWay Logistics to ship luggage and     | Positive.          | Positive       |\n",
            "| personal belongings ahead of time. Their door-to-door service and reliable       |                    |                |\n",
            "| tracking make traveling a breeze.                                                |                    |                |\n",
            "+----------------------------------------------------------------------------------+--------------------+----------------+\n",
            "| ExpressWay Logistics caught my attention with its promise of seamless shipping   | Negative.          | Negative       |\n",
            "| solutions and a comprehensive network. However, my recent experiences have       |                    |                |\n",
            "| revealed some significant shortcomings. Their online platform is disgusting and  |                    |                |\n",
            "| their tracking system is inaccurate.I've encountered repeated issues with        |                    |                |\n",
            "| inaccurate weight calculations that have led to unexpected charges. Moreover,    |                    |                |\n",
            "| the limited options for customizing shipment preferences have made it            |                    |                |\n",
            "| challenging to meet my requirements.I cannot rely upon it for my future          |                    |                |\n",
            "| requirements.It failed to meet my requirements.                                  |                    |                |\n",
            "+----------------------------------------------------------------------------------+--------------------+----------------+\n",
            "| The packaging provided by ExpressWay Logistics is always secure and well-        | Positive.          | Positive       |\n",
            "| protected, and ensured that my items arrive in perfect condition.                |                    |                |\n",
            "+----------------------------------------------------------------------------------+--------------------+----------------+\n",
            "| My recent experience with ExpressWay Logistics left me thoroughly impressed. I   | Positive           | Positive       |\n",
            "| had a highly time-sensitive shipment that required delicate handling and precise |                    |                |\n",
            "| coordination. Despite the challenges, ExpressWay rose to the occasion,           |                    |                |\n",
            "| demonstrating an unparalleled level of professionalism and efficiency. Their     |                    |                |\n",
            "| team meticulously planned every aspect of the shipment, from packaging to        |                    |                |\n",
            "| transportation, ensuring that no detail was overlooked.                          |                    |                |\n",
            "+----------------------------------------------------------------------------------+--------------------+----------------+\n",
            "| I was initially impressed by ExpressWay Logistics' promise of reliability and    | Negative           | Negative       |\n",
            "| affordability, but my recent encounters have been less than satisfactory. Their  |                    |                |\n",
            "| website is so irritating and their drivers are too harsh, the repeated delays in |                    |                |\n",
            "| delivery have been frustrating. Additionally, the discovery of hidden fees       |                    |                |\n",
            "| within their pricing structure has left me feeling misled. In addition to these  |                    |                |\n",
            "| challenges, their customer service team has been inattentive and disrespectful,  |                    |                |\n",
            "| which has degraded the overall experience.Not at all recommend!                  |                    |                |\n",
            "+----------------------------------------------------------------------------------+--------------------+----------------+\n",
            "| Thumbs up to ExpressWay for their prompt responses and reliable shipping         | Positive           | Positive       |\n",
            "| solutions. Impressed!                                                            |                    |                |\n",
            "+----------------------------------------------------------------------------------+--------------------+----------------+\n",
            "| I had a terrible experience with ExpressWay Logistics. Not only was my pickup    | Negative.          | Negative       |\n",
            "| delayed, but the packaging was not done intactly, and the customer support team  |                    |                |\n",
            "| was unresponsive when I tried to raise the issue.                                |                    |                |\n",
            "+----------------------------------------------------------------------------------+--------------------+----------------+\n"
          ]
        },
        {
          "name": "stderr",
          "output_type": "stream",
          "text": [
            " 80%|████████  | 4/5 [00:20<00:05,  5.02s/it]"
          ]
        },
        {
          "name": "stdout",
          "output_type": "stream",
          "text": [
            "+----------------------------------------------------------------------------------+--------------------+----------------+\n",
            "| Review                                                                           | Model Prediction   | Ground Truth   |\n",
            "+==================================================================================+====================+================+\n",
            "| The delivery executive assigned by ExpressWay Logistics was courteous and        | Neutral            | Positive       |\n",
            "| professional during the delivery process. They tried their best to handle the    |                    |                |\n",
            "| package with care.Unfortunately, the package arrived with slight damage despite  |                    |                |\n",
            "| the delivery executive's efforts. The packaging seemed more than adequate to     |                    |                |\n",
            "| protect the contents during transit.                                             |                    |                |\n",
            "+----------------------------------------------------------------------------------+--------------------+----------------+\n",
            "| ExpressWay Logistics failed to meet my expectations. The delivery was delayed,   | Negative           | Negative       |\n",
            "| and the customer support team was unresponsive and unhelpful when I tried to     |                    |                |\n",
            "| inquire about the status of my parcel.                                           |                    |                |\n",
            "+----------------------------------------------------------------------------------+--------------------+----------------+\n",
            "| ExpressWay Logistics' incompetence resulted in a major inconvenience when my     | Negative           | Negative       |\n",
            "| package was delivered to the wrong recipient. Despite providing accurate         |                    |                |\n",
            "| delivery information, the package ended up in the hands of someone else, and     |                    |                |\n",
            "| efforts to retrieve it were unsuccessful. When I contacted customer service for  |                    |                |\n",
            "| assistance, I was met with apathy and a lack of urgency. Their failure to        |                    |                |\n",
            "| rectify the situation in a timely manner is unacceptable, and I will be avoiding |                    |                |\n",
            "| their services at all costs.                                                     |                    |                |\n",
            "+----------------------------------------------------------------------------------+--------------------+----------------+\n",
            "| Kudos to ExpressWay Logistics for their outstanding service! They've been an     | Positive           | Positive       |\n",
            "| essential partner for my business, handling all our shipping needs with          |                    |                |\n",
            "| professionalism and efficiency. If you're looking for a reliable logistic        |                    |                |\n",
            "| service provider, look no further than ExpressWay Logistics.                     |                    |                |\n",
            "+----------------------------------------------------------------------------------+--------------------+----------------+\n",
            "| ExpressWay Logistics offers a convenient online platform for booking shipments,  | Negative           | Negative       |\n",
            "| and their competitive rates initially drew me in. However, the frequent delays   |                    |                |\n",
            "| in delivery and lack of transparency regarding additional fees have soured my    |                    |                |\n",
            "| experience. While their customer service representatives are polite, they often  |                    |                |\n",
            "| seem powerless to resolve issues effectively.This lack of care and               |                    |                |\n",
            "| responsibilites from the concerned teams have led me unsatisfied and irritated.I |                    |                |\n",
            "| cannot trust and rely on this again.Will definitely not contact them ever for my |                    |                |\n",
            "| courier deliveries!                                                              |                    |                |\n",
            "+----------------------------------------------------------------------------------+--------------------+----------------+\n",
            "| Planning a destination wedding is undoubtedly a daunting task, especially when   | Positive           | Positive       |\n",
            "| it comes to coordinating transportation for guests and wedding essentials.       |                    |                |\n",
            "| Fortunately, ExpressWay Logistics made this aspect of our wedding planning       |                    |                |\n",
            "| effortless. From the beginning, they were attentive to our needs and provided    |                    |                |\n",
            "| valuable insights to streamline the process.                                     |                    |                |\n",
            "+----------------------------------------------------------------------------------+--------------------+----------------+\n",
            "| ExpressWay Logistics consistently delivers on its promises, providing fast,      | Positive           | Positive       |\n",
            "| efficient, and reliable courier services that exceeded my expectations.          |                    |                |\n",
            "+----------------------------------------------------------------------------------+--------------------+----------------+\n",
            "| I needed to ship perishable items internationally, and ExpressWay Logistics      | Positive           | Positive       |\n",
            "| handled the process flawlessly. They ensured that the items were properly        |                    |                |\n",
            "| packaged and transported in temperature-controlled conditions.                   |                    |                |\n",
            "+----------------------------------------------------------------------------------+--------------------+----------------+\n",
            "| I appreciated the flexibility offered by ExpressWay Logistics in terms of        | Mixed/             | Negative       |\n",
            "| delivery options. Their range of delivery speeds and service levels allowed me   |                    |                |\n",
            "| to choose the option that best suited my needs and budget.However, I was         |                    |                |\n",
            "| slightly disappointed by the lack of transparency regarding few additional fees  |                    |                |\n",
            "| and surcharges. I selected a specific delivery option and paid minor charges at  |                    |                |\n",
            "| checkout, which undermined the initial affordability of the service..            |                    |                |\n",
            "+----------------------------------------------------------------------------------+--------------------+----------------+\n",
            "| While ExpressWay Logistics' pricing is competitive, their lack of accountability | Negative           | Negative       |\n",
            "| for delays and damages is disappointing. It's frustrating to pay for a service   |                    |                |\n",
            "| that fails to deliver on its promises consistently.                              |                    |                |\n",
            "+----------------------------------------------------------------------------------+--------------------+----------------+\n",
            "| ExpressWay Logistics' pricing may seem attractive at first glance, but beware of | Mixed/             | Positive       |\n",
            "| some internal hidden fees that may sometimes add up. Coupled with their reliable |                    |                |\n",
            "| delivery times, it's simply not worth the hassle.But still I appreciate that my  |                    |                |\n",
            "| parcel got delivered safely a day after the promised window.                     |                    |                |\n",
            "+----------------------------------------------------------------------------------+--------------------+----------------+\n",
            "| ExpressWay Logistics has been my go-to courier service for years, primarily due  | Neutral            | Negative       |\n",
            "| to their extensive network coverage and competitive pricing. However, my recent  |                    |                |\n",
            "| experience has left me questioning their reliability. While their user-friendly  |                    |                |\n",
            "| website and efficient booking process remain commendable, the repeated delays in |                    |                |\n",
            "| delivery and lack of proactive communication have been disappointing.Despite     |                    |                |\n",
            "| these setbacks, their customer service team has always been courteous and        |                    |                |\n",
            "| responsive, attempting to address my concerns promptly.                          |                    |                |\n",
            "+----------------------------------------------------------------------------------+--------------------+----------------+\n",
            "| ExpressWay Logistics' incompetence led to the loss of my parcel, and their lack  | Negative           | Negative       |\n",
            "| of accountability only added to the frustration. Despite filing a claim and      |                    |                |\n",
            "| providing evidence of the missing items, I received no assistance or             |                    |                |\n",
            "| compensation for the lost package. Their negligence and disregard for customer   |                    |                |\n",
            "| satisfaction are unacceptable, and I will be exploring legal options to recoup   |                    |                |\n",
            "| the value of the lost items.                                                     |                    |                |\n",
            "+----------------------------------------------------------------------------------+--------------------+----------------+\n",
            "| I was deeply disappointed by the behavior of the delivery executive from         | Negative           | Negative       |\n",
            "| Expressway Logistics. They exhibited a complete disregard for customer           |                    |                |\n",
            "| satisfaction, arriving late and mishandling the package upon delivery. Despite   |                    |                |\n",
            "| raising my concerns with Expressway Logistics, there was no acknowledgment or    |                    |                |\n",
            "| resolution provided.                                                             |                    |                |\n",
            "+----------------------------------------------------------------------------------+--------------------+----------------+\n",
            "| As a frequent traveler, I often use ExpressWay Logistics to ship luggage and     | Positive           | Positive       |\n",
            "| personal belongings ahead of time. Their door-to-door service and reliable       |                    |                |\n",
            "| tracking make traveling a breeze.                                                |                    |                |\n",
            "+----------------------------------------------------------------------------------+--------------------+----------------+\n",
            "| ExpressWay Logistics caught my attention with its promise of seamless shipping   | Negative           | Negative       |\n",
            "| solutions and a comprehensive network. However, my recent experiences have       |                    |                |\n",
            "| revealed some significant shortcomings. Their online platform is disgusting and  |                    |                |\n",
            "| their tracking system is inaccurate.I've encountered repeated issues with        |                    |                |\n",
            "| inaccurate weight calculations that have led to unexpected charges. Moreover,    |                    |                |\n",
            "| the limited options for customizing shipment preferences have made it            |                    |                |\n",
            "| challenging to meet my requirements.I cannot rely upon it for my future          |                    |                |\n",
            "| requirements.It failed to meet my requirements.                                  |                    |                |\n",
            "+----------------------------------------------------------------------------------+--------------------+----------------+\n",
            "| The packaging provided by ExpressWay Logistics is always secure and well-        | Positive           | Positive       |\n",
            "| protected, and ensured that my items arrive in perfect condition.                |                    |                |\n",
            "+----------------------------------------------------------------------------------+--------------------+----------------+\n",
            "| My recent experience with ExpressWay Logistics left me thoroughly impressed. I   | Positive           | Positive       |\n",
            "| had a highly time-sensitive shipment that required delicate handling and precise |                    |                |\n",
            "| coordination. Despite the challenges, ExpressWay rose to the occasion,           |                    |                |\n",
            "| demonstrating an unparalleled level of professionalism and efficiency. Their     |                    |                |\n",
            "| team meticulously planned every aspect of the shipment, from packaging to        |                    |                |\n",
            "| transportation, ensuring that no detail was overlooked.                          |                    |                |\n",
            "+----------------------------------------------------------------------------------+--------------------+----------------+\n",
            "| I was initially impressed by ExpressWay Logistics' promise of reliability and    | Negative           | Negative       |\n",
            "| affordability, but my recent encounters have been less than satisfactory. Their  |                    |                |\n",
            "| website is so irritating and their drivers are too harsh, the repeated delays in |                    |                |\n",
            "| delivery have been frustrating. Additionally, the discovery of hidden fees       |                    |                |\n",
            "| within their pricing structure has left me feeling misled. In addition to these  |                    |                |\n",
            "| challenges, their customer service team has been inattentive and disrespectful,  |                    |                |\n",
            "| which has degraded the overall experience.Not at all recommend!                  |                    |                |\n",
            "+----------------------------------------------------------------------------------+--------------------+----------------+\n",
            "| Thumbs up to ExpressWay for their prompt responses and reliable shipping         | Positive           | Positive       |\n",
            "| solutions. Impressed!                                                            |                    |                |\n",
            "+----------------------------------------------------------------------------------+--------------------+----------------+\n",
            "| I had a terrible experience with ExpressWay Logistics. Not only was my pickup    | Negative           | Negative       |\n",
            "| delayed, but the packaging was not done intactly, and the customer support team  |                    |                |\n",
            "| was unresponsive when I tried to raise the issue.                                |                    |                |\n",
            "+----------------------------------------------------------------------------------+--------------------+----------------+\n",
            "+----------------------------------------------------------------------------------+--------------------+----------------+\n",
            "| Review                                                                           | Model Prediction   | Ground Truth   |\n",
            "+==================================================================================+====================+================+\n",
            "| The delivery executive assigned by ExpressWay Logistics was courteous and        | Negative.          | Positive       |\n",
            "| professional during the delivery process. They tried their best to handle the    |                    |                |\n",
            "| package with care.Unfortunately, the package arrived with slight damage despite  |                    |                |\n",
            "| the delivery executive's efforts. The packaging seemed more than adequate to     |                    |                |\n",
            "| protect the contents during transit.                                             |                    |                |\n",
            "+----------------------------------------------------------------------------------+--------------------+----------------+\n",
            "| ExpressWay Logistics failed to meet my expectations. The delivery was delayed,   | Negative.          | Negative       |\n",
            "| and the customer support team was unresponsive and unhelpful when I tried to     |                    |                |\n",
            "| inquire about the status of my parcel.                                           |                    |                |\n",
            "+----------------------------------------------------------------------------------+--------------------+----------------+\n",
            "| ExpressWay Logistics' incompetence resulted in a major inconvenience when my     | Negative.          | Negative       |\n",
            "| package was delivered to the wrong recipient. Despite providing accurate         |                    |                |\n",
            "| delivery information, the package ended up in the hands of someone else, and     |                    |                |\n",
            "| efforts to retrieve it were unsuccessful. When I contacted customer service for  |                    |                |\n",
            "| assistance, I was met with apathy and a lack of urgency. Their failure to        |                    |                |\n",
            "| rectify the situation in a timely manner is unacceptable, and I will be avoiding |                    |                |\n",
            "| their services at all costs.                                                     |                    |                |\n",
            "+----------------------------------------------------------------------------------+--------------------+----------------+\n",
            "| Kudos to ExpressWay Logistics for their outstanding service! They've been an     | Positive.          | Positive       |\n",
            "| essential partner for my business, handling all our shipping needs with          |                    |                |\n",
            "| professionalism and efficiency. If you're looking for a reliable logistic        |                    |                |\n",
            "| service provider, look no further than ExpressWay Logistics.                     |                    |                |\n",
            "+----------------------------------------------------------------------------------+--------------------+----------------+\n",
            "| ExpressWay Logistics offers a convenient online platform for booking shipments,  | Negative           | Negative       |\n",
            "| and their competitive rates initially drew me in. However, the frequent delays   |                    |                |\n",
            "| in delivery and lack of transparency regarding additional fees have soured my    |                    |                |\n",
            "| experience. While their customer service representatives are polite, they often  |                    |                |\n",
            "| seem powerless to resolve issues effectively.This lack of care and               |                    |                |\n",
            "| responsibilites from the concerned teams have led me unsatisfied and irritated.I |                    |                |\n",
            "| cannot trust and rely on this again.Will definitely not contact them ever for my |                    |                |\n",
            "| courier deliveries!                                                              |                    |                |\n",
            "+----------------------------------------------------------------------------------+--------------------+----------------+\n",
            "| Planning a destination wedding is undoubtedly a daunting task, especially when   | Positive.          | Positive       |\n",
            "| it comes to coordinating transportation for guests and wedding essentials.       |                    |                |\n",
            "| Fortunately, ExpressWay Logistics made this aspect of our wedding planning       |                    |                |\n",
            "| effortless. From the beginning, they were attentive to our needs and provided    |                    |                |\n",
            "| valuable insights to streamline the process.                                     |                    |                |\n",
            "+----------------------------------------------------------------------------------+--------------------+----------------+\n",
            "| ExpressWay Logistics consistently delivers on its promises, providing fast,      | Positive.          | Positive       |\n",
            "| efficient, and reliable courier services that exceeded my expectations.          |                    |                |\n",
            "+----------------------------------------------------------------------------------+--------------------+----------------+\n",
            "| I needed to ship perishable items internationally, and ExpressWay Logistics      | Positive.          | Positive       |\n",
            "| handled the process flawlessly. They ensured that the items were properly        |                    |                |\n",
            "| packaged and transported in temperature-controlled conditions.                   |                    |                |\n",
            "+----------------------------------------------------------------------------------+--------------------+----------------+\n",
            "| I appreciated the flexibility offered by ExpressWay Logistics in terms of        | Negative           | Negative       |\n",
            "| delivery options. Their range of delivery speeds and service levels allowed me   |                    |                |\n",
            "| to choose the option that best suited my needs and budget.However, I was         |                    |                |\n",
            "| slightly disappointed by the lack of transparency regarding few additional fees  |                    |                |\n",
            "| and surcharges. I selected a specific delivery option and paid minor charges at  |                    |                |\n",
            "| checkout, which undermined the initial affordability of the service..            |                    |                |\n",
            "+----------------------------------------------------------------------------------+--------------------+----------------+\n",
            "| While ExpressWay Logistics' pricing is competitive, their lack of accountability | Negative           | Negative       |\n",
            "| for delays and damages is disappointing. It's frustrating to pay for a service   |                    |                |\n",
            "| that fails to deliver on its promises consistently.                              |                    |                |\n",
            "+----------------------------------------------------------------------------------+--------------------+----------------+\n",
            "| ExpressWay Logistics' pricing may seem attractive at first glance, but beware of | Negative           | Positive       |\n",
            "| some internal hidden fees that may sometimes add up. Coupled with their reliable |                    |                |\n",
            "| delivery times, it's simply not worth the hassle.But still I appreciate that my  |                    |                |\n",
            "| parcel got delivered safely a day after the promised window.                     |                    |                |\n",
            "+----------------------------------------------------------------------------------+--------------------+----------------+\n",
            "| ExpressWay Logistics has been my go-to courier service for years, primarily due  | Negative           | Negative       |\n",
            "| to their extensive network coverage and competitive pricing. However, my recent  |                    |                |\n",
            "| experience has left me questioning their reliability. While their user-friendly  |                    |                |\n",
            "| website and efficient booking process remain commendable, the repeated delays in |                    |                |\n",
            "| delivery and lack of proactive communication have been disappointing.Despite     |                    |                |\n",
            "| these setbacks, their customer service team has always been courteous and        |                    |                |\n",
            "| responsive, attempting to address my concerns promptly.                          |                    |                |\n",
            "+----------------------------------------------------------------------------------+--------------------+----------------+\n",
            "| ExpressWay Logistics' incompetence led to the loss of my parcel, and their lack  | Negative.          | Negative       |\n",
            "| of accountability only added to the frustration. Despite filing a claim and      |                    |                |\n",
            "| providing evidence of the missing items, I received no assistance or             |                    |                |\n",
            "| compensation for the lost package. Their negligence and disregard for customer   |                    |                |\n",
            "| satisfaction are unacceptable, and I will be exploring legal options to recoup   |                    |                |\n",
            "| the value of the lost items.                                                     |                    |                |\n",
            "+----------------------------------------------------------------------------------+--------------------+----------------+\n",
            "| I was deeply disappointed by the behavior of the delivery executive from         | Negative           | Negative       |\n",
            "| Expressway Logistics. They exhibited a complete disregard for customer           |                    |                |\n",
            "| satisfaction, arriving late and mishandling the package upon delivery. Despite   |                    |                |\n",
            "| raising my concerns with Expressway Logistics, there was no acknowledgment or    |                    |                |\n",
            "| resolution provided.                                                             |                    |                |\n",
            "+----------------------------------------------------------------------------------+--------------------+----------------+\n",
            "| As a frequent traveler, I often use ExpressWay Logistics to ship luggage and     | Positive.          | Positive       |\n",
            "| personal belongings ahead of time. Their door-to-door service and reliable       |                    |                |\n",
            "| tracking make traveling a breeze.                                                |                    |                |\n",
            "+----------------------------------------------------------------------------------+--------------------+----------------+\n",
            "| ExpressWay Logistics caught my attention with its promise of seamless shipping   | Negative.          | Negative       |\n",
            "| solutions and a comprehensive network. However, my recent experiences have       |                    |                |\n",
            "| revealed some significant shortcomings. Their online platform is disgusting and  |                    |                |\n",
            "| their tracking system is inaccurate.I've encountered repeated issues with        |                    |                |\n",
            "| inaccurate weight calculations that have led to unexpected charges. Moreover,    |                    |                |\n",
            "| the limited options for customizing shipment preferences have made it            |                    |                |\n",
            "| challenging to meet my requirements.I cannot rely upon it for my future          |                    |                |\n",
            "| requirements.It failed to meet my requirements.                                  |                    |                |\n",
            "+----------------------------------------------------------------------------------+--------------------+----------------+\n",
            "| The packaging provided by ExpressWay Logistics is always secure and well-        | Positive.          | Positive       |\n",
            "| protected, and ensured that my items arrive in perfect condition.                |                    |                |\n",
            "+----------------------------------------------------------------------------------+--------------------+----------------+\n",
            "| My recent experience with ExpressWay Logistics left me thoroughly impressed. I   | Positive           | Positive       |\n",
            "| had a highly time-sensitive shipment that required delicate handling and precise |                    |                |\n",
            "| coordination. Despite the challenges, ExpressWay rose to the occasion,           |                    |                |\n",
            "| demonstrating an unparalleled level of professionalism and efficiency. Their     |                    |                |\n",
            "| team meticulously planned every aspect of the shipment, from packaging to        |                    |                |\n",
            "| transportation, ensuring that no detail was overlooked.                          |                    |                |\n",
            "+----------------------------------------------------------------------------------+--------------------+----------------+\n",
            "| I was initially impressed by ExpressWay Logistics' promise of reliability and    | Negative           | Negative       |\n",
            "| affordability, but my recent encounters have been less than satisfactory. Their  |                    |                |\n",
            "| website is so irritating and their drivers are too harsh, the repeated delays in |                    |                |\n",
            "| delivery have been frustrating. Additionally, the discovery of hidden fees       |                    |                |\n",
            "| within their pricing structure has left me feeling misled. In addition to these  |                    |                |\n",
            "| challenges, their customer service team has been inattentive and disrespectful,  |                    |                |\n",
            "| which has degraded the overall experience.Not at all recommend!                  |                    |                |\n",
            "+----------------------------------------------------------------------------------+--------------------+----------------+\n",
            "| Thumbs up to ExpressWay for their prompt responses and reliable shipping         | Positive           | Positive       |\n",
            "| solutions. Impressed!                                                            |                    |                |\n",
            "+----------------------------------------------------------------------------------+--------------------+----------------+\n",
            "| I had a terrible experience with ExpressWay Logistics. Not only was my pickup    | Negative.          | Negative       |\n",
            "| delayed, but the packaging was not done intactly, and the customer support team  |                    |                |\n",
            "| was unresponsive when I tried to raise the issue.                                |                    |                |\n",
            "+----------------------------------------------------------------------------------+--------------------+----------------+\n"
          ]
        },
        {
          "name": "stderr",
          "output_type": "stream",
          "text": [
            "100%|██████████| 5/5 [00:25<00:00,  5.12s/it]"
          ]
        },
        {
          "name": "stdout",
          "output_type": "stream",
          "text": [
            "+----------------------------------------------------------------------------------+--------------------+----------------+\n",
            "| Review                                                                           | Model Prediction   | Ground Truth   |\n",
            "+==================================================================================+====================+================+\n",
            "| The delivery executive assigned by ExpressWay Logistics was courteous and        | Neutral            | Positive       |\n",
            "| professional during the delivery process. They tried their best to handle the    |                    |                |\n",
            "| package with care.Unfortunately, the package arrived with slight damage despite  |                    |                |\n",
            "| the delivery executive's efforts. The packaging seemed more than adequate to     |                    |                |\n",
            "| protect the contents during transit.                                             |                    |                |\n",
            "+----------------------------------------------------------------------------------+--------------------+----------------+\n",
            "| ExpressWay Logistics failed to meet my expectations. The delivery was delayed,   | Negative           | Negative       |\n",
            "| and the customer support team was unresponsive and unhelpful when I tried to     |                    |                |\n",
            "| inquire about the status of my parcel.                                           |                    |                |\n",
            "+----------------------------------------------------------------------------------+--------------------+----------------+\n",
            "| ExpressWay Logistics' incompetence resulted in a major inconvenience when my     | Negative           | Negative       |\n",
            "| package was delivered to the wrong recipient. Despite providing accurate         |                    |                |\n",
            "| delivery information, the package ended up in the hands of someone else, and     |                    |                |\n",
            "| efforts to retrieve it were unsuccessful. When I contacted customer service for  |                    |                |\n",
            "| assistance, I was met with apathy and a lack of urgency. Their failure to        |                    |                |\n",
            "| rectify the situation in a timely manner is unacceptable, and I will be avoiding |                    |                |\n",
            "| their services at all costs.                                                     |                    |                |\n",
            "+----------------------------------------------------------------------------------+--------------------+----------------+\n",
            "| Kudos to ExpressWay Logistics for their outstanding service! They've been an     | Positive           | Positive       |\n",
            "| essential partner for my business, handling all our shipping needs with          |                    |                |\n",
            "| professionalism and efficiency. If you're looking for a reliable logistic        |                    |                |\n",
            "| service provider, look no further than ExpressWay Logistics.                     |                    |                |\n",
            "+----------------------------------------------------------------------------------+--------------------+----------------+\n",
            "| ExpressWay Logistics offers a convenient online platform for booking shipments,  | Negative           | Negative       |\n",
            "| and their competitive rates initially drew me in. However, the frequent delays   |                    |                |\n",
            "| in delivery and lack of transparency regarding additional fees have soured my    |                    |                |\n",
            "| experience. While their customer service representatives are polite, they often  |                    |                |\n",
            "| seem powerless to resolve issues effectively.This lack of care and               |                    |                |\n",
            "| responsibilites from the concerned teams have led me unsatisfied and irritated.I |                    |                |\n",
            "| cannot trust and rely on this again.Will definitely not contact them ever for my |                    |                |\n",
            "| courier deliveries!                                                              |                    |                |\n",
            "+----------------------------------------------------------------------------------+--------------------+----------------+\n",
            "| Planning a destination wedding is undoubtedly a daunting task, especially when   | Positive           | Positive       |\n",
            "| it comes to coordinating transportation for guests and wedding essentials.       |                    |                |\n",
            "| Fortunately, ExpressWay Logistics made this aspect of our wedding planning       |                    |                |\n",
            "| effortless. From the beginning, they were attentive to our needs and provided    |                    |                |\n",
            "| valuable insights to streamline the process.                                     |                    |                |\n",
            "+----------------------------------------------------------------------------------+--------------------+----------------+\n",
            "| ExpressWay Logistics consistently delivers on its promises, providing fast,      | Positive           | Positive       |\n",
            "| efficient, and reliable courier services that exceeded my expectations.          |                    |                |\n",
            "+----------------------------------------------------------------------------------+--------------------+----------------+\n",
            "| I needed to ship perishable items internationally, and ExpressWay Logistics      | Positive           | Positive       |\n",
            "| handled the process flawlessly. They ensured that the items were properly        |                    |                |\n",
            "| packaged and transported in temperature-controlled conditions.                   |                    |                |\n",
            "+----------------------------------------------------------------------------------+--------------------+----------------+\n",
            "| I appreciated the flexibility offered by ExpressWay Logistics in terms of        | Neutral            | Negative       |\n",
            "| delivery options. Their range of delivery speeds and service levels allowed me   |                    |                |\n",
            "| to choose the option that best suited my needs and budget.However, I was         |                    |                |\n",
            "| slightly disappointed by the lack of transparency regarding few additional fees  |                    |                |\n",
            "| and surcharges. I selected a specific delivery option and paid minor charges at  |                    |                |\n",
            "| checkout, which undermined the initial affordability of the service..            |                    |                |\n",
            "+----------------------------------------------------------------------------------+--------------------+----------------+\n",
            "| While ExpressWay Logistics' pricing is competitive, their lack of accountability | Negative           | Negative       |\n",
            "| for delays and damages is disappointing. It's frustrating to pay for a service   |                    |                |\n",
            "| that fails to deliver on its promises consistently.                              |                    |                |\n",
            "+----------------------------------------------------------------------------------+--------------------+----------------+\n",
            "| ExpressWay Logistics' pricing may seem attractive at first glance, but beware of | Mixed/             | Positive       |\n",
            "| some internal hidden fees that may sometimes add up. Coupled with their reliable |                    |                |\n",
            "| delivery times, it's simply not worth the hassle.But still I appreciate that my  |                    |                |\n",
            "| parcel got delivered safely a day after the promised window.                     |                    |                |\n",
            "+----------------------------------------------------------------------------------+--------------------+----------------+\n",
            "| ExpressWay Logistics has been my go-to courier service for years, primarily due  | Neutral            | Negative       |\n",
            "| to their extensive network coverage and competitive pricing. However, my recent  |                    |                |\n",
            "| experience has left me questioning their reliability. While their user-friendly  |                    |                |\n",
            "| website and efficient booking process remain commendable, the repeated delays in |                    |                |\n",
            "| delivery and lack of proactive communication have been disappointing.Despite     |                    |                |\n",
            "| these setbacks, their customer service team has always been courteous and        |                    |                |\n",
            "| responsive, attempting to address my concerns promptly.                          |                    |                |\n",
            "+----------------------------------------------------------------------------------+--------------------+----------------+\n",
            "| ExpressWay Logistics' incompetence led to the loss of my parcel, and their lack  | Negative           | Negative       |\n",
            "| of accountability only added to the frustration. Despite filing a claim and      |                    |                |\n",
            "| providing evidence of the missing items, I received no assistance or             |                    |                |\n",
            "| compensation for the lost package. Their negligence and disregard for customer   |                    |                |\n",
            "| satisfaction are unacceptable, and I will be exploring legal options to recoup   |                    |                |\n",
            "| the value of the lost items.                                                     |                    |                |\n",
            "+----------------------------------------------------------------------------------+--------------------+----------------+\n",
            "| I was deeply disappointed by the behavior of the delivery executive from         | Negative           | Negative       |\n",
            "| Expressway Logistics. They exhibited a complete disregard for customer           |                    |                |\n",
            "| satisfaction, arriving late and mishandling the package upon delivery. Despite   |                    |                |\n",
            "| raising my concerns with Expressway Logistics, there was no acknowledgment or    |                    |                |\n",
            "| resolution provided.                                                             |                    |                |\n",
            "+----------------------------------------------------------------------------------+--------------------+----------------+\n",
            "| As a frequent traveler, I often use ExpressWay Logistics to ship luggage and     | Positive           | Positive       |\n",
            "| personal belongings ahead of time. Their door-to-door service and reliable       |                    |                |\n",
            "| tracking make traveling a breeze.                                                |                    |                |\n",
            "+----------------------------------------------------------------------------------+--------------------+----------------+\n",
            "| ExpressWay Logistics caught my attention with its promise of seamless shipping   | Negative           | Negative       |\n",
            "| solutions and a comprehensive network. However, my recent experiences have       |                    |                |\n",
            "| revealed some significant shortcomings. Their online platform is disgusting and  |                    |                |\n",
            "| their tracking system is inaccurate.I've encountered repeated issues with        |                    |                |\n",
            "| inaccurate weight calculations that have led to unexpected charges. Moreover,    |                    |                |\n",
            "| the limited options for customizing shipment preferences have made it            |                    |                |\n",
            "| challenging to meet my requirements.I cannot rely upon it for my future          |                    |                |\n",
            "| requirements.It failed to meet my requirements.                                  |                    |                |\n",
            "+----------------------------------------------------------------------------------+--------------------+----------------+\n",
            "| The packaging provided by ExpressWay Logistics is always secure and well-        | Positive           | Positive       |\n",
            "| protected, and ensured that my items arrive in perfect condition.                |                    |                |\n",
            "+----------------------------------------------------------------------------------+--------------------+----------------+\n",
            "| My recent experience with ExpressWay Logistics left me thoroughly impressed. I   | Positive           | Positive       |\n",
            "| had a highly time-sensitive shipment that required delicate handling and precise |                    |                |\n",
            "| coordination. Despite the challenges, ExpressWay rose to the occasion,           |                    |                |\n",
            "| demonstrating an unparalleled level of professionalism and efficiency. Their     |                    |                |\n",
            "| team meticulously planned every aspect of the shipment, from packaging to        |                    |                |\n",
            "| transportation, ensuring that no detail was overlooked.                          |                    |                |\n",
            "+----------------------------------------------------------------------------------+--------------------+----------------+\n",
            "| I was initially impressed by ExpressWay Logistics' promise of reliability and    | Negative           | Negative       |\n",
            "| affordability, but my recent encounters have been less than satisfactory. Their  |                    |                |\n",
            "| website is so irritating and their drivers are too harsh, the repeated delays in |                    |                |\n",
            "| delivery have been frustrating. Additionally, the discovery of hidden fees       |                    |                |\n",
            "| within their pricing structure has left me feeling misled. In addition to these  |                    |                |\n",
            "| challenges, their customer service team has been inattentive and disrespectful,  |                    |                |\n",
            "| which has degraded the overall experience.Not at all recommend!                  |                    |                |\n",
            "+----------------------------------------------------------------------------------+--------------------+----------------+\n",
            "| Thumbs up to ExpressWay for their prompt responses and reliable shipping         | Positive           | Positive       |\n",
            "| solutions. Impressed!                                                            |                    |                |\n",
            "+----------------------------------------------------------------------------------+--------------------+----------------+\n",
            "| I had a terrible experience with ExpressWay Logistics. Not only was my pickup    | Negative           | Negative       |\n",
            "| delayed, but the packaging was not done intactly, and the customer support team  |                    |                |\n",
            "| was unresponsive when I tried to raise the issue.                                |                    |                |\n",
            "+----------------------------------------------------------------------------------+--------------------+----------------+\n"
          ]
        },
        {
          "name": "stderr",
          "output_type": "stream",
          "text": [
            "\n"
          ]
        }
      ],
      "source": [
        "for _ in tqdm(range(num_eval_runs)):\n",
        "\n",
        "    # For each run create a new sample of examples\n",
        "    examples = create_examples(cs_examples_df)\n",
        "\n",
        "    # Assemble the zero shot prompt with these examples\n",
        "    zero_shot_prompt = [{'role':'system', 'content': zero_shot_system_message}]\n",
        "\n",
        "    # Assemble the few shot prompt with these examples\n",
        "    few_shot_prompt = create_prompt(few_shot_system_message, examples, user_message_template)\n",
        "\n",
        "    # Evaluate zero shot prompt accuracy on gold examples\n",
        "    zero_shot_micro_f1 = evaluate_prompt(zero_shot_prompt, gold_examples, user_message_template)\n",
        "\n",
        "    # Evaluate few shot prompt accuracy on gold examples\n",
        "    few_shot_micro_f1 = evaluate_prompt(few_shot_prompt, gold_examples, user_message_template)\n",
        "\n",
        "    zero_shot_performance.append(zero_shot_micro_f1)\n",
        "    few_shot_performance.append(few_shot_micro_f1)"
      ]
    },
    {
      "cell_type": "markdown",
      "metadata": {
        "id": "4JSJzAeZZUBl",
        "nteract": {
          "transient": {
            "deleting": false
          }
        }
      },
      "source": [
        "**(C) Calculate Mean and Standard Deviation for Zero Shot and Few Shot (4 Marks)**\n",
        "\n",
        "Compute the average (mean) and measure the variability (standard deviation) of the evaluation scores for both zero shot and few shot prompts."
      ]
    },
    {
      "cell_type": "code",
      "execution_count": 34,
      "metadata": {
        "id": "Wlx7hRekacH2"
      },
      "outputs": [
        {
          "data": {
            "text/plain": [
              "'Zero Shot Performance: 0.38 +/- 0.00'"
            ]
          },
          "metadata": {},
          "output_type": "display_data"
        }
      ],
      "source": [
        "zero_shot_performance_mean = np.mean(zero_shot_performance)\n",
        "zero_shot_performance_std = np.std(zero_shot_performance)\n",
        "display(f\"Zero Shot Performance: {zero_shot_performance_mean:.2f} +/- {zero_shot_performance_std:.2f}\")\n",
        "# Calculate for Zero Shot"
      ]
    },
    {
      "cell_type": "code",
      "execution_count": 32,
      "metadata": {
        "id": "aUt85F--aehR"
      },
      "outputs": [
        {
          "data": {
            "text/plain": [
              "'Few Shot Performance: 0.81 +/- 0.00'"
            ]
          },
          "metadata": {},
          "output_type": "display_data"
        }
      ],
      "source": [
        "few_shot_performance_mean = np.mean(few_shot_performance)\n",
        "few_shot_performance_std = np.std(few_shot_performance)\n",
        "display(f\"Few Shot Performance: {few_shot_performance_mean:.2f} +/- {few_shot_performance_std:.2f}\")\n",
        "# Calculate for Few Shot"
      ]
    },
    {
      "cell_type": "markdown",
      "metadata": {
        "id": "BdKlgVP1YPTR"
      },
      "source": [
        "##**Step 5: Observation and Insights and Business perspective (10 Marks)**\n",
        "\n",
        "Based on the projects, learner needs to share observations, learnings, insights and the business use case where these learnings can be beneficial.\n",
        "Provide a breakdown of the percentage of positive and negative reviews. Additionally, explain how this classification can assist ExpressWay Logistics in addressing the issues identified.\n"
      ]
    },
    {
      "cell_type": "code",
      "execution_count": 38,
      "metadata": {},
      "outputs": [
        {
          "data": {
            "text/plain": [
              "sentiment\n",
              "Positive    51.908397\n",
              "Negative    48.091603\n",
              "Name: proportion, dtype: float64"
            ]
          },
          "execution_count": 38,
          "metadata": {},
          "output_type": "execute_result"
        }
      ],
      "source": [
        "# Calculate the percentage of each value in cs_reviews_df['sentiment'] column\n",
        "sentiment_distribution = cs_reviews_df['sentiment'].value_counts(normalize=True) * 100\n",
        "sentiment_distribution"
      ]
    },
    {
      "cell_type": "markdown",
      "metadata": {},
      "source": [
        "### Results and Conclusions\n",
        "\n",
        "#### Model Observations\n",
        "\n",
        "1. **LLM prompts produce \"fuzzy\" results. Approach with caution.** I noticed that even when specifying a binary classification with deterministic values, the nature of the model produced variable outputs. Spurious characters are produced which artificially degrade model results. _The F1 scores above contain a downward bias_ i.e. the models actually perform better than the code suggests. Even if the model correctly classified the review as negative it produced the label \"Negative.\" which is computationally distinct from the ground truth label \"Negative\".\n",
        "\n",
        "2. **Careful prompt construction and/or post-processing is required to get at true performance.** A better choice of labels and limiting the response to one token would alleviate the fuzzy results problem. For example, {-1, 1} would be preferred as a result. For a binary classifier this is ideal as the meann can quickly demonstrate overall sentiment. However, here the models clearly were taking a more nuanced take on classification, stubbornly but correctly classifying reviews as \"Mixed\" or \"Neutral.\" In my view this makes GPT3.5 on its own, a bad choice for binary classifiers of text like this. We can post-postrocess to \"cast\" then into binary results but before doing so we should note what percentage of this out of band results are and act accordingly.\n",
        "\n",
        "3. **Obviously zero shot underperforms few shot.** The prompt is more constrained with more context for the LLM to complete the task. Here the F1 score doubles from a deeply underperforming model to one with reasonable performance. I would regard an F1 score 0.81 as indicating a good but not great model. It is good enough to say general things about customer sentiment. \"We have too many negative reviews.\" It is not good enough in my view to make super specific claims about sentiment. \"We are net positive 4% on total reviews.\"\n",
        "\n",
        "4. **It was possible to make a zero shot model perform equally to a few shot with the right prompt.** As I iterated on my prompts looking at the results, I was able to tweak them to the point where they performed (F1 score) identically to the few shot example prompts. This has implications for efficiencies in operations but also risks. I wouldn't recommend it for anything but a binary classifier.\n",
        "\n",
        "#### Business Observations\n",
        "\n",
        "1. **General conclusions are better than nothing and that can be enough to get started.** The old adage still applies: Know your customer. While I wouldn't depend on these models to tell me the exact figures, they provide me with plenty of important insights. For example, there are too damn many negative reviews! ExpressWay Logistics has problems that need to be addressed.\n",
        "\n",
        "2. **A lot more fine grained analysis needs to be done.** This binary classifier is more of a quick, back of the envelope bit of analysis. What really needs to be done is:\n",
        "    - **Let the LLM do it's job and classify things correctly as it wants.** If a review is \"Mixed,\" it's mixed! It's neither positive or negative but both. It makes no sense to throw away results you paid dearly for that can drive important insights. Azure is not free! You need to understand your customer! \n",
        "    - **We need to have multi-class classification along multiple dimensions.** Even if we could perfectly classify reviews as positive or negative, we would still have no clue what these reviews are about. What kind of problem did the customer have? Late delivery? Damaged product? On the other hand, how did we delight them? What do they love about ExpressWay? We have no idea what problems to address nor what we should emphasize to improve customer experience."
      ]
    }
  ],
  "metadata": {
    "colab": {
      "provenance": []
    },
    "kernel_info": {
      "name": "python310-sdkv2"
    },
    "kernelspec": {
      "display_name": "Python 3",
      "language": "python",
      "name": "python3"
    },
    "language_info": {
      "codemirror_mode": {
        "name": "ipython",
        "version": 3
      },
      "file_extension": ".py",
      "mimetype": "text/x-python",
      "name": "python",
      "nbconvert_exporter": "python",
      "pygments_lexer": "ipython3",
      "version": "3.12.3"
    },
    "microsoft": {
      "ms_spell_check": {
        "ms_spell_check_language": "en"
      }
    },
    "nteract": {
      "version": "nteract-front-end@1.0.0"
    }
  },
  "nbformat": 4,
  "nbformat_minor": 0
}
