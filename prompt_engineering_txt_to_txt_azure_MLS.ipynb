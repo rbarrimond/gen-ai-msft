{
  "cells": [
    {
      "cell_type": "markdown",
      "metadata": {
        "id": "m81WUcv5_2yR"
      },
      "source": [
        "<center>\n",
        "\n",
        "![image.png](data:image/png;base64,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)\n",
        "</center>"
      ]
    },
    {
      "cell_type": "markdown",
      "metadata": {
        "id": "k9GfOKOqADNG"
      },
      "source": [
        "<center>\n",
        "<h1><b>Text-to-Text tasks with Azure Open AI</b>\n",
        "</center>"
      ]
    },
    {
      "cell_type": "markdown",
      "metadata": {
        "id": "dbYAz4Nr_uH2"
      },
      "source": [
        "# Objectives\n",
        "\n",
        "- Illustrate prompt engineering for text-to-text tasks using Azure Open AI.\n",
        "- Build and evaluate LLMs for text-to-text tasks using appropriate metrics (e.g., ROUGE score and BERTscore)."
      ]
    },
    {
      "cell_type": "markdown",
      "metadata": {
        "id": "k99a_bJeBvBI"
      },
      "source": [
        "# Text $→$ Text generation"
      ]
    },
    {
      "cell_type": "markdown",
      "metadata": {
        "id": "flENq1vIVvGk"
      },
      "source": [
        "While evaluation of text-to-text tasks requires new evaluation metrics, the overall process of creating a generative AI solution remains the same as that we saw for classification tasks."
      ]
    },
    {
      "cell_type": "markdown",
      "metadata": {
        "id": "ezBeuzEMDWTn"
      },
      "source": [
        "Specifically, solutions for text $\\rightarrow$ text tasks can be built using LLM machinery using the following steps.\n",
        "\n",
        ">*Step 1:* Frame the task as a combination of objective and metric.\n",
        ">\n",
        ">*Step 2:* Assemble data (i.e., examples and gold examples).\n",
        ">\n",
        ">*Step 3:* Design prompts using best practises such as few-shot, CoT, ReAct and evaluate them on gold examples."
      ]
    },
    {
      "cell_type": "markdown",
      "metadata": {
        "id": "t-bv8-ZB_uH8"
      },
      "source": [
        "# Setup"
      ]
    },
    {
      "cell_type": "markdown",
      "metadata": {},
      "source": []
    },
    {
      "cell_type": "markdown",
      "metadata": {
        "id": "QE6uVb5EAjG1"
      },
      "source": [
        "This notebook needs to be executed with a GPU runtime since we load a transformer model to disk and use it to evaluate text-to-text tasks. Transformer models benefit from parallel execution offered by a GPU runtime and can have a significant impact on execution times (for e.g., code in this notebook runs up to 4 times faster witha GPU). Follow the screenshots below to create a GPU runtime on a Colab instance."
      ]
    },
    {
      "cell_type": "markdown",
      "metadata": {
        "id": "DRkxoqr0Wf0-"
      },
      "source": [
        "You should now see the T4 GPU mentioned in the runtime logo (screenshot below)."
      ]
    },
    {
      "cell_type": "markdown",
      "metadata": {
        "id": "LFy1u_CIAlB4"
      },
      "source": [
        "## Installation"
      ]
    },
    {
      "cell_type": "code",
      "execution_count": 2,
      "metadata": {
        "colab": {
          "base_uri": "https://localhost:8080/"
        },
        "id": "olwVirv0AmWR",
        "outputId": "68c753ad-e60c-4738-e1c1-00d48cc4fbf8"
      },
      "outputs": [
        {
          "name": "stdout",
          "output_type": "stream",
          "text": [
            "\u001b[2K     \u001b[90m━━━━━━━━━━━━━━━━━━━━━━━━━━━━━━━━━━━━━━━━\u001b[0m \u001b[32m77.0/77.0 kB\u001b[0m \u001b[31m1.6 MB/s\u001b[0m eta \u001b[36m0:00:00\u001b[0m\n",
            "\u001b[2K     \u001b[90m━━━━━━━━━━━━━━━━━━━━━━━━━━━━━━━━━━━━━━━━\u001b[0m \u001b[32m2.0/2.0 MB\u001b[0m \u001b[31m36.9 MB/s\u001b[0m eta \u001b[36m0:00:00\u001b[0m\n",
            "\u001b[2K     \u001b[90m━━━━━━━━━━━━━━━━━━━━━━━━━━━━━━━━━━━━━━━━\u001b[0m \u001b[32m493.7/493.7 kB\u001b[0m \u001b[31m43.7 MB/s\u001b[0m eta \u001b[36m0:00:00\u001b[0m\n",
            "\u001b[2K     \u001b[90m━━━━━━━━━━━━━━━━━━━━━━━━━━━━━━━━━━━━━━━━\u001b[0m \u001b[32m84.1/84.1 kB\u001b[0m \u001b[31m11.3 MB/s\u001b[0m eta \u001b[36m0:00:00\u001b[0m\n",
            "\u001b[?25h  Preparing metadata (setup.py) ... \u001b[?25l\u001b[?25hdone\n",
            "\u001b[2K     \u001b[90m━━━━━━━━━━━━━━━━━━━━━━━━━━━━━━━━━━━━━━━━\u001b[0m \u001b[32m61.1/61.1 kB\u001b[0m \u001b[31m7.1 MB/s\u001b[0m eta \u001b[36m0:00:00\u001b[0m\n",
            "\u001b[2K     \u001b[90m━━━━━━━━━━━━━━━━━━━━━━━━━━━━━━━━━━━━━━━━\u001b[0m \u001b[32m115.3/115.3 kB\u001b[0m \u001b[31m15.2 MB/s\u001b[0m eta \u001b[36m0:00:00\u001b[0m\n",
            "\u001b[2K     \u001b[90m━━━━━━━━━━━━━━━━━━━━━━━━━━━━━━━━━━━━━━━━\u001b[0m \u001b[32m134.8/134.8 kB\u001b[0m \u001b[31m17.0 MB/s\u001b[0m eta \u001b[36m0:00:00\u001b[0m\n",
            "\u001b[2K     \u001b[90m━━━━━━━━━━━━━━━━━━━━━━━━━━━━━━━━━━━━━━━━\u001b[0m \u001b[32m302.0/302.0 kB\u001b[0m \u001b[31m33.2 MB/s\u001b[0m eta \u001b[36m0:00:00\u001b[0m\n",
            "\u001b[2K     \u001b[90m━━━━━━━━━━━━━━━━━━━━━━━━━━━━━━━━━━━━━━━━\u001b[0m \u001b[32m7.9/7.9 MB\u001b[0m \u001b[31m96.0 MB/s\u001b[0m eta \u001b[36m0:00:00\u001b[0m\n",
            "\u001b[2K     \u001b[90m━━━━━━━━━━━━━━━━━━━━━━━━━━━━━━━━━━━━━━━━\u001b[0m \u001b[32m3.8/3.8 MB\u001b[0m \u001b[31m98.6 MB/s\u001b[0m eta \u001b[36m0:00:00\u001b[0m\n",
            "\u001b[2K     \u001b[90m━━━━━━━━━━━━━━━━━━━━━━━━━━━━━━━━━━━━━━━━\u001b[0m \u001b[32m1.3/1.3 MB\u001b[0m \u001b[31m79.0 MB/s\u001b[0m eta \u001b[36m0:00:00\u001b[0m\n",
            "\u001b[2K     \u001b[90m━━━━━━━━━━━━━━━━━━━━━━━━━━━━━━━━━━━━━━━━\u001b[0m \u001b[32m295.0/295.0 kB\u001b[0m \u001b[31m31.9 MB/s\u001b[0m eta \u001b[36m0:00:00\u001b[0m\n",
            "\u001b[?25h  Building wheel for rouge_score (setup.py) ... \u001b[?25l\u001b[?25hdone\n",
            "\u001b[31mERROR: pip's dependency resolver does not currently take into account all the packages that are installed. This behaviour is the source of the following dependency conflicts.\n",
            "llmx 0.0.15a0 requires cohere, which is not installed.\u001b[0m\u001b[31m\n",
            "\u001b[0m"
          ]
        }
      ],
      "source": [
        "!pip install openai tiktoken datasets \\\n",
        "             evaluate rouge_score bert_score --quiet"
      ]
    },
    {
      "cell_type": "markdown",
      "metadata": {
        "id": "8s_WGO43_uH-"
      },
      "source": [
        "## Imports"
      ]
    },
    {
      "cell_type": "code",
      "execution_count": 3,
      "metadata": {
        "id": "HcB_EABx_uIA"
      },
      "outputs": [],
      "source": [
        "import openai\n",
        "import json\n",
        "import tiktoken\n",
        "import evaluate\n",
        "\n",
        "import numpy as np\n",
        "import pandas as pd\n",
        "\n",
        "from datasets import load_dataset\n",
        "from collections import Counter\n",
        "from tqdm import tqdm\n",
        "\n",
        "from sklearn.model_selection import train_test_split"
      ]
    },
    {
      "cell_type": "markdown",
      "metadata": {
        "id": "VED1Bay__uIF"
      },
      "source": [
        "## Authentication"
      ]
    },
    {
      "cell_type": "code",
      "execution_count": 6,
      "metadata": {
        "id": "ZB4GPEUD_uIG"
      },
      "outputs": [],
      "source": [
        "with open('config-template.json', 'r') as az_creds:\n",
        "    data = az_creds.read()"
      ]
    },
    {
      "cell_type": "code",
      "execution_count": 7,
      "metadata": {
        "colab": {
          "base_uri": "https://localhost:8080/",
          "height": 70
        },
        "id": "tZ9vqlEnKoWz",
        "outputId": "e4c7b90b-e77f-4d65-c3aa-87385c3d8268"
      },
      "outputs": [
        {
          "data": {
            "application/vnd.google.colaboratory.intrinsic+json": {
              "type": "string"
            },
            "text/plain": [
              "'{\"AZURE_OPENAI_KEY\": \"1dd305f495014c0694411d4d3826c42b\", \"AZURE_OPENAI_ENDPOINT\": \"https://azure-open-ai777.openai.azure.com/\", \"AZURE_OPENAI_APITYPE\": \"azure\", \"AZURE_OPENAI_APIVERSION\": \"2023-07-01-preview\", \"CHATGPT_MODEL\":\"gpt-35-turbo\"}'"
            ]
          },
          "execution_count": 7,
          "metadata": {},
          "output_type": "execute_result"
        }
      ],
      "source": [
        "data"
      ]
    },
    {
      "cell_type": "code",
      "execution_count": 8,
      "metadata": {
        "id": "vsMHpd_X_uII"
      },
      "outputs": [],
      "source": [
        "creds = json.loads(data)"
      ]
    },
    {
      "cell_type": "code",
      "execution_count": 9,
      "metadata": {
        "id": "y8NBFIci_uIJ"
      },
      "outputs": [],
      "source": [
        "openai.api_key = creds[\"AZURE_OPENAI_KEY\"]\n",
        "openai.api_base = creds[\"AZURE_OPENAI_ENDPOINT\"]\n",
        "openai.api_type = creds[\"AZURE_OPENAI_APITYPE\"]\n",
        "openai.api_version = creds[\"AZURE_OPENAI_APIVERSION\"]"
      ]
    },
    {
      "cell_type": "code",
      "execution_count": 10,
      "metadata": {
        "id": "QiBfFtBQ_uIJ"
      },
      "outputs": [],
      "source": [
        "chat_model_id = creds[\"CHATGPT_MODEL\"]"
      ]
    },
    {
      "cell_type": "code",
      "execution_count": 11,
      "metadata": {
        "colab": {
          "base_uri": "https://localhost:8080/",
          "height": 35
        },
        "id": "WfHJstyxLRmi",
        "outputId": "04929c6c-df5d-4cec-f820-69205281e8e6"
      },
      "outputs": [
        {
          "data": {
            "application/vnd.google.colaboratory.intrinsic+json": {
              "type": "string"
            },
            "text/plain": [
              "'gpt-35-turbo'"
            ]
          },
          "execution_count": 11,
          "metadata": {},
          "output_type": "execute_result"
        }
      ],
      "source": [
        "chat_model_id"
      ]
    },
    {
      "cell_type": "markdown",
      "metadata": {
        "id": "E7RLI8v5BA_1"
      },
      "source": [
        "## Utilities"
      ]
    },
    {
      "cell_type": "markdown",
      "metadata": {
        "id": "aLb6M9CLBGFJ"
      },
      "source": [
        "Token counter to keep track of the completion window available in the prompt."
      ]
    },
    {
      "cell_type": "code",
      "execution_count": 12,
      "metadata": {
        "id": "iQwZeDlhBCFr"
      },
      "outputs": [],
      "source": [
        "def num_tokens_from_messages(messages):\n",
        "\n",
        "    \"\"\"\n",
        "    Return the number of tokens used by a list of messages.\n",
        "    Adapted from the Open AI cookbook token counter\n",
        "    \"\"\"\n",
        "\n",
        "    encoding = tiktoken.encoding_for_model(\"mls\")\n",
        "\n",
        "    # Each message is sandwiched with <|start|>role and <|end|>\n",
        "    # Hence, messages look like: <|start|>system or user or assistant{message}<|end|>\n",
        "\n",
        "    tokens_per_message = 3 # token1:<|start|>, token2:system(or user or assistant), token3:<|end|>\n",
        "\n",
        "    num_tokens = 0\n",
        "\n",
        "    for message in messages:\n",
        "        num_tokens += tokens_per_message\n",
        "        for key, value in message.items():\n",
        "            num_tokens += len(encoding.encode(value))\n",
        "\n",
        "    num_tokens += 3  # every reply is primed with <|start|>assistant<|message|>\n",
        "\n",
        "    return num_tokens"
      ]
    },
    {
      "cell_type": "markdown",
      "metadata": {
        "id": "ZOPEjRfnDkOf"
      },
      "source": [
        "## Task 1: Summarization"
      ]
    },
    {
      "cell_type": "markdown",
      "metadata": {
        "id": "JKOk169oD14P"
      },
      "source": [
        "### Step 1: Define objectives and metrics"
      ]
    },
    {
      "cell_type": "markdown",
      "metadata": {
        "id": "BrhsBMERD86-"
      },
      "source": [
        "There are two methods to summarize input text:\n",
        "- Abstractive (output: a gist of the input).\n",
        "- Extractive (output: a selection of key sentences from the input)."
      ]
    },
    {
      "cell_type": "markdown",
      "metadata": {
        "id": "Mk2qR_dU9nGI"
      },
      "source": [
        "Customer Review:\n",
        "I recently signed up for an ML pgrogram and, to my disappointment, I encountered significant setbacks due to technical glitches and unresponsive academic support. My overall experience has been subpar.\n",
        "\n",
        "Right from the beginning, I faced several technical issues that hampered my learning process. The platform's interface often froze, disrupting the flow of my sessions and causing frustration. Moreover, the video playback was inconsistent, making it challenging to follow the lessons effectively.\n",
        "\n",
        "Abstractive Summary:\n",
        "Major issues,  technical issues and unsatisfactory support\n",
        "\n",
        "Extractive Summary:\n",
        "I recently signed up for an ML pgrogram and, to my disappointment, I encountered significant setbacks due to technical glitches and unresponsive academic support."
      ]
    },
    {
      "cell_type": "markdown",
      "metadata": {
        "id": "RMEDodyrhBfl"
      },
      "source": [
        "The objective in abstractive summarization is to generate a clear summary of the input text, while that of extractive summarization is to generate a selection of appropriate sentences that summarize the input text."
      ]
    },
    {
      "cell_type": "markdown",
      "metadata": {
        "id": "vs-TjiI4LGJZ"
      },
      "source": [
        "#### Recall-Oriented Understudy for Gisting Evaluation (ROUGE)"
      ]
    },
    {
      "cell_type": "markdown",
      "metadata": {
        "id": "W_Appx7vLiLa"
      },
      "source": [
        "ROUGE takes a exact match approach to compare the prediction from the model with the human reference summary by relying on matches of n-grams between the two (depicted in the figure below)."
      ]
    },
    {
      "cell_type": "code",
      "execution_count": 13,
      "metadata": {
        "id": "n21wltYjNAWM"
      },
      "outputs": [],
      "source": [
        "ai_generated_summary = \"Major issues, technical issues and unsatisfactory support\"\n",
        "human_generated_summary = \"Significant technical issues and  support were prominent factors affecting the experience.\""
      ]
    },
    {
      "cell_type": "code",
      "execution_count": 14,
      "metadata": {
        "colab": {
          "base_uri": "https://localhost:8080/"
        },
        "id": "1d-TIf7kVj0z",
        "outputId": "1efe38cd-6721-492a-e02d-8875c77fd698"
      },
      "outputs": [
        {
          "data": {
            "text/plain": [
              "0.5263157894736842"
            ]
          },
          "execution_count": 14,
          "metadata": {},
          "output_type": "execute_result"
        }
      ],
      "source": [
        "r_lcs, p_lcs = 5/12, 5/7\n",
        "(2 * r_lcs * p_lcs)/(r_lcs + p_lcs) # rouge-L"
      ]
    },
    {
      "cell_type": "markdown",
      "metadata": {
        "id": "F7LKR8M2LlcC"
      },
      "source": [
        "#### BERTScore"
      ]
    },
    {
      "cell_type": "markdown",
      "metadata": {
        "id": "MbjWCkD4MCsG"
      },
      "source": [
        "BERTScore is ideal in situations where abstractive summarization is the objective (as is in this case). To illustrate the computation of the BERTScore, consider the following two summary outputs (one from a generative AI model and another from a human)."
      ]
    },
    {
      "cell_type": "code",
      "execution_count": 15,
      "metadata": {
        "id": "MpThhsKLfmoR"
      },
      "outputs": [],
      "source": [
        "ai_generated_summary =  \"Key problems encompassed technical issues and inadequate support.\"\n",
        "human_generated_summary =   \"Prominent challenges and insufficient help, significantly impacting the experience.\""
      ]
    },
    {
      "cell_type": "code",
      "execution_count": 16,
      "metadata": {
        "colab": {
          "base_uri": "https://localhost:8080/"
        },
        "id": "nWRZteg6bdw0",
        "outputId": "0033b9d0-bb70-4b40-f4fe-916e403f6418"
      },
      "outputs": [
        {
          "name": "stdout",
          "output_type": "stream",
          "text": [
            "Key problems encompassed technical issues and inadequate support.\n",
            "Prominent challenges and insufficient help, significantly impacting the experience.\n"
          ]
        }
      ],
      "source": [
        "print(ai_generated_summary)\n",
        "print(human_generated_summary)"
      ]
    },
    {
      "cell_type": "code",
      "execution_count": 17,
      "metadata": {
        "colab": {
          "base_uri": "https://localhost:8080/",
          "height": 49,
          "referenced_widgets": [
            "861ce5dfc6c244b79b74a0ab4bffb2e4",
            "97cdff1e25ca44d79a3045180b70691a",
            "5fd9f713b89e425589d7288675477d0e",
            "c3f9cf9d9c5048e2becb38c9834cad35",
            "8de025a5a4cd406a86603a465b901c20",
            "91fd6ed664394e8d86e91c39502f0b7f",
            "228b1c155f5b4a0494994dc11458cff3",
            "ded7446a2cea4b42bab24de74b752bf0",
            "78683f4f5a6e4a00876dd43642804830",
            "5a7fbcc4145d413a9cefd2f0ec431a7b",
            "1127a04b9b1e4a5f8b3d43c1420d0fa2"
          ]
        },
        "id": "d4IZIvAC-Fdc",
        "outputId": "c608e761-bb9e-4bd2-811c-3921eecd3940"
      },
      "outputs": [
        {
          "data": {
            "application/vnd.jupyter.widget-view+json": {
              "model_id": "861ce5dfc6c244b79b74a0ab4bffb2e4",
              "version_major": 2,
              "version_minor": 0
            },
            "text/plain": [
              "Downloading builder script:   0%|          | 0.00/7.95k [00:00<?, ?B/s]"
            ]
          },
          "metadata": {},
          "output_type": "display_data"
        }
      ],
      "source": [
        "bert_scorer = evaluate.load(\"bertscore\")"
      ]
    },
    {
      "cell_type": "code",
      "execution_count": 18,
      "metadata": {
        "colab": {
          "base_uri": "https://localhost:8080/",
          "height": 301,
          "referenced_widgets": [
            "557e2b7a72e34fbba9432106e6099beb",
            "0f518db7c2da4ef0a25f3464e0c1fe7a",
            "4c0288b7999c409ea4ed2bf53b005731",
            "90cbdc55551443ceaf32c68841c24d10",
            "413468ce3a70477092f60b24dfdc46bc",
            "b964a938119945429be8b2d715d2a8f9",
            "021fa870008b4848bf8374358f764242",
            "91462bb3d6854ff8b61928f2b3b74ab5",
            "321fcebbab794ca8b030e9f07522a698",
            "ab1f62c8f3dd4b378c86463b442b0273",
            "d3c4ee2d8d8f4d62b225e2b31e349081",
            "068123ee3fdc440098b75d202662fcbb",
            "d193ee4440324ff6a08d7c9493b13455",
            "8e3fbdc4e5da4190b9c82bd5ced623d5",
            "f953d301298c41548300b3500572a3b0",
            "c68bbac699da4481bec78b3f6883b580",
            "eb240f4604394e13b2f23a8721caf49f",
            "ea197be62f274bf7aff8e12f2a0f254e",
            "1dcf9b7d74b14d0998aac9b5482a6119",
            "5a61688514ae47a2af0101e71259ec37",
            "91bebbf6397a48e8b168e1384c18fce0",
            "1517d39dcfc34a8c895fce874cb12057",
            "b73ea2d9529f419aa132c9509965547c",
            "11ead027d3fc492793d66025ebdbdb22",
            "e8f68d1dfe44498fa5de7dfe6e78bc72",
            "f9343e729726419bbc4ad1ccf14d74c1",
            "c2ef2f6793cd4f519581ff061d37d63f",
            "8083bd09f9934660a694abd44e7c774a",
            "11d36dbfe0084109aedeb6e0a86ecfa2",
            "77fe509fad684546b8708eb96c6eca9f",
            "9989b5d4a5b547798f7429786df8050a",
            "489bd176836849b89a79a9c46fc11a0b",
            "1b31435b0ebe473f9b38441c0092c773",
            "e8ce5da2b9a3409dadeffa586f95c583",
            "fe94825a463e4ca9903a9f068ecce92d",
            "de672bbf6b274e95924e792b729532fa",
            "ce651e1883164f9b8c458a769de4a08a",
            "d9d9366381244e42a14820442cb25944",
            "e4d7cfbee23c4d1bba209c89855e284a",
            "1566b1915ef241b698ea1329ee1ae400",
            "22e87fe9d72c4314b8d2902b16a5987e",
            "c0fe9d0991414b30941574eccb63ceb6",
            "c5cccaf29ddf41488e50d58ac2f1f000",
            "a51a9e3f1b23490faac7233a171b40d6",
            "6d6b7420a62f4f53b767e083aad4bb18",
            "89c5f65b9ac045f7a5e3b529cd0e708c",
            "6cd894a5fb684d56aea5ffb2c7514b4d",
            "c8ff00d3bdd341ce80877f7d10590993",
            "030d23fb4c2e40b69029bd3a68d04694",
            "a565ccee353340b79427b171c95d89c9",
            "4015aa9afafc4aa88aac0860d33091ff",
            "5611dc06f29a46c590acb1c6df0033da",
            "2282835210cd4db396cfad31f6f10bea",
            "7016b33770fe438897e0039a2bce1f0f",
            "dbc414f6b3524eccaa49e87246f89f63"
          ]
        },
        "id": "erQvk7Ac-H4a",
        "outputId": "9f89ddff-01cf-47c9-e1b6-d365c207dc4d"
      },
      "outputs": [
        {
          "data": {
            "application/vnd.jupyter.widget-view+json": {
              "model_id": "557e2b7a72e34fbba9432106e6099beb",
              "version_major": 2,
              "version_minor": 0
            },
            "text/plain": [
              "Downloading (…)lve/main/config.json:   0%|          | 0.00/482 [00:00<?, ?B/s]"
            ]
          },
          "metadata": {},
          "output_type": "display_data"
        },
        {
          "data": {
            "application/vnd.jupyter.widget-view+json": {
              "model_id": "068123ee3fdc440098b75d202662fcbb",
              "version_major": 2,
              "version_minor": 0
            },
            "text/plain": [
              "Downloading (…)olve/main/vocab.json:   0%|          | 0.00/899k [00:00<?, ?B/s]"
            ]
          },
          "metadata": {},
          "output_type": "display_data"
        },
        {
          "data": {
            "application/vnd.jupyter.widget-view+json": {
              "model_id": "b73ea2d9529f419aa132c9509965547c",
              "version_major": 2,
              "version_minor": 0
            },
            "text/plain": [
              "Downloading (…)olve/main/merges.txt:   0%|          | 0.00/456k [00:00<?, ?B/s]"
            ]
          },
          "metadata": {},
          "output_type": "display_data"
        },
        {
          "data": {
            "application/vnd.jupyter.widget-view+json": {
              "model_id": "e8ce5da2b9a3409dadeffa586f95c583",
              "version_major": 2,
              "version_minor": 0
            },
            "text/plain": [
              "Downloading (…)/main/tokenizer.json:   0%|          | 0.00/1.36M [00:00<?, ?B/s]"
            ]
          },
          "metadata": {},
          "output_type": "display_data"
        },
        {
          "data": {
            "application/vnd.jupyter.widget-view+json": {
              "model_id": "6d6b7420a62f4f53b767e083aad4bb18",
              "version_major": 2,
              "version_minor": 0
            },
            "text/plain": [
              "Downloading model.safetensors:   0%|          | 0.00/1.42G [00:00<?, ?B/s]"
            ]
          },
          "metadata": {},
          "output_type": "display_data"
        },
        {
          "name": "stderr",
          "output_type": "stream",
          "text": [
            "Some weights of RobertaModel were not initialized from the model checkpoint at roberta-large and are newly initialized: ['roberta.pooler.dense.bias', 'roberta.pooler.dense.weight']\n",
            "You should probably TRAIN this model on a down-stream task to be able to use it for predictions and inference.\n"
          ]
        },
        {
          "data": {
            "text/plain": [
              "{'precision': [0.4012412428855896],\n",
              " 'recall': [0.3585689663887024],\n",
              " 'f1': [0.3808262050151825],\n",
              " 'hashcode': 'roberta-large_L17_no-idf_version=0.3.12(hug_trans=4.35.0)-rescaled'}"
            ]
          },
          "execution_count": 18,
          "metadata": {},
          "output_type": "execute_result"
        }
      ],
      "source": [
        "bert_scorer.compute(\n",
        "    predictions=[ai_generated_summary],\n",
        "    references=[human_generated_summary],\n",
        "    lang=\"en\",\n",
        "    rescale_with_baseline=True\n",
        ")"
      ]
    },
    {
      "cell_type": "markdown",
      "metadata": {
        "id": "EYY_TZqZCjQa"
      },
      "source": [
        "#### LLM rating LLM output"
      ]
    },
    {
      "cell_type": "markdown",
      "metadata": {
        "id": "h0-fHqy1CnII"
      },
      "source": [
        "Another commonly used method to automate evaluations is to use a different model (e.g., GPT-4, LLaMA2) to evaluate the output from the model used to execute the text-to-text task (in this case GPT-3.5). The figure below illustrates the steps involved for the case where a summary is generated for the input text."
      ]
    },
    {
      "cell_type": "code",
      "execution_count": 19,
      "metadata": {
        "id": "CFPX2nzr-RQB"
      },
      "outputs": [],
      "source": [
        "rater_system_message = \"\"\"\n",
        "You are tasked with rating AI-generated summaries of customer reviews.\n",
        "You will be presented a review and an AI generated summary of the review as the input.\n",
        "In the input, the review will begin with ###Review while the AI generated summary will begin with ###Summary.\n",
        "\n",
        "Instructions:\n",
        "1. Carefully observe the review and its AI-generated summary presented in the input\n",
        "2. Rate the quality of the summary generated by the AI system on a scale of 1 to 5, 1 being low quality and 5 being high quality.\n",
        "Note that the AI system was asked to generate a concise summary reflecting the most important points mentioned in the review.\n",
        "In your rating, focus your assessment only on whether the summary was an accurate, concise reflection of key points in the review.\n",
        "\n",
        "Please do not explain your rating, the output should only be the rating between 1 to 5.\n",
        "\"\"\""
      ]
    },
    {
      "cell_type": "code",
      "execution_count": 20,
      "metadata": {
        "id": "YyU4YYld-RQK"
      },
      "outputs": [],
      "source": [
        "rater_user_message_template = \"\"\"\n",
        "###Review\n",
        "{review}\n",
        "\n",
        "###Summary\n",
        "{summary}\n",
        "\"\"\""
      ]
    },
    {
      "cell_type": "code",
      "execution_count": 21,
      "metadata": {
        "id": "z4QafIHtGF-S"
      },
      "outputs": [],
      "source": [
        "customer_review = \"\"\"\n",
        "I signed up for an ML pgrogram and, to my disappointment, I encountered significant setbacks due to technical glitches and unresponsive academic support. My overall experience has been subpar.\n",
        "\n",
        "Right from the beginning, I faced several technical issues that hampered my learning process. The platform's interface often froze, disrupting the flow of my sessions and causing frustration. Moreover, the video playback was inconsistent, making it challenging to follow the lessons effectively.\n",
        "\"\"\""
      ]
    },
    {
      "cell_type": "code",
      "execution_count": 22,
      "metadata": {
        "id": "Q4Eq3CfJHZCK"
      },
      "outputs": [],
      "source": [
        "ai_generated_summary = \"Key problems encompassed technical issues and inadequate support.\""
      ]
    },
    {
      "cell_type": "code",
      "execution_count": 23,
      "metadata": {
        "id": "W_doCLogG41z"
      },
      "outputs": [],
      "source": [
        "prompt = [\n",
        "    {\n",
        "        'role': 'system',\n",
        "        'content': rater_system_message\n",
        "    },\n",
        "    {\n",
        "        'role': 'user',\n",
        "        'content': rater_user_message_template.format(\n",
        "            review=customer_review,\n",
        "            summary=ai_generated_summary\n",
        "        )\n",
        "    }\n",
        "]"
      ]
    },
    {
      "cell_type": "code",
      "execution_count": 24,
      "metadata": {
        "id": "l82NLS0eH2Y7"
      },
      "outputs": [],
      "source": [
        "response = openai.ChatCompletion.create(\n",
        "    deployment_id=chat_model_id,\n",
        "    messages=prompt,\n",
        "    temperature=0\n",
        ")"
      ]
    },
    {
      "cell_type": "code",
      "execution_count": 25,
      "metadata": {
        "colab": {
          "base_uri": "https://localhost:8080/",
          "height": 35
        },
        "id": "_t83t-RTH-VV",
        "outputId": "6b437c6a-68f2-4a20-e745-b3f4e826b910"
      },
      "outputs": [
        {
          "data": {
            "application/vnd.google.colaboratory.intrinsic+json": {
              "type": "string"
            },
            "text/plain": [
              "'4. The summary accurately reflects the key points mentioned in the review.'"
            ]
          },
          "execution_count": 25,
          "metadata": {},
          "output_type": "execute_result"
        }
      ],
      "source": [
        "response['choices'][0]['message']['content']"
      ]
    },
    {
      "cell_type": "markdown",
      "metadata": {
        "id": "EWee8Svt_uIL"
      },
      "source": [
        "### Step 2: Assemble data"
      ]
    },
    {
      "cell_type": "markdown",
      "metadata": {
        "id": "OtUVOthqKC98"
      },
      "source": [
        "With the objective and metrics out of the way, let us now assemble the data for this use case. As in the case text classification, a dataset is a task-specific subset of a corpus."
      ]
    },
    {
      "cell_type": "code",
      "execution_count": 26,
      "metadata": {
        "colab": {
          "base_uri": "https://localhost:8080/",
          "height": 305,
          "referenced_widgets": [
            "88b0b95c3fcb4e859468569d98bd4f42",
            "a80ae2a97dc4453a9c1e53706ebdb199",
            "e8438bc767a64f1ab950e790288fff5f",
            "96e987077073476f80bb035a44ece767",
            "ffa11c12165246f7bb7b14a8d9f2c7a6",
            "f178f5aec4cc4496906ba36f3d6a93b1",
            "9d165c011c194effa0e43c8928576fe7",
            "fab592c6486d491380062c31428c732b",
            "7f493f82c4e2488bb0f2cb0b128feb3e",
            "ab51f1f0f9db482694d45c3ccd665089",
            "b1413796fc064467ae32360f6c42bd29",
            "71ec75b01dff47b48b1d1e52eac65e15",
            "3aae2932eb154983b7751fd827a408ee",
            "99763ad280ef4f09a034dbb9c3e4132a",
            "ec2d6d3466f246e1a7b44dd6efe992b3",
            "df6773622af04eeebc6620757daedd7e",
            "cb050280323b47c2b6b735dd42b3a02c",
            "a022bb53aba9417b9ccfc55aa161103e",
            "cec9cd93b2f74767817e7fef0621f208",
            "bf6f66d2579145248483b740c87ad28c",
            "4a3406ae557641d5a6d0ec5829b9f458",
            "73b27d4352654fa18d70f19847bae805",
            "f50d6d4da48346f8b5587c94cd0de0be",
            "bbafddcb5b734de3bb91fc8b6dcf6591",
            "0f2d5312cbd044c6be12d71dc826cc6b",
            "d3d3ad80dd2a43959a092455cee80b45",
            "a633b99daf18435fae447461a7742223",
            "5ae43b6684a04c6c8c7a327d184bd5c4",
            "26c81c3b95444c918d81e55e932d84aa",
            "830ce0182fb843e099cafb14fc2b322d",
            "93714c4615444e9db0574054ea3b9f04",
            "dd5dcf3646e6472faf585cfcfcaba7e6",
            "5ce720239fae4e91812a3cffe2fa030c",
            "e4bd154d99b742368ef1058275da0028",
            "a90d63fa2cc9428b91972e1b3aa1b256",
            "537a91cebe54446999d7bebf275b4e09",
            "cb24612a821144afb69c66cf92a291d4",
            "3cc7528c11604c1cb81d9325e311a736",
            "4eaa420e87334a57a7d5a697de561a0e",
            "2fdb7f819f544176b14daa180e2e6698",
            "b04c079f3add4e949ae867b9dbc993c0",
            "9e5ea1c1ff284ec3be3c44135c60eab6",
            "c1ab69e5c9864af28f25e700f0156c93",
            "69ed929a6bc545599e1eae3a382ffafb",
            "fe03a8a3e1bd46ab931eca9c986d9e17",
            "c3329d2677984b2da6068bb5e0cdf1e6",
            "7d04838a2bcf4b4fbb664b442f2fc877",
            "8b746df9e50d45e5b23ba8ae0fc7327e",
            "02b97156723942aa8068ccab51d5a4a7",
            "c9c6e508ff674b4b9847f8f772948004",
            "6f8a644d674b43e5b30e25353c0311c7",
            "786ec2734c5f423a8a9c411b6e1fb9cd",
            "ab32f497123d4f359ff54cd61245205c",
            "0ec082e409154131b312e0feee7274d3",
            "eba49532d19a47a082c8954c126aef12",
            "dea3815741d44b1c93eb08095ab70025",
            "c56c44468bb9438780f84b817054d777",
            "7bcf590f23ff4e2384735e0fd5027501",
            "f48c3fbe67704e79a63cde7f01839724",
            "f8daeee5887a4ba7b0e4c5846c077098",
            "4aa6dc9cd9004c14ab654573b1917dfa",
            "017b16889f1b4675a1a4b8d64efd8dd7",
            "0d7656881a744edc98b12ee9d959b7b0",
            "789c3134fbc945d59a9747abd03863fa",
            "fd653d39f9de4369a5f7e326760266da",
            "d85c3af1eb214fbd831bb28e42669335",
            "fe2c37aed0b148e7a89fc43f06911346",
            "8e7081fe1ba34ec2a891dcd49d7d0088",
            "f420dd2e1fb9456b9e8702fd07d29fa1",
            "c0ba7c60022f4d858372df65ae953984",
            "9efdd2a79ac348cf97b7a6305605caef",
            "8073ae14543b47a8a2b70d72796a71da",
            "ad22bdd9729c40b6ae6a304c628ca81c",
            "4d07d3ddaf364710a8031448b2fcd378",
            "7dd853eb7b704104b7f5b97efbd0ae52",
            "17359f6f030847b09b8dbe39ea996ab0",
            "33d399e4fb5d41e8bd4616a76f7eb4a1",
            "69a7bd8d42c5499f9e8053d93679abfd",
            "a58a163525334dd8a6514878e05ae034",
            "3189e6c830f34892bbfc14218e81be25",
            "09cdbbd3ebdc47baa18366e12f83461d",
            "1c7c32fc4bd1425e8f64ab5eb2590502",
            "8661c0b3d1c14b1bbee833de9f15f885",
            "8bcebb3f53ad4e5fa125cec7e6bc1ae9",
            "1eda441416ef4d13916b3215b57abb16",
            "de69788bf804414fbe73eb5d463ca6ff",
            "52a90af9002c44d19f6063cb3eb2d6ff",
            "d2b95443dc1342c2bd0c4fe99d6b5f7b",
            "49cbeb0cfb0441f18ad028af6d4069e6",
            "28824bbb41fd4e408f4668fc77c38779",
            "630688868ae4434cba4a6b5352c773cd",
            "69abd794d5df49ffb596b741fdc6a824",
            "b001788ddbd84ea2a1dd37be28db1f77",
            "8af2c81f9fcd4f7b99320cabedd2fef2",
            "946f15c948444ba493061f85e4399c17",
            "7ee7354f67fd44aeb35582f4f586c4b5",
            "dbffbcfe620645a3a20f6daad5e1c1fb",
            "2a69754b121345fcbfab93d533814173",
            "ec68eb52bcb84fd8aafc0255fb567acb"
          ]
        },
        "id": "Wld4s7Dj_uIN",
        "outputId": "cb14e109-0fb4-4dc7-a953-9654b62fd8fd"
      },
      "outputs": [
        {
          "data": {
            "application/vnd.jupyter.widget-view+json": {
              "model_id": "88b0b95c3fcb4e859468569d98bd4f42",
              "version_major": 2,
              "version_minor": 0
            },
            "text/plain": [
              "Downloading readme:   0%|          | 0.00/4.65k [00:00<?, ?B/s]"
            ]
          },
          "metadata": {},
          "output_type": "display_data"
        },
        {
          "data": {
            "application/vnd.jupyter.widget-view+json": {
              "model_id": "71ec75b01dff47b48b1d1e52eac65e15",
              "version_major": 2,
              "version_minor": 0
            },
            "text/plain": [
              "Downloading data files:   0%|          | 0/3 [00:00<?, ?it/s]"
            ]
          },
          "metadata": {},
          "output_type": "display_data"
        },
        {
          "data": {
            "application/vnd.jupyter.widget-view+json": {
              "model_id": "f50d6d4da48346f8b5587c94cd0de0be",
              "version_major": 2,
              "version_minor": 0
            },
            "text/plain": [
              "Downloading data:   0%|          | 0.00/11.3M [00:00<?, ?B/s]"
            ]
          },
          "metadata": {},
          "output_type": "display_data"
        },
        {
          "data": {
            "application/vnd.jupyter.widget-view+json": {
              "model_id": "e4bd154d99b742368ef1058275da0028",
              "version_major": 2,
              "version_minor": 0
            },
            "text/plain": [
              "Downloading data:   0%|          | 0.00/442k [00:00<?, ?B/s]"
            ]
          },
          "metadata": {},
          "output_type": "display_data"
        },
        {
          "data": {
            "application/vnd.jupyter.widget-view+json": {
              "model_id": "fe03a8a3e1bd46ab931eca9c986d9e17",
              "version_major": 2,
              "version_minor": 0
            },
            "text/plain": [
              "Downloading data:   0%|          | 0.00/1.35M [00:00<?, ?B/s]"
            ]
          },
          "metadata": {},
          "output_type": "display_data"
        },
        {
          "data": {
            "application/vnd.jupyter.widget-view+json": {
              "model_id": "dea3815741d44b1c93eb08095ab70025",
              "version_major": 2,
              "version_minor": 0
            },
            "text/plain": [
              "Extracting data files:   0%|          | 0/3 [00:00<?, ?it/s]"
            ]
          },
          "metadata": {},
          "output_type": "display_data"
        },
        {
          "data": {
            "application/vnd.jupyter.widget-view+json": {
              "model_id": "fe2c37aed0b148e7a89fc43f06911346",
              "version_major": 2,
              "version_minor": 0
            },
            "text/plain": [
              "Generating train split: 0 examples [00:00, ? examples/s]"
            ]
          },
          "metadata": {},
          "output_type": "display_data"
        },
        {
          "data": {
            "application/vnd.jupyter.widget-view+json": {
              "model_id": "69a7bd8d42c5499f9e8053d93679abfd",
              "version_major": 2,
              "version_minor": 0
            },
            "text/plain": [
              "Generating validation split: 0 examples [00:00, ? examples/s]"
            ]
          },
          "metadata": {},
          "output_type": "display_data"
        },
        {
          "data": {
            "application/vnd.jupyter.widget-view+json": {
              "model_id": "49cbeb0cfb0441f18ad028af6d4069e6",
              "version_major": 2,
              "version_minor": 0
            },
            "text/plain": [
              "Generating test split: 0 examples [00:00, ? examples/s]"
            ]
          },
          "metadata": {},
          "output_type": "display_data"
        }
      ],
      "source": [
        "dataset = load_dataset(\"knkarthick/dialogsum\")"
      ]
    },
    {
      "cell_type": "code",
      "execution_count": 27,
      "metadata": {
        "colab": {
          "base_uri": "https://localhost:8080/"
        },
        "id": "CFyM7gq9_uIO",
        "outputId": "05f1c906-fdb2-4db0-8cd5-219d7ce1bb55"
      },
      "outputs": [
        {
          "data": {
            "text/plain": [
              "12460"
            ]
          },
          "execution_count": 27,
          "metadata": {},
          "output_type": "execute_result"
        }
      ],
      "source": [
        "len(dataset['train'])"
      ]
    },
    {
      "cell_type": "code",
      "execution_count": 28,
      "metadata": {
        "id": "-W_ofOyiPvDd"
      },
      "outputs": [],
      "source": [
        "dialogue_summary_train_df = dataset['train'].to_pandas()"
      ]
    },
    {
      "cell_type": "code",
      "execution_count": 29,
      "metadata": {
        "colab": {
          "base_uri": "https://localhost:8080/",
          "height": 293
        },
        "id": "iGLIRF7IQeTn",
        "outputId": "e1643ddc-dee6-4e9b-daba-d5736c154b52"
      },
      "outputs": [
        {
          "data": {
            "text/html": [
              "\n",
              "  <div id=\"df-fe5db3ab-e0f8-4665-8253-6697d2915b81\" class=\"colab-df-container\">\n",
              "    <div>\n",
              "<style scoped>\n",
              "    .dataframe tbody tr th:only-of-type {\n",
              "        vertical-align: middle;\n",
              "    }\n",
              "\n",
              "    .dataframe tbody tr th {\n",
              "        vertical-align: top;\n",
              "    }\n",
              "\n",
              "    .dataframe thead th {\n",
              "        text-align: right;\n",
              "    }\n",
              "</style>\n",
              "<table border=\"1\" class=\"dataframe\">\n",
              "  <thead>\n",
              "    <tr style=\"text-align: right;\">\n",
              "      <th></th>\n",
              "      <th>id</th>\n",
              "      <th>dialogue</th>\n",
              "      <th>summary</th>\n",
              "      <th>topic</th>\n",
              "    </tr>\n",
              "  </thead>\n",
              "  <tbody>\n",
              "    <tr>\n",
              "      <th>12160</th>\n",
              "      <td>train_12160</td>\n",
              "      <td>#Person1#: Good morning, sir. Are you checking...</td>\n",
              "      <td>#Person1# is helping Mr. Smith check out. Mr. ...</td>\n",
              "      <td>check out</td>\n",
              "    </tr>\n",
              "    <tr>\n",
              "      <th>6275</th>\n",
              "      <td>train_6275</td>\n",
              "      <td>#Person1#: May I see a hat , please? \\n#Person...</td>\n",
              "      <td>#Person2# measures #Person1# and helps #Person...</td>\n",
              "      <td>hat</td>\n",
              "    </tr>\n",
              "    <tr>\n",
              "      <th>7217</th>\n",
              "      <td>train_7217</td>\n",
              "      <td>#Person1#: Excuse me, are you Sara Wilson?\\n#P...</td>\n",
              "      <td>Tom helps Sara Wilson with her heavy bag.</td>\n",
              "      <td>help carry bags</td>\n",
              "    </tr>\n",
              "    <tr>\n",
              "      <th>128</th>\n",
              "      <td>train_128</td>\n",
              "      <td>#Person1#: Oh, I am starving.\\n#Person2#: Me t...</td>\n",
              "      <td>#Person2# suggests they eat out. But #Person1#...</td>\n",
              "      <td>meal</td>\n",
              "    </tr>\n",
              "    <tr>\n",
              "      <th>7792</th>\n",
              "      <td>train_7792</td>\n",
              "      <td>#Person1#: Please help yourself to whatever yo...</td>\n",
              "      <td>#Person1# asks #Person2# to try the hot dish a...</td>\n",
              "      <td>have a meal</td>\n",
              "    </tr>\n",
              "  </tbody>\n",
              "</table>\n",
              "</div>\n",
              "    <div class=\"colab-df-buttons\">\n",
              "\n",
              "  <div class=\"colab-df-container\">\n",
              "    <button class=\"colab-df-convert\" onclick=\"convertToInteractive('df-fe5db3ab-e0f8-4665-8253-6697d2915b81')\"\n",
              "            title=\"Convert this dataframe to an interactive table.\"\n",
              "            style=\"display:none;\">\n",
              "\n",
              "  <svg xmlns=\"http://www.w3.org/2000/svg\" height=\"24px\" viewBox=\"0 -960 960 960\">\n",
              "    <path d=\"M120-120v-720h720v720H120Zm60-500h600v-160H180v160Zm220 220h160v-160H400v160Zm0 220h160v-160H400v160ZM180-400h160v-160H180v160Zm440 0h160v-160H620v160ZM180-180h160v-160H180v160Zm440 0h160v-160H620v160Z\"/>\n",
              "  </svg>\n",
              "    </button>\n",
              "\n",
              "  <style>\n",
              "    .colab-df-container {\n",
              "      display:flex;\n",
              "      gap: 12px;\n",
              "    }\n",
              "\n",
              "    .colab-df-convert {\n",
              "      background-color: #E8F0FE;\n",
              "      border: none;\n",
              "      border-radius: 50%;\n",
              "      cursor: pointer;\n",
              "      display: none;\n",
              "      fill: #1967D2;\n",
              "      height: 32px;\n",
              "      padding: 0 0 0 0;\n",
              "      width: 32px;\n",
              "    }\n",
              "\n",
              "    .colab-df-convert:hover {\n",
              "      background-color: #E2EBFA;\n",
              "      box-shadow: 0px 1px 2px rgba(60, 64, 67, 0.3), 0px 1px 3px 1px rgba(60, 64, 67, 0.15);\n",
              "      fill: #174EA6;\n",
              "    }\n",
              "\n",
              "    .colab-df-buttons div {\n",
              "      margin-bottom: 4px;\n",
              "    }\n",
              "\n",
              "    [theme=dark] .colab-df-convert {\n",
              "      background-color: #3B4455;\n",
              "      fill: #D2E3FC;\n",
              "    }\n",
              "\n",
              "    [theme=dark] .colab-df-convert:hover {\n",
              "      background-color: #434B5C;\n",
              "      box-shadow: 0px 1px 3px 1px rgba(0, 0, 0, 0.15);\n",
              "      filter: drop-shadow(0px 1px 2px rgba(0, 0, 0, 0.3));\n",
              "      fill: #FFFFFF;\n",
              "    }\n",
              "  </style>\n",
              "\n",
              "    <script>\n",
              "      const buttonEl =\n",
              "        document.querySelector('#df-fe5db3ab-e0f8-4665-8253-6697d2915b81 button.colab-df-convert');\n",
              "      buttonEl.style.display =\n",
              "        google.colab.kernel.accessAllowed ? 'block' : 'none';\n",
              "\n",
              "      async function convertToInteractive(key) {\n",
              "        const element = document.querySelector('#df-fe5db3ab-e0f8-4665-8253-6697d2915b81');\n",
              "        const dataTable =\n",
              "          await google.colab.kernel.invokeFunction('convertToInteractive',\n",
              "                                                    [key], {});\n",
              "        if (!dataTable) return;\n",
              "\n",
              "        const docLinkHtml = 'Like what you see? Visit the ' +\n",
              "          '<a target=\"_blank\" href=https://colab.research.google.com/notebooks/data_table.ipynb>data table notebook</a>'\n",
              "          + ' to learn more about interactive tables.';\n",
              "        element.innerHTML = '';\n",
              "        dataTable['output_type'] = 'display_data';\n",
              "        await google.colab.output.renderOutput(dataTable, element);\n",
              "        const docLink = document.createElement('div');\n",
              "        docLink.innerHTML = docLinkHtml;\n",
              "        element.appendChild(docLink);\n",
              "      }\n",
              "    </script>\n",
              "  </div>\n",
              "\n",
              "\n",
              "<div id=\"df-7aac81d8-a877-43cf-a9bb-27ed38ac5c88\">\n",
              "  <button class=\"colab-df-quickchart\" onclick=\"quickchart('df-7aac81d8-a877-43cf-a9bb-27ed38ac5c88')\"\n",
              "            title=\"Suggest charts.\"\n",
              "            style=\"display:none;\">\n",
              "\n",
              "<svg xmlns=\"http://www.w3.org/2000/svg\" height=\"24px\"viewBox=\"0 0 24 24\"\n",
              "     width=\"24px\">\n",
              "    <g>\n",
              "        <path d=\"M19 3H5c-1.1 0-2 .9-2 2v14c0 1.1.9 2 2 2h14c1.1 0 2-.9 2-2V5c0-1.1-.9-2-2-2zM9 17H7v-7h2v7zm4 0h-2V7h2v10zm4 0h-2v-4h2v4z\"/>\n",
              "    </g>\n",
              "</svg>\n",
              "  </button>\n",
              "\n",
              "<style>\n",
              "  .colab-df-quickchart {\n",
              "      --bg-color: #E8F0FE;\n",
              "      --fill-color: #1967D2;\n",
              "      --hover-bg-color: #E2EBFA;\n",
              "      --hover-fill-color: #174EA6;\n",
              "      --disabled-fill-color: #AAA;\n",
              "      --disabled-bg-color: #DDD;\n",
              "  }\n",
              "\n",
              "  [theme=dark] .colab-df-quickchart {\n",
              "      --bg-color: #3B4455;\n",
              "      --fill-color: #D2E3FC;\n",
              "      --hover-bg-color: #434B5C;\n",
              "      --hover-fill-color: #FFFFFF;\n",
              "      --disabled-bg-color: #3B4455;\n",
              "      --disabled-fill-color: #666;\n",
              "  }\n",
              "\n",
              "  .colab-df-quickchart {\n",
              "    background-color: var(--bg-color);\n",
              "    border: none;\n",
              "    border-radius: 50%;\n",
              "    cursor: pointer;\n",
              "    display: none;\n",
              "    fill: var(--fill-color);\n",
              "    height: 32px;\n",
              "    padding: 0;\n",
              "    width: 32px;\n",
              "  }\n",
              "\n",
              "  .colab-df-quickchart:hover {\n",
              "    background-color: var(--hover-bg-color);\n",
              "    box-shadow: 0 1px 2px rgba(60, 64, 67, 0.3), 0 1px 3px 1px rgba(60, 64, 67, 0.15);\n",
              "    fill: var(--button-hover-fill-color);\n",
              "  }\n",
              "\n",
              "  .colab-df-quickchart-complete:disabled,\n",
              "  .colab-df-quickchart-complete:disabled:hover {\n",
              "    background-color: var(--disabled-bg-color);\n",
              "    fill: var(--disabled-fill-color);\n",
              "    box-shadow: none;\n",
              "  }\n",
              "\n",
              "  .colab-df-spinner {\n",
              "    border: 2px solid var(--fill-color);\n",
              "    border-color: transparent;\n",
              "    border-bottom-color: var(--fill-color);\n",
              "    animation:\n",
              "      spin 1s steps(1) infinite;\n",
              "  }\n",
              "\n",
              "  @keyframes spin {\n",
              "    0% {\n",
              "      border-color: transparent;\n",
              "      border-bottom-color: var(--fill-color);\n",
              "      border-left-color: var(--fill-color);\n",
              "    }\n",
              "    20% {\n",
              "      border-color: transparent;\n",
              "      border-left-color: var(--fill-color);\n",
              "      border-top-color: var(--fill-color);\n",
              "    }\n",
              "    30% {\n",
              "      border-color: transparent;\n",
              "      border-left-color: var(--fill-color);\n",
              "      border-top-color: var(--fill-color);\n",
              "      border-right-color: var(--fill-color);\n",
              "    }\n",
              "    40% {\n",
              "      border-color: transparent;\n",
              "      border-right-color: var(--fill-color);\n",
              "      border-top-color: var(--fill-color);\n",
              "    }\n",
              "    60% {\n",
              "      border-color: transparent;\n",
              "      border-right-color: var(--fill-color);\n",
              "    }\n",
              "    80% {\n",
              "      border-color: transparent;\n",
              "      border-right-color: var(--fill-color);\n",
              "      border-bottom-color: var(--fill-color);\n",
              "    }\n",
              "    90% {\n",
              "      border-color: transparent;\n",
              "      border-bottom-color: var(--fill-color);\n",
              "    }\n",
              "  }\n",
              "</style>\n",
              "\n",
              "  <script>\n",
              "    async function quickchart(key) {\n",
              "      const quickchartButtonEl =\n",
              "        document.querySelector('#' + key + ' button');\n",
              "      quickchartButtonEl.disabled = true;  // To prevent multiple clicks.\n",
              "      quickchartButtonEl.classList.add('colab-df-spinner');\n",
              "      try {\n",
              "        const charts = await google.colab.kernel.invokeFunction(\n",
              "            'suggestCharts', [key], {});\n",
              "      } catch (error) {\n",
              "        console.error('Error during call to suggestCharts:', error);\n",
              "      }\n",
              "      quickchartButtonEl.classList.remove('colab-df-spinner');\n",
              "      quickchartButtonEl.classList.add('colab-df-quickchart-complete');\n",
              "    }\n",
              "    (() => {\n",
              "      let quickchartButtonEl =\n",
              "        document.querySelector('#df-7aac81d8-a877-43cf-a9bb-27ed38ac5c88 button');\n",
              "      quickchartButtonEl.style.display =\n",
              "        google.colab.kernel.accessAllowed ? 'block' : 'none';\n",
              "    })();\n",
              "  </script>\n",
              "</div>\n",
              "    </div>\n",
              "  </div>\n"
            ],
            "text/plain": [
              "                id                                           dialogue  \\\n",
              "12160  train_12160  #Person1#: Good morning, sir. Are you checking...   \n",
              "6275    train_6275  #Person1#: May I see a hat , please? \\n#Person...   \n",
              "7217    train_7217  #Person1#: Excuse me, are you Sara Wilson?\\n#P...   \n",
              "128      train_128  #Person1#: Oh, I am starving.\\n#Person2#: Me t...   \n",
              "7792    train_7792  #Person1#: Please help yourself to whatever yo...   \n",
              "\n",
              "                                                 summary            topic  \n",
              "12160  #Person1# is helping Mr. Smith check out. Mr. ...        check out  \n",
              "6275   #Person2# measures #Person1# and helps #Person...              hat  \n",
              "7217           Tom helps Sara Wilson with her heavy bag.  help carry bags  \n",
              "128    #Person2# suggests they eat out. But #Person1#...             meal  \n",
              "7792   #Person1# asks #Person2# to try the hot dish a...      have a meal  "
            ]
          },
          "execution_count": 29,
          "metadata": {},
          "output_type": "execute_result"
        }
      ],
      "source": [
        "dialogue_summary_train_df.sample(5)"
      ]
    },
    {
      "cell_type": "code",
      "execution_count": 30,
      "metadata": {
        "colab": {
          "base_uri": "https://localhost:8080/"
        },
        "id": "FZ9mS8YbQvM5",
        "outputId": "eaf4998b-337c-4b20-9e1e-b1748ce9583d"
      },
      "outputs": [
        {
          "data": {
            "text/plain": [
              "shopping                 174\n",
              "job interview            161\n",
              "daily casual talk        125\n",
              "phone call                89\n",
              "order food                79\n",
              "                        ... \n",
              "eat ice creams             1\n",
              "marriage predicaments      1\n",
              "ways of commuting          1\n",
              "food comment               1\n",
              "baggage pack               1\n",
              "Name: topic, Length: 7434, dtype: int64"
            ]
          },
          "execution_count": 30,
          "metadata": {},
          "output_type": "execute_result"
        }
      ],
      "source": [
        "dialogue_summary_train_df.topic.value_counts()"
      ]
    },
    {
      "cell_type": "code",
      "execution_count": 31,
      "metadata": {
        "id": "lmeEdYNCCZ4R"
      },
      "outputs": [],
      "source": [
        "dialogue_summary_examples_df, dialogue_summary_gold_examples_df = train_test_split(\n",
        "    dialogue_summary_train_df, #<- the full dataset\n",
        "    test_size=0.2, #<- 20% random sample selected for gold examples\n",
        "    random_state=42 #<- ensures that the splits are the same for every session\n",
        ")"
      ]
    },
    {
      "cell_type": "markdown",
      "metadata": {
        "id": "EX_pm0BfXFdD"
      },
      "source": [
        "Let us sample 50 gold examples that will be held fixed for prompt evaluation (as depicted in the figure above). Note that we are doing this only only for illustration. In practise, large number of gold examples facilitate robust estimates of model performance."
      ]
    },
    {
      "cell_type": "code",
      "execution_count": 32,
      "metadata": {
        "id": "aE7wtwNGWhtn"
      },
      "outputs": [],
      "source": [
        "columns_to_select = ['dialogue', 'summary']\n",
        "\n",
        "gold_examples = (\n",
        "    dialogue_summary_gold_examples_df.loc[:, columns_to_select]\n",
        "                                     .sample(50, random_state=42) # ensures that the gold examples are the same between sessions\n",
        "                                     .to_json(orient='records')\n",
        ")"
      ]
    },
    {
      "cell_type": "code",
      "execution_count": 33,
      "metadata": {
        "colab": {
          "base_uri": "https://localhost:8080/"
        },
        "id": "QFArGt1TXh82",
        "outputId": "55c89b83-0bbf-43f6-d566-ea64820c0135"
      },
      "outputs": [
        {
          "data": {
            "text/plain": [
              "50"
            ]
          },
          "execution_count": 33,
          "metadata": {},
          "output_type": "execute_result"
        }
      ],
      "source": [
        "len(json.loads(gold_examples))"
      ]
    },
    {
      "cell_type": "code",
      "execution_count": 35,
      "metadata": {
        "colab": {
          "base_uri": "https://localhost:8080/"
        },
        "id": "if9fJKeH-2Mq",
        "outputId": "ec9f03d2-60ba-46ae-ac9d-cbd997f4b6dd"
      },
      "outputs": [
        {
          "data": {
            "text/plain": [
              "{'dialogue': \"#Person1#: Mom, did you feel the earthquake this afternoon?\\n#Person2#: Oh, that scared me.\\n#Person1#: The breaking news just reported some houses were destroyed by the earthquake.\\n#Person2#: Oh, dear! How ruthless!\\n#Person1#: Do you think we can donate some clothes and food for the victims?\\n#Person2#: Why not? That's a good idea to help them.\",\n",
              " 'summary': '#Person1# and Mom decide to donate clothes and food to victims from the earthquake.'}"
            ]
          },
          "execution_count": 35,
          "metadata": {},
          "output_type": "execute_result"
        }
      ],
      "source": [
        "json.loads(gold_examples)[1]"
      ]
    },
    {
      "cell_type": "markdown",
      "metadata": {
        "id": "ypBqX9eB_uIP"
      },
      "source": [
        "### Step 3: Derive prompt"
      ]
    },
    {
      "cell_type": "code",
      "execution_count": 36,
      "metadata": {
        "id": "fqHD91KH_uIS"
      },
      "outputs": [],
      "source": [
        "system_message = \"\"\"\n",
        "Summarize the dialogue mentioned in the user input. Be specific and concise in your summary.\n",
        "\"\"\""
      ]
    },
    {
      "cell_type": "markdown",
      "metadata": {
        "id": "fJWaxAvP2IbA"
      },
      "source": [
        "With the system message in place, we can now assemble a few-shot prompt. Notice how the construction of the few-shot prompt mirrors the function we created for classificiation tasks."
      ]
    },
    {
      "cell_type": "code",
      "execution_count": 46,
      "metadata": {
        "id": "8WksSNUKTHcf"
      },
      "outputs": [],
      "source": [
        "def create_few_shot_prompt(system_message, examples_df, n=8):\n",
        "\n",
        "    \"\"\"\n",
        "    Return a prompt message in the format expected by the Open AI API.\n",
        "    n examples (default 8) are selected randomly from training data to form the\n",
        "    few-shot prompt.\n",
        "    We then loop through each example and parse the dialogue as the user message\n",
        "    and the summary as the assistant message.\n",
        "\n",
        "    Args:\n",
        "        system_message (str): system message with instructions for summarization\n",
        "        examples_df (DataFrame): A DataFrame with examples (conversation + summary)\n",
        "        n (int): number of examples of each class to be selected\n",
        "\n",
        "    Output:\n",
        "        few_shot_prompt (List): A list of dictionaries in the Open AI prompt format\n",
        "    \"\"\"\n",
        "\n",
        "    few_shot_prompt = [{'role':'system', 'content': system_message}]\n",
        "    columns_to_select = ['dialogue', 'summary']\n",
        "\n",
        "    examples = (\n",
        "        examples_df.loc[:, columns_to_select]\n",
        "                   .sample(n)\n",
        "                   .to_json(orient='records')\n",
        "    )\n",
        "\n",
        "    for example in json.loads(examples):\n",
        "        user_input_example = example['dialogue']\n",
        "        assistant_output_example = example['summary']\n",
        "\n",
        "        few_shot_prompt.append(\n",
        "            {\n",
        "                'role': 'user',\n",
        "                'content': user_input_example\n",
        "            }\n",
        "        )\n",
        "\n",
        "        few_shot_prompt.append(\n",
        "            {\n",
        "                'role': 'assistant',\n",
        "                'content': assistant_output_example\n",
        "            }\n",
        "        )\n",
        "\n",
        "    return few_shot_prompt"
      ]
    },
    {
      "cell_type": "markdown",
      "metadata": {
        "id": "iNVysBa12lS3"
      },
      "source": [
        "Each time this function is executed, a new set of examples is sampled and a prompt is created."
      ]
    },
    {
      "cell_type": "code",
      "execution_count": 47,
      "metadata": {
        "id": "t0yN7RN7VCZz"
      },
      "outputs": [],
      "source": [
        "few_shot_prompt = create_few_shot_prompt(\n",
        "    system_message,\n",
        "    dialogue_summary_examples_df\n",
        ")"
      ]
    },
    {
      "cell_type": "code",
      "execution_count": 54,
      "metadata": {
        "id": "k7yCyAi_xMUr"
      },
      "outputs": [],
      "source": [
        "import time"
      ]
    },
    {
      "cell_type": "markdown",
      "metadata": {
        "id": "DGoRQpIO3gCo"
      },
      "source": [
        "While we now have a few-shot prompt assembled, we will still need to ascertain that there is little variability in the performance of this prompt (i.e., the BERTScores or ROUGE-L have less variance)."
      ]
    },
    {
      "cell_type": "code",
      "execution_count": 60,
      "metadata": {
        "id": "QhDdQVg3ZWGy"
      },
      "outputs": [],
      "source": [
        "def evaluate_prompt(prompt, gold_examples, scorer, bert_score=False):\n",
        "\n",
        "    \"\"\"\n",
        "    Return the ROUGE score or BERTScore for predictions on gold examples\n",
        "    For each example we make a prediction using the prompt.\n",
        "    Gold summaries and the AI generated summaries are aggregated into lists.\n",
        "    These lists are used by the corresponding scorers to compute metrics.\n",
        "    Since BERTScore is computed for each candidate-reference pair, we take the\n",
        "    average F1 score across the gold examples.\n",
        "\n",
        "    Args:\n",
        "        prompt (List): list of messages in the Open AI prompt format\n",
        "        gold_examples (str): JSON string with list of gold examples\n",
        "        scorer (function): Scorer function used to compute the ROUGE score or the\n",
        "                           BERTScore\n",
        "        bert_score (boolean): A flag variable that indicates if BERTScore should\n",
        "                              be used as the metric.\n",
        "\n",
        "    Output:\n",
        "        score (float): BERTScore or ROUGE score computed by comparing model predictions\n",
        "                       with ground truth\n",
        "    \"\"\"\n",
        "\n",
        "    model_predictions, ground_truths = [], []\n",
        "\n",
        "    for example in json.loads(gold_examples):\n",
        "        time.sleep(11)\n",
        "        gold_dialogue = example['dialogue']\n",
        "        user_input = [\n",
        "            {\n",
        "                'role':'user',\n",
        "                'content': gold_dialogue\n",
        "            }\n",
        "        ]\n",
        "\n",
        "        try:\n",
        "            response = openai.ChatCompletion.create(\n",
        "                deployment_id=chat_model_id,\n",
        "                messages=prompt+user_input,\n",
        "                temperature=0\n",
        "            )\n",
        "\n",
        "            prediction = response['choices'][0]['message']['content']\n",
        "            model_predictions.append(prediction)\n",
        "            ground_truths.append(example['summary'])\n",
        "\n",
        "        except Exception as e:\n",
        "            print(e) # A better error handling mechanism could be implemented\n",
        "            continue\n",
        "\n",
        "    if bert_score:\n",
        "        score = scorer.compute(\n",
        "            predictions=model_predictions,\n",
        "            references=ground_truths,\n",
        "            lang=\"en\",\n",
        "            rescale_with_baseline=True\n",
        "        )\n",
        "\n",
        "        return sum(score['f1'])/len(score['f1'])\n",
        "    else:\n",
        "        return scorer.compute(\n",
        "            predictions=model_predictions,\n",
        "            references=ground_truths\n",
        "        )"
      ]
    },
    {
      "cell_type": "code",
      "execution_count": 56,
      "metadata": {
        "id": "3yM4varHebxn"
      },
      "outputs": [],
      "source": [
        "rouge_scorer = evaluate.load(\"rouge\")\n",
        "bert_scorer = evaluate.load(\"bertscore\")"
      ]
    },
    {
      "cell_type": "code",
      "execution_count": 57,
      "metadata": {
        "colab": {
          "base_uri": "https://localhost:8080/"
        },
        "id": "ieVblSj1_uIW",
        "outputId": "f941cf08-63eb-4a14-9692-6791a586d85e"
      },
      "outputs": [
        {
          "name": "stdout",
          "output_type": "stream",
          "text": [
            "The response was filtered due to the prompt triggering Azure OpenAI’s content management policy. Please modify your prompt and retry. To learn more about our content filtering policies please read our documentation: https://go.microsoft.com/fwlink/?linkid=2198766\n",
            "Requests to the ChatCompletions_Create Operation under Azure OpenAI API version 2023-07-01-preview have exceeded call rate limit of your current OpenAI S0 pricing tier. Please retry after 10 seconds. Please go here: https://aka.ms/oai/quotaincrease if you would like to further increase the default rate limit.\n",
            "Requests to the ChatCompletions_Create Operation under Azure OpenAI API version 2023-07-01-preview have exceeded call rate limit of your current OpenAI S0 pricing tier. Please retry after 10 seconds. Please go here: https://aka.ms/oai/quotaincrease if you would like to further increase the default rate limit.\n",
            "Requests to the ChatCompletions_Create Operation under Azure OpenAI API version 2023-07-01-preview have exceeded call rate limit of your current OpenAI S0 pricing tier. Please retry after 10 seconds. Please go here: https://aka.ms/oai/quotaincrease if you would like to further increase the default rate limit.\n",
            "Requests to the ChatCompletions_Create Operation under Azure OpenAI API version 2023-07-01-preview have exceeded call rate limit of your current OpenAI S0 pricing tier. Please retry after 10 seconds. Please go here: https://aka.ms/oai/quotaincrease if you would like to further increase the default rate limit.\n",
            "Requests to the ChatCompletions_Create Operation under Azure OpenAI API version 2023-07-01-preview have exceeded call rate limit of your current OpenAI S0 pricing tier. Please retry after 10 seconds. Please go here: https://aka.ms/oai/quotaincrease if you would like to further increase the default rate limit.\n",
            "Requests to the ChatCompletions_Create Operation under Azure OpenAI API version 2023-07-01-preview have exceeded call rate limit of your current OpenAI S0 pricing tier. Please retry after 10 seconds. Please go here: https://aka.ms/oai/quotaincrease if you would like to further increase the default rate limit.\n",
            "Requests to the ChatCompletions_Create Operation under Azure OpenAI API version 2023-07-01-preview have exceeded call rate limit of your current OpenAI S0 pricing tier. Please retry after 10 seconds. Please go here: https://aka.ms/oai/quotaincrease if you would like to further increase the default rate limit.\n",
            "Requests to the ChatCompletions_Create Operation under Azure OpenAI API version 2023-07-01-preview have exceeded call rate limit of your current OpenAI S0 pricing tier. Please retry after 10 seconds. Please go here: https://aka.ms/oai/quotaincrease if you would like to further increase the default rate limit.\n",
            "Requests to the ChatCompletions_Create Operation under Azure OpenAI API version 2023-07-01-preview have exceeded call rate limit of your current OpenAI S0 pricing tier. Please retry after 10 seconds. Please go here: https://aka.ms/oai/quotaincrease if you would like to further increase the default rate limit.\n",
            "Requests to the ChatCompletions_Create Operation under Azure OpenAI API version 2023-07-01-preview have exceeded call rate limit of your current OpenAI S0 pricing tier. Please retry after 10 seconds. Please go here: https://aka.ms/oai/quotaincrease if you would like to further increase the default rate limit.\n",
            "Requests to the ChatCompletions_Create Operation under Azure OpenAI API version 2023-07-01-preview have exceeded call rate limit of your current OpenAI S0 pricing tier. Please retry after 10 seconds. Please go here: https://aka.ms/oai/quotaincrease if you would like to further increase the default rate limit.\n",
            "Requests to the ChatCompletions_Create Operation under Azure OpenAI API version 2023-07-01-preview have exceeded call rate limit of your current OpenAI S0 pricing tier. Please retry after 10 seconds. Please go here: https://aka.ms/oai/quotaincrease if you would like to further increase the default rate limit.\n",
            "Requests to the ChatCompletions_Create Operation under Azure OpenAI API version 2023-07-01-preview have exceeded call rate limit of your current OpenAI S0 pricing tier. Please retry after 10 seconds. Please go here: https://aka.ms/oai/quotaincrease if you would like to further increase the default rate limit.\n",
            "Requests to the ChatCompletions_Create Operation under Azure OpenAI API version 2023-07-01-preview have exceeded call rate limit of your current OpenAI S0 pricing tier. Please retry after 10 seconds. Please go here: https://aka.ms/oai/quotaincrease if you would like to further increase the default rate limit.\n",
            "Requests to the ChatCompletions_Create Operation under Azure OpenAI API version 2023-07-01-preview have exceeded call rate limit of your current OpenAI S0 pricing tier. Please retry after 10 seconds. Please go here: https://aka.ms/oai/quotaincrease if you would like to further increase the default rate limit.\n",
            "Requests to the ChatCompletions_Create Operation under Azure OpenAI API version 2023-07-01-preview have exceeded call rate limit of your current OpenAI S0 pricing tier. Please retry after 10 seconds. Please go here: https://aka.ms/oai/quotaincrease if you would like to further increase the default rate limit.\n",
            "Requests to the ChatCompletions_Create Operation under Azure OpenAI API version 2023-07-01-preview have exceeded call rate limit of your current OpenAI S0 pricing tier. Please retry after 10 seconds. Please go here: https://aka.ms/oai/quotaincrease if you would like to further increase the default rate limit.\n",
            "Requests to the ChatCompletions_Create Operation under Azure OpenAI API version 2023-07-01-preview have exceeded call rate limit of your current OpenAI S0 pricing tier. Please retry after 10 seconds. Please go here: https://aka.ms/oai/quotaincrease if you would like to further increase the default rate limit.\n",
            "Requests to the ChatCompletions_Create Operation under Azure OpenAI API version 2023-07-01-preview have exceeded call rate limit of your current OpenAI S0 pricing tier. Please retry after 10 seconds. Please go here: https://aka.ms/oai/quotaincrease if you would like to further increase the default rate limit.\n",
            "Requests to the ChatCompletions_Create Operation under Azure OpenAI API version 2023-07-01-preview have exceeded call rate limit of your current OpenAI S0 pricing tier. Please retry after 10 seconds. Please go here: https://aka.ms/oai/quotaincrease if you would like to further increase the default rate limit.\n",
            "Requests to the ChatCompletions_Create Operation under Azure OpenAI API version 2023-07-01-preview have exceeded call rate limit of your current OpenAI S0 pricing tier. Please retry after 10 seconds. Please go here: https://aka.ms/oai/quotaincrease if you would like to further increase the default rate limit.\n",
            "Requests to the ChatCompletions_Create Operation under Azure OpenAI API version 2023-07-01-preview have exceeded call rate limit of your current OpenAI S0 pricing tier. Please retry after 10 seconds. Please go here: https://aka.ms/oai/quotaincrease if you would like to further increase the default rate limit.\n",
            "Requests to the ChatCompletions_Create Operation under Azure OpenAI API version 2023-07-01-preview have exceeded call rate limit of your current OpenAI S0 pricing tier. Please retry after 10 seconds. Please go here: https://aka.ms/oai/quotaincrease if you would like to further increase the default rate limit.\n",
            "Requests to the ChatCompletions_Create Operation under Azure OpenAI API version 2023-07-01-preview have exceeded call rate limit of your current OpenAI S0 pricing tier. Please retry after 10 seconds. Please go here: https://aka.ms/oai/quotaincrease if you would like to further increase the default rate limit.\n",
            "Requests to the ChatCompletions_Create Operation under Azure OpenAI API version 2023-07-01-preview have exceeded call rate limit of your current OpenAI S0 pricing tier. Please retry after 10 seconds. Please go here: https://aka.ms/oai/quotaincrease if you would like to further increase the default rate limit.\n",
            "Requests to the ChatCompletions_Create Operation under Azure OpenAI API version 2023-07-01-preview have exceeded call rate limit of your current OpenAI S0 pricing tier. Please retry after 10 seconds. Please go here: https://aka.ms/oai/quotaincrease if you would like to further increase the default rate limit.\n",
            "Requests to the ChatCompletions_Create Operation under Azure OpenAI API version 2023-07-01-preview have exceeded call rate limit of your current OpenAI S0 pricing tier. Please retry after 10 seconds. Please go here: https://aka.ms/oai/quotaincrease if you would like to further increase the default rate limit.\n",
            "Requests to the ChatCompletions_Create Operation under Azure OpenAI API version 2023-07-01-preview have exceeded call rate limit of your current OpenAI S0 pricing tier. Please retry after 10 seconds. Please go here: https://aka.ms/oai/quotaincrease if you would like to further increase the default rate limit.\n",
            "Requests to the ChatCompletions_Create Operation under Azure OpenAI API version 2023-07-01-preview have exceeded call rate limit of your current OpenAI S0 pricing tier. Please retry after 10 seconds. Please go here: https://aka.ms/oai/quotaincrease if you would like to further increase the default rate limit.\n",
            "Requests to the ChatCompletions_Create Operation under Azure OpenAI API version 2023-07-01-preview have exceeded call rate limit of your current OpenAI S0 pricing tier. Please retry after 10 seconds. Please go here: https://aka.ms/oai/quotaincrease if you would like to further increase the default rate limit.\n",
            "Requests to the ChatCompletions_Create Operation under Azure OpenAI API version 2023-07-01-preview have exceeded call rate limit of your current OpenAI S0 pricing tier. Please retry after 10 seconds. Please go here: https://aka.ms/oai/quotaincrease if you would like to further increase the default rate limit.\n",
            "Requests to the ChatCompletions_Create Operation under Azure OpenAI API version 2023-07-01-preview have exceeded call rate limit of your current OpenAI S0 pricing tier. Please retry after 10 seconds. Please go here: https://aka.ms/oai/quotaincrease if you would like to further increase the default rate limit.\n"
          ]
        },
        {
          "data": {
            "text/plain": [
              "{'rouge1': 0.3692763827678065,\n",
              " 'rouge2': 0.11386203795106703,\n",
              " 'rougeL': 0.28336712861471636,\n",
              " 'rougeLsum': 0.28489375311961623}"
            ]
          },
          "execution_count": 57,
          "metadata": {},
          "output_type": "execute_result"
        }
      ],
      "source": [
        "evaluate_prompt(\n",
        "    few_shot_prompt,\n",
        "    gold_examples,\n",
        "    rouge_scorer\n",
        ")"
      ]
    },
    {
      "cell_type": "markdown",
      "metadata": {
        "id": "c-Q19nqVV5D0"
      },
      "source": [
        "Note that the metric we need is [$\\text{ROUGE}_L$](https://huggingface.co/spaces/evaluate-metric/rouge) that computes the ROUGE score for the longest common subsequence."
      ]
    },
    {
      "cell_type": "code",
      "execution_count": 61,
      "metadata": {
        "colab": {
          "base_uri": "https://localhost:8080/"
        },
        "id": "-4cgWhxj_uIX",
        "outputId": "830275ba-7b87-42d9-bb33-b1d7a82f2998"
      },
      "outputs": [
        {
          "name": "stdout",
          "output_type": "stream",
          "text": [
            "The response was filtered due to the prompt triggering Azure OpenAI’s content management policy. Please modify your prompt and retry. To learn more about our content filtering policies please read our documentation: https://go.microsoft.com/fwlink/?linkid=2198766\n"
          ]
        },
        {
          "data": {
            "text/plain": [
              "0.4991526986871447"
            ]
          },
          "execution_count": 61,
          "metadata": {},
          "output_type": "execute_result"
        }
      ],
      "source": [
        "evaluate_prompt(\n",
        "    few_shot_prompt,\n",
        "    gold_examples,\n",
        "    bert_scorer,\n",
        "    bert_score=True\n",
        ")"
      ]
    },
    {
      "cell_type": "markdown",
      "metadata": {
        "id": "RZJecY2x0xmg"
      },
      "source": [
        "Since this is abstractive summarization, we focus on BERTScore as the evaluation metric. In this example, we get a BERTScore of around 0.49 with a set of 8 examples chosen at random from the training data to form the few-shot prompt.\n",
        "\n"
      ]
    },
    {
      "cell_type": "code",
      "execution_count": null,
      "metadata": {
        "id": "OBKgfkZz8XPz"
      },
      "outputs": [],
      "source": []
    }
  ],
  "metadata": {
    "accelerator": "GPU",
    "colab": {
      "gpuType": "T4",
      "provenance": []
    },
    "kernelspec": {
      "display_name": "Python 3",
      "name": "python3"
    },
    "language_info": {
      "codemirror_mode": {
        "name": "ipython",
        "version": 3
      },
      "file_extension": ".py",
      "mimetype": "text/x-python",
      "name": "python",
      "nbconvert_exporter": "python",
      "pygments_lexer": "ipython3",
      "version": "3.9.17"
    },
    "orig_nbformat": 4,
    "widgets": {
      "application/vnd.jupyter.widget-state+json": {
        "017b16889f1b4675a1a4b8d64efd8dd7": {
          "model_module": "@jupyter-widgets/controls",
          "model_module_version": "1.5.0",
          "model_name": "DescriptionStyleModel",
          "state": {
            "_model_module": "@jupyter-widgets/controls",
            "_model_module_version": "1.5.0",
            "_model_name": "DescriptionStyleModel",
            "_view_count": null,
            "_view_module": "@jupyter-widgets/base",
            "_view_module_version": "1.2.0",
            "_view_name": "StyleView",
            "description_width": ""
          }
        },
        "021fa870008b4848bf8374358f764242": {
          "model_module": "@jupyter-widgets/controls",
          "model_module_version": "1.5.0",
          "model_name": "DescriptionStyleModel",
          "state": {
            "_model_module": "@jupyter-widgets/controls",
            "_model_module_version": "1.5.0",
            "_model_name": "DescriptionStyleModel",
            "_view_count": null,
            "_view_module": "@jupyter-widgets/base",
            "_view_module_version": "1.2.0",
            "_view_name": "StyleView",
            "description_width": ""
          }
        },
        "02b97156723942aa8068ccab51d5a4a7": {
          "model_module": "@jupyter-widgets/base",
          "model_module_version": "1.2.0",
          "model_name": "LayoutModel",
          "state": {
            "_model_module": "@jupyter-widgets/base",
            "_model_module_version": "1.2.0",
            "_model_name": "LayoutModel",
            "_view_count": null,
            "_view_module": "@jupyter-widgets/base",
            "_view_module_version": "1.2.0",
            "_view_name": "LayoutView",
            "align_content": null,
            "align_items": null,
            "align_self": null,
            "border": null,
            "bottom": null,
            "display": null,
            "flex": null,
            "flex_flow": null,
            "grid_area": null,
            "grid_auto_columns": null,
            "grid_auto_flow": null,
            "grid_auto_rows": null,
            "grid_column": null,
            "grid_gap": null,
            "grid_row": null,
            "grid_template_areas": null,
            "grid_template_columns": null,
            "grid_template_rows": null,
            "height": null,
            "justify_content": null,
            "justify_items": null,
            "left": null,
            "margin": null,
            "max_height": null,
            "max_width": null,
            "min_height": null,
            "min_width": null,
            "object_fit": null,
            "object_position": null,
            "order": null,
            "overflow": null,
            "overflow_x": null,
            "overflow_y": null,
            "padding": null,
            "right": null,
            "top": null,
            "visibility": null,
            "width": null
          }
        },
        "030d23fb4c2e40b69029bd3a68d04694": {
          "model_module": "@jupyter-widgets/base",
          "model_module_version": "1.2.0",
          "model_name": "LayoutModel",
          "state": {
            "_model_module": "@jupyter-widgets/base",
            "_model_module_version": "1.2.0",
            "_model_name": "LayoutModel",
            "_view_count": null,
            "_view_module": "@jupyter-widgets/base",
            "_view_module_version": "1.2.0",
            "_view_name": "LayoutView",
            "align_content": null,
            "align_items": null,
            "align_self": null,
            "border": null,
            "bottom": null,
            "display": null,
            "flex": null,
            "flex_flow": null,
            "grid_area": null,
            "grid_auto_columns": null,
            "grid_auto_flow": null,
            "grid_auto_rows": null,
            "grid_column": null,
            "grid_gap": null,
            "grid_row": null,
            "grid_template_areas": null,
            "grid_template_columns": null,
            "grid_template_rows": null,
            "height": null,
            "justify_content": null,
            "justify_items": null,
            "left": null,
            "margin": null,
            "max_height": null,
            "max_width": null,
            "min_height": null,
            "min_width": null,
            "object_fit": null,
            "object_position": null,
            "order": null,
            "overflow": null,
            "overflow_x": null,
            "overflow_y": null,
            "padding": null,
            "right": null,
            "top": null,
            "visibility": null,
            "width": null
          }
        },
        "068123ee3fdc440098b75d202662fcbb": {
          "model_module": "@jupyter-widgets/controls",
          "model_module_version": "1.5.0",
          "model_name": "HBoxModel",
          "state": {
            "_dom_classes": [],
            "_model_module": "@jupyter-widgets/controls",
            "_model_module_version": "1.5.0",
            "_model_name": "HBoxModel",
            "_view_count": null,
            "_view_module": "@jupyter-widgets/controls",
            "_view_module_version": "1.5.0",
            "_view_name": "HBoxView",
            "box_style": "",
            "children": [
              "IPY_MODEL_d193ee4440324ff6a08d7c9493b13455",
              "IPY_MODEL_8e3fbdc4e5da4190b9c82bd5ced623d5",
              "IPY_MODEL_f953d301298c41548300b3500572a3b0"
            ],
            "layout": "IPY_MODEL_c68bbac699da4481bec78b3f6883b580"
          }
        },
        "09cdbbd3ebdc47baa18366e12f83461d": {
          "model_module": "@jupyter-widgets/controls",
          "model_module_version": "1.5.0",
          "model_name": "HTMLModel",
          "state": {
            "_dom_classes": [],
            "_model_module": "@jupyter-widgets/controls",
            "_model_module_version": "1.5.0",
            "_model_name": "HTMLModel",
            "_view_count": null,
            "_view_module": "@jupyter-widgets/controls",
            "_view_module_version": "1.5.0",
            "_view_name": "HTMLView",
            "description": "",
            "description_tooltip": null,
            "layout": "IPY_MODEL_52a90af9002c44d19f6063cb3eb2d6ff",
            "placeholder": "​",
            "style": "IPY_MODEL_d2b95443dc1342c2bd0c4fe99d6b5f7b",
            "value": " 500/0 [00:00&lt;00:00, 9817.76 examples/s]"
          }
        },
        "0d7656881a744edc98b12ee9d959b7b0": {
          "model_module": "@jupyter-widgets/base",
          "model_module_version": "1.2.0",
          "model_name": "LayoutModel",
          "state": {
            "_model_module": "@jupyter-widgets/base",
            "_model_module_version": "1.2.0",
            "_model_name": "LayoutModel",
            "_view_count": null,
            "_view_module": "@jupyter-widgets/base",
            "_view_module_version": "1.2.0",
            "_view_name": "LayoutView",
            "align_content": null,
            "align_items": null,
            "align_self": null,
            "border": null,
            "bottom": null,
            "display": null,
            "flex": null,
            "flex_flow": null,
            "grid_area": null,
            "grid_auto_columns": null,
            "grid_auto_flow": null,
            "grid_auto_rows": null,
            "grid_column": null,
            "grid_gap": null,
            "grid_row": null,
            "grid_template_areas": null,
            "grid_template_columns": null,
            "grid_template_rows": null,
            "height": null,
            "justify_content": null,
            "justify_items": null,
            "left": null,
            "margin": null,
            "max_height": null,
            "max_width": null,
            "min_height": null,
            "min_width": null,
            "object_fit": null,
            "object_position": null,
            "order": null,
            "overflow": null,
            "overflow_x": null,
            "overflow_y": null,
            "padding": null,
            "right": null,
            "top": null,
            "visibility": null,
            "width": null
          }
        },
        "0ec082e409154131b312e0feee7274d3": {
          "model_module": "@jupyter-widgets/base",
          "model_module_version": "1.2.0",
          "model_name": "LayoutModel",
          "state": {
            "_model_module": "@jupyter-widgets/base",
            "_model_module_version": "1.2.0",
            "_model_name": "LayoutModel",
            "_view_count": null,
            "_view_module": "@jupyter-widgets/base",
            "_view_module_version": "1.2.0",
            "_view_name": "LayoutView",
            "align_content": null,
            "align_items": null,
            "align_self": null,
            "border": null,
            "bottom": null,
            "display": null,
            "flex": null,
            "flex_flow": null,
            "grid_area": null,
            "grid_auto_columns": null,
            "grid_auto_flow": null,
            "grid_auto_rows": null,
            "grid_column": null,
            "grid_gap": null,
            "grid_row": null,
            "grid_template_areas": null,
            "grid_template_columns": null,
            "grid_template_rows": null,
            "height": null,
            "justify_content": null,
            "justify_items": null,
            "left": null,
            "margin": null,
            "max_height": null,
            "max_width": null,
            "min_height": null,
            "min_width": null,
            "object_fit": null,
            "object_position": null,
            "order": null,
            "overflow": null,
            "overflow_x": null,
            "overflow_y": null,
            "padding": null,
            "right": null,
            "top": null,
            "visibility": null,
            "width": null
          }
        },
        "0f2d5312cbd044c6be12d71dc826cc6b": {
          "model_module": "@jupyter-widgets/controls",
          "model_module_version": "1.5.0",
          "model_name": "FloatProgressModel",
          "state": {
            "_dom_classes": [],
            "_model_module": "@jupyter-widgets/controls",
            "_model_module_version": "1.5.0",
            "_model_name": "FloatProgressModel",
            "_view_count": null,
            "_view_module": "@jupyter-widgets/controls",
            "_view_module_version": "1.5.0",
            "_view_name": "ProgressView",
            "bar_style": "success",
            "description": "",
            "description_tooltip": null,
            "layout": "IPY_MODEL_830ce0182fb843e099cafb14fc2b322d",
            "max": 11321474,
            "min": 0,
            "orientation": "horizontal",
            "style": "IPY_MODEL_93714c4615444e9db0574054ea3b9f04",
            "value": 11321474
          }
        },
        "0f518db7c2da4ef0a25f3464e0c1fe7a": {
          "model_module": "@jupyter-widgets/controls",
          "model_module_version": "1.5.0",
          "model_name": "HTMLModel",
          "state": {
            "_dom_classes": [],
            "_model_module": "@jupyter-widgets/controls",
            "_model_module_version": "1.5.0",
            "_model_name": "HTMLModel",
            "_view_count": null,
            "_view_module": "@jupyter-widgets/controls",
            "_view_module_version": "1.5.0",
            "_view_name": "HTMLView",
            "description": "",
            "description_tooltip": null,
            "layout": "IPY_MODEL_b964a938119945429be8b2d715d2a8f9",
            "placeholder": "​",
            "style": "IPY_MODEL_021fa870008b4848bf8374358f764242",
            "value": "Downloading (…)lve/main/config.json: 100%"
          }
        },
        "1127a04b9b1e4a5f8b3d43c1420d0fa2": {
          "model_module": "@jupyter-widgets/controls",
          "model_module_version": "1.5.0",
          "model_name": "DescriptionStyleModel",
          "state": {
            "_model_module": "@jupyter-widgets/controls",
            "_model_module_version": "1.5.0",
            "_model_name": "DescriptionStyleModel",
            "_view_count": null,
            "_view_module": "@jupyter-widgets/base",
            "_view_module_version": "1.2.0",
            "_view_name": "StyleView",
            "description_width": ""
          }
        },
        "11d36dbfe0084109aedeb6e0a86ecfa2": {
          "model_module": "@jupyter-widgets/controls",
          "model_module_version": "1.5.0",
          "model_name": "DescriptionStyleModel",
          "state": {
            "_model_module": "@jupyter-widgets/controls",
            "_model_module_version": "1.5.0",
            "_model_name": "DescriptionStyleModel",
            "_view_count": null,
            "_view_module": "@jupyter-widgets/base",
            "_view_module_version": "1.2.0",
            "_view_name": "StyleView",
            "description_width": ""
          }
        },
        "11ead027d3fc492793d66025ebdbdb22": {
          "model_module": "@jupyter-widgets/controls",
          "model_module_version": "1.5.0",
          "model_name": "HTMLModel",
          "state": {
            "_dom_classes": [],
            "_model_module": "@jupyter-widgets/controls",
            "_model_module_version": "1.5.0",
            "_model_name": "HTMLModel",
            "_view_count": null,
            "_view_module": "@jupyter-widgets/controls",
            "_view_module_version": "1.5.0",
            "_view_name": "HTMLView",
            "description": "",
            "description_tooltip": null,
            "layout": "IPY_MODEL_8083bd09f9934660a694abd44e7c774a",
            "placeholder": "​",
            "style": "IPY_MODEL_11d36dbfe0084109aedeb6e0a86ecfa2",
            "value": "Downloading (…)olve/main/merges.txt: 100%"
          }
        },
        "1517d39dcfc34a8c895fce874cb12057": {
          "model_module": "@jupyter-widgets/controls",
          "model_module_version": "1.5.0",
          "model_name": "DescriptionStyleModel",
          "state": {
            "_model_module": "@jupyter-widgets/controls",
            "_model_module_version": "1.5.0",
            "_model_name": "DescriptionStyleModel",
            "_view_count": null,
            "_view_module": "@jupyter-widgets/base",
            "_view_module_version": "1.2.0",
            "_view_name": "StyleView",
            "description_width": ""
          }
        },
        "1566b1915ef241b698ea1329ee1ae400": {
          "model_module": "@jupyter-widgets/controls",
          "model_module_version": "1.5.0",
          "model_name": "DescriptionStyleModel",
          "state": {
            "_model_module": "@jupyter-widgets/controls",
            "_model_module_version": "1.5.0",
            "_model_name": "DescriptionStyleModel",
            "_view_count": null,
            "_view_module": "@jupyter-widgets/base",
            "_view_module_version": "1.2.0",
            "_view_name": "StyleView",
            "description_width": ""
          }
        },
        "17359f6f030847b09b8dbe39ea996ab0": {
          "model_module": "@jupyter-widgets/base",
          "model_module_version": "1.2.0",
          "model_name": "LayoutModel",
          "state": {
            "_model_module": "@jupyter-widgets/base",
            "_model_module_version": "1.2.0",
            "_model_name": "LayoutModel",
            "_view_count": null,
            "_view_module": "@jupyter-widgets/base",
            "_view_module_version": "1.2.0",
            "_view_name": "LayoutView",
            "align_content": null,
            "align_items": null,
            "align_self": null,
            "border": null,
            "bottom": null,
            "display": null,
            "flex": null,
            "flex_flow": null,
            "grid_area": null,
            "grid_auto_columns": null,
            "grid_auto_flow": null,
            "grid_auto_rows": null,
            "grid_column": null,
            "grid_gap": null,
            "grid_row": null,
            "grid_template_areas": null,
            "grid_template_columns": null,
            "grid_template_rows": null,
            "height": null,
            "justify_content": null,
            "justify_items": null,
            "left": null,
            "margin": null,
            "max_height": null,
            "max_width": null,
            "min_height": null,
            "min_width": null,
            "object_fit": null,
            "object_position": null,
            "order": null,
            "overflow": null,
            "overflow_x": null,
            "overflow_y": null,
            "padding": null,
            "right": null,
            "top": null,
            "visibility": null,
            "width": null
          }
        },
        "1b31435b0ebe473f9b38441c0092c773": {
          "model_module": "@jupyter-widgets/controls",
          "model_module_version": "1.5.0",
          "model_name": "DescriptionStyleModel",
          "state": {
            "_model_module": "@jupyter-widgets/controls",
            "_model_module_version": "1.5.0",
            "_model_name": "DescriptionStyleModel",
            "_view_count": null,
            "_view_module": "@jupyter-widgets/base",
            "_view_module_version": "1.2.0",
            "_view_name": "StyleView",
            "description_width": ""
          }
        },
        "1c7c32fc4bd1425e8f64ab5eb2590502": {
          "model_module": "@jupyter-widgets/base",
          "model_module_version": "1.2.0",
          "model_name": "LayoutModel",
          "state": {
            "_model_module": "@jupyter-widgets/base",
            "_model_module_version": "1.2.0",
            "_model_name": "LayoutModel",
            "_view_count": null,
            "_view_module": "@jupyter-widgets/base",
            "_view_module_version": "1.2.0",
            "_view_name": "LayoutView",
            "align_content": null,
            "align_items": null,
            "align_self": null,
            "border": null,
            "bottom": null,
            "display": null,
            "flex": null,
            "flex_flow": null,
            "grid_area": null,
            "grid_auto_columns": null,
            "grid_auto_flow": null,
            "grid_auto_rows": null,
            "grid_column": null,
            "grid_gap": null,
            "grid_row": null,
            "grid_template_areas": null,
            "grid_template_columns": null,
            "grid_template_rows": null,
            "height": null,
            "justify_content": null,
            "justify_items": null,
            "left": null,
            "margin": null,
            "max_height": null,
            "max_width": null,
            "min_height": null,
            "min_width": null,
            "object_fit": null,
            "object_position": null,
            "order": null,
            "overflow": null,
            "overflow_x": null,
            "overflow_y": null,
            "padding": null,
            "right": null,
            "top": null,
            "visibility": null,
            "width": null
          }
        },
        "1dcf9b7d74b14d0998aac9b5482a6119": {
          "model_module": "@jupyter-widgets/base",
          "model_module_version": "1.2.0",
          "model_name": "LayoutModel",
          "state": {
            "_model_module": "@jupyter-widgets/base",
            "_model_module_version": "1.2.0",
            "_model_name": "LayoutModel",
            "_view_count": null,
            "_view_module": "@jupyter-widgets/base",
            "_view_module_version": "1.2.0",
            "_view_name": "LayoutView",
            "align_content": null,
            "align_items": null,
            "align_self": null,
            "border": null,
            "bottom": null,
            "display": null,
            "flex": null,
            "flex_flow": null,
            "grid_area": null,
            "grid_auto_columns": null,
            "grid_auto_flow": null,
            "grid_auto_rows": null,
            "grid_column": null,
            "grid_gap": null,
            "grid_row": null,
            "grid_template_areas": null,
            "grid_template_columns": null,
            "grid_template_rows": null,
            "height": null,
            "justify_content": null,
            "justify_items": null,
            "left": null,
            "margin": null,
            "max_height": null,
            "max_width": null,
            "min_height": null,
            "min_width": null,
            "object_fit": null,
            "object_position": null,
            "order": null,
            "overflow": null,
            "overflow_x": null,
            "overflow_y": null,
            "padding": null,
            "right": null,
            "top": null,
            "visibility": null,
            "width": null
          }
        },
        "1eda441416ef4d13916b3215b57abb16": {
          "model_module": "@jupyter-widgets/base",
          "model_module_version": "1.2.0",
          "model_name": "LayoutModel",
          "state": {
            "_model_module": "@jupyter-widgets/base",
            "_model_module_version": "1.2.0",
            "_model_name": "LayoutModel",
            "_view_count": null,
            "_view_module": "@jupyter-widgets/base",
            "_view_module_version": "1.2.0",
            "_view_name": "LayoutView",
            "align_content": null,
            "align_items": null,
            "align_self": null,
            "border": null,
            "bottom": null,
            "display": null,
            "flex": null,
            "flex_flow": null,
            "grid_area": null,
            "grid_auto_columns": null,
            "grid_auto_flow": null,
            "grid_auto_rows": null,
            "grid_column": null,
            "grid_gap": null,
            "grid_row": null,
            "grid_template_areas": null,
            "grid_template_columns": null,
            "grid_template_rows": null,
            "height": null,
            "justify_content": null,
            "justify_items": null,
            "left": null,
            "margin": null,
            "max_height": null,
            "max_width": null,
            "min_height": null,
            "min_width": null,
            "object_fit": null,
            "object_position": null,
            "order": null,
            "overflow": null,
            "overflow_x": null,
            "overflow_y": null,
            "padding": null,
            "right": null,
            "top": null,
            "visibility": null,
            "width": "20px"
          }
        },
        "2282835210cd4db396cfad31f6f10bea": {
          "model_module": "@jupyter-widgets/controls",
          "model_module_version": "1.5.0",
          "model_name": "ProgressStyleModel",
          "state": {
            "_model_module": "@jupyter-widgets/controls",
            "_model_module_version": "1.5.0",
            "_model_name": "ProgressStyleModel",
            "_view_count": null,
            "_view_module": "@jupyter-widgets/base",
            "_view_module_version": "1.2.0",
            "_view_name": "StyleView",
            "bar_color": null,
            "description_width": ""
          }
        },
        "228b1c155f5b4a0494994dc11458cff3": {
          "model_module": "@jupyter-widgets/controls",
          "model_module_version": "1.5.0",
          "model_name": "DescriptionStyleModel",
          "state": {
            "_model_module": "@jupyter-widgets/controls",
            "_model_module_version": "1.5.0",
            "_model_name": "DescriptionStyleModel",
            "_view_count": null,
            "_view_module": "@jupyter-widgets/base",
            "_view_module_version": "1.2.0",
            "_view_name": "StyleView",
            "description_width": ""
          }
        },
        "22e87fe9d72c4314b8d2902b16a5987e": {
          "model_module": "@jupyter-widgets/base",
          "model_module_version": "1.2.0",
          "model_name": "LayoutModel",
          "state": {
            "_model_module": "@jupyter-widgets/base",
            "_model_module_version": "1.2.0",
            "_model_name": "LayoutModel",
            "_view_count": null,
            "_view_module": "@jupyter-widgets/base",
            "_view_module_version": "1.2.0",
            "_view_name": "LayoutView",
            "align_content": null,
            "align_items": null,
            "align_self": null,
            "border": null,
            "bottom": null,
            "display": null,
            "flex": null,
            "flex_flow": null,
            "grid_area": null,
            "grid_auto_columns": null,
            "grid_auto_flow": null,
            "grid_auto_rows": null,
            "grid_column": null,
            "grid_gap": null,
            "grid_row": null,
            "grid_template_areas": null,
            "grid_template_columns": null,
            "grid_template_rows": null,
            "height": null,
            "justify_content": null,
            "justify_items": null,
            "left": null,
            "margin": null,
            "max_height": null,
            "max_width": null,
            "min_height": null,
            "min_width": null,
            "object_fit": null,
            "object_position": null,
            "order": null,
            "overflow": null,
            "overflow_x": null,
            "overflow_y": null,
            "padding": null,
            "right": null,
            "top": null,
            "visibility": null,
            "width": null
          }
        },
        "26c81c3b95444c918d81e55e932d84aa": {
          "model_module": "@jupyter-widgets/controls",
          "model_module_version": "1.5.0",
          "model_name": "DescriptionStyleModel",
          "state": {
            "_model_module": "@jupyter-widgets/controls",
            "_model_module_version": "1.5.0",
            "_model_name": "DescriptionStyleModel",
            "_view_count": null,
            "_view_module": "@jupyter-widgets/base",
            "_view_module_version": "1.2.0",
            "_view_name": "StyleView",
            "description_width": ""
          }
        },
        "28824bbb41fd4e408f4668fc77c38779": {
          "model_module": "@jupyter-widgets/controls",
          "model_module_version": "1.5.0",
          "model_name": "HTMLModel",
          "state": {
            "_dom_classes": [],
            "_model_module": "@jupyter-widgets/controls",
            "_model_module_version": "1.5.0",
            "_model_name": "HTMLModel",
            "_view_count": null,
            "_view_module": "@jupyter-widgets/controls",
            "_view_module_version": "1.5.0",
            "_view_name": "HTMLView",
            "description": "",
            "description_tooltip": null,
            "layout": "IPY_MODEL_8af2c81f9fcd4f7b99320cabedd2fef2",
            "placeholder": "​",
            "style": "IPY_MODEL_946f15c948444ba493061f85e4399c17",
            "value": "Generating test split: "
          }
        },
        "2a69754b121345fcbfab93d533814173": {
          "model_module": "@jupyter-widgets/base",
          "model_module_version": "1.2.0",
          "model_name": "LayoutModel",
          "state": {
            "_model_module": "@jupyter-widgets/base",
            "_model_module_version": "1.2.0",
            "_model_name": "LayoutModel",
            "_view_count": null,
            "_view_module": "@jupyter-widgets/base",
            "_view_module_version": "1.2.0",
            "_view_name": "LayoutView",
            "align_content": null,
            "align_items": null,
            "align_self": null,
            "border": null,
            "bottom": null,
            "display": null,
            "flex": null,
            "flex_flow": null,
            "grid_area": null,
            "grid_auto_columns": null,
            "grid_auto_flow": null,
            "grid_auto_rows": null,
            "grid_column": null,
            "grid_gap": null,
            "grid_row": null,
            "grid_template_areas": null,
            "grid_template_columns": null,
            "grid_template_rows": null,
            "height": null,
            "justify_content": null,
            "justify_items": null,
            "left": null,
            "margin": null,
            "max_height": null,
            "max_width": null,
            "min_height": null,
            "min_width": null,
            "object_fit": null,
            "object_position": null,
            "order": null,
            "overflow": null,
            "overflow_x": null,
            "overflow_y": null,
            "padding": null,
            "right": null,
            "top": null,
            "visibility": null,
            "width": null
          }
        },
        "2fdb7f819f544176b14daa180e2e6698": {
          "model_module": "@jupyter-widgets/controls",
          "model_module_version": "1.5.0",
          "model_name": "DescriptionStyleModel",
          "state": {
            "_model_module": "@jupyter-widgets/controls",
            "_model_module_version": "1.5.0",
            "_model_name": "DescriptionStyleModel",
            "_view_count": null,
            "_view_module": "@jupyter-widgets/base",
            "_view_module_version": "1.2.0",
            "_view_name": "StyleView",
            "description_width": ""
          }
        },
        "3189e6c830f34892bbfc14218e81be25": {
          "model_module": "@jupyter-widgets/controls",
          "model_module_version": "1.5.0",
          "model_name": "FloatProgressModel",
          "state": {
            "_dom_classes": [],
            "_model_module": "@jupyter-widgets/controls",
            "_model_module_version": "1.5.0",
            "_model_name": "FloatProgressModel",
            "_view_count": null,
            "_view_module": "@jupyter-widgets/controls",
            "_view_module_version": "1.5.0",
            "_view_name": "ProgressView",
            "bar_style": "success",
            "description": "",
            "description_tooltip": null,
            "layout": "IPY_MODEL_1eda441416ef4d13916b3215b57abb16",
            "max": 1,
            "min": 0,
            "orientation": "horizontal",
            "style": "IPY_MODEL_de69788bf804414fbe73eb5d463ca6ff",
            "value": 1
          }
        },
        "321fcebbab794ca8b030e9f07522a698": {
          "model_module": "@jupyter-widgets/controls",
          "model_module_version": "1.5.0",
          "model_name": "ProgressStyleModel",
          "state": {
            "_model_module": "@jupyter-widgets/controls",
            "_model_module_version": "1.5.0",
            "_model_name": "ProgressStyleModel",
            "_view_count": null,
            "_view_module": "@jupyter-widgets/base",
            "_view_module_version": "1.2.0",
            "_view_name": "StyleView",
            "bar_color": null,
            "description_width": ""
          }
        },
        "33d399e4fb5d41e8bd4616a76f7eb4a1": {
          "model_module": "@jupyter-widgets/controls",
          "model_module_version": "1.5.0",
          "model_name": "DescriptionStyleModel",
          "state": {
            "_model_module": "@jupyter-widgets/controls",
            "_model_module_version": "1.5.0",
            "_model_name": "DescriptionStyleModel",
            "_view_count": null,
            "_view_module": "@jupyter-widgets/base",
            "_view_module_version": "1.2.0",
            "_view_name": "StyleView",
            "description_width": ""
          }
        },
        "3aae2932eb154983b7751fd827a408ee": {
          "model_module": "@jupyter-widgets/controls",
          "model_module_version": "1.5.0",
          "model_name": "HTMLModel",
          "state": {
            "_dom_classes": [],
            "_model_module": "@jupyter-widgets/controls",
            "_model_module_version": "1.5.0",
            "_model_name": "HTMLModel",
            "_view_count": null,
            "_view_module": "@jupyter-widgets/controls",
            "_view_module_version": "1.5.0",
            "_view_name": "HTMLView",
            "description": "",
            "description_tooltip": null,
            "layout": "IPY_MODEL_cb050280323b47c2b6b735dd42b3a02c",
            "placeholder": "​",
            "style": "IPY_MODEL_a022bb53aba9417b9ccfc55aa161103e",
            "value": "Downloading data files: 100%"
          }
        },
        "3cc7528c11604c1cb81d9325e311a736": {
          "model_module": "@jupyter-widgets/base",
          "model_module_version": "1.2.0",
          "model_name": "LayoutModel",
          "state": {
            "_model_module": "@jupyter-widgets/base",
            "_model_module_version": "1.2.0",
            "_model_name": "LayoutModel",
            "_view_count": null,
            "_view_module": "@jupyter-widgets/base",
            "_view_module_version": "1.2.0",
            "_view_name": "LayoutView",
            "align_content": null,
            "align_items": null,
            "align_self": null,
            "border": null,
            "bottom": null,
            "display": null,
            "flex": null,
            "flex_flow": null,
            "grid_area": null,
            "grid_auto_columns": null,
            "grid_auto_flow": null,
            "grid_auto_rows": null,
            "grid_column": null,
            "grid_gap": null,
            "grid_row": null,
            "grid_template_areas": null,
            "grid_template_columns": null,
            "grid_template_rows": null,
            "height": null,
            "justify_content": null,
            "justify_items": null,
            "left": null,
            "margin": null,
            "max_height": null,
            "max_width": null,
            "min_height": null,
            "min_width": null,
            "object_fit": null,
            "object_position": null,
            "order": null,
            "overflow": null,
            "overflow_x": null,
            "overflow_y": null,
            "padding": null,
            "right": null,
            "top": null,
            "visibility": null,
            "width": null
          }
        },
        "4015aa9afafc4aa88aac0860d33091ff": {
          "model_module": "@jupyter-widgets/controls",
          "model_module_version": "1.5.0",
          "model_name": "DescriptionStyleModel",
          "state": {
            "_model_module": "@jupyter-widgets/controls",
            "_model_module_version": "1.5.0",
            "_model_name": "DescriptionStyleModel",
            "_view_count": null,
            "_view_module": "@jupyter-widgets/base",
            "_view_module_version": "1.2.0",
            "_view_name": "StyleView",
            "description_width": ""
          }
        },
        "413468ce3a70477092f60b24dfdc46bc": {
          "model_module": "@jupyter-widgets/base",
          "model_module_version": "1.2.0",
          "model_name": "LayoutModel",
          "state": {
            "_model_module": "@jupyter-widgets/base",
            "_model_module_version": "1.2.0",
            "_model_name": "LayoutModel",
            "_view_count": null,
            "_view_module": "@jupyter-widgets/base",
            "_view_module_version": "1.2.0",
            "_view_name": "LayoutView",
            "align_content": null,
            "align_items": null,
            "align_self": null,
            "border": null,
            "bottom": null,
            "display": null,
            "flex": null,
            "flex_flow": null,
            "grid_area": null,
            "grid_auto_columns": null,
            "grid_auto_flow": null,
            "grid_auto_rows": null,
            "grid_column": null,
            "grid_gap": null,
            "grid_row": null,
            "grid_template_areas": null,
            "grid_template_columns": null,
            "grid_template_rows": null,
            "height": null,
            "justify_content": null,
            "justify_items": null,
            "left": null,
            "margin": null,
            "max_height": null,
            "max_width": null,
            "min_height": null,
            "min_width": null,
            "object_fit": null,
            "object_position": null,
            "order": null,
            "overflow": null,
            "overflow_x": null,
            "overflow_y": null,
            "padding": null,
            "right": null,
            "top": null,
            "visibility": null,
            "width": null
          }
        },
        "489bd176836849b89a79a9c46fc11a0b": {
          "model_module": "@jupyter-widgets/base",
          "model_module_version": "1.2.0",
          "model_name": "LayoutModel",
          "state": {
            "_model_module": "@jupyter-widgets/base",
            "_model_module_version": "1.2.0",
            "_model_name": "LayoutModel",
            "_view_count": null,
            "_view_module": "@jupyter-widgets/base",
            "_view_module_version": "1.2.0",
            "_view_name": "LayoutView",
            "align_content": null,
            "align_items": null,
            "align_self": null,
            "border": null,
            "bottom": null,
            "display": null,
            "flex": null,
            "flex_flow": null,
            "grid_area": null,
            "grid_auto_columns": null,
            "grid_auto_flow": null,
            "grid_auto_rows": null,
            "grid_column": null,
            "grid_gap": null,
            "grid_row": null,
            "grid_template_areas": null,
            "grid_template_columns": null,
            "grid_template_rows": null,
            "height": null,
            "justify_content": null,
            "justify_items": null,
            "left": null,
            "margin": null,
            "max_height": null,
            "max_width": null,
            "min_height": null,
            "min_width": null,
            "object_fit": null,
            "object_position": null,
            "order": null,
            "overflow": null,
            "overflow_x": null,
            "overflow_y": null,
            "padding": null,
            "right": null,
            "top": null,
            "visibility": null,
            "width": null
          }
        },
        "49cbeb0cfb0441f18ad028af6d4069e6": {
          "model_module": "@jupyter-widgets/controls",
          "model_module_version": "1.5.0",
          "model_name": "HBoxModel",
          "state": {
            "_dom_classes": [],
            "_model_module": "@jupyter-widgets/controls",
            "_model_module_version": "1.5.0",
            "_model_name": "HBoxModel",
            "_view_count": null,
            "_view_module": "@jupyter-widgets/controls",
            "_view_module_version": "1.5.0",
            "_view_name": "HBoxView",
            "box_style": "",
            "children": [
              "IPY_MODEL_28824bbb41fd4e408f4668fc77c38779",
              "IPY_MODEL_630688868ae4434cba4a6b5352c773cd",
              "IPY_MODEL_69abd794d5df49ffb596b741fdc6a824"
            ],
            "layout": "IPY_MODEL_b001788ddbd84ea2a1dd37be28db1f77"
          }
        },
        "4a3406ae557641d5a6d0ec5829b9f458": {
          "model_module": "@jupyter-widgets/base",
          "model_module_version": "1.2.0",
          "model_name": "LayoutModel",
          "state": {
            "_model_module": "@jupyter-widgets/base",
            "_model_module_version": "1.2.0",
            "_model_name": "LayoutModel",
            "_view_count": null,
            "_view_module": "@jupyter-widgets/base",
            "_view_module_version": "1.2.0",
            "_view_name": "LayoutView",
            "align_content": null,
            "align_items": null,
            "align_self": null,
            "border": null,
            "bottom": null,
            "display": null,
            "flex": null,
            "flex_flow": null,
            "grid_area": null,
            "grid_auto_columns": null,
            "grid_auto_flow": null,
            "grid_auto_rows": null,
            "grid_column": null,
            "grid_gap": null,
            "grid_row": null,
            "grid_template_areas": null,
            "grid_template_columns": null,
            "grid_template_rows": null,
            "height": null,
            "justify_content": null,
            "justify_items": null,
            "left": null,
            "margin": null,
            "max_height": null,
            "max_width": null,
            "min_height": null,
            "min_width": null,
            "object_fit": null,
            "object_position": null,
            "order": null,
            "overflow": null,
            "overflow_x": null,
            "overflow_y": null,
            "padding": null,
            "right": null,
            "top": null,
            "visibility": null,
            "width": null
          }
        },
        "4aa6dc9cd9004c14ab654573b1917dfa": {
          "model_module": "@jupyter-widgets/base",
          "model_module_version": "1.2.0",
          "model_name": "LayoutModel",
          "state": {
            "_model_module": "@jupyter-widgets/base",
            "_model_module_version": "1.2.0",
            "_model_name": "LayoutModel",
            "_view_count": null,
            "_view_module": "@jupyter-widgets/base",
            "_view_module_version": "1.2.0",
            "_view_name": "LayoutView",
            "align_content": null,
            "align_items": null,
            "align_self": null,
            "border": null,
            "bottom": null,
            "display": null,
            "flex": null,
            "flex_flow": null,
            "grid_area": null,
            "grid_auto_columns": null,
            "grid_auto_flow": null,
            "grid_auto_rows": null,
            "grid_column": null,
            "grid_gap": null,
            "grid_row": null,
            "grid_template_areas": null,
            "grid_template_columns": null,
            "grid_template_rows": null,
            "height": null,
            "justify_content": null,
            "justify_items": null,
            "left": null,
            "margin": null,
            "max_height": null,
            "max_width": null,
            "min_height": null,
            "min_width": null,
            "object_fit": null,
            "object_position": null,
            "order": null,
            "overflow": null,
            "overflow_x": null,
            "overflow_y": null,
            "padding": null,
            "right": null,
            "top": null,
            "visibility": null,
            "width": null
          }
        },
        "4c0288b7999c409ea4ed2bf53b005731": {
          "model_module": "@jupyter-widgets/controls",
          "model_module_version": "1.5.0",
          "model_name": "FloatProgressModel",
          "state": {
            "_dom_classes": [],
            "_model_module": "@jupyter-widgets/controls",
            "_model_module_version": "1.5.0",
            "_model_name": "FloatProgressModel",
            "_view_count": null,
            "_view_module": "@jupyter-widgets/controls",
            "_view_module_version": "1.5.0",
            "_view_name": "ProgressView",
            "bar_style": "success",
            "description": "",
            "description_tooltip": null,
            "layout": "IPY_MODEL_91462bb3d6854ff8b61928f2b3b74ab5",
            "max": 482,
            "min": 0,
            "orientation": "horizontal",
            "style": "IPY_MODEL_321fcebbab794ca8b030e9f07522a698",
            "value": 482
          }
        },
        "4d07d3ddaf364710a8031448b2fcd378": {
          "model_module": "@jupyter-widgets/base",
          "model_module_version": "1.2.0",
          "model_name": "LayoutModel",
          "state": {
            "_model_module": "@jupyter-widgets/base",
            "_model_module_version": "1.2.0",
            "_model_name": "LayoutModel",
            "_view_count": null,
            "_view_module": "@jupyter-widgets/base",
            "_view_module_version": "1.2.0",
            "_view_name": "LayoutView",
            "align_content": null,
            "align_items": null,
            "align_self": null,
            "border": null,
            "bottom": null,
            "display": null,
            "flex": null,
            "flex_flow": null,
            "grid_area": null,
            "grid_auto_columns": null,
            "grid_auto_flow": null,
            "grid_auto_rows": null,
            "grid_column": null,
            "grid_gap": null,
            "grid_row": null,
            "grid_template_areas": null,
            "grid_template_columns": null,
            "grid_template_rows": null,
            "height": null,
            "justify_content": null,
            "justify_items": null,
            "left": null,
            "margin": null,
            "max_height": null,
            "max_width": null,
            "min_height": null,
            "min_width": null,
            "object_fit": null,
            "object_position": null,
            "order": null,
            "overflow": null,
            "overflow_x": null,
            "overflow_y": null,
            "padding": null,
            "right": null,
            "top": null,
            "visibility": null,
            "width": "20px"
          }
        },
        "4eaa420e87334a57a7d5a697de561a0e": {
          "model_module": "@jupyter-widgets/base",
          "model_module_version": "1.2.0",
          "model_name": "LayoutModel",
          "state": {
            "_model_module": "@jupyter-widgets/base",
            "_model_module_version": "1.2.0",
            "_model_name": "LayoutModel",
            "_view_count": null,
            "_view_module": "@jupyter-widgets/base",
            "_view_module_version": "1.2.0",
            "_view_name": "LayoutView",
            "align_content": null,
            "align_items": null,
            "align_self": null,
            "border": null,
            "bottom": null,
            "display": null,
            "flex": null,
            "flex_flow": null,
            "grid_area": null,
            "grid_auto_columns": null,
            "grid_auto_flow": null,
            "grid_auto_rows": null,
            "grid_column": null,
            "grid_gap": null,
            "grid_row": null,
            "grid_template_areas": null,
            "grid_template_columns": null,
            "grid_template_rows": null,
            "height": null,
            "justify_content": null,
            "justify_items": null,
            "left": null,
            "margin": null,
            "max_height": null,
            "max_width": null,
            "min_height": null,
            "min_width": null,
            "object_fit": null,
            "object_position": null,
            "order": null,
            "overflow": null,
            "overflow_x": null,
            "overflow_y": null,
            "padding": null,
            "right": null,
            "top": null,
            "visibility": null,
            "width": null
          }
        },
        "52a90af9002c44d19f6063cb3eb2d6ff": {
          "model_module": "@jupyter-widgets/base",
          "model_module_version": "1.2.0",
          "model_name": "LayoutModel",
          "state": {
            "_model_module": "@jupyter-widgets/base",
            "_model_module_version": "1.2.0",
            "_model_name": "LayoutModel",
            "_view_count": null,
            "_view_module": "@jupyter-widgets/base",
            "_view_module_version": "1.2.0",
            "_view_name": "LayoutView",
            "align_content": null,
            "align_items": null,
            "align_self": null,
            "border": null,
            "bottom": null,
            "display": null,
            "flex": null,
            "flex_flow": null,
            "grid_area": null,
            "grid_auto_columns": null,
            "grid_auto_flow": null,
            "grid_auto_rows": null,
            "grid_column": null,
            "grid_gap": null,
            "grid_row": null,
            "grid_template_areas": null,
            "grid_template_columns": null,
            "grid_template_rows": null,
            "height": null,
            "justify_content": null,
            "justify_items": null,
            "left": null,
            "margin": null,
            "max_height": null,
            "max_width": null,
            "min_height": null,
            "min_width": null,
            "object_fit": null,
            "object_position": null,
            "order": null,
            "overflow": null,
            "overflow_x": null,
            "overflow_y": null,
            "padding": null,
            "right": null,
            "top": null,
            "visibility": null,
            "width": null
          }
        },
        "537a91cebe54446999d7bebf275b4e09": {
          "model_module": "@jupyter-widgets/controls",
          "model_module_version": "1.5.0",
          "model_name": "FloatProgressModel",
          "state": {
            "_dom_classes": [],
            "_model_module": "@jupyter-widgets/controls",
            "_model_module_version": "1.5.0",
            "_model_name": "FloatProgressModel",
            "_view_count": null,
            "_view_module": "@jupyter-widgets/controls",
            "_view_module_version": "1.5.0",
            "_view_name": "ProgressView",
            "bar_style": "success",
            "description": "",
            "description_tooltip": null,
            "layout": "IPY_MODEL_b04c079f3add4e949ae867b9dbc993c0",
            "max": 441935,
            "min": 0,
            "orientation": "horizontal",
            "style": "IPY_MODEL_9e5ea1c1ff284ec3be3c44135c60eab6",
            "value": 441935
          }
        },
        "557e2b7a72e34fbba9432106e6099beb": {
          "model_module": "@jupyter-widgets/controls",
          "model_module_version": "1.5.0",
          "model_name": "HBoxModel",
          "state": {
            "_dom_classes": [],
            "_model_module": "@jupyter-widgets/controls",
            "_model_module_version": "1.5.0",
            "_model_name": "HBoxModel",
            "_view_count": null,
            "_view_module": "@jupyter-widgets/controls",
            "_view_module_version": "1.5.0",
            "_view_name": "HBoxView",
            "box_style": "",
            "children": [
              "IPY_MODEL_0f518db7c2da4ef0a25f3464e0c1fe7a",
              "IPY_MODEL_4c0288b7999c409ea4ed2bf53b005731",
              "IPY_MODEL_90cbdc55551443ceaf32c68841c24d10"
            ],
            "layout": "IPY_MODEL_413468ce3a70477092f60b24dfdc46bc"
          }
        },
        "5611dc06f29a46c590acb1c6df0033da": {
          "model_module": "@jupyter-widgets/base",
          "model_module_version": "1.2.0",
          "model_name": "LayoutModel",
          "state": {
            "_model_module": "@jupyter-widgets/base",
            "_model_module_version": "1.2.0",
            "_model_name": "LayoutModel",
            "_view_count": null,
            "_view_module": "@jupyter-widgets/base",
            "_view_module_version": "1.2.0",
            "_view_name": "LayoutView",
            "align_content": null,
            "align_items": null,
            "align_self": null,
            "border": null,
            "bottom": null,
            "display": null,
            "flex": null,
            "flex_flow": null,
            "grid_area": null,
            "grid_auto_columns": null,
            "grid_auto_flow": null,
            "grid_auto_rows": null,
            "grid_column": null,
            "grid_gap": null,
            "grid_row": null,
            "grid_template_areas": null,
            "grid_template_columns": null,
            "grid_template_rows": null,
            "height": null,
            "justify_content": null,
            "justify_items": null,
            "left": null,
            "margin": null,
            "max_height": null,
            "max_width": null,
            "min_height": null,
            "min_width": null,
            "object_fit": null,
            "object_position": null,
            "order": null,
            "overflow": null,
            "overflow_x": null,
            "overflow_y": null,
            "padding": null,
            "right": null,
            "top": null,
            "visibility": null,
            "width": null
          }
        },
        "5a61688514ae47a2af0101e71259ec37": {
          "model_module": "@jupyter-widgets/controls",
          "model_module_version": "1.5.0",
          "model_name": "ProgressStyleModel",
          "state": {
            "_model_module": "@jupyter-widgets/controls",
            "_model_module_version": "1.5.0",
            "_model_name": "ProgressStyleModel",
            "_view_count": null,
            "_view_module": "@jupyter-widgets/base",
            "_view_module_version": "1.2.0",
            "_view_name": "StyleView",
            "bar_color": null,
            "description_width": ""
          }
        },
        "5a7fbcc4145d413a9cefd2f0ec431a7b": {
          "model_module": "@jupyter-widgets/base",
          "model_module_version": "1.2.0",
          "model_name": "LayoutModel",
          "state": {
            "_model_module": "@jupyter-widgets/base",
            "_model_module_version": "1.2.0",
            "_model_name": "LayoutModel",
            "_view_count": null,
            "_view_module": "@jupyter-widgets/base",
            "_view_module_version": "1.2.0",
            "_view_name": "LayoutView",
            "align_content": null,
            "align_items": null,
            "align_self": null,
            "border": null,
            "bottom": null,
            "display": null,
            "flex": null,
            "flex_flow": null,
            "grid_area": null,
            "grid_auto_columns": null,
            "grid_auto_flow": null,
            "grid_auto_rows": null,
            "grid_column": null,
            "grid_gap": null,
            "grid_row": null,
            "grid_template_areas": null,
            "grid_template_columns": null,
            "grid_template_rows": null,
            "height": null,
            "justify_content": null,
            "justify_items": null,
            "left": null,
            "margin": null,
            "max_height": null,
            "max_width": null,
            "min_height": null,
            "min_width": null,
            "object_fit": null,
            "object_position": null,
            "order": null,
            "overflow": null,
            "overflow_x": null,
            "overflow_y": null,
            "padding": null,
            "right": null,
            "top": null,
            "visibility": null,
            "width": null
          }
        },
        "5ae43b6684a04c6c8c7a327d184bd5c4": {
          "model_module": "@jupyter-widgets/base",
          "model_module_version": "1.2.0",
          "model_name": "LayoutModel",
          "state": {
            "_model_module": "@jupyter-widgets/base",
            "_model_module_version": "1.2.0",
            "_model_name": "LayoutModel",
            "_view_count": null,
            "_view_module": "@jupyter-widgets/base",
            "_view_module_version": "1.2.0",
            "_view_name": "LayoutView",
            "align_content": null,
            "align_items": null,
            "align_self": null,
            "border": null,
            "bottom": null,
            "display": null,
            "flex": null,
            "flex_flow": null,
            "grid_area": null,
            "grid_auto_columns": null,
            "grid_auto_flow": null,
            "grid_auto_rows": null,
            "grid_column": null,
            "grid_gap": null,
            "grid_row": null,
            "grid_template_areas": null,
            "grid_template_columns": null,
            "grid_template_rows": null,
            "height": null,
            "justify_content": null,
            "justify_items": null,
            "left": null,
            "margin": null,
            "max_height": null,
            "max_width": null,
            "min_height": null,
            "min_width": null,
            "object_fit": null,
            "object_position": null,
            "order": null,
            "overflow": null,
            "overflow_x": null,
            "overflow_y": null,
            "padding": null,
            "right": null,
            "top": null,
            "visibility": null,
            "width": null
          }
        },
        "5ce720239fae4e91812a3cffe2fa030c": {
          "model_module": "@jupyter-widgets/controls",
          "model_module_version": "1.5.0",
          "model_name": "DescriptionStyleModel",
          "state": {
            "_model_module": "@jupyter-widgets/controls",
            "_model_module_version": "1.5.0",
            "_model_name": "DescriptionStyleModel",
            "_view_count": null,
            "_view_module": "@jupyter-widgets/base",
            "_view_module_version": "1.2.0",
            "_view_name": "StyleView",
            "description_width": ""
          }
        },
        "5fd9f713b89e425589d7288675477d0e": {
          "model_module": "@jupyter-widgets/controls",
          "model_module_version": "1.5.0",
          "model_name": "FloatProgressModel",
          "state": {
            "_dom_classes": [],
            "_model_module": "@jupyter-widgets/controls",
            "_model_module_version": "1.5.0",
            "_model_name": "FloatProgressModel",
            "_view_count": null,
            "_view_module": "@jupyter-widgets/controls",
            "_view_module_version": "1.5.0",
            "_view_name": "ProgressView",
            "bar_style": "success",
            "description": "",
            "description_tooltip": null,
            "layout": "IPY_MODEL_ded7446a2cea4b42bab24de74b752bf0",
            "max": 7950,
            "min": 0,
            "orientation": "horizontal",
            "style": "IPY_MODEL_78683f4f5a6e4a00876dd43642804830",
            "value": 7950
          }
        },
        "630688868ae4434cba4a6b5352c773cd": {
          "model_module": "@jupyter-widgets/controls",
          "model_module_version": "1.5.0",
          "model_name": "FloatProgressModel",
          "state": {
            "_dom_classes": [],
            "_model_module": "@jupyter-widgets/controls",
            "_model_module_version": "1.5.0",
            "_model_name": "FloatProgressModel",
            "_view_count": null,
            "_view_module": "@jupyter-widgets/controls",
            "_view_module_version": "1.5.0",
            "_view_name": "ProgressView",
            "bar_style": "success",
            "description": "",
            "description_tooltip": null,
            "layout": "IPY_MODEL_7ee7354f67fd44aeb35582f4f586c4b5",
            "max": 1,
            "min": 0,
            "orientation": "horizontal",
            "style": "IPY_MODEL_dbffbcfe620645a3a20f6daad5e1c1fb",
            "value": 1
          }
        },
        "69a7bd8d42c5499f9e8053d93679abfd": {
          "model_module": "@jupyter-widgets/controls",
          "model_module_version": "1.5.0",
          "model_name": "HBoxModel",
          "state": {
            "_dom_classes": [],
            "_model_module": "@jupyter-widgets/controls",
            "_model_module_version": "1.5.0",
            "_model_name": "HBoxModel",
            "_view_count": null,
            "_view_module": "@jupyter-widgets/controls",
            "_view_module_version": "1.5.0",
            "_view_name": "HBoxView",
            "box_style": "",
            "children": [
              "IPY_MODEL_a58a163525334dd8a6514878e05ae034",
              "IPY_MODEL_3189e6c830f34892bbfc14218e81be25",
              "IPY_MODEL_09cdbbd3ebdc47baa18366e12f83461d"
            ],
            "layout": "IPY_MODEL_1c7c32fc4bd1425e8f64ab5eb2590502"
          }
        },
        "69abd794d5df49ffb596b741fdc6a824": {
          "model_module": "@jupyter-widgets/controls",
          "model_module_version": "1.5.0",
          "model_name": "HTMLModel",
          "state": {
            "_dom_classes": [],
            "_model_module": "@jupyter-widgets/controls",
            "_model_module_version": "1.5.0",
            "_model_name": "HTMLModel",
            "_view_count": null,
            "_view_module": "@jupyter-widgets/controls",
            "_view_module_version": "1.5.0",
            "_view_name": "HTMLView",
            "description": "",
            "description_tooltip": null,
            "layout": "IPY_MODEL_2a69754b121345fcbfab93d533814173",
            "placeholder": "​",
            "style": "IPY_MODEL_ec68eb52bcb84fd8aafc0255fb567acb",
            "value": " 1500/0 [00:00&lt;00:00, 23343.27 examples/s]"
          }
        },
        "69ed929a6bc545599e1eae3a382ffafb": {
          "model_module": "@jupyter-widgets/controls",
          "model_module_version": "1.5.0",
          "model_name": "DescriptionStyleModel",
          "state": {
            "_model_module": "@jupyter-widgets/controls",
            "_model_module_version": "1.5.0",
            "_model_name": "DescriptionStyleModel",
            "_view_count": null,
            "_view_module": "@jupyter-widgets/base",
            "_view_module_version": "1.2.0",
            "_view_name": "StyleView",
            "description_width": ""
          }
        },
        "6cd894a5fb684d56aea5ffb2c7514b4d": {
          "model_module": "@jupyter-widgets/controls",
          "model_module_version": "1.5.0",
          "model_name": "FloatProgressModel",
          "state": {
            "_dom_classes": [],
            "_model_module": "@jupyter-widgets/controls",
            "_model_module_version": "1.5.0",
            "_model_name": "FloatProgressModel",
            "_view_count": null,
            "_view_module": "@jupyter-widgets/controls",
            "_view_module_version": "1.5.0",
            "_view_name": "ProgressView",
            "bar_style": "success",
            "description": "",
            "description_tooltip": null,
            "layout": "IPY_MODEL_5611dc06f29a46c590acb1c6df0033da",
            "max": 1421700479,
            "min": 0,
            "orientation": "horizontal",
            "style": "IPY_MODEL_2282835210cd4db396cfad31f6f10bea",
            "value": 1421700479
          }
        },
        "6d6b7420a62f4f53b767e083aad4bb18": {
          "model_module": "@jupyter-widgets/controls",
          "model_module_version": "1.5.0",
          "model_name": "HBoxModel",
          "state": {
            "_dom_classes": [],
            "_model_module": "@jupyter-widgets/controls",
            "_model_module_version": "1.5.0",
            "_model_name": "HBoxModel",
            "_view_count": null,
            "_view_module": "@jupyter-widgets/controls",
            "_view_module_version": "1.5.0",
            "_view_name": "HBoxView",
            "box_style": "",
            "children": [
              "IPY_MODEL_89c5f65b9ac045f7a5e3b529cd0e708c",
              "IPY_MODEL_6cd894a5fb684d56aea5ffb2c7514b4d",
              "IPY_MODEL_c8ff00d3bdd341ce80877f7d10590993"
            ],
            "layout": "IPY_MODEL_030d23fb4c2e40b69029bd3a68d04694"
          }
        },
        "6f8a644d674b43e5b30e25353c0311c7": {
          "model_module": "@jupyter-widgets/controls",
          "model_module_version": "1.5.0",
          "model_name": "DescriptionStyleModel",
          "state": {
            "_model_module": "@jupyter-widgets/controls",
            "_model_module_version": "1.5.0",
            "_model_name": "DescriptionStyleModel",
            "_view_count": null,
            "_view_module": "@jupyter-widgets/base",
            "_view_module_version": "1.2.0",
            "_view_name": "StyleView",
            "description_width": ""
          }
        },
        "7016b33770fe438897e0039a2bce1f0f": {
          "model_module": "@jupyter-widgets/base",
          "model_module_version": "1.2.0",
          "model_name": "LayoutModel",
          "state": {
            "_model_module": "@jupyter-widgets/base",
            "_model_module_version": "1.2.0",
            "_model_name": "LayoutModel",
            "_view_count": null,
            "_view_module": "@jupyter-widgets/base",
            "_view_module_version": "1.2.0",
            "_view_name": "LayoutView",
            "align_content": null,
            "align_items": null,
            "align_self": null,
            "border": null,
            "bottom": null,
            "display": null,
            "flex": null,
            "flex_flow": null,
            "grid_area": null,
            "grid_auto_columns": null,
            "grid_auto_flow": null,
            "grid_auto_rows": null,
            "grid_column": null,
            "grid_gap": null,
            "grid_row": null,
            "grid_template_areas": null,
            "grid_template_columns": null,
            "grid_template_rows": null,
            "height": null,
            "justify_content": null,
            "justify_items": null,
            "left": null,
            "margin": null,
            "max_height": null,
            "max_width": null,
            "min_height": null,
            "min_width": null,
            "object_fit": null,
            "object_position": null,
            "order": null,
            "overflow": null,
            "overflow_x": null,
            "overflow_y": null,
            "padding": null,
            "right": null,
            "top": null,
            "visibility": null,
            "width": null
          }
        },
        "71ec75b01dff47b48b1d1e52eac65e15": {
          "model_module": "@jupyter-widgets/controls",
          "model_module_version": "1.5.0",
          "model_name": "HBoxModel",
          "state": {
            "_dom_classes": [],
            "_model_module": "@jupyter-widgets/controls",
            "_model_module_version": "1.5.0",
            "_model_name": "HBoxModel",
            "_view_count": null,
            "_view_module": "@jupyter-widgets/controls",
            "_view_module_version": "1.5.0",
            "_view_name": "HBoxView",
            "box_style": "",
            "children": [
              "IPY_MODEL_3aae2932eb154983b7751fd827a408ee",
              "IPY_MODEL_99763ad280ef4f09a034dbb9c3e4132a",
              "IPY_MODEL_ec2d6d3466f246e1a7b44dd6efe992b3"
            ],
            "layout": "IPY_MODEL_df6773622af04eeebc6620757daedd7e"
          }
        },
        "73b27d4352654fa18d70f19847bae805": {
          "model_module": "@jupyter-widgets/controls",
          "model_module_version": "1.5.0",
          "model_name": "DescriptionStyleModel",
          "state": {
            "_model_module": "@jupyter-widgets/controls",
            "_model_module_version": "1.5.0",
            "_model_name": "DescriptionStyleModel",
            "_view_count": null,
            "_view_module": "@jupyter-widgets/base",
            "_view_module_version": "1.2.0",
            "_view_name": "StyleView",
            "description_width": ""
          }
        },
        "77fe509fad684546b8708eb96c6eca9f": {
          "model_module": "@jupyter-widgets/base",
          "model_module_version": "1.2.0",
          "model_name": "LayoutModel",
          "state": {
            "_model_module": "@jupyter-widgets/base",
            "_model_module_version": "1.2.0",
            "_model_name": "LayoutModel",
            "_view_count": null,
            "_view_module": "@jupyter-widgets/base",
            "_view_module_version": "1.2.0",
            "_view_name": "LayoutView",
            "align_content": null,
            "align_items": null,
            "align_self": null,
            "border": null,
            "bottom": null,
            "display": null,
            "flex": null,
            "flex_flow": null,
            "grid_area": null,
            "grid_auto_columns": null,
            "grid_auto_flow": null,
            "grid_auto_rows": null,
            "grid_column": null,
            "grid_gap": null,
            "grid_row": null,
            "grid_template_areas": null,
            "grid_template_columns": null,
            "grid_template_rows": null,
            "height": null,
            "justify_content": null,
            "justify_items": null,
            "left": null,
            "margin": null,
            "max_height": null,
            "max_width": null,
            "min_height": null,
            "min_width": null,
            "object_fit": null,
            "object_position": null,
            "order": null,
            "overflow": null,
            "overflow_x": null,
            "overflow_y": null,
            "padding": null,
            "right": null,
            "top": null,
            "visibility": null,
            "width": null
          }
        },
        "78683f4f5a6e4a00876dd43642804830": {
          "model_module": "@jupyter-widgets/controls",
          "model_module_version": "1.5.0",
          "model_name": "ProgressStyleModel",
          "state": {
            "_model_module": "@jupyter-widgets/controls",
            "_model_module_version": "1.5.0",
            "_model_name": "ProgressStyleModel",
            "_view_count": null,
            "_view_module": "@jupyter-widgets/base",
            "_view_module_version": "1.2.0",
            "_view_name": "StyleView",
            "bar_color": null,
            "description_width": ""
          }
        },
        "786ec2734c5f423a8a9c411b6e1fb9cd": {
          "model_module": "@jupyter-widgets/base",
          "model_module_version": "1.2.0",
          "model_name": "LayoutModel",
          "state": {
            "_model_module": "@jupyter-widgets/base",
            "_model_module_version": "1.2.0",
            "_model_name": "LayoutModel",
            "_view_count": null,
            "_view_module": "@jupyter-widgets/base",
            "_view_module_version": "1.2.0",
            "_view_name": "LayoutView",
            "align_content": null,
            "align_items": null,
            "align_self": null,
            "border": null,
            "bottom": null,
            "display": null,
            "flex": null,
            "flex_flow": null,
            "grid_area": null,
            "grid_auto_columns": null,
            "grid_auto_flow": null,
            "grid_auto_rows": null,
            "grid_column": null,
            "grid_gap": null,
            "grid_row": null,
            "grid_template_areas": null,
            "grid_template_columns": null,
            "grid_template_rows": null,
            "height": null,
            "justify_content": null,
            "justify_items": null,
            "left": null,
            "margin": null,
            "max_height": null,
            "max_width": null,
            "min_height": null,
            "min_width": null,
            "object_fit": null,
            "object_position": null,
            "order": null,
            "overflow": null,
            "overflow_x": null,
            "overflow_y": null,
            "padding": null,
            "right": null,
            "top": null,
            "visibility": null,
            "width": null
          }
        },
        "789c3134fbc945d59a9747abd03863fa": {
          "model_module": "@jupyter-widgets/controls",
          "model_module_version": "1.5.0",
          "model_name": "ProgressStyleModel",
          "state": {
            "_model_module": "@jupyter-widgets/controls",
            "_model_module_version": "1.5.0",
            "_model_name": "ProgressStyleModel",
            "_view_count": null,
            "_view_module": "@jupyter-widgets/base",
            "_view_module_version": "1.2.0",
            "_view_name": "StyleView",
            "bar_color": null,
            "description_width": ""
          }
        },
        "7bcf590f23ff4e2384735e0fd5027501": {
          "model_module": "@jupyter-widgets/controls",
          "model_module_version": "1.5.0",
          "model_name": "FloatProgressModel",
          "state": {
            "_dom_classes": [],
            "_model_module": "@jupyter-widgets/controls",
            "_model_module_version": "1.5.0",
            "_model_name": "FloatProgressModel",
            "_view_count": null,
            "_view_module": "@jupyter-widgets/controls",
            "_view_module_version": "1.5.0",
            "_view_name": "ProgressView",
            "bar_style": "success",
            "description": "",
            "description_tooltip": null,
            "layout": "IPY_MODEL_0d7656881a744edc98b12ee9d959b7b0",
            "max": 3,
            "min": 0,
            "orientation": "horizontal",
            "style": "IPY_MODEL_789c3134fbc945d59a9747abd03863fa",
            "value": 3
          }
        },
        "7d04838a2bcf4b4fbb664b442f2fc877": {
          "model_module": "@jupyter-widgets/controls",
          "model_module_version": "1.5.0",
          "model_name": "FloatProgressModel",
          "state": {
            "_dom_classes": [],
            "_model_module": "@jupyter-widgets/controls",
            "_model_module_version": "1.5.0",
            "_model_name": "FloatProgressModel",
            "_view_count": null,
            "_view_module": "@jupyter-widgets/controls",
            "_view_module_version": "1.5.0",
            "_view_name": "ProgressView",
            "bar_style": "success",
            "description": "",
            "description_tooltip": null,
            "layout": "IPY_MODEL_786ec2734c5f423a8a9c411b6e1fb9cd",
            "max": 1353147,
            "min": 0,
            "orientation": "horizontal",
            "style": "IPY_MODEL_ab32f497123d4f359ff54cd61245205c",
            "value": 1353147
          }
        },
        "7dd853eb7b704104b7f5b97efbd0ae52": {
          "model_module": "@jupyter-widgets/controls",
          "model_module_version": "1.5.0",
          "model_name": "ProgressStyleModel",
          "state": {
            "_model_module": "@jupyter-widgets/controls",
            "_model_module_version": "1.5.0",
            "_model_name": "ProgressStyleModel",
            "_view_count": null,
            "_view_module": "@jupyter-widgets/base",
            "_view_module_version": "1.2.0",
            "_view_name": "StyleView",
            "bar_color": null,
            "description_width": ""
          }
        },
        "7ee7354f67fd44aeb35582f4f586c4b5": {
          "model_module": "@jupyter-widgets/base",
          "model_module_version": "1.2.0",
          "model_name": "LayoutModel",
          "state": {
            "_model_module": "@jupyter-widgets/base",
            "_model_module_version": "1.2.0",
            "_model_name": "LayoutModel",
            "_view_count": null,
            "_view_module": "@jupyter-widgets/base",
            "_view_module_version": "1.2.0",
            "_view_name": "LayoutView",
            "align_content": null,
            "align_items": null,
            "align_self": null,
            "border": null,
            "bottom": null,
            "display": null,
            "flex": null,
            "flex_flow": null,
            "grid_area": null,
            "grid_auto_columns": null,
            "grid_auto_flow": null,
            "grid_auto_rows": null,
            "grid_column": null,
            "grid_gap": null,
            "grid_row": null,
            "grid_template_areas": null,
            "grid_template_columns": null,
            "grid_template_rows": null,
            "height": null,
            "justify_content": null,
            "justify_items": null,
            "left": null,
            "margin": null,
            "max_height": null,
            "max_width": null,
            "min_height": null,
            "min_width": null,
            "object_fit": null,
            "object_position": null,
            "order": null,
            "overflow": null,
            "overflow_x": null,
            "overflow_y": null,
            "padding": null,
            "right": null,
            "top": null,
            "visibility": null,
            "width": "20px"
          }
        },
        "7f493f82c4e2488bb0f2cb0b128feb3e": {
          "model_module": "@jupyter-widgets/controls",
          "model_module_version": "1.5.0",
          "model_name": "ProgressStyleModel",
          "state": {
            "_model_module": "@jupyter-widgets/controls",
            "_model_module_version": "1.5.0",
            "_model_name": "ProgressStyleModel",
            "_view_count": null,
            "_view_module": "@jupyter-widgets/base",
            "_view_module_version": "1.2.0",
            "_view_name": "StyleView",
            "bar_color": null,
            "description_width": ""
          }
        },
        "8073ae14543b47a8a2b70d72796a71da": {
          "model_module": "@jupyter-widgets/base",
          "model_module_version": "1.2.0",
          "model_name": "LayoutModel",
          "state": {
            "_model_module": "@jupyter-widgets/base",
            "_model_module_version": "1.2.0",
            "_model_name": "LayoutModel",
            "_view_count": null,
            "_view_module": "@jupyter-widgets/base",
            "_view_module_version": "1.2.0",
            "_view_name": "LayoutView",
            "align_content": null,
            "align_items": null,
            "align_self": null,
            "border": null,
            "bottom": null,
            "display": null,
            "flex": null,
            "flex_flow": null,
            "grid_area": null,
            "grid_auto_columns": null,
            "grid_auto_flow": null,
            "grid_auto_rows": null,
            "grid_column": null,
            "grid_gap": null,
            "grid_row": null,
            "grid_template_areas": null,
            "grid_template_columns": null,
            "grid_template_rows": null,
            "height": null,
            "justify_content": null,
            "justify_items": null,
            "left": null,
            "margin": null,
            "max_height": null,
            "max_width": null,
            "min_height": null,
            "min_width": null,
            "object_fit": null,
            "object_position": null,
            "order": null,
            "overflow": null,
            "overflow_x": null,
            "overflow_y": null,
            "padding": null,
            "right": null,
            "top": null,
            "visibility": null,
            "width": null
          }
        },
        "8083bd09f9934660a694abd44e7c774a": {
          "model_module": "@jupyter-widgets/base",
          "model_module_version": "1.2.0",
          "model_name": "LayoutModel",
          "state": {
            "_model_module": "@jupyter-widgets/base",
            "_model_module_version": "1.2.0",
            "_model_name": "LayoutModel",
            "_view_count": null,
            "_view_module": "@jupyter-widgets/base",
            "_view_module_version": "1.2.0",
            "_view_name": "LayoutView",
            "align_content": null,
            "align_items": null,
            "align_self": null,
            "border": null,
            "bottom": null,
            "display": null,
            "flex": null,
            "flex_flow": null,
            "grid_area": null,
            "grid_auto_columns": null,
            "grid_auto_flow": null,
            "grid_auto_rows": null,
            "grid_column": null,
            "grid_gap": null,
            "grid_row": null,
            "grid_template_areas": null,
            "grid_template_columns": null,
            "grid_template_rows": null,
            "height": null,
            "justify_content": null,
            "justify_items": null,
            "left": null,
            "margin": null,
            "max_height": null,
            "max_width": null,
            "min_height": null,
            "min_width": null,
            "object_fit": null,
            "object_position": null,
            "order": null,
            "overflow": null,
            "overflow_x": null,
            "overflow_y": null,
            "padding": null,
            "right": null,
            "top": null,
            "visibility": null,
            "width": null
          }
        },
        "830ce0182fb843e099cafb14fc2b322d": {
          "model_module": "@jupyter-widgets/base",
          "model_module_version": "1.2.0",
          "model_name": "LayoutModel",
          "state": {
            "_model_module": "@jupyter-widgets/base",
            "_model_module_version": "1.2.0",
            "_model_name": "LayoutModel",
            "_view_count": null,
            "_view_module": "@jupyter-widgets/base",
            "_view_module_version": "1.2.0",
            "_view_name": "LayoutView",
            "align_content": null,
            "align_items": null,
            "align_self": null,
            "border": null,
            "bottom": null,
            "display": null,
            "flex": null,
            "flex_flow": null,
            "grid_area": null,
            "grid_auto_columns": null,
            "grid_auto_flow": null,
            "grid_auto_rows": null,
            "grid_column": null,
            "grid_gap": null,
            "grid_row": null,
            "grid_template_areas": null,
            "grid_template_columns": null,
            "grid_template_rows": null,
            "height": null,
            "justify_content": null,
            "justify_items": null,
            "left": null,
            "margin": null,
            "max_height": null,
            "max_width": null,
            "min_height": null,
            "min_width": null,
            "object_fit": null,
            "object_position": null,
            "order": null,
            "overflow": null,
            "overflow_x": null,
            "overflow_y": null,
            "padding": null,
            "right": null,
            "top": null,
            "visibility": null,
            "width": null
          }
        },
        "861ce5dfc6c244b79b74a0ab4bffb2e4": {
          "model_module": "@jupyter-widgets/controls",
          "model_module_version": "1.5.0",
          "model_name": "HBoxModel",
          "state": {
            "_dom_classes": [],
            "_model_module": "@jupyter-widgets/controls",
            "_model_module_version": "1.5.0",
            "_model_name": "HBoxModel",
            "_view_count": null,
            "_view_module": "@jupyter-widgets/controls",
            "_view_module_version": "1.5.0",
            "_view_name": "HBoxView",
            "box_style": "",
            "children": [
              "IPY_MODEL_97cdff1e25ca44d79a3045180b70691a",
              "IPY_MODEL_5fd9f713b89e425589d7288675477d0e",
              "IPY_MODEL_c3f9cf9d9c5048e2becb38c9834cad35"
            ],
            "layout": "IPY_MODEL_8de025a5a4cd406a86603a465b901c20"
          }
        },
        "8661c0b3d1c14b1bbee833de9f15f885": {
          "model_module": "@jupyter-widgets/base",
          "model_module_version": "1.2.0",
          "model_name": "LayoutModel",
          "state": {
            "_model_module": "@jupyter-widgets/base",
            "_model_module_version": "1.2.0",
            "_model_name": "LayoutModel",
            "_view_count": null,
            "_view_module": "@jupyter-widgets/base",
            "_view_module_version": "1.2.0",
            "_view_name": "LayoutView",
            "align_content": null,
            "align_items": null,
            "align_self": null,
            "border": null,
            "bottom": null,
            "display": null,
            "flex": null,
            "flex_flow": null,
            "grid_area": null,
            "grid_auto_columns": null,
            "grid_auto_flow": null,
            "grid_auto_rows": null,
            "grid_column": null,
            "grid_gap": null,
            "grid_row": null,
            "grid_template_areas": null,
            "grid_template_columns": null,
            "grid_template_rows": null,
            "height": null,
            "justify_content": null,
            "justify_items": null,
            "left": null,
            "margin": null,
            "max_height": null,
            "max_width": null,
            "min_height": null,
            "min_width": null,
            "object_fit": null,
            "object_position": null,
            "order": null,
            "overflow": null,
            "overflow_x": null,
            "overflow_y": null,
            "padding": null,
            "right": null,
            "top": null,
            "visibility": null,
            "width": null
          }
        },
        "88b0b95c3fcb4e859468569d98bd4f42": {
          "model_module": "@jupyter-widgets/controls",
          "model_module_version": "1.5.0",
          "model_name": "HBoxModel",
          "state": {
            "_dom_classes": [],
            "_model_module": "@jupyter-widgets/controls",
            "_model_module_version": "1.5.0",
            "_model_name": "HBoxModel",
            "_view_count": null,
            "_view_module": "@jupyter-widgets/controls",
            "_view_module_version": "1.5.0",
            "_view_name": "HBoxView",
            "box_style": "",
            "children": [
              "IPY_MODEL_a80ae2a97dc4453a9c1e53706ebdb199",
              "IPY_MODEL_e8438bc767a64f1ab950e790288fff5f",
              "IPY_MODEL_96e987077073476f80bb035a44ece767"
            ],
            "layout": "IPY_MODEL_ffa11c12165246f7bb7b14a8d9f2c7a6"
          }
        },
        "89c5f65b9ac045f7a5e3b529cd0e708c": {
          "model_module": "@jupyter-widgets/controls",
          "model_module_version": "1.5.0",
          "model_name": "HTMLModel",
          "state": {
            "_dom_classes": [],
            "_model_module": "@jupyter-widgets/controls",
            "_model_module_version": "1.5.0",
            "_model_name": "HTMLModel",
            "_view_count": null,
            "_view_module": "@jupyter-widgets/controls",
            "_view_module_version": "1.5.0",
            "_view_name": "HTMLView",
            "description": "",
            "description_tooltip": null,
            "layout": "IPY_MODEL_a565ccee353340b79427b171c95d89c9",
            "placeholder": "​",
            "style": "IPY_MODEL_4015aa9afafc4aa88aac0860d33091ff",
            "value": "Downloading model.safetensors: 100%"
          }
        },
        "8af2c81f9fcd4f7b99320cabedd2fef2": {
          "model_module": "@jupyter-widgets/base",
          "model_module_version": "1.2.0",
          "model_name": "LayoutModel",
          "state": {
            "_model_module": "@jupyter-widgets/base",
            "_model_module_version": "1.2.0",
            "_model_name": "LayoutModel",
            "_view_count": null,
            "_view_module": "@jupyter-widgets/base",
            "_view_module_version": "1.2.0",
            "_view_name": "LayoutView",
            "align_content": null,
            "align_items": null,
            "align_self": null,
            "border": null,
            "bottom": null,
            "display": null,
            "flex": null,
            "flex_flow": null,
            "grid_area": null,
            "grid_auto_columns": null,
            "grid_auto_flow": null,
            "grid_auto_rows": null,
            "grid_column": null,
            "grid_gap": null,
            "grid_row": null,
            "grid_template_areas": null,
            "grid_template_columns": null,
            "grid_template_rows": null,
            "height": null,
            "justify_content": null,
            "justify_items": null,
            "left": null,
            "margin": null,
            "max_height": null,
            "max_width": null,
            "min_height": null,
            "min_width": null,
            "object_fit": null,
            "object_position": null,
            "order": null,
            "overflow": null,
            "overflow_x": null,
            "overflow_y": null,
            "padding": null,
            "right": null,
            "top": null,
            "visibility": null,
            "width": null
          }
        },
        "8b746df9e50d45e5b23ba8ae0fc7327e": {
          "model_module": "@jupyter-widgets/controls",
          "model_module_version": "1.5.0",
          "model_name": "HTMLModel",
          "state": {
            "_dom_classes": [],
            "_model_module": "@jupyter-widgets/controls",
            "_model_module_version": "1.5.0",
            "_model_name": "HTMLModel",
            "_view_count": null,
            "_view_module": "@jupyter-widgets/controls",
            "_view_module_version": "1.5.0",
            "_view_name": "HTMLView",
            "description": "",
            "description_tooltip": null,
            "layout": "IPY_MODEL_0ec082e409154131b312e0feee7274d3",
            "placeholder": "​",
            "style": "IPY_MODEL_eba49532d19a47a082c8954c126aef12",
            "value": " 1.35M/1.35M [00:00&lt;00:00, 14.4MB/s]"
          }
        },
        "8bcebb3f53ad4e5fa125cec7e6bc1ae9": {
          "model_module": "@jupyter-widgets/controls",
          "model_module_version": "1.5.0",
          "model_name": "DescriptionStyleModel",
          "state": {
            "_model_module": "@jupyter-widgets/controls",
            "_model_module_version": "1.5.0",
            "_model_name": "DescriptionStyleModel",
            "_view_count": null,
            "_view_module": "@jupyter-widgets/base",
            "_view_module_version": "1.2.0",
            "_view_name": "StyleView",
            "description_width": ""
          }
        },
        "8de025a5a4cd406a86603a465b901c20": {
          "model_module": "@jupyter-widgets/base",
          "model_module_version": "1.2.0",
          "model_name": "LayoutModel",
          "state": {
            "_model_module": "@jupyter-widgets/base",
            "_model_module_version": "1.2.0",
            "_model_name": "LayoutModel",
            "_view_count": null,
            "_view_module": "@jupyter-widgets/base",
            "_view_module_version": "1.2.0",
            "_view_name": "LayoutView",
            "align_content": null,
            "align_items": null,
            "align_self": null,
            "border": null,
            "bottom": null,
            "display": null,
            "flex": null,
            "flex_flow": null,
            "grid_area": null,
            "grid_auto_columns": null,
            "grid_auto_flow": null,
            "grid_auto_rows": null,
            "grid_column": null,
            "grid_gap": null,
            "grid_row": null,
            "grid_template_areas": null,
            "grid_template_columns": null,
            "grid_template_rows": null,
            "height": null,
            "justify_content": null,
            "justify_items": null,
            "left": null,
            "margin": null,
            "max_height": null,
            "max_width": null,
            "min_height": null,
            "min_width": null,
            "object_fit": null,
            "object_position": null,
            "order": null,
            "overflow": null,
            "overflow_x": null,
            "overflow_y": null,
            "padding": null,
            "right": null,
            "top": null,
            "visibility": null,
            "width": null
          }
        },
        "8e3fbdc4e5da4190b9c82bd5ced623d5": {
          "model_module": "@jupyter-widgets/controls",
          "model_module_version": "1.5.0",
          "model_name": "FloatProgressModel",
          "state": {
            "_dom_classes": [],
            "_model_module": "@jupyter-widgets/controls",
            "_model_module_version": "1.5.0",
            "_model_name": "FloatProgressModel",
            "_view_count": null,
            "_view_module": "@jupyter-widgets/controls",
            "_view_module_version": "1.5.0",
            "_view_name": "ProgressView",
            "bar_style": "success",
            "description": "",
            "description_tooltip": null,
            "layout": "IPY_MODEL_1dcf9b7d74b14d0998aac9b5482a6119",
            "max": 898823,
            "min": 0,
            "orientation": "horizontal",
            "style": "IPY_MODEL_5a61688514ae47a2af0101e71259ec37",
            "value": 898823
          }
        },
        "8e7081fe1ba34ec2a891dcd49d7d0088": {
          "model_module": "@jupyter-widgets/controls",
          "model_module_version": "1.5.0",
          "model_name": "HTMLModel",
          "state": {
            "_dom_classes": [],
            "_model_module": "@jupyter-widgets/controls",
            "_model_module_version": "1.5.0",
            "_model_name": "HTMLModel",
            "_view_count": null,
            "_view_module": "@jupyter-widgets/controls",
            "_view_module_version": "1.5.0",
            "_view_name": "HTMLView",
            "description": "",
            "description_tooltip": null,
            "layout": "IPY_MODEL_8073ae14543b47a8a2b70d72796a71da",
            "placeholder": "​",
            "style": "IPY_MODEL_ad22bdd9729c40b6ae6a304c628ca81c",
            "value": "Generating train split: "
          }
        },
        "90cbdc55551443ceaf32c68841c24d10": {
          "model_module": "@jupyter-widgets/controls",
          "model_module_version": "1.5.0",
          "model_name": "HTMLModel",
          "state": {
            "_dom_classes": [],
            "_model_module": "@jupyter-widgets/controls",
            "_model_module_version": "1.5.0",
            "_model_name": "HTMLModel",
            "_view_count": null,
            "_view_module": "@jupyter-widgets/controls",
            "_view_module_version": "1.5.0",
            "_view_name": "HTMLView",
            "description": "",
            "description_tooltip": null,
            "layout": "IPY_MODEL_ab1f62c8f3dd4b378c86463b442b0273",
            "placeholder": "​",
            "style": "IPY_MODEL_d3c4ee2d8d8f4d62b225e2b31e349081",
            "value": " 482/482 [00:00&lt;00:00, 27.8kB/s]"
          }
        },
        "91462bb3d6854ff8b61928f2b3b74ab5": {
          "model_module": "@jupyter-widgets/base",
          "model_module_version": "1.2.0",
          "model_name": "LayoutModel",
          "state": {
            "_model_module": "@jupyter-widgets/base",
            "_model_module_version": "1.2.0",
            "_model_name": "LayoutModel",
            "_view_count": null,
            "_view_module": "@jupyter-widgets/base",
            "_view_module_version": "1.2.0",
            "_view_name": "LayoutView",
            "align_content": null,
            "align_items": null,
            "align_self": null,
            "border": null,
            "bottom": null,
            "display": null,
            "flex": null,
            "flex_flow": null,
            "grid_area": null,
            "grid_auto_columns": null,
            "grid_auto_flow": null,
            "grid_auto_rows": null,
            "grid_column": null,
            "grid_gap": null,
            "grid_row": null,
            "grid_template_areas": null,
            "grid_template_columns": null,
            "grid_template_rows": null,
            "height": null,
            "justify_content": null,
            "justify_items": null,
            "left": null,
            "margin": null,
            "max_height": null,
            "max_width": null,
            "min_height": null,
            "min_width": null,
            "object_fit": null,
            "object_position": null,
            "order": null,
            "overflow": null,
            "overflow_x": null,
            "overflow_y": null,
            "padding": null,
            "right": null,
            "top": null,
            "visibility": null,
            "width": null
          }
        },
        "91bebbf6397a48e8b168e1384c18fce0": {
          "model_module": "@jupyter-widgets/base",
          "model_module_version": "1.2.0",
          "model_name": "LayoutModel",
          "state": {
            "_model_module": "@jupyter-widgets/base",
            "_model_module_version": "1.2.0",
            "_model_name": "LayoutModel",
            "_view_count": null,
            "_view_module": "@jupyter-widgets/base",
            "_view_module_version": "1.2.0",
            "_view_name": "LayoutView",
            "align_content": null,
            "align_items": null,
            "align_self": null,
            "border": null,
            "bottom": null,
            "display": null,
            "flex": null,
            "flex_flow": null,
            "grid_area": null,
            "grid_auto_columns": null,
            "grid_auto_flow": null,
            "grid_auto_rows": null,
            "grid_column": null,
            "grid_gap": null,
            "grid_row": null,
            "grid_template_areas": null,
            "grid_template_columns": null,
            "grid_template_rows": null,
            "height": null,
            "justify_content": null,
            "justify_items": null,
            "left": null,
            "margin": null,
            "max_height": null,
            "max_width": null,
            "min_height": null,
            "min_width": null,
            "object_fit": null,
            "object_position": null,
            "order": null,
            "overflow": null,
            "overflow_x": null,
            "overflow_y": null,
            "padding": null,
            "right": null,
            "top": null,
            "visibility": null,
            "width": null
          }
        },
        "91fd6ed664394e8d86e91c39502f0b7f": {
          "model_module": "@jupyter-widgets/base",
          "model_module_version": "1.2.0",
          "model_name": "LayoutModel",
          "state": {
            "_model_module": "@jupyter-widgets/base",
            "_model_module_version": "1.2.0",
            "_model_name": "LayoutModel",
            "_view_count": null,
            "_view_module": "@jupyter-widgets/base",
            "_view_module_version": "1.2.0",
            "_view_name": "LayoutView",
            "align_content": null,
            "align_items": null,
            "align_self": null,
            "border": null,
            "bottom": null,
            "display": null,
            "flex": null,
            "flex_flow": null,
            "grid_area": null,
            "grid_auto_columns": null,
            "grid_auto_flow": null,
            "grid_auto_rows": null,
            "grid_column": null,
            "grid_gap": null,
            "grid_row": null,
            "grid_template_areas": null,
            "grid_template_columns": null,
            "grid_template_rows": null,
            "height": null,
            "justify_content": null,
            "justify_items": null,
            "left": null,
            "margin": null,
            "max_height": null,
            "max_width": null,
            "min_height": null,
            "min_width": null,
            "object_fit": null,
            "object_position": null,
            "order": null,
            "overflow": null,
            "overflow_x": null,
            "overflow_y": null,
            "padding": null,
            "right": null,
            "top": null,
            "visibility": null,
            "width": null
          }
        },
        "93714c4615444e9db0574054ea3b9f04": {
          "model_module": "@jupyter-widgets/controls",
          "model_module_version": "1.5.0",
          "model_name": "ProgressStyleModel",
          "state": {
            "_model_module": "@jupyter-widgets/controls",
            "_model_module_version": "1.5.0",
            "_model_name": "ProgressStyleModel",
            "_view_count": null,
            "_view_module": "@jupyter-widgets/base",
            "_view_module_version": "1.2.0",
            "_view_name": "StyleView",
            "bar_color": null,
            "description_width": ""
          }
        },
        "946f15c948444ba493061f85e4399c17": {
          "model_module": "@jupyter-widgets/controls",
          "model_module_version": "1.5.0",
          "model_name": "DescriptionStyleModel",
          "state": {
            "_model_module": "@jupyter-widgets/controls",
            "_model_module_version": "1.5.0",
            "_model_name": "DescriptionStyleModel",
            "_view_count": null,
            "_view_module": "@jupyter-widgets/base",
            "_view_module_version": "1.2.0",
            "_view_name": "StyleView",
            "description_width": ""
          }
        },
        "96e987077073476f80bb035a44ece767": {
          "model_module": "@jupyter-widgets/controls",
          "model_module_version": "1.5.0",
          "model_name": "HTMLModel",
          "state": {
            "_dom_classes": [],
            "_model_module": "@jupyter-widgets/controls",
            "_model_module_version": "1.5.0",
            "_model_name": "HTMLModel",
            "_view_count": null,
            "_view_module": "@jupyter-widgets/controls",
            "_view_module_version": "1.5.0",
            "_view_name": "HTMLView",
            "description": "",
            "description_tooltip": null,
            "layout": "IPY_MODEL_ab51f1f0f9db482694d45c3ccd665089",
            "placeholder": "​",
            "style": "IPY_MODEL_b1413796fc064467ae32360f6c42bd29",
            "value": " 4.65k/4.65k [00:00&lt;00:00, 133kB/s]"
          }
        },
        "97cdff1e25ca44d79a3045180b70691a": {
          "model_module": "@jupyter-widgets/controls",
          "model_module_version": "1.5.0",
          "model_name": "HTMLModel",
          "state": {
            "_dom_classes": [],
            "_model_module": "@jupyter-widgets/controls",
            "_model_module_version": "1.5.0",
            "_model_name": "HTMLModel",
            "_view_count": null,
            "_view_module": "@jupyter-widgets/controls",
            "_view_module_version": "1.5.0",
            "_view_name": "HTMLView",
            "description": "",
            "description_tooltip": null,
            "layout": "IPY_MODEL_91fd6ed664394e8d86e91c39502f0b7f",
            "placeholder": "​",
            "style": "IPY_MODEL_228b1c155f5b4a0494994dc11458cff3",
            "value": "Downloading builder script: 100%"
          }
        },
        "99763ad280ef4f09a034dbb9c3e4132a": {
          "model_module": "@jupyter-widgets/controls",
          "model_module_version": "1.5.0",
          "model_name": "FloatProgressModel",
          "state": {
            "_dom_classes": [],
            "_model_module": "@jupyter-widgets/controls",
            "_model_module_version": "1.5.0",
            "_model_name": "FloatProgressModel",
            "_view_count": null,
            "_view_module": "@jupyter-widgets/controls",
            "_view_module_version": "1.5.0",
            "_view_name": "ProgressView",
            "bar_style": "success",
            "description": "",
            "description_tooltip": null,
            "layout": "IPY_MODEL_cec9cd93b2f74767817e7fef0621f208",
            "max": 3,
            "min": 0,
            "orientation": "horizontal",
            "style": "IPY_MODEL_bf6f66d2579145248483b740c87ad28c",
            "value": 3
          }
        },
        "9989b5d4a5b547798f7429786df8050a": {
          "model_module": "@jupyter-widgets/controls",
          "model_module_version": "1.5.0",
          "model_name": "ProgressStyleModel",
          "state": {
            "_model_module": "@jupyter-widgets/controls",
            "_model_module_version": "1.5.0",
            "_model_name": "ProgressStyleModel",
            "_view_count": null,
            "_view_module": "@jupyter-widgets/base",
            "_view_module_version": "1.2.0",
            "_view_name": "StyleView",
            "bar_color": null,
            "description_width": ""
          }
        },
        "9d165c011c194effa0e43c8928576fe7": {
          "model_module": "@jupyter-widgets/controls",
          "model_module_version": "1.5.0",
          "model_name": "DescriptionStyleModel",
          "state": {
            "_model_module": "@jupyter-widgets/controls",
            "_model_module_version": "1.5.0",
            "_model_name": "DescriptionStyleModel",
            "_view_count": null,
            "_view_module": "@jupyter-widgets/base",
            "_view_module_version": "1.2.0",
            "_view_name": "StyleView",
            "description_width": ""
          }
        },
        "9e5ea1c1ff284ec3be3c44135c60eab6": {
          "model_module": "@jupyter-widgets/controls",
          "model_module_version": "1.5.0",
          "model_name": "ProgressStyleModel",
          "state": {
            "_model_module": "@jupyter-widgets/controls",
            "_model_module_version": "1.5.0",
            "_model_name": "ProgressStyleModel",
            "_view_count": null,
            "_view_module": "@jupyter-widgets/base",
            "_view_module_version": "1.2.0",
            "_view_name": "StyleView",
            "bar_color": null,
            "description_width": ""
          }
        },
        "9efdd2a79ac348cf97b7a6305605caef": {
          "model_module": "@jupyter-widgets/base",
          "model_module_version": "1.2.0",
          "model_name": "LayoutModel",
          "state": {
            "_model_module": "@jupyter-widgets/base",
            "_model_module_version": "1.2.0",
            "_model_name": "LayoutModel",
            "_view_count": null,
            "_view_module": "@jupyter-widgets/base",
            "_view_module_version": "1.2.0",
            "_view_name": "LayoutView",
            "align_content": null,
            "align_items": null,
            "align_self": null,
            "border": null,
            "bottom": null,
            "display": null,
            "flex": null,
            "flex_flow": null,
            "grid_area": null,
            "grid_auto_columns": null,
            "grid_auto_flow": null,
            "grid_auto_rows": null,
            "grid_column": null,
            "grid_gap": null,
            "grid_row": null,
            "grid_template_areas": null,
            "grid_template_columns": null,
            "grid_template_rows": null,
            "height": null,
            "justify_content": null,
            "justify_items": null,
            "left": null,
            "margin": null,
            "max_height": null,
            "max_width": null,
            "min_height": null,
            "min_width": null,
            "object_fit": null,
            "object_position": null,
            "order": null,
            "overflow": null,
            "overflow_x": null,
            "overflow_y": null,
            "padding": null,
            "right": null,
            "top": null,
            "visibility": null,
            "width": null
          }
        },
        "a022bb53aba9417b9ccfc55aa161103e": {
          "model_module": "@jupyter-widgets/controls",
          "model_module_version": "1.5.0",
          "model_name": "DescriptionStyleModel",
          "state": {
            "_model_module": "@jupyter-widgets/controls",
            "_model_module_version": "1.5.0",
            "_model_name": "DescriptionStyleModel",
            "_view_count": null,
            "_view_module": "@jupyter-widgets/base",
            "_view_module_version": "1.2.0",
            "_view_name": "StyleView",
            "description_width": ""
          }
        },
        "a51a9e3f1b23490faac7233a171b40d6": {
          "model_module": "@jupyter-widgets/controls",
          "model_module_version": "1.5.0",
          "model_name": "DescriptionStyleModel",
          "state": {
            "_model_module": "@jupyter-widgets/controls",
            "_model_module_version": "1.5.0",
            "_model_name": "DescriptionStyleModel",
            "_view_count": null,
            "_view_module": "@jupyter-widgets/base",
            "_view_module_version": "1.2.0",
            "_view_name": "StyleView",
            "description_width": ""
          }
        },
        "a565ccee353340b79427b171c95d89c9": {
          "model_module": "@jupyter-widgets/base",
          "model_module_version": "1.2.0",
          "model_name": "LayoutModel",
          "state": {
            "_model_module": "@jupyter-widgets/base",
            "_model_module_version": "1.2.0",
            "_model_name": "LayoutModel",
            "_view_count": null,
            "_view_module": "@jupyter-widgets/base",
            "_view_module_version": "1.2.0",
            "_view_name": "LayoutView",
            "align_content": null,
            "align_items": null,
            "align_self": null,
            "border": null,
            "bottom": null,
            "display": null,
            "flex": null,
            "flex_flow": null,
            "grid_area": null,
            "grid_auto_columns": null,
            "grid_auto_flow": null,
            "grid_auto_rows": null,
            "grid_column": null,
            "grid_gap": null,
            "grid_row": null,
            "grid_template_areas": null,
            "grid_template_columns": null,
            "grid_template_rows": null,
            "height": null,
            "justify_content": null,
            "justify_items": null,
            "left": null,
            "margin": null,
            "max_height": null,
            "max_width": null,
            "min_height": null,
            "min_width": null,
            "object_fit": null,
            "object_position": null,
            "order": null,
            "overflow": null,
            "overflow_x": null,
            "overflow_y": null,
            "padding": null,
            "right": null,
            "top": null,
            "visibility": null,
            "width": null
          }
        },
        "a58a163525334dd8a6514878e05ae034": {
          "model_module": "@jupyter-widgets/controls",
          "model_module_version": "1.5.0",
          "model_name": "HTMLModel",
          "state": {
            "_dom_classes": [],
            "_model_module": "@jupyter-widgets/controls",
            "_model_module_version": "1.5.0",
            "_model_name": "HTMLModel",
            "_view_count": null,
            "_view_module": "@jupyter-widgets/controls",
            "_view_module_version": "1.5.0",
            "_view_name": "HTMLView",
            "description": "",
            "description_tooltip": null,
            "layout": "IPY_MODEL_8661c0b3d1c14b1bbee833de9f15f885",
            "placeholder": "​",
            "style": "IPY_MODEL_8bcebb3f53ad4e5fa125cec7e6bc1ae9",
            "value": "Generating validation split: "
          }
        },
        "a633b99daf18435fae447461a7742223": {
          "model_module": "@jupyter-widgets/base",
          "model_module_version": "1.2.0",
          "model_name": "LayoutModel",
          "state": {
            "_model_module": "@jupyter-widgets/base",
            "_model_module_version": "1.2.0",
            "_model_name": "LayoutModel",
            "_view_count": null,
            "_view_module": "@jupyter-widgets/base",
            "_view_module_version": "1.2.0",
            "_view_name": "LayoutView",
            "align_content": null,
            "align_items": null,
            "align_self": null,
            "border": null,
            "bottom": null,
            "display": null,
            "flex": null,
            "flex_flow": null,
            "grid_area": null,
            "grid_auto_columns": null,
            "grid_auto_flow": null,
            "grid_auto_rows": null,
            "grid_column": null,
            "grid_gap": null,
            "grid_row": null,
            "grid_template_areas": null,
            "grid_template_columns": null,
            "grid_template_rows": null,
            "height": null,
            "justify_content": null,
            "justify_items": null,
            "left": null,
            "margin": null,
            "max_height": null,
            "max_width": null,
            "min_height": null,
            "min_width": null,
            "object_fit": null,
            "object_position": null,
            "order": null,
            "overflow": null,
            "overflow_x": null,
            "overflow_y": null,
            "padding": null,
            "right": null,
            "top": null,
            "visibility": null,
            "width": null
          }
        },
        "a80ae2a97dc4453a9c1e53706ebdb199": {
          "model_module": "@jupyter-widgets/controls",
          "model_module_version": "1.5.0",
          "model_name": "HTMLModel",
          "state": {
            "_dom_classes": [],
            "_model_module": "@jupyter-widgets/controls",
            "_model_module_version": "1.5.0",
            "_model_name": "HTMLModel",
            "_view_count": null,
            "_view_module": "@jupyter-widgets/controls",
            "_view_module_version": "1.5.0",
            "_view_name": "HTMLView",
            "description": "",
            "description_tooltip": null,
            "layout": "IPY_MODEL_f178f5aec4cc4496906ba36f3d6a93b1",
            "placeholder": "​",
            "style": "IPY_MODEL_9d165c011c194effa0e43c8928576fe7",
            "value": "Downloading readme: 100%"
          }
        },
        "a90d63fa2cc9428b91972e1b3aa1b256": {
          "model_module": "@jupyter-widgets/controls",
          "model_module_version": "1.5.0",
          "model_name": "HTMLModel",
          "state": {
            "_dom_classes": [],
            "_model_module": "@jupyter-widgets/controls",
            "_model_module_version": "1.5.0",
            "_model_name": "HTMLModel",
            "_view_count": null,
            "_view_module": "@jupyter-widgets/controls",
            "_view_module_version": "1.5.0",
            "_view_name": "HTMLView",
            "description": "",
            "description_tooltip": null,
            "layout": "IPY_MODEL_4eaa420e87334a57a7d5a697de561a0e",
            "placeholder": "​",
            "style": "IPY_MODEL_2fdb7f819f544176b14daa180e2e6698",
            "value": "Downloading data: 100%"
          }
        },
        "ab1f62c8f3dd4b378c86463b442b0273": {
          "model_module": "@jupyter-widgets/base",
          "model_module_version": "1.2.0",
          "model_name": "LayoutModel",
          "state": {
            "_model_module": "@jupyter-widgets/base",
            "_model_module_version": "1.2.0",
            "_model_name": "LayoutModel",
            "_view_count": null,
            "_view_module": "@jupyter-widgets/base",
            "_view_module_version": "1.2.0",
            "_view_name": "LayoutView",
            "align_content": null,
            "align_items": null,
            "align_self": null,
            "border": null,
            "bottom": null,
            "display": null,
            "flex": null,
            "flex_flow": null,
            "grid_area": null,
            "grid_auto_columns": null,
            "grid_auto_flow": null,
            "grid_auto_rows": null,
            "grid_column": null,
            "grid_gap": null,
            "grid_row": null,
            "grid_template_areas": null,
            "grid_template_columns": null,
            "grid_template_rows": null,
            "height": null,
            "justify_content": null,
            "justify_items": null,
            "left": null,
            "margin": null,
            "max_height": null,
            "max_width": null,
            "min_height": null,
            "min_width": null,
            "object_fit": null,
            "object_position": null,
            "order": null,
            "overflow": null,
            "overflow_x": null,
            "overflow_y": null,
            "padding": null,
            "right": null,
            "top": null,
            "visibility": null,
            "width": null
          }
        },
        "ab32f497123d4f359ff54cd61245205c": {
          "model_module": "@jupyter-widgets/controls",
          "model_module_version": "1.5.0",
          "model_name": "ProgressStyleModel",
          "state": {
            "_model_module": "@jupyter-widgets/controls",
            "_model_module_version": "1.5.0",
            "_model_name": "ProgressStyleModel",
            "_view_count": null,
            "_view_module": "@jupyter-widgets/base",
            "_view_module_version": "1.2.0",
            "_view_name": "StyleView",
            "bar_color": null,
            "description_width": ""
          }
        },
        "ab51f1f0f9db482694d45c3ccd665089": {
          "model_module": "@jupyter-widgets/base",
          "model_module_version": "1.2.0",
          "model_name": "LayoutModel",
          "state": {
            "_model_module": "@jupyter-widgets/base",
            "_model_module_version": "1.2.0",
            "_model_name": "LayoutModel",
            "_view_count": null,
            "_view_module": "@jupyter-widgets/base",
            "_view_module_version": "1.2.0",
            "_view_name": "LayoutView",
            "align_content": null,
            "align_items": null,
            "align_self": null,
            "border": null,
            "bottom": null,
            "display": null,
            "flex": null,
            "flex_flow": null,
            "grid_area": null,
            "grid_auto_columns": null,
            "grid_auto_flow": null,
            "grid_auto_rows": null,
            "grid_column": null,
            "grid_gap": null,
            "grid_row": null,
            "grid_template_areas": null,
            "grid_template_columns": null,
            "grid_template_rows": null,
            "height": null,
            "justify_content": null,
            "justify_items": null,
            "left": null,
            "margin": null,
            "max_height": null,
            "max_width": null,
            "min_height": null,
            "min_width": null,
            "object_fit": null,
            "object_position": null,
            "order": null,
            "overflow": null,
            "overflow_x": null,
            "overflow_y": null,
            "padding": null,
            "right": null,
            "top": null,
            "visibility": null,
            "width": null
          }
        },
        "ad22bdd9729c40b6ae6a304c628ca81c": {
          "model_module": "@jupyter-widgets/controls",
          "model_module_version": "1.5.0",
          "model_name": "DescriptionStyleModel",
          "state": {
            "_model_module": "@jupyter-widgets/controls",
            "_model_module_version": "1.5.0",
            "_model_name": "DescriptionStyleModel",
            "_view_count": null,
            "_view_module": "@jupyter-widgets/base",
            "_view_module_version": "1.2.0",
            "_view_name": "StyleView",
            "description_width": ""
          }
        },
        "b001788ddbd84ea2a1dd37be28db1f77": {
          "model_module": "@jupyter-widgets/base",
          "model_module_version": "1.2.0",
          "model_name": "LayoutModel",
          "state": {
            "_model_module": "@jupyter-widgets/base",
            "_model_module_version": "1.2.0",
            "_model_name": "LayoutModel",
            "_view_count": null,
            "_view_module": "@jupyter-widgets/base",
            "_view_module_version": "1.2.0",
            "_view_name": "LayoutView",
            "align_content": null,
            "align_items": null,
            "align_self": null,
            "border": null,
            "bottom": null,
            "display": null,
            "flex": null,
            "flex_flow": null,
            "grid_area": null,
            "grid_auto_columns": null,
            "grid_auto_flow": null,
            "grid_auto_rows": null,
            "grid_column": null,
            "grid_gap": null,
            "grid_row": null,
            "grid_template_areas": null,
            "grid_template_columns": null,
            "grid_template_rows": null,
            "height": null,
            "justify_content": null,
            "justify_items": null,
            "left": null,
            "margin": null,
            "max_height": null,
            "max_width": null,
            "min_height": null,
            "min_width": null,
            "object_fit": null,
            "object_position": null,
            "order": null,
            "overflow": null,
            "overflow_x": null,
            "overflow_y": null,
            "padding": null,
            "right": null,
            "top": null,
            "visibility": null,
            "width": null
          }
        },
        "b04c079f3add4e949ae867b9dbc993c0": {
          "model_module": "@jupyter-widgets/base",
          "model_module_version": "1.2.0",
          "model_name": "LayoutModel",
          "state": {
            "_model_module": "@jupyter-widgets/base",
            "_model_module_version": "1.2.0",
            "_model_name": "LayoutModel",
            "_view_count": null,
            "_view_module": "@jupyter-widgets/base",
            "_view_module_version": "1.2.0",
            "_view_name": "LayoutView",
            "align_content": null,
            "align_items": null,
            "align_self": null,
            "border": null,
            "bottom": null,
            "display": null,
            "flex": null,
            "flex_flow": null,
            "grid_area": null,
            "grid_auto_columns": null,
            "grid_auto_flow": null,
            "grid_auto_rows": null,
            "grid_column": null,
            "grid_gap": null,
            "grid_row": null,
            "grid_template_areas": null,
            "grid_template_columns": null,
            "grid_template_rows": null,
            "height": null,
            "justify_content": null,
            "justify_items": null,
            "left": null,
            "margin": null,
            "max_height": null,
            "max_width": null,
            "min_height": null,
            "min_width": null,
            "object_fit": null,
            "object_position": null,
            "order": null,
            "overflow": null,
            "overflow_x": null,
            "overflow_y": null,
            "padding": null,
            "right": null,
            "top": null,
            "visibility": null,
            "width": null
          }
        },
        "b1413796fc064467ae32360f6c42bd29": {
          "model_module": "@jupyter-widgets/controls",
          "model_module_version": "1.5.0",
          "model_name": "DescriptionStyleModel",
          "state": {
            "_model_module": "@jupyter-widgets/controls",
            "_model_module_version": "1.5.0",
            "_model_name": "DescriptionStyleModel",
            "_view_count": null,
            "_view_module": "@jupyter-widgets/base",
            "_view_module_version": "1.2.0",
            "_view_name": "StyleView",
            "description_width": ""
          }
        },
        "b73ea2d9529f419aa132c9509965547c": {
          "model_module": "@jupyter-widgets/controls",
          "model_module_version": "1.5.0",
          "model_name": "HBoxModel",
          "state": {
            "_dom_classes": [],
            "_model_module": "@jupyter-widgets/controls",
            "_model_module_version": "1.5.0",
            "_model_name": "HBoxModel",
            "_view_count": null,
            "_view_module": "@jupyter-widgets/controls",
            "_view_module_version": "1.5.0",
            "_view_name": "HBoxView",
            "box_style": "",
            "children": [
              "IPY_MODEL_11ead027d3fc492793d66025ebdbdb22",
              "IPY_MODEL_e8f68d1dfe44498fa5de7dfe6e78bc72",
              "IPY_MODEL_f9343e729726419bbc4ad1ccf14d74c1"
            ],
            "layout": "IPY_MODEL_c2ef2f6793cd4f519581ff061d37d63f"
          }
        },
        "b964a938119945429be8b2d715d2a8f9": {
          "model_module": "@jupyter-widgets/base",
          "model_module_version": "1.2.0",
          "model_name": "LayoutModel",
          "state": {
            "_model_module": "@jupyter-widgets/base",
            "_model_module_version": "1.2.0",
            "_model_name": "LayoutModel",
            "_view_count": null,
            "_view_module": "@jupyter-widgets/base",
            "_view_module_version": "1.2.0",
            "_view_name": "LayoutView",
            "align_content": null,
            "align_items": null,
            "align_self": null,
            "border": null,
            "bottom": null,
            "display": null,
            "flex": null,
            "flex_flow": null,
            "grid_area": null,
            "grid_auto_columns": null,
            "grid_auto_flow": null,
            "grid_auto_rows": null,
            "grid_column": null,
            "grid_gap": null,
            "grid_row": null,
            "grid_template_areas": null,
            "grid_template_columns": null,
            "grid_template_rows": null,
            "height": null,
            "justify_content": null,
            "justify_items": null,
            "left": null,
            "margin": null,
            "max_height": null,
            "max_width": null,
            "min_height": null,
            "min_width": null,
            "object_fit": null,
            "object_position": null,
            "order": null,
            "overflow": null,
            "overflow_x": null,
            "overflow_y": null,
            "padding": null,
            "right": null,
            "top": null,
            "visibility": null,
            "width": null
          }
        },
        "bbafddcb5b734de3bb91fc8b6dcf6591": {
          "model_module": "@jupyter-widgets/controls",
          "model_module_version": "1.5.0",
          "model_name": "HTMLModel",
          "state": {
            "_dom_classes": [],
            "_model_module": "@jupyter-widgets/controls",
            "_model_module_version": "1.5.0",
            "_model_name": "HTMLModel",
            "_view_count": null,
            "_view_module": "@jupyter-widgets/controls",
            "_view_module_version": "1.5.0",
            "_view_name": "HTMLView",
            "description": "",
            "description_tooltip": null,
            "layout": "IPY_MODEL_5ae43b6684a04c6c8c7a327d184bd5c4",
            "placeholder": "​",
            "style": "IPY_MODEL_26c81c3b95444c918d81e55e932d84aa",
            "value": "Downloading data: 100%"
          }
        },
        "bf6f66d2579145248483b740c87ad28c": {
          "model_module": "@jupyter-widgets/controls",
          "model_module_version": "1.5.0",
          "model_name": "ProgressStyleModel",
          "state": {
            "_model_module": "@jupyter-widgets/controls",
            "_model_module_version": "1.5.0",
            "_model_name": "ProgressStyleModel",
            "_view_count": null,
            "_view_module": "@jupyter-widgets/base",
            "_view_module_version": "1.2.0",
            "_view_name": "StyleView",
            "bar_color": null,
            "description_width": ""
          }
        },
        "c0ba7c60022f4d858372df65ae953984": {
          "model_module": "@jupyter-widgets/controls",
          "model_module_version": "1.5.0",
          "model_name": "HTMLModel",
          "state": {
            "_dom_classes": [],
            "_model_module": "@jupyter-widgets/controls",
            "_model_module_version": "1.5.0",
            "_model_name": "HTMLModel",
            "_view_count": null,
            "_view_module": "@jupyter-widgets/controls",
            "_view_module_version": "1.5.0",
            "_view_name": "HTMLView",
            "description": "",
            "description_tooltip": null,
            "layout": "IPY_MODEL_17359f6f030847b09b8dbe39ea996ab0",
            "placeholder": "​",
            "style": "IPY_MODEL_33d399e4fb5d41e8bd4616a76f7eb4a1",
            "value": " 12460/0 [00:00&lt;00:00, 37278.56 examples/s]"
          }
        },
        "c0fe9d0991414b30941574eccb63ceb6": {
          "model_module": "@jupyter-widgets/controls",
          "model_module_version": "1.5.0",
          "model_name": "ProgressStyleModel",
          "state": {
            "_model_module": "@jupyter-widgets/controls",
            "_model_module_version": "1.5.0",
            "_model_name": "ProgressStyleModel",
            "_view_count": null,
            "_view_module": "@jupyter-widgets/base",
            "_view_module_version": "1.2.0",
            "_view_name": "StyleView",
            "bar_color": null,
            "description_width": ""
          }
        },
        "c1ab69e5c9864af28f25e700f0156c93": {
          "model_module": "@jupyter-widgets/base",
          "model_module_version": "1.2.0",
          "model_name": "LayoutModel",
          "state": {
            "_model_module": "@jupyter-widgets/base",
            "_model_module_version": "1.2.0",
            "_model_name": "LayoutModel",
            "_view_count": null,
            "_view_module": "@jupyter-widgets/base",
            "_view_module_version": "1.2.0",
            "_view_name": "LayoutView",
            "align_content": null,
            "align_items": null,
            "align_self": null,
            "border": null,
            "bottom": null,
            "display": null,
            "flex": null,
            "flex_flow": null,
            "grid_area": null,
            "grid_auto_columns": null,
            "grid_auto_flow": null,
            "grid_auto_rows": null,
            "grid_column": null,
            "grid_gap": null,
            "grid_row": null,
            "grid_template_areas": null,
            "grid_template_columns": null,
            "grid_template_rows": null,
            "height": null,
            "justify_content": null,
            "justify_items": null,
            "left": null,
            "margin": null,
            "max_height": null,
            "max_width": null,
            "min_height": null,
            "min_width": null,
            "object_fit": null,
            "object_position": null,
            "order": null,
            "overflow": null,
            "overflow_x": null,
            "overflow_y": null,
            "padding": null,
            "right": null,
            "top": null,
            "visibility": null,
            "width": null
          }
        },
        "c2ef2f6793cd4f519581ff061d37d63f": {
          "model_module": "@jupyter-widgets/base",
          "model_module_version": "1.2.0",
          "model_name": "LayoutModel",
          "state": {
            "_model_module": "@jupyter-widgets/base",
            "_model_module_version": "1.2.0",
            "_model_name": "LayoutModel",
            "_view_count": null,
            "_view_module": "@jupyter-widgets/base",
            "_view_module_version": "1.2.0",
            "_view_name": "LayoutView",
            "align_content": null,
            "align_items": null,
            "align_self": null,
            "border": null,
            "bottom": null,
            "display": null,
            "flex": null,
            "flex_flow": null,
            "grid_area": null,
            "grid_auto_columns": null,
            "grid_auto_flow": null,
            "grid_auto_rows": null,
            "grid_column": null,
            "grid_gap": null,
            "grid_row": null,
            "grid_template_areas": null,
            "grid_template_columns": null,
            "grid_template_rows": null,
            "height": null,
            "justify_content": null,
            "justify_items": null,
            "left": null,
            "margin": null,
            "max_height": null,
            "max_width": null,
            "min_height": null,
            "min_width": null,
            "object_fit": null,
            "object_position": null,
            "order": null,
            "overflow": null,
            "overflow_x": null,
            "overflow_y": null,
            "padding": null,
            "right": null,
            "top": null,
            "visibility": null,
            "width": null
          }
        },
        "c3329d2677984b2da6068bb5e0cdf1e6": {
          "model_module": "@jupyter-widgets/controls",
          "model_module_version": "1.5.0",
          "model_name": "HTMLModel",
          "state": {
            "_dom_classes": [],
            "_model_module": "@jupyter-widgets/controls",
            "_model_module_version": "1.5.0",
            "_model_name": "HTMLModel",
            "_view_count": null,
            "_view_module": "@jupyter-widgets/controls",
            "_view_module_version": "1.5.0",
            "_view_name": "HTMLView",
            "description": "",
            "description_tooltip": null,
            "layout": "IPY_MODEL_c9c6e508ff674b4b9847f8f772948004",
            "placeholder": "​",
            "style": "IPY_MODEL_6f8a644d674b43e5b30e25353c0311c7",
            "value": "Downloading data: 100%"
          }
        },
        "c3f9cf9d9c5048e2becb38c9834cad35": {
          "model_module": "@jupyter-widgets/controls",
          "model_module_version": "1.5.0",
          "model_name": "HTMLModel",
          "state": {
            "_dom_classes": [],
            "_model_module": "@jupyter-widgets/controls",
            "_model_module_version": "1.5.0",
            "_model_name": "HTMLModel",
            "_view_count": null,
            "_view_module": "@jupyter-widgets/controls",
            "_view_module_version": "1.5.0",
            "_view_name": "HTMLView",
            "description": "",
            "description_tooltip": null,
            "layout": "IPY_MODEL_5a7fbcc4145d413a9cefd2f0ec431a7b",
            "placeholder": "​",
            "style": "IPY_MODEL_1127a04b9b1e4a5f8b3d43c1420d0fa2",
            "value": " 7.95k/7.95k [00:00&lt;00:00, 431kB/s]"
          }
        },
        "c56c44468bb9438780f84b817054d777": {
          "model_module": "@jupyter-widgets/controls",
          "model_module_version": "1.5.0",
          "model_name": "HTMLModel",
          "state": {
            "_dom_classes": [],
            "_model_module": "@jupyter-widgets/controls",
            "_model_module_version": "1.5.0",
            "_model_name": "HTMLModel",
            "_view_count": null,
            "_view_module": "@jupyter-widgets/controls",
            "_view_module_version": "1.5.0",
            "_view_name": "HTMLView",
            "description": "",
            "description_tooltip": null,
            "layout": "IPY_MODEL_4aa6dc9cd9004c14ab654573b1917dfa",
            "placeholder": "​",
            "style": "IPY_MODEL_017b16889f1b4675a1a4b8d64efd8dd7",
            "value": "Extracting data files: 100%"
          }
        },
        "c5cccaf29ddf41488e50d58ac2f1f000": {
          "model_module": "@jupyter-widgets/base",
          "model_module_version": "1.2.0",
          "model_name": "LayoutModel",
          "state": {
            "_model_module": "@jupyter-widgets/base",
            "_model_module_version": "1.2.0",
            "_model_name": "LayoutModel",
            "_view_count": null,
            "_view_module": "@jupyter-widgets/base",
            "_view_module_version": "1.2.0",
            "_view_name": "LayoutView",
            "align_content": null,
            "align_items": null,
            "align_self": null,
            "border": null,
            "bottom": null,
            "display": null,
            "flex": null,
            "flex_flow": null,
            "grid_area": null,
            "grid_auto_columns": null,
            "grid_auto_flow": null,
            "grid_auto_rows": null,
            "grid_column": null,
            "grid_gap": null,
            "grid_row": null,
            "grid_template_areas": null,
            "grid_template_columns": null,
            "grid_template_rows": null,
            "height": null,
            "justify_content": null,
            "justify_items": null,
            "left": null,
            "margin": null,
            "max_height": null,
            "max_width": null,
            "min_height": null,
            "min_width": null,
            "object_fit": null,
            "object_position": null,
            "order": null,
            "overflow": null,
            "overflow_x": null,
            "overflow_y": null,
            "padding": null,
            "right": null,
            "top": null,
            "visibility": null,
            "width": null
          }
        },
        "c68bbac699da4481bec78b3f6883b580": {
          "model_module": "@jupyter-widgets/base",
          "model_module_version": "1.2.0",
          "model_name": "LayoutModel",
          "state": {
            "_model_module": "@jupyter-widgets/base",
            "_model_module_version": "1.2.0",
            "_model_name": "LayoutModel",
            "_view_count": null,
            "_view_module": "@jupyter-widgets/base",
            "_view_module_version": "1.2.0",
            "_view_name": "LayoutView",
            "align_content": null,
            "align_items": null,
            "align_self": null,
            "border": null,
            "bottom": null,
            "display": null,
            "flex": null,
            "flex_flow": null,
            "grid_area": null,
            "grid_auto_columns": null,
            "grid_auto_flow": null,
            "grid_auto_rows": null,
            "grid_column": null,
            "grid_gap": null,
            "grid_row": null,
            "grid_template_areas": null,
            "grid_template_columns": null,
            "grid_template_rows": null,
            "height": null,
            "justify_content": null,
            "justify_items": null,
            "left": null,
            "margin": null,
            "max_height": null,
            "max_width": null,
            "min_height": null,
            "min_width": null,
            "object_fit": null,
            "object_position": null,
            "order": null,
            "overflow": null,
            "overflow_x": null,
            "overflow_y": null,
            "padding": null,
            "right": null,
            "top": null,
            "visibility": null,
            "width": null
          }
        },
        "c8ff00d3bdd341ce80877f7d10590993": {
          "model_module": "@jupyter-widgets/controls",
          "model_module_version": "1.5.0",
          "model_name": "HTMLModel",
          "state": {
            "_dom_classes": [],
            "_model_module": "@jupyter-widgets/controls",
            "_model_module_version": "1.5.0",
            "_model_name": "HTMLModel",
            "_view_count": null,
            "_view_module": "@jupyter-widgets/controls",
            "_view_module_version": "1.5.0",
            "_view_name": "HTMLView",
            "description": "",
            "description_tooltip": null,
            "layout": "IPY_MODEL_7016b33770fe438897e0039a2bce1f0f",
            "placeholder": "​",
            "style": "IPY_MODEL_dbc414f6b3524eccaa49e87246f89f63",
            "value": " 1.42G/1.42G [00:22&lt;00:00, 89.7MB/s]"
          }
        },
        "c9c6e508ff674b4b9847f8f772948004": {
          "model_module": "@jupyter-widgets/base",
          "model_module_version": "1.2.0",
          "model_name": "LayoutModel",
          "state": {
            "_model_module": "@jupyter-widgets/base",
            "_model_module_version": "1.2.0",
            "_model_name": "LayoutModel",
            "_view_count": null,
            "_view_module": "@jupyter-widgets/base",
            "_view_module_version": "1.2.0",
            "_view_name": "LayoutView",
            "align_content": null,
            "align_items": null,
            "align_self": null,
            "border": null,
            "bottom": null,
            "display": null,
            "flex": null,
            "flex_flow": null,
            "grid_area": null,
            "grid_auto_columns": null,
            "grid_auto_flow": null,
            "grid_auto_rows": null,
            "grid_column": null,
            "grid_gap": null,
            "grid_row": null,
            "grid_template_areas": null,
            "grid_template_columns": null,
            "grid_template_rows": null,
            "height": null,
            "justify_content": null,
            "justify_items": null,
            "left": null,
            "margin": null,
            "max_height": null,
            "max_width": null,
            "min_height": null,
            "min_width": null,
            "object_fit": null,
            "object_position": null,
            "order": null,
            "overflow": null,
            "overflow_x": null,
            "overflow_y": null,
            "padding": null,
            "right": null,
            "top": null,
            "visibility": null,
            "width": null
          }
        },
        "cb050280323b47c2b6b735dd42b3a02c": {
          "model_module": "@jupyter-widgets/base",
          "model_module_version": "1.2.0",
          "model_name": "LayoutModel",
          "state": {
            "_model_module": "@jupyter-widgets/base",
            "_model_module_version": "1.2.0",
            "_model_name": "LayoutModel",
            "_view_count": null,
            "_view_module": "@jupyter-widgets/base",
            "_view_module_version": "1.2.0",
            "_view_name": "LayoutView",
            "align_content": null,
            "align_items": null,
            "align_self": null,
            "border": null,
            "bottom": null,
            "display": null,
            "flex": null,
            "flex_flow": null,
            "grid_area": null,
            "grid_auto_columns": null,
            "grid_auto_flow": null,
            "grid_auto_rows": null,
            "grid_column": null,
            "grid_gap": null,
            "grid_row": null,
            "grid_template_areas": null,
            "grid_template_columns": null,
            "grid_template_rows": null,
            "height": null,
            "justify_content": null,
            "justify_items": null,
            "left": null,
            "margin": null,
            "max_height": null,
            "max_width": null,
            "min_height": null,
            "min_width": null,
            "object_fit": null,
            "object_position": null,
            "order": null,
            "overflow": null,
            "overflow_x": null,
            "overflow_y": null,
            "padding": null,
            "right": null,
            "top": null,
            "visibility": null,
            "width": null
          }
        },
        "cb24612a821144afb69c66cf92a291d4": {
          "model_module": "@jupyter-widgets/controls",
          "model_module_version": "1.5.0",
          "model_name": "HTMLModel",
          "state": {
            "_dom_classes": [],
            "_model_module": "@jupyter-widgets/controls",
            "_model_module_version": "1.5.0",
            "_model_name": "HTMLModel",
            "_view_count": null,
            "_view_module": "@jupyter-widgets/controls",
            "_view_module_version": "1.5.0",
            "_view_name": "HTMLView",
            "description": "",
            "description_tooltip": null,
            "layout": "IPY_MODEL_c1ab69e5c9864af28f25e700f0156c93",
            "placeholder": "​",
            "style": "IPY_MODEL_69ed929a6bc545599e1eae3a382ffafb",
            "value": " 442k/442k [00:00&lt;00:00, 7.13MB/s]"
          }
        },
        "ce651e1883164f9b8c458a769de4a08a": {
          "model_module": "@jupyter-widgets/controls",
          "model_module_version": "1.5.0",
          "model_name": "HTMLModel",
          "state": {
            "_dom_classes": [],
            "_model_module": "@jupyter-widgets/controls",
            "_model_module_version": "1.5.0",
            "_model_name": "HTMLModel",
            "_view_count": null,
            "_view_module": "@jupyter-widgets/controls",
            "_view_module_version": "1.5.0",
            "_view_name": "HTMLView",
            "description": "",
            "description_tooltip": null,
            "layout": "IPY_MODEL_c5cccaf29ddf41488e50d58ac2f1f000",
            "placeholder": "​",
            "style": "IPY_MODEL_a51a9e3f1b23490faac7233a171b40d6",
            "value": " 1.36M/1.36M [00:00&lt;00:00, 46.0MB/s]"
          }
        },
        "cec9cd93b2f74767817e7fef0621f208": {
          "model_module": "@jupyter-widgets/base",
          "model_module_version": "1.2.0",
          "model_name": "LayoutModel",
          "state": {
            "_model_module": "@jupyter-widgets/base",
            "_model_module_version": "1.2.0",
            "_model_name": "LayoutModel",
            "_view_count": null,
            "_view_module": "@jupyter-widgets/base",
            "_view_module_version": "1.2.0",
            "_view_name": "LayoutView",
            "align_content": null,
            "align_items": null,
            "align_self": null,
            "border": null,
            "bottom": null,
            "display": null,
            "flex": null,
            "flex_flow": null,
            "grid_area": null,
            "grid_auto_columns": null,
            "grid_auto_flow": null,
            "grid_auto_rows": null,
            "grid_column": null,
            "grid_gap": null,
            "grid_row": null,
            "grid_template_areas": null,
            "grid_template_columns": null,
            "grid_template_rows": null,
            "height": null,
            "justify_content": null,
            "justify_items": null,
            "left": null,
            "margin": null,
            "max_height": null,
            "max_width": null,
            "min_height": null,
            "min_width": null,
            "object_fit": null,
            "object_position": null,
            "order": null,
            "overflow": null,
            "overflow_x": null,
            "overflow_y": null,
            "padding": null,
            "right": null,
            "top": null,
            "visibility": null,
            "width": null
          }
        },
        "d193ee4440324ff6a08d7c9493b13455": {
          "model_module": "@jupyter-widgets/controls",
          "model_module_version": "1.5.0",
          "model_name": "HTMLModel",
          "state": {
            "_dom_classes": [],
            "_model_module": "@jupyter-widgets/controls",
            "_model_module_version": "1.5.0",
            "_model_name": "HTMLModel",
            "_view_count": null,
            "_view_module": "@jupyter-widgets/controls",
            "_view_module_version": "1.5.0",
            "_view_name": "HTMLView",
            "description": "",
            "description_tooltip": null,
            "layout": "IPY_MODEL_eb240f4604394e13b2f23a8721caf49f",
            "placeholder": "​",
            "style": "IPY_MODEL_ea197be62f274bf7aff8e12f2a0f254e",
            "value": "Downloading (…)olve/main/vocab.json: 100%"
          }
        },
        "d2b95443dc1342c2bd0c4fe99d6b5f7b": {
          "model_module": "@jupyter-widgets/controls",
          "model_module_version": "1.5.0",
          "model_name": "DescriptionStyleModel",
          "state": {
            "_model_module": "@jupyter-widgets/controls",
            "_model_module_version": "1.5.0",
            "_model_name": "DescriptionStyleModel",
            "_view_count": null,
            "_view_module": "@jupyter-widgets/base",
            "_view_module_version": "1.2.0",
            "_view_name": "StyleView",
            "description_width": ""
          }
        },
        "d3c4ee2d8d8f4d62b225e2b31e349081": {
          "model_module": "@jupyter-widgets/controls",
          "model_module_version": "1.5.0",
          "model_name": "DescriptionStyleModel",
          "state": {
            "_model_module": "@jupyter-widgets/controls",
            "_model_module_version": "1.5.0",
            "_model_name": "DescriptionStyleModel",
            "_view_count": null,
            "_view_module": "@jupyter-widgets/base",
            "_view_module_version": "1.2.0",
            "_view_name": "StyleView",
            "description_width": ""
          }
        },
        "d3d3ad80dd2a43959a092455cee80b45": {
          "model_module": "@jupyter-widgets/controls",
          "model_module_version": "1.5.0",
          "model_name": "HTMLModel",
          "state": {
            "_dom_classes": [],
            "_model_module": "@jupyter-widgets/controls",
            "_model_module_version": "1.5.0",
            "_model_name": "HTMLModel",
            "_view_count": null,
            "_view_module": "@jupyter-widgets/controls",
            "_view_module_version": "1.5.0",
            "_view_name": "HTMLView",
            "description": "",
            "description_tooltip": null,
            "layout": "IPY_MODEL_dd5dcf3646e6472faf585cfcfcaba7e6",
            "placeholder": "​",
            "style": "IPY_MODEL_5ce720239fae4e91812a3cffe2fa030c",
            "value": " 11.3M/11.3M [00:00&lt;00:00, 13.3MB/s]"
          }
        },
        "d85c3af1eb214fbd831bb28e42669335": {
          "model_module": "@jupyter-widgets/controls",
          "model_module_version": "1.5.0",
          "model_name": "DescriptionStyleModel",
          "state": {
            "_model_module": "@jupyter-widgets/controls",
            "_model_module_version": "1.5.0",
            "_model_name": "DescriptionStyleModel",
            "_view_count": null,
            "_view_module": "@jupyter-widgets/base",
            "_view_module_version": "1.2.0",
            "_view_name": "StyleView",
            "description_width": ""
          }
        },
        "d9d9366381244e42a14820442cb25944": {
          "model_module": "@jupyter-widgets/base",
          "model_module_version": "1.2.0",
          "model_name": "LayoutModel",
          "state": {
            "_model_module": "@jupyter-widgets/base",
            "_model_module_version": "1.2.0",
            "_model_name": "LayoutModel",
            "_view_count": null,
            "_view_module": "@jupyter-widgets/base",
            "_view_module_version": "1.2.0",
            "_view_name": "LayoutView",
            "align_content": null,
            "align_items": null,
            "align_self": null,
            "border": null,
            "bottom": null,
            "display": null,
            "flex": null,
            "flex_flow": null,
            "grid_area": null,
            "grid_auto_columns": null,
            "grid_auto_flow": null,
            "grid_auto_rows": null,
            "grid_column": null,
            "grid_gap": null,
            "grid_row": null,
            "grid_template_areas": null,
            "grid_template_columns": null,
            "grid_template_rows": null,
            "height": null,
            "justify_content": null,
            "justify_items": null,
            "left": null,
            "margin": null,
            "max_height": null,
            "max_width": null,
            "min_height": null,
            "min_width": null,
            "object_fit": null,
            "object_position": null,
            "order": null,
            "overflow": null,
            "overflow_x": null,
            "overflow_y": null,
            "padding": null,
            "right": null,
            "top": null,
            "visibility": null,
            "width": null
          }
        },
        "dbc414f6b3524eccaa49e87246f89f63": {
          "model_module": "@jupyter-widgets/controls",
          "model_module_version": "1.5.0",
          "model_name": "DescriptionStyleModel",
          "state": {
            "_model_module": "@jupyter-widgets/controls",
            "_model_module_version": "1.5.0",
            "_model_name": "DescriptionStyleModel",
            "_view_count": null,
            "_view_module": "@jupyter-widgets/base",
            "_view_module_version": "1.2.0",
            "_view_name": "StyleView",
            "description_width": ""
          }
        },
        "dbffbcfe620645a3a20f6daad5e1c1fb": {
          "model_module": "@jupyter-widgets/controls",
          "model_module_version": "1.5.0",
          "model_name": "ProgressStyleModel",
          "state": {
            "_model_module": "@jupyter-widgets/controls",
            "_model_module_version": "1.5.0",
            "_model_name": "ProgressStyleModel",
            "_view_count": null,
            "_view_module": "@jupyter-widgets/base",
            "_view_module_version": "1.2.0",
            "_view_name": "StyleView",
            "bar_color": null,
            "description_width": ""
          }
        },
        "dd5dcf3646e6472faf585cfcfcaba7e6": {
          "model_module": "@jupyter-widgets/base",
          "model_module_version": "1.2.0",
          "model_name": "LayoutModel",
          "state": {
            "_model_module": "@jupyter-widgets/base",
            "_model_module_version": "1.2.0",
            "_model_name": "LayoutModel",
            "_view_count": null,
            "_view_module": "@jupyter-widgets/base",
            "_view_module_version": "1.2.0",
            "_view_name": "LayoutView",
            "align_content": null,
            "align_items": null,
            "align_self": null,
            "border": null,
            "bottom": null,
            "display": null,
            "flex": null,
            "flex_flow": null,
            "grid_area": null,
            "grid_auto_columns": null,
            "grid_auto_flow": null,
            "grid_auto_rows": null,
            "grid_column": null,
            "grid_gap": null,
            "grid_row": null,
            "grid_template_areas": null,
            "grid_template_columns": null,
            "grid_template_rows": null,
            "height": null,
            "justify_content": null,
            "justify_items": null,
            "left": null,
            "margin": null,
            "max_height": null,
            "max_width": null,
            "min_height": null,
            "min_width": null,
            "object_fit": null,
            "object_position": null,
            "order": null,
            "overflow": null,
            "overflow_x": null,
            "overflow_y": null,
            "padding": null,
            "right": null,
            "top": null,
            "visibility": null,
            "width": null
          }
        },
        "de672bbf6b274e95924e792b729532fa": {
          "model_module": "@jupyter-widgets/controls",
          "model_module_version": "1.5.0",
          "model_name": "FloatProgressModel",
          "state": {
            "_dom_classes": [],
            "_model_module": "@jupyter-widgets/controls",
            "_model_module_version": "1.5.0",
            "_model_name": "FloatProgressModel",
            "_view_count": null,
            "_view_module": "@jupyter-widgets/controls",
            "_view_module_version": "1.5.0",
            "_view_name": "ProgressView",
            "bar_style": "success",
            "description": "",
            "description_tooltip": null,
            "layout": "IPY_MODEL_22e87fe9d72c4314b8d2902b16a5987e",
            "max": 1355863,
            "min": 0,
            "orientation": "horizontal",
            "style": "IPY_MODEL_c0fe9d0991414b30941574eccb63ceb6",
            "value": 1355863
          }
        },
        "de69788bf804414fbe73eb5d463ca6ff": {
          "model_module": "@jupyter-widgets/controls",
          "model_module_version": "1.5.0",
          "model_name": "ProgressStyleModel",
          "state": {
            "_model_module": "@jupyter-widgets/controls",
            "_model_module_version": "1.5.0",
            "_model_name": "ProgressStyleModel",
            "_view_count": null,
            "_view_module": "@jupyter-widgets/base",
            "_view_module_version": "1.2.0",
            "_view_name": "StyleView",
            "bar_color": null,
            "description_width": ""
          }
        },
        "dea3815741d44b1c93eb08095ab70025": {
          "model_module": "@jupyter-widgets/controls",
          "model_module_version": "1.5.0",
          "model_name": "HBoxModel",
          "state": {
            "_dom_classes": [],
            "_model_module": "@jupyter-widgets/controls",
            "_model_module_version": "1.5.0",
            "_model_name": "HBoxModel",
            "_view_count": null,
            "_view_module": "@jupyter-widgets/controls",
            "_view_module_version": "1.5.0",
            "_view_name": "HBoxView",
            "box_style": "",
            "children": [
              "IPY_MODEL_c56c44468bb9438780f84b817054d777",
              "IPY_MODEL_7bcf590f23ff4e2384735e0fd5027501",
              "IPY_MODEL_f48c3fbe67704e79a63cde7f01839724"
            ],
            "layout": "IPY_MODEL_f8daeee5887a4ba7b0e4c5846c077098"
          }
        },
        "ded7446a2cea4b42bab24de74b752bf0": {
          "model_module": "@jupyter-widgets/base",
          "model_module_version": "1.2.0",
          "model_name": "LayoutModel",
          "state": {
            "_model_module": "@jupyter-widgets/base",
            "_model_module_version": "1.2.0",
            "_model_name": "LayoutModel",
            "_view_count": null,
            "_view_module": "@jupyter-widgets/base",
            "_view_module_version": "1.2.0",
            "_view_name": "LayoutView",
            "align_content": null,
            "align_items": null,
            "align_self": null,
            "border": null,
            "bottom": null,
            "display": null,
            "flex": null,
            "flex_flow": null,
            "grid_area": null,
            "grid_auto_columns": null,
            "grid_auto_flow": null,
            "grid_auto_rows": null,
            "grid_column": null,
            "grid_gap": null,
            "grid_row": null,
            "grid_template_areas": null,
            "grid_template_columns": null,
            "grid_template_rows": null,
            "height": null,
            "justify_content": null,
            "justify_items": null,
            "left": null,
            "margin": null,
            "max_height": null,
            "max_width": null,
            "min_height": null,
            "min_width": null,
            "object_fit": null,
            "object_position": null,
            "order": null,
            "overflow": null,
            "overflow_x": null,
            "overflow_y": null,
            "padding": null,
            "right": null,
            "top": null,
            "visibility": null,
            "width": null
          }
        },
        "df6773622af04eeebc6620757daedd7e": {
          "model_module": "@jupyter-widgets/base",
          "model_module_version": "1.2.0",
          "model_name": "LayoutModel",
          "state": {
            "_model_module": "@jupyter-widgets/base",
            "_model_module_version": "1.2.0",
            "_model_name": "LayoutModel",
            "_view_count": null,
            "_view_module": "@jupyter-widgets/base",
            "_view_module_version": "1.2.0",
            "_view_name": "LayoutView",
            "align_content": null,
            "align_items": null,
            "align_self": null,
            "border": null,
            "bottom": null,
            "display": null,
            "flex": null,
            "flex_flow": null,
            "grid_area": null,
            "grid_auto_columns": null,
            "grid_auto_flow": null,
            "grid_auto_rows": null,
            "grid_column": null,
            "grid_gap": null,
            "grid_row": null,
            "grid_template_areas": null,
            "grid_template_columns": null,
            "grid_template_rows": null,
            "height": null,
            "justify_content": null,
            "justify_items": null,
            "left": null,
            "margin": null,
            "max_height": null,
            "max_width": null,
            "min_height": null,
            "min_width": null,
            "object_fit": null,
            "object_position": null,
            "order": null,
            "overflow": null,
            "overflow_x": null,
            "overflow_y": null,
            "padding": null,
            "right": null,
            "top": null,
            "visibility": null,
            "width": null
          }
        },
        "e4bd154d99b742368ef1058275da0028": {
          "model_module": "@jupyter-widgets/controls",
          "model_module_version": "1.5.0",
          "model_name": "HBoxModel",
          "state": {
            "_dom_classes": [],
            "_model_module": "@jupyter-widgets/controls",
            "_model_module_version": "1.5.0",
            "_model_name": "HBoxModel",
            "_view_count": null,
            "_view_module": "@jupyter-widgets/controls",
            "_view_module_version": "1.5.0",
            "_view_name": "HBoxView",
            "box_style": "",
            "children": [
              "IPY_MODEL_a90d63fa2cc9428b91972e1b3aa1b256",
              "IPY_MODEL_537a91cebe54446999d7bebf275b4e09",
              "IPY_MODEL_cb24612a821144afb69c66cf92a291d4"
            ],
            "layout": "IPY_MODEL_3cc7528c11604c1cb81d9325e311a736"
          }
        },
        "e4d7cfbee23c4d1bba209c89855e284a": {
          "model_module": "@jupyter-widgets/base",
          "model_module_version": "1.2.0",
          "model_name": "LayoutModel",
          "state": {
            "_model_module": "@jupyter-widgets/base",
            "_model_module_version": "1.2.0",
            "_model_name": "LayoutModel",
            "_view_count": null,
            "_view_module": "@jupyter-widgets/base",
            "_view_module_version": "1.2.0",
            "_view_name": "LayoutView",
            "align_content": null,
            "align_items": null,
            "align_self": null,
            "border": null,
            "bottom": null,
            "display": null,
            "flex": null,
            "flex_flow": null,
            "grid_area": null,
            "grid_auto_columns": null,
            "grid_auto_flow": null,
            "grid_auto_rows": null,
            "grid_column": null,
            "grid_gap": null,
            "grid_row": null,
            "grid_template_areas": null,
            "grid_template_columns": null,
            "grid_template_rows": null,
            "height": null,
            "justify_content": null,
            "justify_items": null,
            "left": null,
            "margin": null,
            "max_height": null,
            "max_width": null,
            "min_height": null,
            "min_width": null,
            "object_fit": null,
            "object_position": null,
            "order": null,
            "overflow": null,
            "overflow_x": null,
            "overflow_y": null,
            "padding": null,
            "right": null,
            "top": null,
            "visibility": null,
            "width": null
          }
        },
        "e8438bc767a64f1ab950e790288fff5f": {
          "model_module": "@jupyter-widgets/controls",
          "model_module_version": "1.5.0",
          "model_name": "FloatProgressModel",
          "state": {
            "_dom_classes": [],
            "_model_module": "@jupyter-widgets/controls",
            "_model_module_version": "1.5.0",
            "_model_name": "FloatProgressModel",
            "_view_count": null,
            "_view_module": "@jupyter-widgets/controls",
            "_view_module_version": "1.5.0",
            "_view_name": "ProgressView",
            "bar_style": "success",
            "description": "",
            "description_tooltip": null,
            "layout": "IPY_MODEL_fab592c6486d491380062c31428c732b",
            "max": 4654,
            "min": 0,
            "orientation": "horizontal",
            "style": "IPY_MODEL_7f493f82c4e2488bb0f2cb0b128feb3e",
            "value": 4654
          }
        },
        "e8ce5da2b9a3409dadeffa586f95c583": {
          "model_module": "@jupyter-widgets/controls",
          "model_module_version": "1.5.0",
          "model_name": "HBoxModel",
          "state": {
            "_dom_classes": [],
            "_model_module": "@jupyter-widgets/controls",
            "_model_module_version": "1.5.0",
            "_model_name": "HBoxModel",
            "_view_count": null,
            "_view_module": "@jupyter-widgets/controls",
            "_view_module_version": "1.5.0",
            "_view_name": "HBoxView",
            "box_style": "",
            "children": [
              "IPY_MODEL_fe94825a463e4ca9903a9f068ecce92d",
              "IPY_MODEL_de672bbf6b274e95924e792b729532fa",
              "IPY_MODEL_ce651e1883164f9b8c458a769de4a08a"
            ],
            "layout": "IPY_MODEL_d9d9366381244e42a14820442cb25944"
          }
        },
        "e8f68d1dfe44498fa5de7dfe6e78bc72": {
          "model_module": "@jupyter-widgets/controls",
          "model_module_version": "1.5.0",
          "model_name": "FloatProgressModel",
          "state": {
            "_dom_classes": [],
            "_model_module": "@jupyter-widgets/controls",
            "_model_module_version": "1.5.0",
            "_model_name": "FloatProgressModel",
            "_view_count": null,
            "_view_module": "@jupyter-widgets/controls",
            "_view_module_version": "1.5.0",
            "_view_name": "ProgressView",
            "bar_style": "success",
            "description": "",
            "description_tooltip": null,
            "layout": "IPY_MODEL_77fe509fad684546b8708eb96c6eca9f",
            "max": 456318,
            "min": 0,
            "orientation": "horizontal",
            "style": "IPY_MODEL_9989b5d4a5b547798f7429786df8050a",
            "value": 456318
          }
        },
        "ea197be62f274bf7aff8e12f2a0f254e": {
          "model_module": "@jupyter-widgets/controls",
          "model_module_version": "1.5.0",
          "model_name": "DescriptionStyleModel",
          "state": {
            "_model_module": "@jupyter-widgets/controls",
            "_model_module_version": "1.5.0",
            "_model_name": "DescriptionStyleModel",
            "_view_count": null,
            "_view_module": "@jupyter-widgets/base",
            "_view_module_version": "1.2.0",
            "_view_name": "StyleView",
            "description_width": ""
          }
        },
        "eb240f4604394e13b2f23a8721caf49f": {
          "model_module": "@jupyter-widgets/base",
          "model_module_version": "1.2.0",
          "model_name": "LayoutModel",
          "state": {
            "_model_module": "@jupyter-widgets/base",
            "_model_module_version": "1.2.0",
            "_model_name": "LayoutModel",
            "_view_count": null,
            "_view_module": "@jupyter-widgets/base",
            "_view_module_version": "1.2.0",
            "_view_name": "LayoutView",
            "align_content": null,
            "align_items": null,
            "align_self": null,
            "border": null,
            "bottom": null,
            "display": null,
            "flex": null,
            "flex_flow": null,
            "grid_area": null,
            "grid_auto_columns": null,
            "grid_auto_flow": null,
            "grid_auto_rows": null,
            "grid_column": null,
            "grid_gap": null,
            "grid_row": null,
            "grid_template_areas": null,
            "grid_template_columns": null,
            "grid_template_rows": null,
            "height": null,
            "justify_content": null,
            "justify_items": null,
            "left": null,
            "margin": null,
            "max_height": null,
            "max_width": null,
            "min_height": null,
            "min_width": null,
            "object_fit": null,
            "object_position": null,
            "order": null,
            "overflow": null,
            "overflow_x": null,
            "overflow_y": null,
            "padding": null,
            "right": null,
            "top": null,
            "visibility": null,
            "width": null
          }
        },
        "eba49532d19a47a082c8954c126aef12": {
          "model_module": "@jupyter-widgets/controls",
          "model_module_version": "1.5.0",
          "model_name": "DescriptionStyleModel",
          "state": {
            "_model_module": "@jupyter-widgets/controls",
            "_model_module_version": "1.5.0",
            "_model_name": "DescriptionStyleModel",
            "_view_count": null,
            "_view_module": "@jupyter-widgets/base",
            "_view_module_version": "1.2.0",
            "_view_name": "StyleView",
            "description_width": ""
          }
        },
        "ec2d6d3466f246e1a7b44dd6efe992b3": {
          "model_module": "@jupyter-widgets/controls",
          "model_module_version": "1.5.0",
          "model_name": "HTMLModel",
          "state": {
            "_dom_classes": [],
            "_model_module": "@jupyter-widgets/controls",
            "_model_module_version": "1.5.0",
            "_model_name": "HTMLModel",
            "_view_count": null,
            "_view_module": "@jupyter-widgets/controls",
            "_view_module_version": "1.5.0",
            "_view_name": "HTMLView",
            "description": "",
            "description_tooltip": null,
            "layout": "IPY_MODEL_4a3406ae557641d5a6d0ec5829b9f458",
            "placeholder": "​",
            "style": "IPY_MODEL_73b27d4352654fa18d70f19847bae805",
            "value": " 3/3 [00:00&lt;00:00,  5.71it/s]"
          }
        },
        "ec68eb52bcb84fd8aafc0255fb567acb": {
          "model_module": "@jupyter-widgets/controls",
          "model_module_version": "1.5.0",
          "model_name": "DescriptionStyleModel",
          "state": {
            "_model_module": "@jupyter-widgets/controls",
            "_model_module_version": "1.5.0",
            "_model_name": "DescriptionStyleModel",
            "_view_count": null,
            "_view_module": "@jupyter-widgets/base",
            "_view_module_version": "1.2.0",
            "_view_name": "StyleView",
            "description_width": ""
          }
        },
        "f178f5aec4cc4496906ba36f3d6a93b1": {
          "model_module": "@jupyter-widgets/base",
          "model_module_version": "1.2.0",
          "model_name": "LayoutModel",
          "state": {
            "_model_module": "@jupyter-widgets/base",
            "_model_module_version": "1.2.0",
            "_model_name": "LayoutModel",
            "_view_count": null,
            "_view_module": "@jupyter-widgets/base",
            "_view_module_version": "1.2.0",
            "_view_name": "LayoutView",
            "align_content": null,
            "align_items": null,
            "align_self": null,
            "border": null,
            "bottom": null,
            "display": null,
            "flex": null,
            "flex_flow": null,
            "grid_area": null,
            "grid_auto_columns": null,
            "grid_auto_flow": null,
            "grid_auto_rows": null,
            "grid_column": null,
            "grid_gap": null,
            "grid_row": null,
            "grid_template_areas": null,
            "grid_template_columns": null,
            "grid_template_rows": null,
            "height": null,
            "justify_content": null,
            "justify_items": null,
            "left": null,
            "margin": null,
            "max_height": null,
            "max_width": null,
            "min_height": null,
            "min_width": null,
            "object_fit": null,
            "object_position": null,
            "order": null,
            "overflow": null,
            "overflow_x": null,
            "overflow_y": null,
            "padding": null,
            "right": null,
            "top": null,
            "visibility": null,
            "width": null
          }
        },
        "f420dd2e1fb9456b9e8702fd07d29fa1": {
          "model_module": "@jupyter-widgets/controls",
          "model_module_version": "1.5.0",
          "model_name": "FloatProgressModel",
          "state": {
            "_dom_classes": [],
            "_model_module": "@jupyter-widgets/controls",
            "_model_module_version": "1.5.0",
            "_model_name": "FloatProgressModel",
            "_view_count": null,
            "_view_module": "@jupyter-widgets/controls",
            "_view_module_version": "1.5.0",
            "_view_name": "ProgressView",
            "bar_style": "success",
            "description": "",
            "description_tooltip": null,
            "layout": "IPY_MODEL_4d07d3ddaf364710a8031448b2fcd378",
            "max": 1,
            "min": 0,
            "orientation": "horizontal",
            "style": "IPY_MODEL_7dd853eb7b704104b7f5b97efbd0ae52",
            "value": 1
          }
        },
        "f48c3fbe67704e79a63cde7f01839724": {
          "model_module": "@jupyter-widgets/controls",
          "model_module_version": "1.5.0",
          "model_name": "HTMLModel",
          "state": {
            "_dom_classes": [],
            "_model_module": "@jupyter-widgets/controls",
            "_model_module_version": "1.5.0",
            "_model_name": "HTMLModel",
            "_view_count": null,
            "_view_module": "@jupyter-widgets/controls",
            "_view_module_version": "1.5.0",
            "_view_name": "HTMLView",
            "description": "",
            "description_tooltip": null,
            "layout": "IPY_MODEL_fd653d39f9de4369a5f7e326760266da",
            "placeholder": "​",
            "style": "IPY_MODEL_d85c3af1eb214fbd831bb28e42669335",
            "value": " 3/3 [00:00&lt;00:00, 112.18it/s]"
          }
        },
        "f50d6d4da48346f8b5587c94cd0de0be": {
          "model_module": "@jupyter-widgets/controls",
          "model_module_version": "1.5.0",
          "model_name": "HBoxModel",
          "state": {
            "_dom_classes": [],
            "_model_module": "@jupyter-widgets/controls",
            "_model_module_version": "1.5.0",
            "_model_name": "HBoxModel",
            "_view_count": null,
            "_view_module": "@jupyter-widgets/controls",
            "_view_module_version": "1.5.0",
            "_view_name": "HBoxView",
            "box_style": "",
            "children": [
              "IPY_MODEL_bbafddcb5b734de3bb91fc8b6dcf6591",
              "IPY_MODEL_0f2d5312cbd044c6be12d71dc826cc6b",
              "IPY_MODEL_d3d3ad80dd2a43959a092455cee80b45"
            ],
            "layout": "IPY_MODEL_a633b99daf18435fae447461a7742223"
          }
        },
        "f8daeee5887a4ba7b0e4c5846c077098": {
          "model_module": "@jupyter-widgets/base",
          "model_module_version": "1.2.0",
          "model_name": "LayoutModel",
          "state": {
            "_model_module": "@jupyter-widgets/base",
            "_model_module_version": "1.2.0",
            "_model_name": "LayoutModel",
            "_view_count": null,
            "_view_module": "@jupyter-widgets/base",
            "_view_module_version": "1.2.0",
            "_view_name": "LayoutView",
            "align_content": null,
            "align_items": null,
            "align_self": null,
            "border": null,
            "bottom": null,
            "display": null,
            "flex": null,
            "flex_flow": null,
            "grid_area": null,
            "grid_auto_columns": null,
            "grid_auto_flow": null,
            "grid_auto_rows": null,
            "grid_column": null,
            "grid_gap": null,
            "grid_row": null,
            "grid_template_areas": null,
            "grid_template_columns": null,
            "grid_template_rows": null,
            "height": null,
            "justify_content": null,
            "justify_items": null,
            "left": null,
            "margin": null,
            "max_height": null,
            "max_width": null,
            "min_height": null,
            "min_width": null,
            "object_fit": null,
            "object_position": null,
            "order": null,
            "overflow": null,
            "overflow_x": null,
            "overflow_y": null,
            "padding": null,
            "right": null,
            "top": null,
            "visibility": null,
            "width": null
          }
        },
        "f9343e729726419bbc4ad1ccf14d74c1": {
          "model_module": "@jupyter-widgets/controls",
          "model_module_version": "1.5.0",
          "model_name": "HTMLModel",
          "state": {
            "_dom_classes": [],
            "_model_module": "@jupyter-widgets/controls",
            "_model_module_version": "1.5.0",
            "_model_name": "HTMLModel",
            "_view_count": null,
            "_view_module": "@jupyter-widgets/controls",
            "_view_module_version": "1.5.0",
            "_view_name": "HTMLView",
            "description": "",
            "description_tooltip": null,
            "layout": "IPY_MODEL_489bd176836849b89a79a9c46fc11a0b",
            "placeholder": "​",
            "style": "IPY_MODEL_1b31435b0ebe473f9b38441c0092c773",
            "value": " 456k/456k [00:00&lt;00:00, 14.5MB/s]"
          }
        },
        "f953d301298c41548300b3500572a3b0": {
          "model_module": "@jupyter-widgets/controls",
          "model_module_version": "1.5.0",
          "model_name": "HTMLModel",
          "state": {
            "_dom_classes": [],
            "_model_module": "@jupyter-widgets/controls",
            "_model_module_version": "1.5.0",
            "_model_name": "HTMLModel",
            "_view_count": null,
            "_view_module": "@jupyter-widgets/controls",
            "_view_module_version": "1.5.0",
            "_view_name": "HTMLView",
            "description": "",
            "description_tooltip": null,
            "layout": "IPY_MODEL_91bebbf6397a48e8b168e1384c18fce0",
            "placeholder": "​",
            "style": "IPY_MODEL_1517d39dcfc34a8c895fce874cb12057",
            "value": " 899k/899k [00:00&lt;00:00, 14.5MB/s]"
          }
        },
        "fab592c6486d491380062c31428c732b": {
          "model_module": "@jupyter-widgets/base",
          "model_module_version": "1.2.0",
          "model_name": "LayoutModel",
          "state": {
            "_model_module": "@jupyter-widgets/base",
            "_model_module_version": "1.2.0",
            "_model_name": "LayoutModel",
            "_view_count": null,
            "_view_module": "@jupyter-widgets/base",
            "_view_module_version": "1.2.0",
            "_view_name": "LayoutView",
            "align_content": null,
            "align_items": null,
            "align_self": null,
            "border": null,
            "bottom": null,
            "display": null,
            "flex": null,
            "flex_flow": null,
            "grid_area": null,
            "grid_auto_columns": null,
            "grid_auto_flow": null,
            "grid_auto_rows": null,
            "grid_column": null,
            "grid_gap": null,
            "grid_row": null,
            "grid_template_areas": null,
            "grid_template_columns": null,
            "grid_template_rows": null,
            "height": null,
            "justify_content": null,
            "justify_items": null,
            "left": null,
            "margin": null,
            "max_height": null,
            "max_width": null,
            "min_height": null,
            "min_width": null,
            "object_fit": null,
            "object_position": null,
            "order": null,
            "overflow": null,
            "overflow_x": null,
            "overflow_y": null,
            "padding": null,
            "right": null,
            "top": null,
            "visibility": null,
            "width": null
          }
        },
        "fd653d39f9de4369a5f7e326760266da": {
          "model_module": "@jupyter-widgets/base",
          "model_module_version": "1.2.0",
          "model_name": "LayoutModel",
          "state": {
            "_model_module": "@jupyter-widgets/base",
            "_model_module_version": "1.2.0",
            "_model_name": "LayoutModel",
            "_view_count": null,
            "_view_module": "@jupyter-widgets/base",
            "_view_module_version": "1.2.0",
            "_view_name": "LayoutView",
            "align_content": null,
            "align_items": null,
            "align_self": null,
            "border": null,
            "bottom": null,
            "display": null,
            "flex": null,
            "flex_flow": null,
            "grid_area": null,
            "grid_auto_columns": null,
            "grid_auto_flow": null,
            "grid_auto_rows": null,
            "grid_column": null,
            "grid_gap": null,
            "grid_row": null,
            "grid_template_areas": null,
            "grid_template_columns": null,
            "grid_template_rows": null,
            "height": null,
            "justify_content": null,
            "justify_items": null,
            "left": null,
            "margin": null,
            "max_height": null,
            "max_width": null,
            "min_height": null,
            "min_width": null,
            "object_fit": null,
            "object_position": null,
            "order": null,
            "overflow": null,
            "overflow_x": null,
            "overflow_y": null,
            "padding": null,
            "right": null,
            "top": null,
            "visibility": null,
            "width": null
          }
        },
        "fe03a8a3e1bd46ab931eca9c986d9e17": {
          "model_module": "@jupyter-widgets/controls",
          "model_module_version": "1.5.0",
          "model_name": "HBoxModel",
          "state": {
            "_dom_classes": [],
            "_model_module": "@jupyter-widgets/controls",
            "_model_module_version": "1.5.0",
            "_model_name": "HBoxModel",
            "_view_count": null,
            "_view_module": "@jupyter-widgets/controls",
            "_view_module_version": "1.5.0",
            "_view_name": "HBoxView",
            "box_style": "",
            "children": [
              "IPY_MODEL_c3329d2677984b2da6068bb5e0cdf1e6",
              "IPY_MODEL_7d04838a2bcf4b4fbb664b442f2fc877",
              "IPY_MODEL_8b746df9e50d45e5b23ba8ae0fc7327e"
            ],
            "layout": "IPY_MODEL_02b97156723942aa8068ccab51d5a4a7"
          }
        },
        "fe2c37aed0b148e7a89fc43f06911346": {
          "model_module": "@jupyter-widgets/controls",
          "model_module_version": "1.5.0",
          "model_name": "HBoxModel",
          "state": {
            "_dom_classes": [],
            "_model_module": "@jupyter-widgets/controls",
            "_model_module_version": "1.5.0",
            "_model_name": "HBoxModel",
            "_view_count": null,
            "_view_module": "@jupyter-widgets/controls",
            "_view_module_version": "1.5.0",
            "_view_name": "HBoxView",
            "box_style": "",
            "children": [
              "IPY_MODEL_8e7081fe1ba34ec2a891dcd49d7d0088",
              "IPY_MODEL_f420dd2e1fb9456b9e8702fd07d29fa1",
              "IPY_MODEL_c0ba7c60022f4d858372df65ae953984"
            ],
            "layout": "IPY_MODEL_9efdd2a79ac348cf97b7a6305605caef"
          }
        },
        "fe94825a463e4ca9903a9f068ecce92d": {
          "model_module": "@jupyter-widgets/controls",
          "model_module_version": "1.5.0",
          "model_name": "HTMLModel",
          "state": {
            "_dom_classes": [],
            "_model_module": "@jupyter-widgets/controls",
            "_model_module_version": "1.5.0",
            "_model_name": "HTMLModel",
            "_view_count": null,
            "_view_module": "@jupyter-widgets/controls",
            "_view_module_version": "1.5.0",
            "_view_name": "HTMLView",
            "description": "",
            "description_tooltip": null,
            "layout": "IPY_MODEL_e4d7cfbee23c4d1bba209c89855e284a",
            "placeholder": "​",
            "style": "IPY_MODEL_1566b1915ef241b698ea1329ee1ae400",
            "value": "Downloading (…)/main/tokenizer.json: 100%"
          }
        },
        "ffa11c12165246f7bb7b14a8d9f2c7a6": {
          "model_module": "@jupyter-widgets/base",
          "model_module_version": "1.2.0",
          "model_name": "LayoutModel",
          "state": {
            "_model_module": "@jupyter-widgets/base",
            "_model_module_version": "1.2.0",
            "_model_name": "LayoutModel",
            "_view_count": null,
            "_view_module": "@jupyter-widgets/base",
            "_view_module_version": "1.2.0",
            "_view_name": "LayoutView",
            "align_content": null,
            "align_items": null,
            "align_self": null,
            "border": null,
            "bottom": null,
            "display": null,
            "flex": null,
            "flex_flow": null,
            "grid_area": null,
            "grid_auto_columns": null,
            "grid_auto_flow": null,
            "grid_auto_rows": null,
            "grid_column": null,
            "grid_gap": null,
            "grid_row": null,
            "grid_template_areas": null,
            "grid_template_columns": null,
            "grid_template_rows": null,
            "height": null,
            "justify_content": null,
            "justify_items": null,
            "left": null,
            "margin": null,
            "max_height": null,
            "max_width": null,
            "min_height": null,
            "min_width": null,
            "object_fit": null,
            "object_position": null,
            "order": null,
            "overflow": null,
            "overflow_x": null,
            "overflow_y": null,
            "padding": null,
            "right": null,
            "top": null,
            "visibility": null,
            "width": null
          }
        }
      }
    }
  },
  "nbformat": 4,
  "nbformat_minor": 0
}
