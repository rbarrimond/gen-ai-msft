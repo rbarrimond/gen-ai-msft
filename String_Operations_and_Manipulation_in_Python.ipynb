{
  "cells": [
    {
      "cell_type": "markdown",
      "id": "dfb6925a",
      "metadata": {
        "id": "dfb6925a"
      },
      "source": [
        "# String Operations and Manipulation in Python"
      ]
    },
    {
      "cell_type": "markdown",
      "id": "36883f8f",
      "metadata": {
        "id": "36883f8f"
      },
      "source": [
        "## 1.0 String Operations"
      ]
    },
    {
      "cell_type": "markdown",
      "source": [
        "String operations in Python refer to various actions and manipulations that you can perform on strings, which are sequences of characters. Python provides a wide range of built-in functions and methods for working with strings. Here are some common string operations in Python:\n",
        "\n",
        "**1.1** Concatination \\\n",
        "**1.2** String formatting \\\n",
        "**1.3** String Indexing \\\n",
        "**1.4** Slicing \\\n",
        "**1.5** String lenth \\\n",
        "**1.6** String methods \\\n",
        "**1.7** String searching and Manipulation \\\n",
        "**1.8** String Conversion"
      ],
      "metadata": {
        "id": "nLCsM9fb410t"
      },
      "id": "nLCsM9fb410t"
    },
    {
      "cell_type": "markdown",
      "id": "0329375d",
      "metadata": {
        "id": "0329375d"
      },
      "source": [
        "### 1.1 Concatination\n",
        "You can concatenate (combine) two or more strings using the + operator"
      ]
    },
    {
      "cell_type": "code",
      "execution_count": 1,
      "id": "012aa282",
      "metadata": {
        "colab": {
          "base_uri": "https://localhost:8080/"
        },
        "id": "012aa282",
        "outputId": "3d08f978-ce06-4540-be1e-e5404a7768c8"
      },
      "outputs": [
        {
          "output_type": "stream",
          "name": "stdout",
          "text": [
            "Hello World\n"
          ]
        }
      ],
      "source": [
        "str1 = \"Hello\"\n",
        "str2 = \"World\"\n",
        "result = str1 + \" \" + str2\n",
        "\n",
        "print(result)"
      ]
    },
    {
      "cell_type": "code",
      "execution_count": 2,
      "id": "012c6f0c",
      "metadata": {
        "id": "012c6f0c",
        "outputId": "47084765-5691-4fdb-ddc3-17bf295b175d",
        "colab": {
          "base_uri": "https://localhost:8080/"
        }
      },
      "outputs": [
        {
          "output_type": "stream",
          "name": "stdout",
          "text": [
            "1-2\n"
          ]
        }
      ],
      "source": [
        "str1 = \"1\"\n",
        "str2 = \"2\"\n",
        "result = str1 + \"-\" + str2\n",
        "\n",
        "print(result)"
      ]
    },
    {
      "cell_type": "code",
      "execution_count": 3,
      "id": "73a4324c",
      "metadata": {
        "id": "73a4324c",
        "outputId": "31594c40-5ff5-4f3f-e81f-a7a97e6fbe70",
        "colab": {
          "base_uri": "https://localhost:8080/"
        }
      },
      "outputs": [
        {
          "output_type": "stream",
          "name": "stdout",
          "text": [
            "Hello 100\n"
          ]
        }
      ],
      "source": [
        "str1 = \"Hello\"\n",
        "str2 = \"100\"\n",
        "result = str1 + \" \" + str2\n",
        "\n",
        "print(result)"
      ]
    },
    {
      "cell_type": "markdown",
      "id": "8bd5572f",
      "metadata": {
        "id": "8bd5572f"
      },
      "source": [
        "### 1.2 String formatting\n",
        "You can format strings using the % operator for older-style string formatting"
      ]
    },
    {
      "cell_type": "code",
      "execution_count": 4,
      "id": "29c54346",
      "metadata": {
        "id": "29c54346",
        "outputId": "87ce84a9-2026-4ff4-89ba-e6b85c7041b0",
        "colab": {
          "base_uri": "https://localhost:8080/",
          "height": 35
        }
      },
      "outputs": [
        {
          "output_type": "execute_result",
          "data": {
            "text/plain": [
              "'My name is Alice and I am 30 years old.'"
            ],
            "application/vnd.google.colaboratory.intrinsic+json": {
              "type": "string"
            }
          },
          "metadata": {},
          "execution_count": 4
        }
      ],
      "source": [
        "# Example 1 (Using f-strings)\n",
        "name = \"Alice\"\n",
        "age = 30\n",
        "formatted_string = f\"My name is {name} and I am {age} years old.\"\n",
        "\n",
        "formatted_string"
      ]
    },
    {
      "cell_type": "code",
      "execution_count": 5,
      "id": "6d61dbd0",
      "metadata": {
        "id": "6d61dbd0",
        "outputId": "3f0b9cbe-6fcc-41a0-daac-72f613e7206e",
        "colab": {
          "base_uri": "https://localhost:8080/",
          "height": 35
        }
      },
      "outputs": [
        {
          "output_type": "execute_result",
          "data": {
            "text/plain": [
              "'The apple costs $0.75'"
            ],
            "application/vnd.google.colaboratory.intrinsic+json": {
              "type": "string"
            }
          },
          "metadata": {},
          "execution_count": 5
        }
      ],
      "source": [
        "# Example 2 (Using %-formatting)\n",
        "product = \"apple\"\n",
        "price = 0.75\n",
        "formatted_string = \"The %s costs $%.2f\" % (product, price)\n",
        "\n",
        "formatted_string"
      ]
    },
    {
      "cell_type": "code",
      "execution_count": 6,
      "id": "0b48eb0c",
      "metadata": {
        "id": "0b48eb0c",
        "outputId": "0228b7f2-6a95-4b34-a2ca-144b880ad3fc",
        "colab": {
          "base_uri": "https://localhost:8080/",
          "height": 35
        }
      },
      "outputs": [
        {
          "output_type": "execute_result",
          "data": {
            "text/plain": [
              "'The population of New York is 8400000.'"
            ],
            "application/vnd.google.colaboratory.intrinsic+json": {
              "type": "string"
            }
          },
          "metadata": {},
          "execution_count": 6
        }
      ],
      "source": [
        "# Example 3 (Using str.format())\n",
        "city = \"New York\"\n",
        "population = 8_400_000\n",
        "formatted_string = \"The population of {} is {}.\".format(city, population)\n",
        "\n",
        "formatted_string"
      ]
    },
    {
      "cell_type": "code",
      "execution_count": 7,
      "id": "bf186090",
      "metadata": {
        "id": "bf186090",
        "outputId": "a7cc3825-5025-4534-a811-06798a1071f7",
        "colab": {
          "base_uri": "https://localhost:8080/",
          "height": 35
        }
      },
      "outputs": [
        {
          "output_type": "execute_result",
          "data": {
            "text/plain": [
              "'A book costs $15.99'"
            ],
            "application/vnd.google.colaboratory.intrinsic+json": {
              "type": "string"
            }
          },
          "metadata": {},
          "execution_count": 7
        }
      ],
      "source": [
        "# Example 4 (Using positional arguments with str.format())\n",
        "item = \"book\"\n",
        "price = 15.99\n",
        "formatted_string = \"A {} costs ${:.2f}\".format(item, price)\n",
        "\n",
        "formatted_string"
      ]
    },
    {
      "cell_type": "code",
      "execution_count": 8,
      "id": "e47e9109",
      "metadata": {
        "id": "e47e9109",
        "outputId": "e27ba546-80ae-4541-e06e-bc889c45c973",
        "colab": {
          "base_uri": "https://localhost:8080/",
          "height": 35
        }
      },
      "outputs": [
        {
          "output_type": "execute_result",
          "data": {
            "text/plain": [
              "'I bought 5 bananas.'"
            ],
            "application/vnd.google.colaboratory.intrinsic+json": {
              "type": "string"
            }
          },
          "metadata": {},
          "execution_count": 8
        }
      ],
      "source": [
        "# Example 5 (Using named arguments with str.format())\n",
        "fruit = \"banana\"\n",
        "quantity = 5\n",
        "formatted_string = \"I bought {qty} {fruit}s.\".format(qty=quantity, fruit=fruit)\n",
        "\n",
        "formatted_string"
      ]
    },
    {
      "cell_type": "markdown",
      "id": "d5f15b1a",
      "metadata": {
        "id": "d5f15b1a"
      },
      "source": [
        "### 1.3 String Indexing\n",
        "Display the charcter from a string using the index value"
      ]
    },
    {
      "cell_type": "code",
      "execution_count": 9,
      "id": "aa7141a9",
      "metadata": {
        "id": "aa7141a9"
      },
      "outputs": [],
      "source": [
        "my_string = \"Python\""
      ]
    },
    {
      "cell_type": "code",
      "execution_count": 10,
      "id": "f5354541",
      "metadata": {
        "id": "f5354541",
        "outputId": "e4e109b9-335f-4937-eb4c-c46191f2c9f1",
        "colab": {
          "base_uri": "https://localhost:8080/"
        }
      },
      "outputs": [
        {
          "output_type": "stream",
          "name": "stdout",
          "text": [
            "P\n"
          ]
        }
      ],
      "source": [
        "first_char = my_string[0]\n",
        "print(first_char)"
      ]
    },
    {
      "cell_type": "code",
      "execution_count": 11,
      "id": "6885b267",
      "metadata": {
        "id": "6885b267",
        "outputId": "abd619b0-f780-433f-c630-af20d0b66507",
        "colab": {
          "base_uri": "https://localhost:8080/"
        }
      },
      "outputs": [
        {
          "output_type": "stream",
          "name": "stdout",
          "text": [
            "n\n"
          ]
        }
      ],
      "source": [
        "last_char = my_string[-1]\n",
        "print(last_char)"
      ]
    },
    {
      "cell_type": "code",
      "execution_count": 12,
      "id": "0da74014",
      "metadata": {
        "id": "0da74014",
        "outputId": "6133ddc6-2ea5-4085-f999-c8599378ea97",
        "colab": {
          "base_uri": "https://localhost:8080/"
        }
      },
      "outputs": [
        {
          "output_type": "stream",
          "name": "stdout",
          "text": [
            "t\n"
          ]
        }
      ],
      "source": [
        "middle_char = my_string[2]\n",
        "print(middle_char)"
      ]
    },
    {
      "cell_type": "code",
      "execution_count": 13,
      "id": "d77ac07c",
      "metadata": {
        "id": "d77ac07c",
        "outputId": "14e669a0-7225-4253-c1ab-32e22aac9917",
        "colab": {
          "base_uri": "https://localhost:8080/"
        }
      },
      "outputs": [
        {
          "output_type": "stream",
          "name": "stdout",
          "text": [
            "y\n"
          ]
        }
      ],
      "source": [
        "second_char = my_string[1]\n",
        "print(second_char)"
      ]
    },
    {
      "cell_type": "markdown",
      "id": "3a786683",
      "metadata": {
        "id": "3a786683"
      },
      "source": [
        "### 1.4 Slicing\n",
        "Access the group of characters from a string using slicing"
      ]
    },
    {
      "cell_type": "code",
      "execution_count": 14,
      "id": "b53a392b",
      "metadata": {
        "id": "b53a392b",
        "outputId": "41c25a03-c977-4d44-ccf7-ed5ae3d646c0",
        "colab": {
          "base_uri": "https://localhost:8080/",
          "height": 35
        }
      },
      "outputs": [
        {
          "output_type": "execute_result",
          "data": {
            "text/plain": [
              "'eat'"
            ],
            "application/vnd.google.colaboratory.intrinsic+json": {
              "type": "string"
            }
          },
          "metadata": {},
          "execution_count": 14
        }
      ],
      "source": [
        "my_string = \"GreatLearning\"\n",
        "substring = my_string[2:5]\n",
        "# substring is 'tho'\n",
        "\n",
        "substring"
      ]
    },
    {
      "cell_type": "code",
      "execution_count": 15,
      "id": "8055f8bc",
      "metadata": {
        "id": "8055f8bc",
        "outputId": "de0483f3-fa40-4075-e7d0-b6472ef81f26",
        "colab": {
          "base_uri": "https://localhost:8080/",
          "height": 35
        }
      },
      "outputs": [
        {
          "output_type": "execute_result",
          "data": {
            "text/plain": [
              "'Gre'"
            ],
            "application/vnd.google.colaboratory.intrinsic+json": {
              "type": "string"
            }
          },
          "metadata": {},
          "execution_count": 15
        }
      ],
      "source": [
        "first_three_chars = my_string[:3]\n",
        "# first_three_chars is 'Pyt'\n",
        "\n",
        "first_three_chars"
      ]
    },
    {
      "cell_type": "code",
      "execution_count": 16,
      "id": "2b9740ba",
      "metadata": {
        "id": "2b9740ba",
        "outputId": "f055a0e0-3676-49bb-c773-86a013f5d70e",
        "colab": {
          "base_uri": "https://localhost:8080/",
          "height": 35
        }
      },
      "outputs": [
        {
          "output_type": "execute_result",
          "data": {
            "text/plain": [
              "'ing'"
            ],
            "application/vnd.google.colaboratory.intrinsic+json": {
              "type": "string"
            }
          },
          "metadata": {},
          "execution_count": 16
        }
      ],
      "source": [
        "last_three_chars = my_string[-3:]\n",
        "# last_three_chars is 'hon'\n",
        "\n",
        "last_three_chars"
      ]
    },
    {
      "cell_type": "code",
      "execution_count": 17,
      "id": "bda3592c",
      "metadata": {
        "id": "bda3592c",
        "outputId": "071b41f0-a2bd-48e3-a08c-483eff586a95",
        "colab": {
          "base_uri": "https://localhost:8080/",
          "height": 35
        }
      },
      "outputs": [
        {
          "output_type": "execute_result",
          "data": {
            "text/plain": [
              "'Geterig'"
            ],
            "application/vnd.google.colaboratory.intrinsic+json": {
              "type": "string"
            }
          },
          "metadata": {},
          "execution_count": 17
        }
      ],
      "source": [
        "every_other_char = my_string[::2]\n",
        "# every_other_char is 'Pto'\n",
        "\n",
        "every_other_char"
      ]
    },
    {
      "cell_type": "code",
      "execution_count": 18,
      "id": "be72fc26",
      "metadata": {
        "id": "be72fc26",
        "outputId": "70d1af5e-e6b6-4a54-f0cd-a5eb0226b8e0",
        "colab": {
          "base_uri": "https://localhost:8080/",
          "height": 35
        }
      },
      "outputs": [
        {
          "output_type": "execute_result",
          "data": {
            "text/plain": [
              "'gninraeLtaerG'"
            ],
            "application/vnd.google.colaboratory.intrinsic+json": {
              "type": "string"
            }
          },
          "metadata": {},
          "execution_count": 18
        }
      ],
      "source": [
        "reversed_string = my_string[::-1]\n",
        "# reversed_string is 'nohtyP'\n",
        "\n",
        "reversed_string"
      ]
    },
    {
      "cell_type": "markdown",
      "id": "cbaa67e6",
      "metadata": {
        "id": "cbaa67e6"
      },
      "source": [
        "### 1.5 String Length"
      ]
    },
    {
      "cell_type": "code",
      "execution_count": 19,
      "id": "b779d9df",
      "metadata": {
        "id": "b779d9df",
        "outputId": "5c0fbbb2-1d00-4ecc-8eff-42d7fe47d836",
        "colab": {
          "base_uri": "https://localhost:8080/"
        }
      },
      "outputs": [
        {
          "output_type": "execute_result",
          "data": {
            "text/plain": [
              "13"
            ]
          },
          "metadata": {},
          "execution_count": 19
        }
      ],
      "source": [
        "my_string = \"Hello, World!\"\n",
        "length = len(my_string)\n",
        "\n",
        "length"
      ]
    },
    {
      "cell_type": "code",
      "execution_count": 20,
      "id": "32c56941",
      "metadata": {
        "id": "32c56941",
        "outputId": "f1466f88-aceb-4f5e-b55b-225beb405dda",
        "colab": {
          "base_uri": "https://localhost:8080/"
        }
      },
      "outputs": [
        {
          "output_type": "execute_result",
          "data": {
            "text/plain": [
              "0"
            ]
          },
          "metadata": {},
          "execution_count": 20
        }
      ],
      "source": [
        "empty_string = \"\"\n",
        "length = len(empty_string)\n",
        "\n",
        "length"
      ]
    },
    {
      "cell_type": "code",
      "execution_count": 21,
      "id": "e518fbb3",
      "metadata": {
        "id": "e518fbb3",
        "outputId": "5ea40c45-2951-4990-e081-0d9b67dbef73",
        "colab": {
          "base_uri": "https://localhost:8080/"
        }
      },
      "outputs": [
        {
          "output_type": "execute_result",
          "data": {
            "text/plain": [
              "51"
            ]
          },
          "metadata": {},
          "execution_count": 21
        }
      ],
      "source": [
        "long_string = \"This is a very long string with lots of characters.\"\n",
        "length = len(long_string)\n",
        "\n",
        "length"
      ]
    },
    {
      "cell_type": "code",
      "execution_count": 22,
      "id": "0299f395",
      "metadata": {
        "id": "0299f395",
        "outputId": "f92622c0-bf3b-4e54-f02b-e5a288b215a9",
        "colab": {
          "base_uri": "https://localhost:8080/"
        }
      },
      "outputs": [
        {
          "output_type": "execute_result",
          "data": {
            "text/plain": [
              "39"
            ]
          },
          "metadata": {},
          "execution_count": 22
        }
      ],
      "source": [
        "unicode_string = \"Αυτή είναι μια συμβολοσειρά σε Unicode.\"\n",
        "length = len(unicode_string)\n",
        "\n",
        "length"
      ]
    },
    {
      "cell_type": "code",
      "execution_count": 23,
      "id": "774db676",
      "metadata": {
        "id": "774db676",
        "outputId": "4fc5e751-e861-43c3-e2d0-cd612e2ea8ff",
        "colab": {
          "base_uri": "https://localhost:8080/"
        }
      },
      "outputs": [
        {
          "output_type": "execute_result",
          "data": {
            "text/plain": [
              "20"
            ]
          },
          "metadata": {},
          "execution_count": 23
        }
      ],
      "source": [
        "newline_string = \"Line 1\\nLine 2\\nLine 3\"\n",
        "length = len(newline_string)\n",
        "\n",
        "length"
      ]
    },
    {
      "cell_type": "markdown",
      "id": "07142b9e",
      "metadata": {
        "id": "07142b9e"
      },
      "source": [
        "### 1.6 String Methods"
      ]
    },
    {
      "cell_type": "code",
      "execution_count": 24,
      "id": "bfa1decc",
      "metadata": {
        "id": "bfa1decc",
        "outputId": "a2bd6da1-94da-4a12-d149-a5e11ecd3bad",
        "colab": {
          "base_uri": "https://localhost:8080/",
          "height": 35
        }
      },
      "outputs": [
        {
          "output_type": "execute_result",
          "data": {
            "text/plain": [
              "'HELLO, WORLD!'"
            ],
            "application/vnd.google.colaboratory.intrinsic+json": {
              "type": "string"
            }
          },
          "metadata": {},
          "execution_count": 24
        }
      ],
      "source": [
        "# Example 1 (str.upper())\n",
        "my_string = \"Hello, World!\"\n",
        "uppercase_string = my_string.upper()\n",
        "\n",
        "uppercase_string"
      ]
    },
    {
      "cell_type": "code",
      "execution_count": 25,
      "id": "bef052c5",
      "metadata": {
        "id": "bef052c5",
        "outputId": "f77d3526-0fb4-438d-b9f6-c38d370d76cc",
        "colab": {
          "base_uri": "https://localhost:8080/",
          "height": 35
        }
      },
      "outputs": [
        {
          "output_type": "execute_result",
          "data": {
            "text/plain": [
              "'hello, world!'"
            ],
            "application/vnd.google.colaboratory.intrinsic+json": {
              "type": "string"
            }
          },
          "metadata": {},
          "execution_count": 25
        }
      ],
      "source": [
        "# Example 2 (str.lower())\n",
        "lowercase_string = my_string.lower()\n",
        "\n",
        "lowercase_string"
      ]
    },
    {
      "cell_type": "code",
      "execution_count": 26,
      "id": "856b3409",
      "metadata": {
        "id": "856b3409",
        "outputId": "83fb2cb1-e79d-453e-a2f5-88d2a746950f",
        "colab": {
          "base_uri": "https://localhost:8080/",
          "height": 35
        }
      },
      "outputs": [
        {
          "output_type": "execute_result",
          "data": {
            "text/plain": [
              "'Python'"
            ],
            "application/vnd.google.colaboratory.intrinsic+json": {
              "type": "string"
            }
          },
          "metadata": {},
          "execution_count": 26
        }
      ],
      "source": [
        "# Example 3 (str.strip())\n",
        "my_string = \"   Python   \"\n",
        "stripped_string = my_string.strip()\n",
        "\n",
        "stripped_string"
      ]
    },
    {
      "cell_type": "code",
      "execution_count": 27,
      "id": "bf2e9b1c",
      "metadata": {
        "id": "bf2e9b1c",
        "outputId": "5941be06-7bce-4a61-c8c5-3a9cb1c09eb4",
        "colab": {
          "base_uri": "https://localhost:8080/",
          "height": 35
        }
      },
      "outputs": [
        {
          "output_type": "execute_result",
          "data": {
            "text/plain": [
              "'I like dogs.'"
            ],
            "application/vnd.google.colaboratory.intrinsic+json": {
              "type": "string"
            }
          },
          "metadata": {},
          "execution_count": 27
        }
      ],
      "source": [
        "# Example 4 (str.replace())\n",
        "original_string = \"I like cats.\"\n",
        "new_string = original_string.replace(\"cats\", \"dogs\")\n",
        "\n",
        "new_string"
      ]
    },
    {
      "cell_type": "code",
      "execution_count": 28,
      "id": "15573652",
      "metadata": {
        "id": "15573652",
        "outputId": "e975b436-ec6e-4b8e-bdc3-1e8e204d8017",
        "colab": {
          "base_uri": "https://localhost:8080/"
        }
      },
      "outputs": [
        {
          "output_type": "execute_result",
          "data": {
            "text/plain": [
              "['This', 'is', 'a', 'sentence.']"
            ]
          },
          "metadata": {},
          "execution_count": 28
        }
      ],
      "source": [
        "# Example 5 (str.split())\n",
        "sentence = \"This is a sentence.\"\n",
        "words = sentence.split()\n",
        "\n",
        "words"
      ]
    },
    {
      "cell_type": "markdown",
      "id": "103b5a2b",
      "metadata": {
        "id": "103b5a2b"
      },
      "source": [
        "### 1.7 String seraching and Manipulation"
      ]
    },
    {
      "cell_type": "code",
      "execution_count": 29,
      "id": "77910e71",
      "metadata": {
        "id": "77910e71",
        "outputId": "dcd6c171-080d-435c-91d2-4e1975d1372d",
        "colab": {
          "base_uri": "https://localhost:8080/"
        }
      },
      "outputs": [
        {
          "output_type": "execute_result",
          "data": {
            "text/plain": [
              "7"
            ]
          },
          "metadata": {},
          "execution_count": 29
        }
      ],
      "source": [
        "# Example 1 (str.find())\n",
        "my_string = \"Hello, World!\"\n",
        "index = my_string.find(\"World\")\n",
        "\n",
        "index"
      ]
    },
    {
      "cell_type": "code",
      "execution_count": 30,
      "id": "4e3bd8e2",
      "metadata": {
        "id": "4e3bd8e2",
        "outputId": "fcdcd6af-f2b9-4fd1-afdb-166a51fc8301",
        "colab": {
          "base_uri": "https://localhost:8080/"
        }
      },
      "outputs": [
        {
          "output_type": "execute_result",
          "data": {
            "text/plain": [
              "True"
            ]
          },
          "metadata": {},
          "execution_count": 30
        }
      ],
      "source": [
        "# Example 2 (str.startswith())\n",
        "starts_with_hello = my_string.startswith(\"Hello\")\n",
        "\n",
        "starts_with_hello"
      ]
    },
    {
      "cell_type": "code",
      "execution_count": 31,
      "id": "604131ca",
      "metadata": {
        "id": "604131ca",
        "outputId": "02bbe97a-b595-4319-a374-acb2428392da",
        "colab": {
          "base_uri": "https://localhost:8080/"
        }
      },
      "outputs": [
        {
          "output_type": "execute_result",
          "data": {
            "text/plain": [
              "False"
            ]
          },
          "metadata": {},
          "execution_count": 31
        }
      ],
      "source": [
        "# Example 3 (str.endswith())\n",
        "ends_with_exclamation = my_string.endswith(\"#\")\n",
        "\n",
        "ends_with_exclamation"
      ]
    },
    {
      "cell_type": "code",
      "execution_count": 32,
      "id": "8c33b056",
      "metadata": {
        "id": "8c33b056",
        "outputId": "c99fe0ca-942d-466b-8409-d4cba5f746f8",
        "colab": {
          "base_uri": "https://localhost:8080/",
          "height": 35
        }
      },
      "outputs": [
        {
          "output_type": "execute_result",
          "data": {
            "text/plain": [
              "'This is a sentence.'"
            ],
            "application/vnd.google.colaboratory.intrinsic+json": {
              "type": "string"
            }
          },
          "metadata": {},
          "execution_count": 32
        }
      ],
      "source": [
        "# Example 4 (str.capitalize())\n",
        "sentence = \"this is a sentence.\"\n",
        "capitalized_sentence = sentence.capitalize()\n",
        "\n",
        "capitalized_sentence"
      ]
    },
    {
      "cell_type": "markdown",
      "id": "3ab86f3a",
      "metadata": {
        "id": "3ab86f3a"
      },
      "source": [
        "### 1.8 String Conversion"
      ]
    },
    {
      "cell_type": "code",
      "execution_count": 33,
      "id": "b2177635",
      "metadata": {
        "id": "b2177635",
        "outputId": "3fa027cf-4e73-40da-88d8-32facbaa3540",
        "colab": {
          "base_uri": "https://localhost:8080/",
          "height": 35
        }
      },
      "outputs": [
        {
          "output_type": "execute_result",
          "data": {
            "text/plain": [
              "'42'"
            ],
            "application/vnd.google.colaboratory.intrinsic+json": {
              "type": "string"
            }
          },
          "metadata": {},
          "execution_count": 33
        }
      ],
      "source": [
        "# Example 1 (int to str)\n",
        "number = 42\n",
        "str_number = str(number)\n",
        "\n",
        "str_number"
      ]
    },
    {
      "cell_type": "code",
      "execution_count": 34,
      "id": "642cf5fe",
      "metadata": {
        "id": "642cf5fe",
        "outputId": "76f2a680-b155-4d80-e3e4-f6c38b341fa9",
        "colab": {
          "base_uri": "https://localhost:8080/",
          "height": 35
        }
      },
      "outputs": [
        {
          "output_type": "execute_result",
          "data": {
            "text/plain": [
              "'3.14159'"
            ],
            "application/vnd.google.colaboratory.intrinsic+json": {
              "type": "string"
            }
          },
          "metadata": {},
          "execution_count": 34
        }
      ],
      "source": [
        "# Example 2 (float to str)\n",
        "pi = 3.14159\n",
        "str_pi = str(pi)\n",
        "\n",
        "str_pi"
      ]
    },
    {
      "cell_type": "code",
      "execution_count": 35,
      "id": "65ebeac7",
      "metadata": {
        "id": "65ebeac7",
        "outputId": "c8c49a5e-1cf2-4ca1-b247-9165827989f0",
        "colab": {
          "base_uri": "https://localhost:8080/",
          "height": 35
        }
      },
      "outputs": [
        {
          "output_type": "execute_result",
          "data": {
            "text/plain": [
              "'123'"
            ],
            "application/vnd.google.colaboratory.intrinsic+json": {
              "type": "string"
            }
          },
          "metadata": {},
          "execution_count": 35
        }
      ],
      "source": [
        "# Example 3 (str to int)\n",
        "str_num = \"123\"\n",
        "int_num = int(str_num)\n",
        "\n",
        "str_num"
      ]
    },
    {
      "cell_type": "code",
      "execution_count": 36,
      "id": "9c625b17",
      "metadata": {
        "id": "9c625b17",
        "outputId": "e40670c7-6877-4220-f436-400af38f7679",
        "colab": {
          "base_uri": "https://localhost:8080/"
        }
      },
      "outputs": [
        {
          "output_type": "execute_result",
          "data": {
            "text/plain": [
              "3.14"
            ]
          },
          "metadata": {},
          "execution_count": 36
        }
      ],
      "source": [
        "# Example 4 (str to float)\n",
        "str_float = \"3.14\"\n",
        "float_num = float(str_float)\n",
        "\n",
        "float_num"
      ]
    },
    {
      "cell_type": "code",
      "execution_count": 37,
      "id": "a816cc11",
      "metadata": {
        "id": "a816cc11",
        "outputId": "80ea4c40-2c66-4940-ea23-0ede4b30574d",
        "colab": {
          "base_uri": "https://localhost:8080/"
        }
      },
      "outputs": [
        {
          "output_type": "execute_result",
          "data": {
            "text/plain": [
              "65"
            ]
          },
          "metadata": {},
          "execution_count": 37
        }
      ],
      "source": [
        "# Example 5 (ord())\n",
        "char = 'A'\n",
        "ascii_value = ord(char)\n",
        "\n",
        "ascii_value"
      ]
    },
    {
      "cell_type": "markdown",
      "id": "4ce39420",
      "metadata": {
        "id": "4ce39420"
      },
      "source": [
        "##  2.0 String Manipulation using Regular expressions (Regex)"
      ]
    },
    {
      "cell_type": "markdown",
      "source": [
        "A regular expression, often referred to as \"regex\" or \"regexp,\" is a powerful and flexible pattern matching and text manipulation tool used in Python and many other programming languages. It is a sequence of characters that defines a search pattern. Regular expressions are commonly used for tasks like searching, extracting, validating, and manipulating text based on specific patterns.\n",
        "\n",
        "**Regex Functions**\n",
        "1. findall\n",
        "2. search\n",
        "3. split\n",
        "4. sub\n",
        "\n",
        "**Special sequances**\n",
        "\n",
        "\\d: Matches any digit (equivalent to [0-9]). \\\n",
        "\\D: Matches any non-digit character (equivalent to [^0-9]). \\\n",
        "\\w: Matches any word character (equivalent to [a-zA-Z0-9_]). \\\n",
        "\\W: Matches any non-word character (equivalent to [^a-zA-Z0-9_]). \\\n",
        "\\s: Matches any whitespace character (e.g., space, tab, newline). \\\n",
        "\\S: Matches any non-whitespace character. \\\n",
        "\\b: Matches a word boundary. It does not consume any characters, but it asserts that a word character is present at one end and a non-word character is present at the other end. \\\n",
        "\\B: Matches a non-word boundary."
      ],
      "metadata": {
        "id": "d3AkJ2HH4oIL"
      },
      "id": "d3AkJ2HH4oIL"
    },
    {
      "cell_type": "code",
      "execution_count": 38,
      "id": "169ed82e",
      "metadata": {
        "id": "169ed82e"
      },
      "outputs": [],
      "source": [
        "#Import a library\n",
        "import re"
      ]
    },
    {
      "cell_type": "markdown",
      "id": "58e4d03c",
      "metadata": {
        "id": "58e4d03c"
      },
      "source": [
        "### 2.1 Finding characters in a text\n",
        "Let's use the below sample text and see how we can extract different parts of this text using regular expressions"
      ]
    },
    {
      "cell_type": "code",
      "execution_count": 39,
      "id": "1d1469f7",
      "metadata": {
        "id": "1d1469f7"
      },
      "outputs": [],
      "source": [
        "sample_text = \"abcxyzABCXYZabc xyz%$...| 676-898 \""
      ]
    },
    {
      "cell_type": "markdown",
      "id": "98f2afac",
      "metadata": {
        "id": "98f2afac"
      },
      "source": [
        "### 2.2 Finding Patters\n",
        "Let's find all the occurances of 'abc' in the above text"
      ]
    },
    {
      "cell_type": "code",
      "execution_count": 40,
      "id": "f6f79fac",
      "metadata": {
        "id": "f6f79fac",
        "outputId": "59cb9df4-597a-4437-ba5a-608dbd8293eb",
        "colab": {
          "base_uri": "https://localhost:8080/"
        }
      },
      "outputs": [
        {
          "output_type": "stream",
          "name": "stdout",
          "text": [
            "['abc', 'abc']\n"
          ]
        }
      ],
      "source": [
        "pattern = re.compile(r'abc') # this is used to store the pattern you want to search\n",
        "matches = pattern.findall(sample_text) # this is used to find all instanaces in a text that matches the pattern\n",
        "print(matches) # the result is in the form of a python list"
      ]
    },
    {
      "cell_type": "markdown",
      "id": "9887f5f0",
      "metadata": {
        "id": "9887f5f0"
      },
      "source": [
        "<b>Note:</b> The pattern which is compiled is case-sensitive. So by searching for 'abc', you cannot find 'ABC'"
      ]
    },
    {
      "cell_type": "markdown",
      "id": "2e4837f0",
      "metadata": {
        "id": "2e4837f0"
      },
      "source": [
        "### 2.3 Match everything\n",
        "The dot character returns all the distinct characters in a text"
      ]
    },
    {
      "cell_type": "code",
      "execution_count": 41,
      "id": "4b0e1eee",
      "metadata": {
        "id": "4b0e1eee",
        "outputId": "275259ad-40fb-4e0b-bf24-7b9d975d68aa",
        "colab": {
          "base_uri": "https://localhost:8080/"
        }
      },
      "outputs": [
        {
          "output_type": "stream",
          "name": "stdout",
          "text": [
            "['a', 'b', 'c', 'x', 'y', 'z', 'A', 'B', 'C', 'X', 'Y', 'Z', 'a', 'b', 'c', ' ', 'x', 'y', 'z', '%', '$', '.', '.', '.', '|', ' ', '6', '7', '6', '-', '8', '9', '8', ' ']\n"
          ]
        }
      ],
      "source": [
        "pattern = re.compile(r'.')\n",
        "matches = pattern.findall(sample_text)\n",
        "print(matches)"
      ]
    },
    {
      "cell_type": "markdown",
      "id": "e68ec595",
      "metadata": {
        "id": "e68ec595"
      },
      "source": [
        "### 2.4 Match all numbers\n",
        "The identifier <b>\\d</b> finds all digits - numbers from 0 to 9"
      ]
    },
    {
      "cell_type": "code",
      "execution_count": 42,
      "id": "fd4787d3",
      "metadata": {
        "id": "fd4787d3",
        "outputId": "334096b4-a702-48ab-c285-b4e629390b07",
        "colab": {
          "base_uri": "https://localhost:8080/"
        }
      },
      "outputs": [
        {
          "output_type": "stream",
          "name": "stdout",
          "text": [
            "['6', '7', '6', '8', '9', '8']\n"
          ]
        }
      ],
      "source": [
        "pattern = re.compile(r'\\d')\n",
        "matches = pattern.findall(sample_text)\n",
        "print(matches)"
      ]
    },
    {
      "cell_type": "markdown",
      "id": "b1f07bca",
      "metadata": {
        "id": "b1f07bca"
      },
      "source": [
        "### 2.5 Match all which are NOT numbers\n",
        "The identifier <b>\\D</b> finds all characters which are not digits"
      ]
    },
    {
      "cell_type": "code",
      "execution_count": 43,
      "id": "04355a00",
      "metadata": {
        "id": "04355a00",
        "outputId": "55d59ecc-b09c-4e39-9f25-9a071fae04f9",
        "colab": {
          "base_uri": "https://localhost:8080/"
        }
      },
      "outputs": [
        {
          "output_type": "stream",
          "name": "stdout",
          "text": [
            "['a', 'b', 'c', 'x', 'y', 'z', 'A', 'B', 'C', 'X', 'Y', 'Z', 'a', 'b', 'c', ' ', 'x', 'y', 'z', '%', '$', '.', '.', '.', '|', ' ', '-', ' ']\n"
          ]
        }
      ],
      "source": [
        "pattern = re.compile(r'\\D')\n",
        "matches = pattern.findall(sample_text)\n",
        "print(matches)"
      ]
    },
    {
      "cell_type": "markdown",
      "id": "561ede75",
      "metadata": {
        "id": "561ede75"
      },
      "source": [
        "### 2.6 Match all alphabets\n",
        "The identifier <b>\\w</b> finds all alphabets - a to z, A to Z and underscore"
      ]
    },
    {
      "cell_type": "code",
      "execution_count": 44,
      "id": "cb57e47d",
      "metadata": {
        "id": "cb57e47d",
        "outputId": "6407780a-8dcc-46ac-8dea-7151a7342ef0",
        "colab": {
          "base_uri": "https://localhost:8080/"
        }
      },
      "outputs": [
        {
          "output_type": "stream",
          "name": "stdout",
          "text": [
            "['a', 'b', 'c', 'x', 'y', 'z', 'A', 'B', 'C', 'X', 'Y', 'Z', 'a', 'b', 'c', 'x', 'y', 'z', '6', '7', '6', '8', '9', '8']\n"
          ]
        }
      ],
      "source": [
        "pattern = re.compile(r'\\w')\n",
        "matches = pattern.findall(sample_text)\n",
        "print(matches)"
      ]
    },
    {
      "cell_type": "markdown",
      "id": "a39222d9",
      "metadata": {
        "id": "a39222d9"
      },
      "source": [
        "### 2.7 Match all which are NOT alphabets\n",
        "The identifier <b>\\W</b> finds all characters which are not alphabets or underscore`"
      ]
    },
    {
      "cell_type": "code",
      "execution_count": 45,
      "id": "f081413a",
      "metadata": {
        "id": "f081413a",
        "outputId": "f6d7fb8e-2bfb-49b3-e7bc-3e582f108551",
        "colab": {
          "base_uri": "https://localhost:8080/"
        }
      },
      "outputs": [
        {
          "output_type": "stream",
          "name": "stdout",
          "text": [
            "[' ', '%', '$', '.', '.', '.', '|', ' ', '-', ' ']\n"
          ]
        }
      ],
      "source": [
        "pattern = re.compile(r'\\W')\n",
        "matches = pattern.findall(sample_text)\n",
        "print(matches)"
      ]
    },
    {
      "cell_type": "markdown",
      "id": "0af368f7",
      "metadata": {
        "id": "0af368f7"
      },
      "source": [
        "### 2.8 Match all whitespaces\n",
        "The identifier <b>\\s</b> finds all whitespaces - space, tab, new line"
      ]
    },
    {
      "cell_type": "code",
      "execution_count": 46,
      "id": "a1a43f80",
      "metadata": {
        "id": "a1a43f80",
        "outputId": "6ac904b2-12c4-439f-8b07-bab23f168698",
        "colab": {
          "base_uri": "https://localhost:8080/"
        }
      },
      "outputs": [
        {
          "output_type": "stream",
          "name": "stdout",
          "text": [
            "[' ', ' ', ' ']\n"
          ]
        }
      ],
      "source": [
        "pattern = re.compile(r'\\s')\n",
        "matches = pattern.findall(sample_text)\n",
        "print(matches)"
      ]
    },
    {
      "cell_type": "markdown",
      "id": "423ff5fe",
      "metadata": {
        "id": "423ff5fe"
      },
      "source": [
        "### 2.8 Match all which are NOT whitespaces\n",
        "The identifier <b>\\S</b> finds all which are not space, tab and new line"
      ]
    },
    {
      "cell_type": "code",
      "execution_count": 47,
      "id": "cb731917",
      "metadata": {
        "id": "cb731917",
        "outputId": "9753440f-9ff6-4480-9ef1-0118d3fcd483",
        "colab": {
          "base_uri": "https://localhost:8080/"
        }
      },
      "outputs": [
        {
          "output_type": "stream",
          "name": "stdout",
          "text": [
            "['a', 'b', 'c', 'x', 'y', 'z', 'A', 'B', 'C', 'X', 'Y', 'Z', 'a', 'b', 'c', 'x', 'y', 'z', '%', '$', '.', '.', '.', '|', '6', '7', '6', '-', '8', '9', '8']\n"
          ]
        }
      ],
      "source": [
        "pattern = re.compile(r'\\S')\n",
        "matches = pattern.findall(sample_text)\n",
        "print(matches)"
      ]
    },
    {
      "cell_type": "markdown",
      "id": "6670c089",
      "metadata": {
        "id": "6670c089"
      },
      "source": [
        "### 2.9 Reserved Characters\n",
        "Some characters are reserved for specific functions in regular expressions - . ^ $ * + ? { } [ ] | \\ ( )\n",
        "\n",
        "We cannot use them directly. For example, as we saw earlier, using '.' gives you all the characters, but what if you want to find the occurance of all dots in a text? You can use the backslash to tell python that you actually want to find a dot and not use dot as an identifier"
      ]
    },
    {
      "cell_type": "code",
      "execution_count": 48,
      "id": "6aa1b013",
      "metadata": {
        "id": "6aa1b013",
        "outputId": "4c81762c-0ec0-472b-82b6-d25b52ec23ec",
        "colab": {
          "base_uri": "https://localhost:8080/"
        }
      },
      "outputs": [
        {
          "output_type": "stream",
          "name": "stdout",
          "text": [
            "['.', '.', '.']\n"
          ]
        }
      ],
      "source": [
        "pattern = re.compile(r'\\.')\n",
        "matches = pattern.findall(sample_text)\n",
        "print(matches)"
      ]
    },
    {
      "cell_type": "markdown",
      "metadata": {
        "id": "Yd78kYE9X-Nc"
      },
      "source": [
        "### 2.10 Splitting data\n",
        "Which returns a list where the string has been split at each match"
      ],
      "id": "Yd78kYE9X-Nc"
    },
    {
      "cell_type": "code",
      "execution_count": 49,
      "metadata": {
        "outputId": "f67b7489-822b-4ce0-8774-e0c3b795246e",
        "colab": {
          "base_uri": "https://localhost:8080/"
        },
        "id": "tCTUKYOhX-Nd"
      },
      "outputs": [
        {
          "output_type": "execute_result",
          "data": {
            "text/plain": [
              "['Hello', 'World!', 'This', 'is', 'a', 'test.']"
            ]
          },
          "metadata": {},
          "execution_count": 49
        }
      ],
      "source": [
        "#split by spaces\n",
        "text = \"Hello World! This is a test.\"\n",
        "words = re.split(r'\\s+', text)\n",
        "\n",
        "words"
      ],
      "id": "tCTUKYOhX-Nd"
    },
    {
      "cell_type": "code",
      "execution_count": 50,
      "metadata": {
        "outputId": "175ca535-ef1d-473c-ca47-22244f320ab0",
        "colab": {
          "base_uri": "https://localhost:8080/"
        },
        "id": "R_Cx608pX-Nd"
      },
      "outputs": [
        {
          "output_type": "stream",
          "name": "stdout",
          "text": [
            "['apple', 'banana', 'cherry', 'date']\n"
          ]
        }
      ],
      "source": [
        "#split by commas and spaces\n",
        "text = \"apple,banana, cherry, date\"\n",
        "fruits = re.split(r',\\s*', text)\n",
        "print(fruits)"
      ],
      "id": "R_Cx608pX-Nd"
    },
    {
      "cell_type": "code",
      "execution_count": 51,
      "metadata": {
        "outputId": "708eb173-f6d0-445b-f4da-ad6309c5288e",
        "colab": {
          "base_uri": "https://localhost:8080/"
        },
        "id": "pGpnegm5X-Nd"
      },
      "outputs": [
        {
          "output_type": "stream",
          "name": "stdout",
          "text": [
            "['One', 'two', 'three', 'four']\n"
          ]
        }
      ],
      "source": [
        "#split by multiple delimiters\n",
        "text = \"One, two; three - four\"\n",
        "items = re.split(r'[,\\s;.-]+', text)\n",
        "print(items)"
      ],
      "id": "pGpnegm5X-Nd"
    },
    {
      "cell_type": "code",
      "execution_count": 52,
      "metadata": {
        "outputId": "5fecec05-e457-4337-e846-826199252c9c",
        "colab": {
          "base_uri": "https://localhost:8080/"
        },
        "id": "nrTNb3tFX-Nd"
      },
      "outputs": [
        {
          "output_type": "stream",
          "name": "stdout",
          "text": [
            "['The year is ', '']\n"
          ]
        }
      ],
      "source": [
        "#split by digits\n",
        "text = \"The year is 2023\"\n",
        "parts = re.split(r'\\d+', text)\n",
        "print(parts)"
      ],
      "id": "nrTNb3tFX-Nd"
    },
    {
      "cell_type": "code",
      "execution_count": 53,
      "metadata": {
        "outputId": "397f94ef-b00f-4d54-8e50-82fceb593971",
        "colab": {
          "base_uri": "https://localhost:8080/"
        },
        "id": "bn1k9NfXX-Nd"
      },
      "outputs": [
        {
          "output_type": "stream",
          "name": "stdout",
          "text": [
            "['Hello', 'World', 'This', 'is', 'a', 'test', '']\n"
          ]
        }
      ],
      "source": [
        "#split non-word characters\n",
        "text = \"Hello! World@ This# is^ a$ test%\"\n",
        "words = re.split(r'\\W+', text)\n",
        "print(words)"
      ],
      "id": "bn1k9NfXX-Nd"
    },
    {
      "cell_type": "markdown",
      "id": "40e0e876",
      "metadata": {
        "id": "40e0e876"
      },
      "source": [
        "## 3.0 Exercise Study 1 - Extracting dates from logs\n",
        "\n",
        "Let's use our understanding from the above exercise to extract dates from the below sample text"
      ]
    },
    {
      "cell_type": "code",
      "execution_count": 54,
      "id": "3f1e171e",
      "metadata": {
        "id": "3f1e171e"
      },
      "outputs": [],
      "source": [
        "sample_text = \"\"\"\n",
        "2021-01-01: January 2021, Friday: Mr. Xyz\n",
        "2021-07-19: July 2021, Monday: Mr L\n",
        "2021-05-28: May 2021, Friday: Ms. IOU abc\n",
        "2021/11/10: November 2021, Wednesday: Dr. Moby D\n",
        "2020-01-01xyzabc: Jan 10th: Dr Dora The Exp\n",
        "2020-04-02 0-1102-010002: Mrs. Joy\n",
        "2020-02-01 0-12-010002: Mr. Mario\n",
        "2019-09-18: suu: Mr. Luigi\n",
        "2018-07-01: hha iuas\n",
        "21-10-19: xyuz sus\n",
        "21-10-18\n",
        "21-9-20\n",
        "21-8-14\n",
        "21/12/02\n",
        "21/11/14\n",
        "21/10/21\n",
        "\"\"\""
      ]
    },
    {
      "cell_type": "markdown",
      "id": "105022d8",
      "metadata": {
        "id": "105022d8"
      },
      "source": [
        "#### Let's start simple\n",
        "First let's try to find all text that match 4 numbers, a dash, then 2 numbers, a dash and finally followed by 2 more numbers"
      ]
    },
    {
      "cell_type": "code",
      "execution_count": 55,
      "id": "7942e871",
      "metadata": {
        "id": "7942e871",
        "outputId": "8d56e241-85af-4f8c-b1fd-3f9d19f5cfbd",
        "colab": {
          "base_uri": "https://localhost:8080/"
        }
      },
      "outputs": [
        {
          "output_type": "stream",
          "name": "stdout",
          "text": [
            "['2021-01-01', '2021-07-19', '2021-05-28', '2020-01-01', '2020-04-02', '2020-02-01', '2019-09-18', '2018-07-01']\n"
          ]
        }
      ],
      "source": [
        "pattern = re.compile(r'\\d\\d\\d\\d-\\d\\d-\\d\\d')\n",
        "matches = pattern.findall(sample_text)\n",
        "print(matches)"
      ]
    },
    {
      "cell_type": "markdown",
      "id": "2a474930",
      "metadata": {
        "id": "2a474930"
      },
      "source": [
        "#### Using Quantifiers to match patterns\n",
        "You can use quantifiers to check of multiple occurances. For example, instead of repeating <b>\\d</b> four times, you can say <b>\\d+</b> which will look for 1 or more digits"
      ]
    },
    {
      "cell_type": "code",
      "execution_count": 56,
      "id": "e251896a",
      "metadata": {
        "id": "e251896a",
        "outputId": "824ed47a-12c5-4193-c2b0-a3fd71e3342b",
        "colab": {
          "base_uri": "https://localhost:8080/"
        }
      },
      "outputs": [
        {
          "output_type": "stream",
          "name": "stdout",
          "text": [
            "['2021-01-01', '2021-07-19', '2021-05-28', '2020-01-01', '2020-04-02', '0-1102-010002', '2020-02-01', '0-12-010002', '2019-09-18', '2018-07-01', '21-10-19', '21-10-18', '21-9-20', '21-8-14']\n"
          ]
        }
      ],
      "source": [
        "pattern = re.compile(r'\\d+-\\d+-\\d+')\n",
        "matches = pattern.findall(sample_text)\n",
        "print(matches)"
      ]
    },
    {
      "cell_type": "markdown",
      "id": "d76afc2e",
      "metadata": {
        "id": "d76afc2e"
      },
      "source": [
        "But if we do this, you end up with garbage values like <b>0-1102-010002</b> and <b>0-12-010002</b>. You can avoid these by specifying the exact number of digits to check for using curly brackets - <b>{how many?}</b>"
      ]
    },
    {
      "cell_type": "code",
      "execution_count": 57,
      "id": "82be7045",
      "metadata": {
        "id": "82be7045",
        "outputId": "94d0aaa1-2416-452a-8d45-b0a9d9c9523c",
        "colab": {
          "base_uri": "https://localhost:8080/"
        }
      },
      "outputs": [
        {
          "output_type": "stream",
          "name": "stdout",
          "text": [
            "['2021-01-01', '2021-07-19', '2021-05-28', '2020-01-01', '2020-04-02', '2020-02-01', '2019-09-18', '2018-07-01']\n"
          ]
        }
      ],
      "source": [
        "pattern = re.compile(r'\\d{4}-\\d{2}-\\d{2}')\n",
        "matches = pattern.findall(sample_text)\n",
        "print(matches)"
      ]
    },
    {
      "cell_type": "markdown",
      "id": "6a2e1e60",
      "metadata": {
        "id": "6a2e1e60"
      },
      "source": [
        "Now, we are missing out on dates which have only 2 digits to represent the year - like <b>21-10-19</b> and 1 digit to represent the year - like <b>21-8-14</b>. To include these as well, we can change the pattern to look for a range of numbers. You can do this with <b>{min,max}</b>"
      ]
    },
    {
      "cell_type": "code",
      "execution_count": 58,
      "id": "72a917ad",
      "metadata": {
        "id": "72a917ad",
        "outputId": "742c7e8b-274c-448f-d4b6-a84a1da0a9e0",
        "colab": {
          "base_uri": "https://localhost:8080/"
        }
      },
      "outputs": [
        {
          "output_type": "stream",
          "name": "stdout",
          "text": [
            "['2021-01-01', '2021-07-19', '2021-05-28', '2020-01-01', '2020-04-02', '2020-02-01', '2019-09-18', '2018-07-01', '21-10-19', '21-10-18', '21-9-20', '21-8-14']\n"
          ]
        }
      ],
      "source": [
        "pattern = re.compile(r'\\d{2,4}-\\d{1,2}-\\d{2}')\n",
        "matches = pattern.findall(sample_text)\n",
        "print(matches)"
      ]
    },
    {
      "cell_type": "markdown",
      "id": "ceb9ba9b",
      "metadata": {
        "id": "ceb9ba9b"
      },
      "source": [
        "#### Matching multiple characters"
      ]
    },
    {
      "cell_type": "markdown",
      "id": "fee303c5",
      "metadata": {
        "id": "fee303c5"
      },
      "source": [
        "The above code is not yet perfect. It misses out on dates which are separated by '/' - like <b>21/10/21</b>. We can use square brackets <b>[ ]</b> to tell python to look for -'s or for /'s"
      ]
    },
    {
      "cell_type": "code",
      "execution_count": 59,
      "id": "5c4ebf81",
      "metadata": {
        "id": "5c4ebf81",
        "outputId": "f613e0cd-fd91-4fb2-a7d9-b4e6111805ae",
        "colab": {
          "base_uri": "https://localhost:8080/"
        }
      },
      "outputs": [
        {
          "output_type": "stream",
          "name": "stdout",
          "text": [
            "['2021-01-01', '2021-07-19', '2021-05-28', '2021/11/10', '2020-01-01', '2020-04-02', '2020-02-01', '2019-09-18', '2018-07-01', '21-10-19', '21-10-18', '21-9-20', '21-8-14', '21/12/02', '21/11/14', '21/10/21']\n"
          ]
        }
      ],
      "source": [
        "pattern = re.compile(r'\\d{2,4}[-/]\\d{1,2}[-/]\\d{2}')\n",
        "matches = pattern.findall(sample_text)\n",
        "print(matches)"
      ]
    },
    {
      "cell_type": "markdown",
      "id": "1eeb2f0b",
      "metadata": {
        "id": "1eeb2f0b"
      },
      "source": [
        "## 4.0 Exercise Study 2 - Extracting names from logs\n",
        "\n",
        "Let's try to extract all the names in the sample text. We need 8 names - Mr. Xyz, Mr L, Ms. IOU abc, Dr. Moby D, Dr Dora the Exp., Mrs. Joy, Mr. Mario and Mr. Luigi"
      ]
    },
    {
      "cell_type": "code",
      "execution_count": 60,
      "id": "4569ee5e",
      "metadata": {
        "id": "4569ee5e"
      },
      "outputs": [],
      "source": [
        "sample_text = \"\"\"\n",
        "2021-01-01: January 2021, Friday: Mr. Xyz\n",
        "2021-07-19: July 2021, Monday: Mr L\n",
        "2021-05-28: May 2021, Friday: Ms. IOU abc\n",
        "2021/11/10: November 2021, Wednesday: Dr. Moby D\n",
        "2020-01-01xyzabc: Jan 10th: Dr Dora The Exp\n",
        "2020-04-02 0-1102-010002: Mrs. Joy\n",
        "2020-02-01 0-12-010002: Mr. Mario\n",
        "2019-09-18: suu: Mr. Luigi\n",
        "2018-07-01: hha iuas\n",
        "21-10-19: xyuz sus\n",
        "21-10-18\n",
        "21-9-20\n",
        "21-8-14\n",
        "21/12/02\n",
        "21/11/14\n",
        "21/10/21\n",
        "\"\"\""
      ]
    },
    {
      "cell_type": "markdown",
      "id": "8904e35e",
      "metadata": {
        "id": "8904e35e"
      },
      "source": [
        "Let's start by getting all the Mr"
      ]
    },
    {
      "cell_type": "code",
      "execution_count": 61,
      "id": "4cd96786",
      "metadata": {
        "id": "4cd96786",
        "outputId": "68c81dd6-e197-4a56-8000-ddac4eeb1aa5",
        "colab": {
          "base_uri": "https://localhost:8080/"
        }
      },
      "outputs": [
        {
          "output_type": "stream",
          "name": "stdout",
          "text": [
            "['Mr', 'Mr', 'Mr', 'Mr', 'Mr']\n"
          ]
        }
      ],
      "source": [
        "pattern = re.compile(r'Mr')\n",
        "matches = pattern.findall(sample_text)\n",
        "print(matches)"
      ]
    },
    {
      "cell_type": "markdown",
      "id": "acd1fd34",
      "metadata": {
        "id": "acd1fd34"
      },
      "source": [
        "After Mr, you can have a dot or need not have it. We can use the <b>?</b> quantifier to specifiy 0 or 1 dot"
      ]
    },
    {
      "cell_type": "code",
      "execution_count": 62,
      "id": "6cb950c5",
      "metadata": {
        "id": "6cb950c5",
        "outputId": "e73af9a1-d9d0-431b-97e4-a558b218b291",
        "colab": {
          "base_uri": "https://localhost:8080/"
        }
      },
      "outputs": [
        {
          "output_type": "stream",
          "name": "stdout",
          "text": [
            "['Mr.', 'Mr', 'Mr', 'Mr.', 'Mr.']\n"
          ]
        }
      ],
      "source": [
        "pattern = re.compile(r'Mr\\.?')\n",
        "matches = pattern.findall(sample_text)\n",
        "print(matches)"
      ]
    },
    {
      "cell_type": "markdown",
      "id": "823bfe4a",
      "metadata": {
        "id": "823bfe4a"
      },
      "source": [
        "Now let's bring in Mr, Ms, Mrs and Dr too into the match. For this, we can use <b>(group)</b> them using either or <b>|</b>"
      ]
    },
    {
      "cell_type": "code",
      "execution_count": 63,
      "id": "10069cdd",
      "metadata": {
        "id": "10069cdd",
        "outputId": "d4581ea2-f18f-4d55-8f31-0c87b93adae7",
        "colab": {
          "base_uri": "https://localhost:8080/"
        }
      },
      "outputs": [
        {
          "output_type": "stream",
          "name": "stdout",
          "text": [
            "['Mr.', 'Mr', 'Ms.', 'Dr.', 'Dr', 'Mr', 'Mr.', 'Mr.']\n"
          ]
        }
      ],
      "source": [
        "pattern = re.compile(r'(?:Mr|Ms|Mrs|Dr)\\.?')\n",
        "matches = pattern.findall(sample_text)\n",
        "print(matches)"
      ]
    },
    {
      "cell_type": "markdown",
      "id": "97dfbd47",
      "metadata": {
        "id": "97dfbd47"
      },
      "source": [
        "Now let's get the first names. You have a space, then a capital letter, then 0 or many words"
      ]
    },
    {
      "cell_type": "code",
      "execution_count": 64,
      "id": "58fa8989",
      "metadata": {
        "id": "58fa8989",
        "outputId": "ecbe567f-a39f-42da-b653-d28b324888b1",
        "colab": {
          "base_uri": "https://localhost:8080/"
        }
      },
      "outputs": [
        {
          "output_type": "stream",
          "name": "stdout",
          "text": [
            "['Mr. Xyz', 'Mr L', 'Ms. IOU', 'Dr. Moby', 'Dr Dora', 'Mrs. Joy', 'Mr. Mario', 'Mr. Luigi']\n"
          ]
        }
      ],
      "source": [
        "pattern = re.compile(r'(?:Mr|Ms|Mrs|Dr)\\.?\\s[A-Z]\\w*')\n",
        "matches = pattern.findall(sample_text)\n",
        "print(matches)"
      ]
    },
    {
      "cell_type": "markdown",
      "id": "d10995f1",
      "metadata": {
        "id": "d10995f1"
      },
      "source": [
        "Now let's get their middle names and last names"
      ]
    },
    {
      "cell_type": "code",
      "execution_count": 65,
      "id": "5f3db4c3",
      "metadata": {
        "id": "5f3db4c3"
      },
      "outputs": [],
      "source": [
        "sample_text = \"\"\"\n",
        "2021-01-01: January 2021, Friday: Mr. Xyz\n",
        "2021-07-19: July 2021, Monday: Mr L\n",
        "2021-05-28: May 2021, Friday: Ms. IOU abc\n",
        "2021/11/10: November 2021, Wednesday: Dr. Moby D\n",
        "2020-01-01xyzabc: Jan 10th: Dr Dora The Exp\n",
        "2020-04-02 0-1102-010002: Mrs. Joy\n",
        "2020-02-01 0-12-010002: Mr. Mario\n",
        "2019-09-18: suu: Mr. Luigi\n",
        "2018-07-01: hha iuas\n",
        "21-10-19: xyuz sus\n",
        "21-10-18\n",
        "21-9-20\n",
        "21-8-14\n",
        "21/12/02\n",
        "21/11/14\n",
        "21/10/21\n",
        "\"\"\""
      ]
    },
    {
      "cell_type": "markdown",
      "id": "b39e91aa",
      "metadata": {
        "id": "b39e91aa"
      },
      "source": [
        "After the first name, there is a space, then there are none or more characters. Also note, that not all names have names have middle and last names, so the expressions have to be optional.\n",
        "\n",
        "<b> ?</b> finds the optional space\n",
        "    \n",
        "<b>(?:[A-Za-z]\\w*)?</b> finds the optional middle and last names"
      ]
    },
    {
      "cell_type": "code",
      "execution_count": 66,
      "id": "30082c9a",
      "metadata": {
        "id": "30082c9a",
        "outputId": "cc7c0b30-beb6-4801-d603-54a183c1562a",
        "colab": {
          "base_uri": "https://localhost:8080/"
        }
      },
      "outputs": [
        {
          "output_type": "stream",
          "name": "stdout",
          "text": [
            "['Mr. Xyz', 'Mr L', 'Ms. IOU abc', 'Dr. Moby D', 'Dr Dora The Exp', 'Mrs. Joy', 'Mr. Mario', 'Mr. Luigi']\n"
          ]
        }
      ],
      "source": [
        "pattern = re.compile(r'(?:Mr|Ms|Mrs|Dr)\\.?\\s[A-Z]\\w* ?(?:[A-Za-z]\\w*)? ?(?:[A-Za-z]\\w*)?')\n",
        "matches = pattern.findall(sample_text)\n",
        "print(matches)"
      ]
    },
    {
      "cell_type": "markdown",
      "source": [
        "---"
      ],
      "metadata": {
        "id": "59eG_xTDYDoQ"
      },
      "id": "59eG_xTDYDoQ"
    }
  ],
  "metadata": {
    "kernelspec": {
      "display_name": "Python 3 (ipykernel)",
      "language": "python",
      "name": "python3"
    },
    "language_info": {
      "codemirror_mode": {
        "name": "ipython",
        "version": 3
      },
      "file_extension": ".py",
      "mimetype": "text/x-python",
      "name": "python",
      "nbconvert_exporter": "python",
      "pygments_lexer": "ipython3",
      "version": "3.9.7"
    },
    "colab": {
      "provenance": [],
      "collapsed_sections": [
        "36883f8f",
        "0329375d",
        "8bd5572f",
        "d5f15b1a",
        "3a786683",
        "cbaa67e6",
        "07142b9e",
        "103b5a2b",
        "3ab86f3a",
        "4ce39420",
        "58e4d03c",
        "98f2afac",
        "2e4837f0",
        "e68ec595",
        "b1f07bca",
        "561ede75",
        "a39222d9",
        "0af368f7",
        "423ff5fe",
        "6670c089",
        "Yd78kYE9X-Nc",
        "40e0e876",
        "1eeb2f0b"
      ]
    }
  },
  "nbformat": 4,
  "nbformat_minor": 5
}